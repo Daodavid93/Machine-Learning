{
 "cells": [
  {
   "cell_type": "code",
   "execution_count": 1,
   "metadata": {},
   "outputs": [],
   "source": [
    "%matplotlib inline"
   ]
  },
  {
   "cell_type": "code",
   "execution_count": 2,
   "metadata": {},
   "outputs": [],
   "source": [
    "import numpy as np\n",
    "import matplotlib.pyplot as plt\n",
    "import pandas as pd\n",
    "\n",
    "from sklearn.model_selection import train_test_split\n",
    "import warnings"
   ]
  },
  {
   "cell_type": "markdown",
   "metadata": {},
   "source": [
    "<h1>\n",
    "   <font size=\"5\" face = \"Times New Roma\" color='#270336'>\n",
    "     The softmax function.Optimization problem in Cross-entropy Loss\n",
    "   </font> \n",
    " </h1>"
   ]
  },
  {
   "cell_type": "markdown",
   "metadata": {},
   "source": [
    "<h2>\n",
    "  <p>\n",
    "    <a href =   \"https://github.com/daodavid\" > \n",
    "       <img src=\"https://cdn.thenewstack.io/media/2014/12/github-octocat.png\" align=\"left\" width=\"120\"  alt=\"daodavid\" >\n",
    "    </a>\n",
    "    <font face = \"Times New Roma\" size=\"4\"  color='#270336'>\n",
    "        author: daodeiv (David Stankov) \n",
    "    </font>\n",
    "</p>      \n",
    "</h2>   "
   ]
  },
  {
   "cell_type": "code",
   "execution_count": 3,
   "metadata": {
    "scrolled": true
   },
   "outputs": [
    {
     "data": {
      "text/html": [
       "<div>\n",
       "<style scoped>\n",
       "    .dataframe tbody tr th:only-of-type {\n",
       "        vertical-align: middle;\n",
       "    }\n",
       "\n",
       "    .dataframe tbody tr th {\n",
       "        vertical-align: top;\n",
       "    }\n",
       "\n",
       "    .dataframe thead th {\n",
       "        text-align: right;\n",
       "    }\n",
       "</style>\n",
       "<table border=\"1\" class=\"dataframe\">\n",
       "  <thead>\n",
       "    <tr style=\"text-align: right;\">\n",
       "      <th></th>\n",
       "      <th>x_size</th>\n",
       "      <th>y_size</th>\n",
       "      <th>z_size</th>\n",
       "      <th>label_Bus</th>\n",
       "      <th>label_Car</th>\n",
       "      <th>label_Tractor</th>\n",
       "    </tr>\n",
       "  </thead>\n",
       "  <tbody>\n",
       "    <tr>\n",
       "      <td>0</td>\n",
       "      <td>3.264366</td>\n",
       "      <td>3.805980</td>\n",
       "      <td>3.477372</td>\n",
       "      <td>0</td>\n",
       "      <td>0</td>\n",
       "      <td>1</td>\n",
       "    </tr>\n",
       "    <tr>\n",
       "      <td>1</td>\n",
       "      <td>3.997451</td>\n",
       "      <td>3.115659</td>\n",
       "      <td>3.897728</td>\n",
       "      <td>0</td>\n",
       "      <td>0</td>\n",
       "      <td>1</td>\n",
       "    </tr>\n",
       "    <tr>\n",
       "      <td>2</td>\n",
       "      <td>3.084445</td>\n",
       "      <td>3.031143</td>\n",
       "      <td>3.715579</td>\n",
       "      <td>0</td>\n",
       "      <td>0</td>\n",
       "      <td>1</td>\n",
       "    </tr>\n",
       "    <tr>\n",
       "      <td>3</td>\n",
       "      <td>3.308308</td>\n",
       "      <td>3.274491</td>\n",
       "      <td>3.621352</td>\n",
       "      <td>0</td>\n",
       "      <td>0</td>\n",
       "      <td>1</td>\n",
       "    </tr>\n",
       "    <tr>\n",
       "      <td>4</td>\n",
       "      <td>3.313235</td>\n",
       "      <td>3.608021</td>\n",
       "      <td>3.890563</td>\n",
       "      <td>0</td>\n",
       "      <td>0</td>\n",
       "      <td>1</td>\n",
       "    </tr>\n",
       "    <tr>\n",
       "      <td>...</td>\n",
       "      <td>...</td>\n",
       "      <td>...</td>\n",
       "      <td>...</td>\n",
       "      <td>...</td>\n",
       "      <td>...</td>\n",
       "      <td>...</td>\n",
       "    </tr>\n",
       "    <tr>\n",
       "      <td>25</td>\n",
       "      <td>1.881612</td>\n",
       "      <td>1.594303</td>\n",
       "      <td>1.731179</td>\n",
       "      <td>0</td>\n",
       "      <td>1</td>\n",
       "      <td>0</td>\n",
       "    </tr>\n",
       "    <tr>\n",
       "      <td>26</td>\n",
       "      <td>1.894010</td>\n",
       "      <td>1.738412</td>\n",
       "      <td>1.863288</td>\n",
       "      <td>0</td>\n",
       "      <td>1</td>\n",
       "      <td>0</td>\n",
       "    </tr>\n",
       "    <tr>\n",
       "      <td>27</td>\n",
       "      <td>1.281983</td>\n",
       "      <td>1.125129</td>\n",
       "      <td>1.574829</td>\n",
       "      <td>0</td>\n",
       "      <td>1</td>\n",
       "      <td>0</td>\n",
       "    </tr>\n",
       "    <tr>\n",
       "      <td>28</td>\n",
       "      <td>1.110149</td>\n",
       "      <td>1.037065</td>\n",
       "      <td>1.258435</td>\n",
       "      <td>0</td>\n",
       "      <td>1</td>\n",
       "      <td>0</td>\n",
       "    </tr>\n",
       "    <tr>\n",
       "      <td>29</td>\n",
       "      <td>1.977658</td>\n",
       "      <td>1.879315</td>\n",
       "      <td>1.596345</td>\n",
       "      <td>0</td>\n",
       "      <td>1</td>\n",
       "      <td>0</td>\n",
       "    </tr>\n",
       "  </tbody>\n",
       "</table>\n",
       "<p>90 rows × 6 columns</p>\n",
       "</div>"
      ],
      "text/plain": [
       "      x_size    y_size    z_size  label_Bus  label_Car  label_Tractor\n",
       "0   3.264366  3.805980  3.477372          0          0              1\n",
       "1   3.997451  3.115659  3.897728          0          0              1\n",
       "2   3.084445  3.031143  3.715579          0          0              1\n",
       "3   3.308308  3.274491  3.621352          0          0              1\n",
       "4   3.313235  3.608021  3.890563          0          0              1\n",
       "..       ...       ...       ...        ...        ...            ...\n",
       "25  1.881612  1.594303  1.731179          0          1              0\n",
       "26  1.894010  1.738412  1.863288          0          1              0\n",
       "27  1.281983  1.125129  1.574829          0          1              0\n",
       "28  1.110149  1.037065  1.258435          0          1              0\n",
       "29  1.977658  1.879315  1.596345          0          1              0\n",
       "\n",
       "[90 rows x 6 columns]"
      ]
     },
     "execution_count": 3,
     "metadata": {},
     "output_type": "execute_result"
    }
   ],
   "source": [
    "#generate  records refer to tractor label with random physical size between [4,5] \n",
    "tractor_dataframe= pd.DataFrame(data=np.random.random((30, 3))+3,columns = ['x_size','y_size','z_size'])\n",
    "tractor_dataframe['label'] =pd.DataFrame( np.full((1,30 ), 'Tractor').T)\n",
    "\n",
    "#generate  records refer to car label with random physical size between [1,2]  \n",
    "car_dataframe= pd.DataFrame(data=np.random.random((30, 3)) + 1,columns = ['x_size','y_size','z_size'])\n",
    "car_dataframe['label'] =pd.DataFrame( np.full((1,30 ), 'Car').T)\n",
    "\n",
    "#generate  records refer to car label with random physical size between [2,3]  \n",
    "bus_dataframe= pd.DataFrame(data=np.random.random((30, 3))+2,columns = ['x_size','y_size','z_size'])\n",
    "bus_dataframe['label'] =pd.DataFrame( np.full((1,30 ), 'Bus').T)\n",
    "\n",
    "# joint each data frame into  one\n",
    "original_data = tractor_dataframe.append(bus_dataframe).append(car_dataframe)\n",
    "data = pd.get_dummies(original_data) \n",
    "data"
   ]
  },
  {
   "cell_type": "code",
   "execution_count": 4,
   "metadata": {},
   "outputs": [
    {
     "data": {
      "text/plain": [
       "array(['Tractor', 'Bus', 'Car'], dtype=object)"
      ]
     },
     "execution_count": 4,
     "metadata": {},
     "output_type": "execute_result"
    }
   ],
   "source": [
    "original_data['label'].unique()"
   ]
  },
  {
   "cell_type": "markdown",
   "metadata": {},
   "source": [
    "\n",
    "<font size=\"4\" color='#270336' face = \"Times New Roma\">\n",
    "&nbsp;&nbsp;The class (target)  values can be Car, Bus, Tractor. In our working data, the label values are expressed as one-hot encoding variables or so-called dummies. This numerical representation of non-numerical data just allows mathematical manipulation over them.\n",
    "</font>    \n",
    "<br> \n"
   ]
  },
  {
   "cell_type": "markdown",
   "metadata": {},
   "source": [
    "<h6>\n",
    "     <font size=\"3\" color='#270336' face = \"Times New Roma\" >\n",
    "        &nbsp;&nbsp; Let to visualize the data  using  Scatter plot :  \n",
    "</font>    \n",
    "</h6>  "
   ]
  },
  {
   "cell_type": "code",
   "execution_count": 5,
   "metadata": {},
   "outputs": [
    {
     "data": {
      "text/plain": [
       "<matplotlib.legend.Legend at 0x203d64bbfc8>"
      ]
     },
     "execution_count": 5,
     "metadata": {},
     "output_type": "execute_result"
    },
    {
     "data": {
      "image/png": "[encoded data removed]",
      "text/plain": [
       "<Figure size 432x288 with 1 Axes>"
      ]
     },
     "metadata": {
      "needs_background": "light"
     },
     "output_type": "display_data"
    }
   ],
   "source": [
    "plt.scatter(tractor_dataframe['x_size'],tractor_dataframe['y_size'],label='Tractor',color='blue')\n",
    "plt.scatter(car_dataframe['x_size'],tractor_dataframe['y_size'],label='Car',color='red')\n",
    "plt.scatter(bus_dataframe['x_size'],tractor_dataframe['y_size'],label='Bus',color='yellow')\n",
    "plt.xlabel('x size')\n",
    "plt.ylabel('y size')\n",
    "plt.legend()"
   ]
  },
  {
   "cell_type": "code",
   "execution_count": 6,
   "metadata": {},
   "outputs": [
    {
     "name": "stdout",
     "output_type": "stream",
     "text": [
      "shape of x train (M, N) (60, 3)\n",
      "shape of y label (M, K) (60, 3)\n"
     ]
    }
   ],
   "source": [
    "x_train = np.array(data.drop(['label_Bus','label_Car','label_Tractor'], axis = 1)) # gets the target label variables\n",
    "y_train = np.array(data[['label_Bus','label_Car','label_Tractor']]) # gets feature variables \n",
    "X_train, X_test, y_train, y_test = train_test_split(x_train,y_train, test_size=0.33, random_state=42) #separats into test and train samples \n",
    "\n",
    "print('shape of x train (M, N)', X_train.shape)\n",
    "print('shape of y label (M, K)', y_train.shape )"
   ]
  },
  {
   "cell_type": "markdown",
   "metadata": {},
   "source": [
    "<h5 style=\"margin-right: 45px; margin-left: 45px\">\n",
    "<font size=\"3\" color='#270336' face = \"Times New Roma\">\n",
    "        &nbsp;&nbsp; Let to implement softmax function: <br>\n",
    "</font>    \n",
    "</h5>  "
   ]
  },
  {
   "cell_type": "code",
   "execution_count": 7,
   "metadata": {},
   "outputs": [],
   "source": [
    "def softmax(X, W, B):\n",
    "    '''\n",
    "    softmax function  \n",
    "    takes :\n",
    "    X = training data\n",
    "    W =  weight matrix\n",
    "    b = bias vector (intercept) \n",
    "    return :\n",
    "      softmax for every z unit e^{k_ij}/Sum(e^{k_i1}+e^{k_i2}+e^{k_i3})\n",
    "    '''\n",
    "    #dot product between X_data matrix  and tranposed Weight_ matrix added to Bias  gives matrix each z_ij\n",
    "    Z = X.dot(W.T)+B \n",
    "    \n",
    "    #return matrix cosist of exponentials Z input net\n",
    "    exp_z = np.exp(X.dot(W.T)+B)\n",
    "    \n",
    "    #array contains sum  of every row  (e^z_{ik})\n",
    "    sums=np.sum(exp_z, axis=1) \n",
    "    \n",
    "    #return softmax(Z)_{ij}\n",
    "    return (exp_z.T/sums).T \n"
   ]
  },
  {
   "cell_type": "code",
   "execution_count": null,
   "metadata": {},
   "outputs": [],
   "source": []
  },
  {
   "cell_type": "code",
   "execution_count": null,
   "metadata": {},
   "outputs": [],
   "source": [
    "def perform_gradient(X,y,max_iter=300,learning_rate=0.1,innitial_value = 10, debug_W=None):\n",
    "    bias = np.full((y.shape[1],),innitial_value)\n",
    "    W = np.full((X.shape[1], y.shape[1]), innitial_value)\n",
    "    m = X.shape[0]\n",
    "    gamma = (1/m)*learning_rate\n",
    "    debug_mode = (debug_W is not None) \n",
    "    if debug_mode: debug_W = W[1]\n",
    "    \n",
    "    for i in range(max_iter):\n",
    "        B = softmax(X,W,bias)-y\n",
    "        W = W - gamma*B.T.dot(X)\n",
    "        bias =bias - gamma*np.sum(B, axis=0)\n",
    "        if debug_W is not None:\n",
    "            #debug_W = np.append(W, W[debug_W], axis=0)\n",
    "            print(debug_W)\n",
    "    \n",
    "    if debug_mode :\n",
    "        return W,bias,W\n",
    "\n",
    "    return debug_W\n",
    "\n",
    "#         if np.isnan(w_delta).any() or np.isnan(b_delta).any():\n",
    "#             warnings.warn('The iteration process has been interrupted because  some value became infinity.')\n",
    "#             break;     "
   ]
  },
  {
   "cell_type": "code",
   "execution_count": 13,
   "metadata": {},
   "outputs": [
    {
     "name": "stdout",
     "output_type": "stream",
     "text": [
      "fuck 10000\n"
     ]
    },
    {
     "data": {
      "text/plain": [
       "array([1.        , 1.00200547, 1.00786255, ..., 1.8964879 , 1.89648878,\n",
       "       1.89648966])"
      ]
     },
     "execution_count": 13,
     "metadata": {},
     "output_type": "execute_result"
    }
   ],
   "source": [
    "def perform_gradient(X,y,max_iter=300,learning_rate=0.1,innitial_value =1, debug_W=None):\n",
    "    \n",
    "    print('fuck',max_iter)  \n",
    "    #debug values of wieght matrix\n",
    "    debug_mode = False\n",
    "    if debug_W is not None: debug_mode=True \n",
    "    \n",
    "    bias = np.full((y.shape[1],),innitial_value)\n",
    "    W = np.full((X.shape[1], y.shape[1]), innitial_value)\n",
    "    if debug_mode:  debug = W[(debug_W)]\n",
    "    m = X.shape[0] \n",
    "    gamma = (1/m)*learning_rate\n",
    "    \n",
    "    for i in range(max_iter):\n",
    "        B = softmax(X,W,bias)-y\n",
    "        W = W - gamma*B.T.dot(X)\n",
    "        bias = bias - gamma*np.sum(B, axis=0)\n",
    "        if debug_mode: debug = np.append(debug, W[debug_W])\n",
    "    \n",
    "    if debug_mode: \n",
    "            return W,bias,debug\n",
    "    print('fuck',max_iter)    \n",
    "    return W,bias\n",
    "\n",
    "W,b,k = perform_gradient(X_train,y_train,max_iter=10**4,learning_rate=0.1,debug_W=(0,1))\n",
    "k"
   ]
  },
  {
   "cell_type": "code",
   "execution_count": 16,
   "metadata": {},
   "outputs": [
    {
     "name": "stdout",
     "output_type": "stream",
     "text": [
      "original data label Y :  \n",
      "[[0 0 1]\n",
      " [1 0 0]\n",
      " [0 1 0]\n",
      " [0 0 1]\n",
      " [0 0 1]\n",
      " [1 0 0]\n",
      " [0 1 0]\n",
      " [0 0 1]\n",
      " [1 0 0]]\n",
      "\n",
      "predicted data label Y' :\n",
      "[[0.04 0.   0.96]\n",
      " [0.83 0.05 0.11]\n",
      " [0.03 0.97 0.  ]\n",
      " [0.08 0.   0.92]\n",
      " [0.05 0.   0.95]\n",
      " [0.87 0.12 0.01]\n",
      " [0.21 0.79 0.  ]\n",
      " [0.04 0.   0.96]\n",
      " [0.86 0.09 0.05]]\n"
     ]
    }
   ],
   "source": [
    "print('original data label Y :  ')\n",
    "print(y_test[1:10])\n",
    "print('')\n",
    "print(\"predicted data label Y' :\")\n",
    "print("
   ]
  },
  {
   "cell_type": "code",
   "execution_count": null,
   "metadata": {},
   "outputs": [],
   "source": []
  },
  {
   "cell_type": "code",
   "execution_count": null,
   "metadata": {},
   "outputs": [],
   "source": []
  },
  {
   "cell_type": "code",
   "execution_count": null,
   "metadata": {},
   "outputs": [],
   "source": []
  },
  {
   "cell_type": "markdown",
   "metadata": {},
   "source": [
    " "
   ]
  },
  {
   "cell_type": "code",
   "execution_count": null,
   "metadata": {},
   "outputs": [],
   "source": [
    "x = np.linspace(1,100,len(k))\n",
    "plt.plot(x,k)\n",
    "plt.xscale('log')\n",
    "#plt.show()\n",
    "#plt.plot(x,k)\n",
    "#plt.show()\n",
    "#plt.plot(x,np.exp(k))"
   ]
  },
  {
   "cell_type": "code",
   "execution_count": null,
   "metadata": {},
   "outputs": [],
   "source": [
    "# x = np.linspace(1,100000,len(k))\n",
    "# plt.plot(x,k)\n",
    "# plt.xscale('log')\n",
    "# plt.show()\n",
    "# plt.plot(x,k)\n",
    "# #plt.show()\n",
    "# #plt.plot(x,np.exp(k))\n",
    "# def plot_weight(W):\n",
    "#     \"\"\"\n",
    "    \n",
    "#     \"\"\"\n",
    "fig, axs = plt.subplots(4, 4,figsize=(20,20))        \n",
    "for i in range(4):\n",
    "    for j in range(4):\n",
    "        learning_rate = 0.1*(i+1)*3\n",
    "        max_iter = 10**(j+1)   \n",
    "        W,b,k = perform_gradient(X_train,y_train,max_iter=max_iter,learning_rate=learning_rate,debug_W=(0,1))\n",
    "        axs[i, j].set_title('l-{} it={}'.format(learning_rate,max_iter))\n",
    "        x = np.linspace(1,100000,len(k))\n",
    "        axs[i, j].plot(x,k)\n",
    "'''\n",
    "\n",
    "  size = np.sqrt(num)  \n",
    "    a = cartesian(1,100,num)\n",
    "  \n",
    "    x = np.linspace(-10,10,30)\n",
    "    if not size.is_integer():\n",
    "        raise ValueError(\"num must has precise  root of integer type \")\n",
    "    size = int(size)\n",
    "    f\n",
    "    for i in range(size):\n",
    "        for j in range(size):\n",
    "            axs[i, j].set_title('a = {} ,b = {}'.format(i,j)  )\n",
    "            y=sigmoid(x,i,j)\n",
    "            axs[i, j].plot(x,y)\n",
    "'''        \n"
   ]
  },
  {
   "cell_type": "code",
   "execution_count": null,
   "metadata": {},
   "outputs": [],
   "source": [
    "fig, axs = plt.subplots(4, 4,figsize=(20,20))        \n",
    "for i in range(4):\n",
    "    for j in range(4):\n",
    "        learning_rate = 0.1*(i+1)*4\n",
    "        max_iter = 10**(j+1)   \n",
    "        W,b,k = perform_gradient(X_train,y_train,max_iter=max_iter,learning_rate=learning_rate,debug_W=(0,1))\n",
    "        axs[i, j].set_title('l-{} it={}'.format(learning_rate,max_iter))\n",
    "        x = np.linspace(1,100000,len(k))\n",
    "        axs[i, j].plot(x,k)"
   ]
  },
  {
   "cell_type": "code",
   "execution_count": null,
   "metadata": {},
   "outputs": [],
   "source": [
    "\n",
    "fig, axs = plt.subplots(4, 4,figsize=(20,20))        \n",
    "for i in range(4):\n",
    "    for j in range(4):\n",
    "        learning_rate = 0.1*(i+1)*7\n",
    "        max_iter = 10**(j+1)   \n",
    "        W,b,k = perform_gradient(X_train,y_train,max_iter=max_iter,learning_rate=learning_rate,debug_W=(0,1))\n",
    "        axs[i, j].set_title('l-{} it={}'.format(learning_rate,max_iter))\n",
    "        x = np.linspace(1,100000,len(k))\n",
    "        axs[i, j].plot(x,k)"
   ]
  },
  {
   "cell_type": "code",
   "execution_count": null,
   "metadata": {},
   "outputs": [],
   "source": [
    "W,b,k = perform_gradient(X_train,y_train,max_iter=10000,learning_rate=0.8,debug_W=(0,1))\n",
    "print('original data label Y :  ')\n",
    "print(y_train[1:20])\n",
    "print('')\n",
    "print(\"predicted data label Y' :\")\n",
    "print(np.around(softmax(X_train,W,b)[1:20],2))\n"
   ]
  },
  {
   "cell_type": "code",
   "execution_count": null,
   "metadata": {},
   "outputs": [],
   "source": [
    "plt.xscale('log')\n",
    "fig, axs = plt.subplots(4, 4,figsize=(20,20))        \n",
    "for i in range(4):\n",
    "    for j in range(4):\n",
    "        learning_rate = 0.1*(i+1)*4\n",
    "        max_iter = 10**(j+1)   \n",
    "        W,b,k = perform_gradient(X_train,y_train,max_iter=max_iter,learning_rate=learning_rate,debug_W=(0,1))\n",
    "        axs[i, j].set_title('l-{} it={}'.format(learning_rate,max_iter))\n",
    "        x = np.linspace(1,100000,len(k))\n",
    "        axs[i, j].plot(np.log(x),k)\n",
    "        \n"
   ]
  },
  {
   "cell_type": "code",
   "execution_count": 46,
   "metadata": {},
   "outputs": [
    {
     "name": "stdout",
     "output_type": "stream",
     "text": [
      "(150, 4)\n",
      "(150,)\n"
     ]
    },
    {
     "data": {
      "text/plain": [
       "array([0, 0, 0, 0, 0, 0, 0, 0, 0, 0, 0, 0, 0, 0, 0, 0, 0, 0, 0, 0, 0, 0,\n",
       "       0, 0, 0, 0, 0, 0, 0, 0, 0, 0, 0, 0, 0, 0, 0, 0, 0, 0, 0, 0, 0, 0,\n",
       "       0, 0, 0, 0, 0, 0, 1, 1, 1, 1, 1, 1, 1, 1, 1, 1, 1, 1, 1, 1, 1, 1,\n",
       "       1, 1, 1, 1, 1, 1, 1, 1, 1, 1, 1, 1, 1, 1, 1, 1, 1, 1, 1, 1, 1, 1,\n",
       "       1, 1, 1, 1, 1, 1, 1, 1, 1, 1, 1, 1, 2, 2, 2, 2, 2, 2, 2, 2, 2, 2,\n",
       "       2, 2, 2, 2, 2, 2, 2, 2, 2, 2, 2, 2, 2, 2, 2, 2, 2, 2, 2, 2, 2, 2,\n",
       "       2, 2, 2, 2, 2, 2, 2, 2, 2, 2, 2, 2, 2, 2, 2, 2, 2, 2])"
      ]
     },
     "execution_count": 46,
     "metadata": {},
     "output_type": "execute_result"
    }
   ],
   "source": [
    "\n",
    "#perform_gradient(X,y,max_iter=300,learning_rate=0.1,innitial_value =1, debug_W=None)"
   ]
  },
  {
   "cell_type": "markdown",
   "metadata": {},
   "source": [
    "#references\n",
    "https://towardsdatascience.com/epoch-vs-iterations-vs-batch-size-4dfb9c7ce9c9"
   ]
  },
  {
   "cell_type": "markdown",
   "metadata": {},
   "source": [
    "https://machinelearningmastery.com/understand-the-dynamics-of-learning-rate-on-deep-learning-neural-networks/"
   ]
  }
 ],
 "metadata": {
  "kernelspec": {
   "display_name": "Python 3",
   "language": "python",
   "name": "python3"
  },
  "language_info": {
   "codemirror_mode": {
    "name": "ipython",
    "version": 3
   },
   "file_extension": ".py",
   "mimetype": "text/x-python",
   "name": "python",
   "nbconvert_exporter": "python",
   "pygments_lexer": "ipython3",
   "version": "3.7.4"
  }
 },
 "nbformat": 4,
 "nbformat_minor": 2
}
