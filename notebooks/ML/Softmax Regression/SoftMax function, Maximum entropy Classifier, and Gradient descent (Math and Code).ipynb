{
 "cells": [
  {
   "cell_type": "code",
   "execution_count": 12,
   "metadata": {},
   "outputs": [],
   "source": [
    "%matplotlib inline"
   ]
  },
  {
   "cell_type": "code",
   "execution_count": 13,
   "metadata": {},
   "outputs": [],
   "source": [
    "import numpy as np\n",
    "import matplotlib.pyplot as plt\n",
    "import pandas as pd\n",
    "\n",
    "\n",
    "from sklearn.model_selection import train_test_split"
   ]
  },
  {
   "cell_type": "markdown",
   "metadata": {},
   "source": [
    "# Softmax function,Cross Entropy Loss and Gradient descent.\n",
    "author: daodeiv (david stankov)"
   ]
  },
  {
   "cell_type": "markdown",
   "metadata": {},
   "source": [
    "    "
   ]
  },
  {
   "cell_type": "markdown",
   "metadata": {},
   "source": [
    "<h5>\n",
    "    <font color=' #263a61 ' >\n",
    "        The standart softmax function $\\sigma: \\; \\Re^k \\; \\rightarrow \\; \\Re^k $ is defined by formula : <br>\n",
    "    \n",
    "\n",
    "   </font>    \n",
    "</h5>\n",
    "<h2><font color='#1c5cd9' > $$\\sigma(z)_i= \\frac{e^z_i}{\\sum_{j=1}^n e^{z}_{j}}$$  \n",
    "     </font> \n",
    "</h2>\n",
    "<h7>\n",
    "    <font color='#263a61' >Before getting deeper into the above equation, we gonna generate our learning data. The data consist of records contains a different type of vehicles together their sizes. The dataset is very simple since we would be able to do prediction per our brain, without using any ML concept however in the beginning, our purpose is not to make a prediction our purpose is diving into the basic concepts behind softmax underlying on math.\n",
    "    \n",
    "   </font>\n",
    "</h7>  "
   ]
  },
  {
   "cell_type": "markdown",
   "metadata": {},
   "source": [
    "<h5>\n",
    "    <font color=' #263a61 ' >\n",
    "        Let's generate our data : <br>\n",
    "    \n",
    "\n",
    "   </font>    \n",
    "</h5>"
   ]
  },
  {
   "cell_type": "code",
   "execution_count": 21,
   "metadata": {},
   "outputs": [
    {
     "data": {
      "text/html": [
       "<div>\n",
       "<style scoped>\n",
       "    .dataframe tbody tr th:only-of-type {\n",
       "        vertical-align: middle;\n",
       "    }\n",
       "\n",
       "    .dataframe tbody tr th {\n",
       "        vertical-align: top;\n",
       "    }\n",
       "\n",
       "    .dataframe thead th {\n",
       "        text-align: right;\n",
       "    }\n",
       "</style>\n",
       "<table border=\"1\" class=\"dataframe\">\n",
       "  <thead>\n",
       "    <tr style=\"text-align: right;\">\n",
       "      <th></th>\n",
       "      <th>x_size</th>\n",
       "      <th>y_size</th>\n",
       "      <th>z_size</th>\n",
       "      <th>label_Bus</th>\n",
       "      <th>label_Car</th>\n",
       "      <th>label_Tractor</th>\n",
       "    </tr>\n",
       "  </thead>\n",
       "  <tbody>\n",
       "    <tr>\n",
       "      <td>0</td>\n",
       "      <td>4.203818</td>\n",
       "      <td>4.666909</td>\n",
       "      <td>4.086120</td>\n",
       "      <td>0</td>\n",
       "      <td>0</td>\n",
       "      <td>1</td>\n",
       "    </tr>\n",
       "    <tr>\n",
       "      <td>1</td>\n",
       "      <td>4.788860</td>\n",
       "      <td>4.522800</td>\n",
       "      <td>4.893825</td>\n",
       "      <td>0</td>\n",
       "      <td>0</td>\n",
       "      <td>1</td>\n",
       "    </tr>\n",
       "    <tr>\n",
       "      <td>2</td>\n",
       "      <td>4.587386</td>\n",
       "      <td>4.920355</td>\n",
       "      <td>4.176234</td>\n",
       "      <td>0</td>\n",
       "      <td>0</td>\n",
       "      <td>1</td>\n",
       "    </tr>\n",
       "    <tr>\n",
       "      <td>3</td>\n",
       "      <td>4.555912</td>\n",
       "      <td>4.420434</td>\n",
       "      <td>4.818734</td>\n",
       "      <td>0</td>\n",
       "      <td>0</td>\n",
       "      <td>1</td>\n",
       "    </tr>\n",
       "    <tr>\n",
       "      <td>4</td>\n",
       "      <td>4.923830</td>\n",
       "      <td>4.078491</td>\n",
       "      <td>4.329376</td>\n",
       "      <td>0</td>\n",
       "      <td>0</td>\n",
       "      <td>1</td>\n",
       "    </tr>\n",
       "    <tr>\n",
       "      <td>...</td>\n",
       "      <td>...</td>\n",
       "      <td>...</td>\n",
       "      <td>...</td>\n",
       "      <td>...</td>\n",
       "      <td>...</td>\n",
       "      <td>...</td>\n",
       "    </tr>\n",
       "    <tr>\n",
       "      <td>25</td>\n",
       "      <td>1.412069</td>\n",
       "      <td>1.273014</td>\n",
       "      <td>1.046412</td>\n",
       "      <td>0</td>\n",
       "      <td>1</td>\n",
       "      <td>0</td>\n",
       "    </tr>\n",
       "    <tr>\n",
       "      <td>26</td>\n",
       "      <td>1.599903</td>\n",
       "      <td>1.766137</td>\n",
       "      <td>1.354414</td>\n",
       "      <td>0</td>\n",
       "      <td>1</td>\n",
       "      <td>0</td>\n",
       "    </tr>\n",
       "    <tr>\n",
       "      <td>27</td>\n",
       "      <td>1.462978</td>\n",
       "      <td>1.003001</td>\n",
       "      <td>1.094916</td>\n",
       "      <td>0</td>\n",
       "      <td>1</td>\n",
       "      <td>0</td>\n",
       "    </tr>\n",
       "    <tr>\n",
       "      <td>28</td>\n",
       "      <td>1.110654</td>\n",
       "      <td>1.714280</td>\n",
       "      <td>1.715052</td>\n",
       "      <td>0</td>\n",
       "      <td>1</td>\n",
       "      <td>0</td>\n",
       "    </tr>\n",
       "    <tr>\n",
       "      <td>29</td>\n",
       "      <td>1.233482</td>\n",
       "      <td>1.348724</td>\n",
       "      <td>1.467063</td>\n",
       "      <td>0</td>\n",
       "      <td>1</td>\n",
       "      <td>0</td>\n",
       "    </tr>\n",
       "  </tbody>\n",
       "</table>\n",
       "<p>90 rows × 6 columns</p>\n",
       "</div>"
      ],
      "text/plain": [
       "      x_size    y_size    z_size  label_Bus  label_Car  label_Tractor\n",
       "0   4.203818  4.666909  4.086120          0          0              1\n",
       "1   4.788860  4.522800  4.893825          0          0              1\n",
       "2   4.587386  4.920355  4.176234          0          0              1\n",
       "3   4.555912  4.420434  4.818734          0          0              1\n",
       "4   4.923830  4.078491  4.329376          0          0              1\n",
       "..       ...       ...       ...        ...        ...            ...\n",
       "25  1.412069  1.273014  1.046412          0          1              0\n",
       "26  1.599903  1.766137  1.354414          0          1              0\n",
       "27  1.462978  1.003001  1.094916          0          1              0\n",
       "28  1.110654  1.714280  1.715052          0          1              0\n",
       "29  1.233482  1.348724  1.467063          0          1              0\n",
       "\n",
       "[90 rows x 6 columns]"
      ]
     },
     "execution_count": 21,
     "metadata": {},
     "output_type": "execute_result"
    }
   ],
   "source": [
    "#generate tractor records with random size between [4,5] \n",
    "tractor_dataframe= pd.DataFrame(data=np.random.random((30, 3))+4,columns = ['x_size','y_size','z_size'])\n",
    "tractor_dataframe['label'] =pd.DataFrame( np.full((1,30 ), 'Tractor').T)\n",
    "\n",
    "#generate car records with random size between [3,4] \n",
    "car_dataframe= pd.DataFrame(data=np.random.random((30, 3)) + 1,columns = ['x_size','y_size','z_size'])\n",
    "car_dataframe['label'] =pd.DataFrame( np.full((1,30 ), 'Car').T)\n",
    "\n",
    "#generate bus records with random size between [2,3] \n",
    "bus_dataframe= pd.DataFrame(data=np.random.random((30, 3))+2,columns = ['x_size','y_size','z_size'])\n",
    "bus_dataframe['label'] =pd.DataFrame( np.full((1,30 ), 'Bus').T)\n",
    "\n",
    "# joint each data frame into  one\n",
    "data = tractor_dataframe.append(bus_dataframe).append(car_dataframe)\n",
    "data = pd.get_dummies(data) \n",
    "data\n",
    "\n"
   ]
  },
  {
   "cell_type": "markdown",
   "metadata": {},
   "source": []
  },
  {
   "cell_type": "code",
   "execution_count": 15,
   "metadata": {},
   "outputs": [
    {
     "data": {
      "text/plain": [
       "<matplotlib.legend.Legend at 0x21460304e48>"
      ]
     },
     "execution_count": 15,
     "metadata": {},
     "output_type": "execute_result"
    },
    {
     "data": {
      "image/png": "[encoded data removed]",
      "text/plain": [
       "<Figure size 432x288 with 1 Axes>"
      ]
     },
     "metadata": {
      "needs_background": "light"
     },
     "output_type": "display_data"
    }
   ],
   "source": []
  },
  {
   "cell_type": "markdown",
   "metadata": {},
   "source": [
    "<h5>\n",
    "    <br>\n",
    "    <font color='#454214' >\n",
    "       The above scatter plot shows the simplicity of the classification problem because it is obvious how they are separated into classes. <br> <br>\n",
    "     </font>    \n",
    "   <br>\n",
    "</h5>"
   ]
  },
  {
   "cell_type": "code",
   "execution_count": 19,
   "metadata": {},
   "outputs": [
    {
     "name": "stdout",
     "output_type": "stream",
     "text": [
      "first 3 record of x train [[4.87703442 4.08854767 4.71603313]\n",
      " [1.77165227 1.16707245 1.71898848]\n",
      " [4.77579936 4.24984133 4.01672021]\n",
      " [2.1497537  2.39400013 2.04626256]]\n",
      "first 3 record of y label  [[0 0 1]\n",
      " [0 1 0]\n",
      " [0 0 1]\n",
      " [1 0 0]]\n",
      "shape of x train (n.m) (60, 3)\n",
      "shape of y label (n,k) (60, 3)\n"
     ]
    }
   ],
   "source": [
    "x_train = np.array(data.drop(['label_Bus','label_Car','label_Tractor'], axis = 1)) # gets the target label variables\n",
    "y_train = np.array(data[['label_Bus','label_Car','label_Tractor']]) # gets feature variables \n",
    "X_train, X_test, y_train, y_test = train_test_split(x_train,y_train, test_size=0.33, random_state=42) #separats into test and train samples \n",
    "print('first 3 record of x train', X_train[ : 4] )\n",
    "print('first 3 record of y label ', y_train[ : 4] )\n",
    "\n",
    "print('shape of x train (n.m)', X_train.shape)\n",
    "print('shape of y label (n,k)', y_train.shape )"
   ]
  },
  {
   "cell_type": "markdown",
   "metadata": {},
   "source": [
    "<h5>\n",
    "    <br> <br> <br>\n",
    "    <font color='#053157'> $\\; \\; \\; $In softmax regression we replace sigmoid function by so-called softmax function \n",
    "          $\\phi_{softmax (.)}$. Where we difine the net input as :  \n",
    "          <br> <br>\n",
    "   </font>\n",
    "   <font color='#3b051d' >\n",
    "      $$ z = w_1 x_1 + ...+w_nx_n +b = \\sum_l^mw_lx_l +b = W^T +b$$\n",
    "   </font>\n",
    "   <br> <br>\n",
    "   <font color='#053b3b'>\n",
    "     (W is the weight vector, X is is the feature of 1 training example, and b is bias unit ) <br> <br>\n",
    "    \n",
    "Now,softmax function computes the probability that this training example $x^{(i)}$ belongs to class j given the weight and net input $z^{(i)}$. <br>\n",
    "So we compute the probability $p(y=j | x^{(i)};W_j)$ for each class label in j=1,...,k..Note the normalization term in the denominator which causes these class probabilities to sum up one. <br>\n",
    "<br> <br> \n",
    "Our training sample consist of $(n_{samples} ,m_{features})$ = (60,3) and label consist of  are ( k_{classes} ) =  (3)\n",
    "therefore  the weight matrix is $m\\times k = 9$ or  $(m_{features},k_{classes}(probabilities) = (3 ,3)$ dimensional matrix.  \n",
    "\n",
    "To compute the net input $z$, we mutiply feature matrix with weight matrix  $(n_{samples} ,m_{features})\\times (m_{features} ,k_{classes})\\; (60,3)\\times(3,3) $ wich yields a $60 \\times 3 $ to wich we then add the bias unit.Mathematicaly look like this:\n",
    " </font> \n",
    "</h5>  "
   ]
  },
  {
   "cell_type": "markdown",
   "metadata": {},
   "source": [
    " <h5>\n",
    "    <font color='#3f450f' > weight vector : </font>\n",
    "  <font color='#053b32' > \n",
    "     <br>  \n",
    "    $$ W= \\begin{bmatrix} weight_1\\rightarrow class \\; 1(bus) \\\\ weight_2\\rightarrow class\\;  2(car) \\;   \\\\ weight_3\\rightarrow class \\;3(tractor) \\;  \\end{bmatrix} =\n",
    "    \\begin{bmatrix} \\vec w_1 \\\\  \\vec w_2\\  \\\\ \\vec w_3  \\end{bmatrix} =\\begin{bmatrix} w_{11} & w_{12} & w_{13} \\\\ w_{21} & w_{22} & w_{23} \\\\ w_{31} & w_{32} & w_{33} \\end{bmatrix}  $$ \n",
    "   <br>\n",
    "    \n",
    "\n",
    "   \n",
    " </font>\n",
    "<h5>"
   ]
  },
  {
   "cell_type": "markdown",
   "metadata": {},
   "source": [
    "\n"
   ]
  },
  {
   "cell_type": "markdown",
   "metadata": {},
   "source": [
    " <h5>\n",
    "    <font color='#454214' > net input $Z$ vector : </font>\n",
    "  <font color='#454214' > \n",
    "     $$ Z = \n",
    "    \\begin{bmatrix} x_{11} &  x_{12} & x_{13} \\\\  x_{21} &  x_{22} & x_{23} \\\\ ... & ... & ... \\\\ x_{n1} &  x_{n2} & x_{n3} \\end{bmatrix} \\times \\begin{bmatrix} w_{11} & w_{21} & w_{31}  \\\\ w_{12} & w_{22} & w_{32} \\\\  w_{13} & w_{23} & w_{33}\\end{bmatrix} + \\begin{bmatrix}  b_1 \\\\  b_2\\  \\\\  b_3  \\end{bmatrix}  =   \\begin{bmatrix} z_{11} &  z_{12} & z_{13} \\\\  z_{21} &  z_{32} & z_{33} \\\\ ... & ... & ...  \\\\ z_{n1} &  z_{n2} & z_{n3}  \\end{bmatrix} $$ <br>\n",
    "        \n",
    "   <br>\n",
    "       $$z_{ij} = \\sum_l^3 x_{ip} w_{jp} + b_j $$\n",
    "       $$ Z = XW^{T} +b $$\n",
    "    \n",
    "\n",
    "   \n",
    " </font>\n",
    "<h5>"
   ]
  },
  {
   "cell_type": "markdown",
   "metadata": {},
   "source": [
    "<h7>\n",
    "    <br> <br> <br>\n",
    "    <font color='#053157'> \n",
    "Now, it's time to compute the softmax activation that we discussed earlier : <br> <br>\n",
    " $$ P(\\; y=j\\;|\\;z^{(i)}) = \\phi_{softmax}(z^{(i)}) = \\frac{e^{z^{(i)}}} {\\sum_i^k e^{z_k^{(i)}}} $$\n",
    " <br> <br>\n",
    " \n",
    " \n",
    "$\\; \\; $In softmax regression settings, we are interested in multi-class classification and so the label y can take many values rather then only two. Thus in our training  we have $k_i\\ in {1,2,3}$.\n",
    "Given a test input x, we want our hypotesis to estimate the probability  $P(y=k|x_i)$ (y=k_i), i.e prediction of one label ,accoring to one samle(row) x_i) for each value of $k = {1,2,3}$ i.e we want to estimate the probability of class label taking on each of the $K$ different posible values. Thus, our hypotesis will output a K-dimensianal (3) vectors (whose element sum up to 1) giving us our K estimated probabilities. Concretely, our score(hypotesis) function $f(x,W)$ takes the form : <br>\n",
    "  </font> \n",
    "</h7> "
   ]
  },
  {
   "cell_type": "markdown",
   "metadata": {},
   "source": [
    "<br> <br>\n",
    " <h5>\n",
    "   <font color='#454214'>\n",
    "         $$ f(x|W) = \\begin{bmatrix} P(y=1 |x;W) \\\\  P(y=2 |x;W)  \\\\ ... \\\\ P(y=n |x;W)  \\end{bmatrix} = \n",
    " \\frac{1}{\\sum_{j=1}^k exp(W_j^Tx)} = \\begin{bmatrix} exp(W_1^Tx) \\\\  exp(W_2^Tx)  \\\\ ... \\\\ exp(W_n^Tx)  \\end{bmatrix}$$\n",
    "  <br> <br> \n",
    "   </font>\n",
    " </h5>       "
   ]
  },
  {
   "cell_type": "markdown",
   "metadata": {},
   "source": [
    "  <h5>\n",
    " </font>\n",
    " According to our dataset\n",
    "  <font color='#454214'>\n",
    " $$ f(x|W) = P = \\begin{bmatrix} P(y=1 |x_{1j} ; w_{1j}) &  P(y=2 |x_{2j} ; w_{2j})  & P(y=3 |x_{1j} ; w_{3j}) \n",
    "        \\\\ ... &  ...  & ...\n",
    "        \\\\ P(y=1 |x_{nj} ; w_{1j}) &  P(y=2 |x_{2j} ; w_{2j})  & P(y=3 |x_{1j} ; w_{3j})\n",
    "        \\end{bmatrix} = \n",
    "        \\begin{bmatrix} \\frac{e^{z_{11}}}{\\sum_{1j}e^{z_{1j}}} & \\frac{e^{z_{12}}}{\\sum_{1j}e^{z_{1j}}} & \\frac{e^{z_{13}}}{\\sum_{1j}e^{z_{1j}}} \n",
    "        \\\\   \\\\ ... & ... & ...  \\\\\n",
    "        \\\\    \\frac{e^{k_{n1}}}{\\sum_{j}^3e^{z_{nj}}} & \\frac{e^{z_{n2}}}{\\sum_{j}^3e^{z_{nj}}} & \\frac{e^{z_{n3}}}{\\sum_{j}^3e^{z_{nj}}}\\end{bmatrix} $$ \n",
    "  </font> \n",
    "   <h5>"
   ]
  },
  {
   "cell_type": "markdown",
   "metadata": {},
   "source": [
    " <h6>\n",
    " <br> <br>\n",
    "        <font color='#1a403c' >\n",
    "        The elements of $P$ we will called predictors $p_{ij}$ wich can be interpretated as probability i_th row element\n",
    "        to be j_th categorical value.If $p_{1,2}$ means what is the probability that record one belongs to the label_ bus?\n",
    "        Ofcourse, $p_{ij} \\in [0,1]$ <br>\n",
    "        Another way to express $p_{ij}$ : <br>  <br> \n",
    "        For example, the probability record one $X_1$ from dataset to be from class label $Y_2$ can be calculated in this way :\n",
    "         </font> \n",
    "      <br> \n",
    " </h6>  \n",
    "      \n",
    "   "
   ]
  },
  {
   "cell_type": "markdown",
   "metadata": {},
   "source": [
    " <h3>\n",
    "     <font color='#454214'>\n",
    "        $$softmax(Z)_{12}=P(y=2 |x_{1j};\\; w_{2j})=  \\;p_{12}\\;  = \\frac{ e^{ ^{z_{12}} } }{ \\sum_p^3 e^{z_{1p}}}=\\frac{ e^{ (^{\\sum_v^3 x_{1v}.w_{vj} + b_v }} )}{ \\sum_p^3 e^{ ^ ({\\sum_v^3 x_{1v}.w_{2v}} + b_2})}$$\n",
    "  </font>\n",
    "</h3>  "
   ]
  },
  {
   "cell_type": "markdown",
   "metadata": {},
   "source": [
    " <h5>\n",
    " <br> <br>\n",
    "        <font color='#263a61' >\n",
    "         Let to see how an above considering can be applied concretely in our training dataset :\n",
    "             First, let to define a weight vector $W$ <br> <br>\n",
    "            $$W = \\begin{bmatrix} w_{11} & w_{12} & w_{13} \\\\ w_{21} & w_{22} & w_{23} \\\\ w_{31} & w_{32} & w_{33} \\end{bmatrix}  =\n",
    "            \\begin{bmatrix} 0.75776811 & 0.6690284 & -0.02646755 \\\\\n",
    " -2.94775864 &  -3.06439323 & -2.14043833\\\\\n",
    "  2.18999053 & 2.39536483 &  2.16690588 \\end{bmatrix}$$\n",
    "  <br> <br>\n",
    "    $$B = \\begin{bmatrix}  b_1 \\\\  b_2\\  \\\\  b_3  \\end{bmatrix} = \\begin{bmatrix}  -0.15425504 \\\\ 18.81781451 \\\\ -18.66355947 \\end{bmatrix} $$ <br> <br>\n",
    "     I've prepared weight vector $W$ and bias $B$ in advance, how? We will see later. <br>\n",
    "            \n",
    "            \n",
    "          \n",
    " </font>\n",
    "</h5>     \n",
    "="
   ]
  },
  {
   "cell_type": "code",
   "execution_count": 17,
   "metadata": {},
   "outputs": [],
   "source": [
    "W= np.array([[ 0.75776811,  0.6690284 , -0.02646755],\n",
    " [-2.94775864, -3.06439323, -2.14043833],\n",
    " [ 2.18999053 , 2.39536483,  2.16690588]])\n",
    "\n",
    "B = intercept = np.array([ -0.15425504 , 18.81781451, -18.66355947])  "
   ]
  },
  {
   "cell_type": "code",
   "execution_count": 18,
   "metadata": {},
   "outputs": [],
   "source": [
    "def sofmax(x,W,intercept):\n",
    "    '''\n",
    "    soft max product \n",
    "    takes :\n",
    "    x feature matrix (train data)\n",
    "    W weight matrix\n",
    "    intercept Bias vector\n",
    "    '''\n",
    "    exp_z = np.exp(x.dot(W.T)+intercept) # calculate each z_ij\n",
    "    sums=np.sum(exp_z, axis=1) # array consist\n",
    "    result = (exp_z.T/sums).T \n",
    "    return result"
   ]
  },
  {
   "cell_type": "code",
   "execution_count": 22,
   "metadata": {},
   "outputs": [
    {
     "name": "stdout",
     "output_type": "stream",
     "text": [
      "original data label Y :  \n",
      "[[0 1 0]\n",
      " [0 0 1]\n",
      " [1 0 0]\n",
      " [1 0 0]\n",
      " [0 0 1]\n",
      " [1 0 0]\n",
      " [1 0 0]\n",
      " [0 0 1]\n",
      " [0 1 0]]\n",
      "\n",
      "predicted data label Y' :\n",
      "[[0.01 0.99 0.  ]\n",
      " [0.01 0.   0.99]\n",
      " [0.9  0.09 0.  ]\n",
      " [0.91 0.09 0.  ]\n",
      " [0.01 0.   0.99]\n",
      " [0.86 0.13 0.  ]\n",
      " [0.89 0.11 0.  ]\n",
      " [0.01 0.   0.99]\n",
      " [0.03 0.97 0.  ]]\n"
     ]
    }
   ],
   "source": [
    "print('original data label Y :  ')\n",
    "print(y_train[1:10])\n",
    "print('')\n",
    "print(\"predicted data label Y' :\")\n",
    "print(np.around(sofmax(X_train,W,intercept)[1:10],2))"
   ]
  },
  {
   "cell_type": "markdown",
   "metadata": {},
   "source": [
    " <h7>\n",
    " <br> <br>\n",
    "        <font color='#263a61' >\n",
    "            From $Y'$ output let to consider the first row : <br> <br>\n",
    "            $Y'_{11} = 0.01 \\rightarrow  $ has  0.1% chance that row one belongs to class 1(BUS) <br> \n",
    "            $Y'_{12} = 0.98 \\rightarrow  $ has 98% chance that row one belongs to class 2(CAR) <br> \n",
    "            $Y'_{13} = 0.01 \\rightarrow  $ has 0.1% chance that row one belongs to class 3(TRACTOR) <br> <br>\n",
    "            That means record $X_1$ belongs to class Car, because has the 90% chance, which is the largest. <br> <br> <br> \n",
    "            \n",
    "            \n",
    " If we compare     $Y$ and $Y'$ we will notice that our prediction has 100% accuracy. <br>\n",
    "But, how have I  found a weight matrix $W$ and bias &B&.I just used the LogisticRegression from scikit-learn, and took the coefficients, but now we gonna define a Loss function ant its optimization in order to find the weght $W$ and bias $\\vec b$. \n",
    "         </font>\n",
    " </h7>        \n",
    "         "
   ]
  },
  {
   "cell_type": "markdown",
   "metadata": {},
   "source": [
    " <h7>\n",
    " <br> <br>\n",
    "        <font color='#263a61' >\n",
    "        Now we are going to Loss function  for : \n",
    "    </font>\n",
    "</h7>\n",
    "</h3>\n",
    "     <font color='#454214'>\n",
    "            $$(1) \\; \\; \\; softmax(Z)_{ij}=p_{ij}=\\frac{e^{z_{ij}}}{\\sum_l^k e^{z_{il}}} $$ <br>\n",
    "            $$z_{ij} = \\sum_p^3 x_{ip} w_{jp} + b_j $$\n",
    "   </font>\n",
    "   \n",
    "</h3>\n",
    " <h7>\n",
    " <br> <br>\n",
    "        <font color='#263a61' >\n",
    "        The loss function for Softmax regression is called Cross-Entropy Loss or Sofmax Loss and it is defined like that:    \n",
    "    </font>\n",
    "</h7>\n",
    "<h3>\n",
    "     <font color='#454214'>\n",
    "            $$ (2) \\;  \\; \\;L(W,b)=-\\sum_i^n\\sum_j^k y_{ij} \\log (sofmax(Z)_{ij})$$ <br> <br>\n",
    "\n",
    "   </font>\n",
    " </h3>  \n",
    " <h7>\n",
    " <br> <br>\n",
    "        <font color='#4561bf' >\n",
    "       where n is a count of records , $y_{ij}$ is label value of i_th record j_th class, $softmax(Z)_{ij}$ predicited label value  $Y'_{ij}$ <br>\n",
    "     and $W$ is weight matrix and $b$ bias. <br> \n",
    "     Our purpose in to fit parameters  $w_{ij}\\in W$ and $b_j$ according to \n",
    " a training data $X$  and a label data $Y$ in order to make the best prediction.To do that we will apply Gradient descent as a regression technique over Softmax loss function.The eq.(2) is the function of all weights $w_{ij}$, bias $b_j$ all training data x and label data y.       \n",
    "    </font>\n",
    "</h7>   \n",
    "  </h3>"
   ]
  },
  {
   "cell_type": "markdown",
   "metadata": {},
   "source": [
    "<h7>\n",
    " <br> <br>\n",
    "        <font color='#263a61' >\n",
    "            First, We gonna introduce some math technics which will make our work easier, and we will find derivates of some function which will be extremely useful in the process of finding of $\\nabla L(W,b)$. <br> <br>\n",
    "            For simplicity in the summation process of indices, we will introduce a <a href='http://physics.csusb.edu/~prenteln/notes/vc_notes.pdf'>Kronecker symbol</a> .<br>\n",
    "    </font>    \n",
    "</h7> \n",
    "\n",
    " <h3>\n",
    "     <font color='#454214'>\n",
    "       $$\\delta_{ij} =    \n",
    "         \\begin{equation}\n",
    "   \\begin{Bmatrix} \n",
    "   1 & if \\; i=j  \\\\\n",
    "   0 & if \\; i\\ne j  \n",
    "    \\end{Bmatrix} \n",
    "\\end{equation}$$\n",
    "  <br><br>\n",
    "          $$ \\delta_{ij} = \\begin{bmatrix} 1 & 0 & 0  \\\\ 0 & 1 & 0 \\\\  0 & 0 & 1 \\end{bmatrix}$$\n",
    "  </font>\n",
    " </h3>    \n",
    " <h7>\n",
    " <br> <br>\n",
    "        <font color='#263a61' >\n",
    "           In many places in the coming sum operations over indexes we will miss the $\\sum$ symbol, just it will be avoided(hidden) according to the .<a href='https://en.wikipedia.org/wiki/Einstein_notation'>Einstein summation convention</a> .<br>\n",
    "       For example, the eq. $$z_{ij} = \\sum_l^3 x_{ip} w_{jp} + b_j $$ by applying Enstein convetion we could rewrite it as :\n",
    "         $$z_{ij} = x_{ip} w_{jp} + b_j$$  \n",
    "   The sign $\\sum_p$ is miss.The sumation over p  is implied(by default) because p is repeated twice.Every time when there are repeatable indices that is the indicator for exist of $\\sum$  which is just missing(The sum sign  is not written).\n",
    "    </font>    \n",
    "</h7> \n"
   ]
  },
  {
   "cell_type": "code",
   "execution_count": null,
   "metadata": {},
   "outputs": [],
   "source": []
  },
  {
   "cell_type": "code",
   "execution_count": null,
   "metadata": {},
   "outputs": [],
   "source": []
  },
  {
   "cell_type": "code",
   "execution_count": null,
   "metadata": {},
   "outputs": [],
   "source": []
  },
  {
   "cell_type": "code",
   "execution_count": null,
   "metadata": {},
   "outputs": [],
   "source": []
  },
  {
   "cell_type": "code",
   "execution_count": null,
   "metadata": {},
   "outputs": [],
   "source": []
  },
  {
   "cell_type": "code",
   "execution_count": null,
   "metadata": {},
   "outputs": [],
   "source": []
  },
  {
   "cell_type": "code",
   "execution_count": null,
   "metadata": {},
   "outputs": [],
   "source": []
  },
  {
   "cell_type": "markdown",
   "metadata": {},
   "source": [
    " <h7>\n",
    " <br> <br>\n",
    "        <font color='#263a61' >\n",
    "            Let find some necessary derivatives: \n",
    "         </font> \n",
    "</h7>    \n",
    " <h2>\n",
    "     <font color='#454214'>\n",
    "         $\\;\\;\\;\\;\\;\\;\\;\\;  \\frac{\\partial z_{mv}}{\\partial w_{ij}} =\\frac{\\partial (x_{mp} w_{vp} + b_v)}{\\partial w_{ij}}$ <br> <br>\n",
    "       $\\;\\;\\;\\;\\;\\;\\;\\;\\;\\;\\;\\;\\;\\;  =  \\frac{ x_{mp} \\partial w_{vp} }{\\partial w_{ij}} +\\frac{\\partial b_v}{\\partial w_{ij}} $\n",
    "  </font>\n",
    "</h2>\n",
    " <h7>\n",
    "     <br>\n",
    "     <font color='#1c5cd9' >\n",
    "          $\\;\\;\\;\\;\\;\\;\\;\\;\\;\\;\\;\\;\\;\\; \\;\\;\\;\\;\\;\\;\\;  \\;\\;\\;\\;\\;\\;\\;due\\; to \\; \\frac{ \\partial w_{vp} }{\\partial w_{ij}} =1\\; when \\; (v=i\\;and\\; p=j) \\;and \\;\\frac{ \\partial w_{jp} }{\\partial w_{it}}=0  \\;when \\; (v \\ne i\\;or\\; p \\ne j) \\;  we \\; could \\;introduce\\; a\\; symbol \\; \\delta\\; and \\; write \\; \\frac{ \\partial w_{jp} }{\\partial w_{it}}=\\delta_{vi}\\delta_{pj} $ \n",
    "     </font>\n",
    " </h7> \n",
    "  <h2>\n",
    "     <font color='#454214'>\n",
    "        $\\;\\;\\;\\;\\;\\;\\;\\;\\;\\;\\;\\;\\;\\;  =   x_{mp}\\delta_{vi}\\delta_{pj} +\\frac{\\partial b_v}{\\partial w_{ij}} $ <br> <br>\n",
    "  </font>\n",
    "</h2>\n",
    "<h7>\n",
    "     <br>\n",
    "     <font color='#1c5cd9' >\n",
    "          $\\;\\;\\;\\;\\;\\;\\;\\;\\;\\;\\;\\;\\;\\; \\;\\;\\;\\;\\;\\;\\;  \\;\\;\\;\\;\\;\\;\\;using\\; kronicker \\;properties \\; p \\; is\\;  replaced by\\;  j \\; and\\;v \\; by\\;i  $ \n",
    "     </font>\n",
    " </h7> \n",
    "  <h2>\n",
    "     <font color='#454214'>\n",
    "        $\\;\\;\\;\\;\\;\\;\\;\\;\\;\\;\\;\\;\\;\\;  =   x_{mj}\\delta_{ii}\\delta_{jj} +\\frac{\\partial b_v}{\\partial w_{ij}} $ <br> <br>\n",
    "       $\\;\\;\\;\\;\\;\\;\\;\\;\\;\\;\\;\\;\\;\\;  =  \\frac{ x_{ip} \\partial w_{jp} }{\\partial w_{ij}}\\delta_{ii}\\delta_{jj} +0 $\n",
    "  </font>\n",
    "</h2>\n",
    "<h7>\n",
    "     <br>\n",
    "     <font color='#1c5cd9' >\n",
    "          $\\;\\;\\;\\;\\;\\;\\;\\;\\;\\;\\;\\;\\;\\; \\;\\;\\;\\;\\;\\;\\;  \\;\\;\\;\\;\\;\\;\\; i  \\; is\\;  a\\; part\\; only \\;of \\;  \\delta_{ii} therefore \\;it\\; can \\; be \\;removed \\;and \\;\\frac{\\partial b_v}{\\partial w_{ij}}=0 $ \n",
    "   </font>\n",
    " </h7> \n",
    "  <h2>\n",
    "     <font color='#454214'>\n",
    "        $\\;\\;\\;\\;\\;\\;\\;\\;\\;\\;\\;\\;\\;\\;  =   x_{mj}\\delta_{jj} + 0 $ <br> <br>\n",
    "      $\\;\\;\\;\\;\\;\\;\\;\\;\\;\\;\\;\\;\\;\\;  =   x_{mj} $ <br> <br>\n",
    "  </font>\n",
    "</h2>\n",
    "<h7>\n",
    "     <br>\n",
    "     <font color='#263a61' >\n",
    "         !!! The result can be proof using direct verification as well  If someone is not able to understand proof using Kronecker notations.\n",
    "   </font>\n",
    " </h7> \n",
    "  <h2>\n",
    "     <font color='#454214'>\n",
    "       $$ \\;\\;(3)\\;\\;\\;\\;\\;\\frac{\\partial z_{mv}}{\\partial w_{ij}} = x_{mj}$$\n",
    "  </font>\n",
    "</h2>\n",
    "<h7>\n",
    "     <br>\n",
    "     <font color='#263a61' >\n",
    "         In the same way can be proof for bias:\n",
    "   </font>\n",
    " </h7> \n",
    "  <h2>\n",
    "     <font color='#454214'>\n",
    "       $$ \\;\\;(4)\\;\\;\\;\\;\\;\\frac{\\partial z_{mv}}{\\partial b_{j}} = \\delta_{vj}$$\n",
    "  </font>\n",
    "</h2>\n",
    "<h7>\n",
    "     <br>\n",
    "     <font color='#263a61' >\n",
    "         Go on!!!\n",
    "   </font>\n",
    " </h7>"
   ]
  },
  {
   "cell_type": "markdown",
   "metadata": {},
   "source": [
    "<h2>\n",
    "    <br> <br>\n",
    "     <font color='#454214'>\n",
    "         $\\;\\;\\;\\;\\;\\;\\;\\; \\frac{\\partial p_{mv}}{\\partial w_{ij}} =\\frac{\\partial p_{mv}}{\\partial z_{ij}}\\times\\frac{\\partial z_{ij}}{\\partial w_{ij}} $\n",
    "    </font>\n",
    "</h2>\n",
    "<h7> \n",
    "    <br>\n",
    "     <font color='#1c5cd9' >\n",
    "          $\\;\\;\\;\\;\\;\\;\\;\\;\\;\\;\\;\\;\\;\\; \\;\\;\\;\\;\\;\\;\\;  \\;\\;\\;\\;\\;\\;\\;applying\\; eq.(3)\\; we \\;ahcieve  $ \n",
    "     </font>\n",
    " </h7> \n",
    " <h2>\n",
    "     <font color='#454214'>\n",
    "         $\\;\\;\\;\\;\\;\\;\\;\\; \\;\\;\\;\\;\\;\\; =\\frac{\\partial p_{mv}}{\\partial z_{ij}}.x_{ij}$\n",
    "    </font>\n",
    "</h2>"
   ]
  },
  {
   "cell_type": "markdown",
   "metadata": {},
   "source": [
    "<h2>\n",
    "    <br> <br>\n",
    "     <font color='#454214'>\n",
    "         $\\frac{\\partial p_{mv}}{\\partial z_{ij}} = \\frac{\\partial \\Big(  \\frac{e^{^{z_{mv}}}}{\\sum_{k=1}^K e^{^{z_{mk}}}}\\Big)}   {\\partial z_{ij}}$\n",
    "   <br> <br>\n",
    "         $\\;\\;\\;\\;\\; = \\frac{1}{(\\sum_{k=1}^K e^{^{z_{mk}}})^2}\\times\\Big( \\frac{\\partial e^{z_{mv}}}{\\partial z_{ij}}\\times(\\sum_{k=1}^K e^{^{z_{mk}}}) - \\frac{\\partial (\\sum_{k=1}^K e^{^{z_{mk}}})}{\\partial z_{ij}}\\times e^{z_{mk}}\\Big) $\n",
    "   <br> <br>\n",
    "   $\\;\\;\\;\\;\\; = \\frac{1}{\\sum_{k=1}^K e^{^{z_{mk}}}}\\times\\frac{\\partial e^{z_{mv}}}{\\partial z_{ij}} - \n",
    "\\frac{1}{(\\sum_{k=1}^K e^{^{z_{mk}}})^2}\\times  \\Big(\\sum_{k=1}^K \\frac{\\partial e^{^{z_{mk}}}}{\\partial z_{ij}}\\Big)\\times e^{z_{mv}} $   $\\;\\;\\;\\;\\;$   \\\\ line 1     \n",
    "  </font>\n",
    " </h2>"
   ]
  },
  {
   "cell_type": "markdown",
   "metadata": {},
   "source": [
    "<h2>\n",
    "    <br> <br>\n",
    "     <font color='#454214'>\n",
    "$\\;\\;\\;\\;\\; = \\frac{1}{\\sum_{k=1}^K e^{^{z_{mk}}}}\\times\\frac{\\partial e^{z_{mv}}}{\\partial z_{ij}} - \n",
    "\\frac{1}{(\\sum_{k=1}^K e^{^{z_{mk}}})^2}\\times  (\\sum_{k=1}^K  e^{^{z_{mk}}}.\\delta_{mi}\\delta_{kj})\\times e^{z_{mv}} $   $\\;\\;\\;\\;\\;$ "
   ]
  },
  {
   "cell_type": "markdown",
   "metadata": {},
   "source": [
    "<h2>\n",
    "    <br> <br>\n",
    "     <font color='#454214'>\n",
    "$\\;\\;\\;\\;\\; = \\frac{1}{\\sum_{k=1}^K e^{^{z_{mk}}}}\\times e^{z_{mv}}\\delta_{mi}\\delta_{kj} - \n",
    "\\frac{1}{(\\sum_{k=1}^K e^{^{z_{mk}}})^2}\\times  (\\sum_{k=1}^K  e^{^{z_{mk}}}.\\delta_{mi}\\delta_{kj})\\times e^{z_{mv}} $   $\\;\\;\\;\\;\\;$ "
   ]
  },
  {
   "cell_type": "markdown",
   "metadata": {},
   "source": [
    "<h2>\n",
    "    <br> <br>\n",
    "     <font color='#454214'>\n",
    "$\\;\\;\\;\\;\\; = \\frac{1}{\\sum_{k=1}^K e^{^{z_{mk}}}}\\times e^{z_{mv}}\\delta_{mi}\\delta_{vj}- \\frac{\\sum_{k=1}^K  e^{^{z_{mk}}}.\\delta_{mi}\\delta_{kj}}{\\sum_{k=1}^K e^{^{z_{mk}}}}\\times \\frac{e^{z_{mv}}}{\\sum_{k=1}^K e^{^{z_{mk}}}}$ "
   ]
  },
  {
   "cell_type": "markdown",
   "metadata": {},
   "source": [
    "\n",
    "<h2>\n",
    "    <br> <br>\n",
    "     <font color='#454214'>\n",
    "$\\;\\;\\;\\;\\; = \\frac{1}{\\sum_{k=1}^K e^{^{z_{ik}}}}\\times e^{z_{ij}}\\delta_{ii}\\delta_{jj}- \\frac{\\sum_{k=1}^K  e^{^{z_{mk}}}.\\delta_{mi}\\delta_{kj}}{\\sum_{k=1}^K e^{^{z_{mk}}}}\\times \\frac{e^{z_{mv}}}{\\sum_{k=1}^K e^{^{z_{mk}}}}$ "
   ]
  },
  {
   "cell_type": "markdown",
   "metadata": {},
   "source": [
    "<h2>\n",
    "    <br> <br>\n",
    "     <font color='#454214'>\n",
    "$ \\frac{\\sum_{k=1}^K  e^{^{z_{ij}}}.\\delta_{ii}\\delta_{jj}}{\\sum_{k=1}^K e^{^{z_{ik}}}}\\times \\frac{e^{z_{mv}}}{\\sum_{k=1}^K e^{^{z_{mk}}}} = p_{ij}p_{mv}$ "
   ]
  },
  {
   "cell_type": "markdown",
   "metadata": {},
   "source": [
    "$$\\frac{\\partial p_{mv}}{\\partial z_{ij}}=p_{ij}(1-p_{mv})$$"
   ]
  },
  {
   "cell_type": "code",
   "execution_count": null,
   "metadata": {},
   "outputs": [],
   "source": []
  },
  {
   "cell_type": "markdown",
   "metadata": {},
   "source": [
    "\n",
    " <h7>\n",
    "     <font color='#1c5cd9'>\n",
    "         <br>\n",
    "         $\\;\\;\\;\\;\\;\\;\\;\\;\\;\\;\\;\\;\\;\\;\\;$  if $j=t$ then $\\frac{e^{z_{ij}}}{z_{it}} = z_{ij}$ if $j\\ne t$ then  $\\frac{e^{z_{ij}}}{z_{it}}=0$ (it is simple for proving)  <br> <br>\n",
    "        $\\;\\;\\;\\;\\;\\;\\;\\;\\;\\;\\;\\;\\;\\;\\;$ For simplicity  as a continue we will separate the function in two cases when $j=t$ and $j\\ne t$ <br> <br>\n",
    "          $\\;\\;\\;\\;\\;\\;\\;\\;\\;\\;\\;\\;\\;\\;\\;$ When $j=t$ we have : <br> <br>\n",
    "     </font>\n",
    " </h7>  \n",
    " \n",
    " <h3>\n",
    "     <font color='#454214'>\n",
    "          $\\;\\;\\;\\;\\; = \\frac{z_{ij}}{\\sum_{k=1}^K e^{^{z_{ik}}}} - \\frac{1}{(\\sum_{k=1}^K e^{^{z_{ik}}})^2}\\times \\frac{\\partial e^{z_{it}}}{\\partial z_{it}}\\times e^{z_{ij}}$\n",
    "  </font>\n",
    " </h3>  \n",
    " \n",
    "  <h7>\n",
    "     <font color='#1c5cd9'>\n",
    "         <br>\n",
    "        $\\;\\;\\;\\;\\;\\;\\;\\;\\;\\;\\;\\;\\;\\;\\;$  According to eq(1) we could write: \n",
    "        <br> <br>\n",
    "     </font>\n",
    " </h7>  \n",
    "  <h3>\n",
    "     <font color='#454214'>\n",
    "          $\\;\\;\\;\\;\\;  = p_{ij}(1 -p_{it})$\n",
    "  </font>\n",
    " </h3>  \n",
    "  \n",
    "  <h7>\n",
    "     <font color='#1c5cd9'>\n",
    "         <br>\n",
    "        $\\;\\;\\;\\;\\;\\;\\;\\;\\;\\;\\;\\;\\;\\;\\;$ if $j\\ne t$ and going on from line 1, we achieve\n",
    "        <br> <br>\n",
    "     </font>\n",
    " </h7> \n",
    "  <h3>\n",
    "     <font color='#4542141'>\n",
    "          $\\;\\;\\;\\;\\; = \\frac{1}{\\sum_{k=1}^K e^{^{z_{ik}}}}\\times 0 - \n",
    "\\frac{1}{(\\sum_{k=1}^K e^{^{z_{ik}}})^2}\\times \\frac{ e^{z_{it}} }{\\partial z_{it}}\\times e^{z_{ij}} $\n",
    "          <br> <br>\n",
    "          $\\;\\;\\;\\;\\; = - \n",
    "\\frac{e^{z_{it}}}{\\sum_{k=1}^K e^{^{z_{ik}}}}\\times \\frac{e^{z_{ij}}}{\\sum_{k=1}^K e^{^{z_{ik}}}} $\n",
    "          <br> <br>\n",
    "  </font>\n",
    "  </h3>\n",
    "    <h7>\n",
    "     <font color='#1c5cd9'>\n",
    "         <br>\n",
    "         $\\;\\;\\;\\;\\;\\;\\;\\;\\;\\;\\;\\;\\;\\;\\;$ Again according to eq(1) we could write: \n",
    "        <br> <br>\n",
    "     </font>\n",
    " </h7> \n",
    "  <h3>\n",
    "     <font color='#454214'>\n",
    "        $\\;\\;\\;\\;\\; = -p_{ij}p_{it}$\n",
    "  </font>\n",
    "  </h3> \n",
    "  \n",
    "\n",
    "  "
   ]
  },
  {
   "cell_type": "markdown",
   "metadata": {},
   "source": [
    "<h7>\n",
    "     <font color='#263a61'>\n",
    "         <br>\n",
    "         We can write : \n",
    "     </font>\n",
    " </h7>  \n",
    "  <h3>\n",
    "     <br> <br> \n",
    "    <font color='#454214'>\n",
    "$$\\frac{\\partial p_{ij}}{\\partial z_{it}} = \n",
    "\\begin{pmatrix}\n",
    "p_{ij}(1 -p_{it}) & \\;j=t  \\\\\n",
    "-p_{ij}p_{it} & j \\ne t \n",
    "\\end{pmatrix} $$\n",
    "             \n",
    "  </font>\n",
    "  </h3> "
   ]
  },
  {
   "cell_type": "markdown",
   "metadata": {},
   "source": [
    "<font color='#263a61'>\n",
    "         <br>\n",
    "         the eqution above can  be rewritten : <br> \n",
    "     </font>\n",
    " </h7>  \n",
    "   <h3>\n",
    "     <br> <br> \n",
    "    <font color='#454214'>\n",
    "        $$\\;  (4)\\; \\;\\frac{\\partial p_{ij}}{\\partial z_{it}} = p_{ij}(\\delta_{jt} - p_{it})$$ \n",
    "        <br> <br>\n",
    "        $ \\frac{\\partial z_{ij}}{\\partial w_{it}}$ \n",
    "        $=\\frac{\\partial \\sum_p^3 x_{ip} w_{jp} + b_j}{\\partial w_{it}}=x_{ij}$\n",
    "         $=\\frac{\\sum_l^3  x_{ip}\\partial w_{jp}}{\\partial w_{it}} +\\frac{\\partial b_j}{\\partial w_{it}}=x_{ij}$\n",
    "    <br> <br>\n",
    "    $$  (5)\\;\\;\\frac{\\partial z_{ij}}{\\partial w_{it}}=x_{ij}$$\n",
    "   </font>\n",
    "  </h3>  "
   ]
  },
  {
   "cell_type": "markdown",
   "metadata": {},
   "source": [
    "<h7>\n",
    "     <font color='#263a61'>\n",
    "         <br> <br>\n",
    "         So far so good!!! <br>\n",
    "         In order to apply gradient descent we have to find all \n",
    "         Now let to find derivate of eq.(2) $ L(W,b)=-\\sum_i^n\\sum_j^k y_{ij} \\log (sofmax(Z)_{ij})$ <br> <br>\n",
    "         we have to find all $$\\nabla_{bl}L = \\frac{\\partial L}{\\partial w_{bl}}  = \n",
    " - \\sum_k\\frac{\\partial y_{ij} Log(p_{ij}) }{\\partial w_{bl}}$$\n",
    "       Applying eq (3) and using the Eistent index row we can rewrite euqtion (2) to <br>\n",
    "         $$\\nabla_{it}L = \\frac{\\partial L}{\\partial w_{it}}  = \n",
    " - \\frac{\\partial y_{ij} Log(p_{ij}) }{\\partial w_{it}}$$\n",
    "         \n",
    "  </font>\n",
    "  <h7>\n",
    " \n",
    " \n"
   ]
  },
  {
   "cell_type": "markdown",
   "metadata": {},
   "source": [
    "<h3>\n",
    "     <br> <br> \n",
    "    <font color='#454214'>\n",
    "$\\nabla_{it}L = \\frac{\\partial L}{\\partial w_{it}}  \n",
    "  =\\frac{\\partial y_{ij} Log(p_{ij}) }{\\partial w_{it}}  $\n",
    "  <br> <br>\n",
    "   $\\;\\;\\;\\;\\; \\;\\;\\;\\;\\;\\;\\;\\; \\;\\;\\; =\n",
    " \\frac{ y_{ij}\\partial Log(p_{ij}) }{\\partial w_{it}} = \n",
    "  \\frac{1}{p_{ij}} \\times \\frac{\\partial p_{ij}}{\\partial z_{it}} \\times \\frac{\\partial z_{ij}}{\\partial w_{it}}$\n",
    "  <br> <br>\n",
    "  $\\;\\;\\;\\;\\; \\;\\;\\;\\;\\;\\;\\;\\; \\;\\;\\; = \\frac{y_{ij}}{p_{ij}} \\times \\frac{\\partial p_{ij}}{\\partial z_{it}}\\times \\frac{\\partial z_{ij}}{\\partial w_{it}} $\n",
    "  </font>\n",
    "  </h3>  \n",
    "   <h7>\n",
    "     <font color='#1c5cd9'>\n",
    "         <br>\n",
    "         $\\;\\;\\;\\;\\;\\;\\;\\;\\;\\;\\;\\;\\;\\;\\;\\;\\;\\;\\;\\;\\;\\;\\;\\;\\;\\;$ By applying eq.(5) and eq.(5) we will achieve: \n",
    "     </font>\n",
    " </h7> \n",
    " <h3>\n",
    "     <br> \n",
    "    <font color='#454214'>\n",
    "        $\\;\\;\\;\\;\\; \\;\\;\\;\\;\\;\\;\\;\\; \\;\\;\\; = \\frac{y_{ij}}{p_{ij}} \\times p_{ij}(\\delta_{jt} - p_{it})x_{ij} $\n",
    "      \n",
    "   <br><br>\n",
    "    $\\;\\;\\;\\;\\; \\;\\;\\;\\;\\;\\;\\;\\; \\;\\;\\; = y_{ij} \\times p_{ij}(\\delta_{jt} - p_{it}) = y_{ij}(\\delta_{jt} - p_{it})x_{ij} $\n",
    "  </font>\n",
    "  </h3>\n",
    "  <h7>\n",
    "     <font color='#1c5cd9'>\n",
    "         <br>\n",
    "         $\\;\\;\\;\\;\\;\\;\\;\\;\\;\\;\\;\\;\\;\\;\\;\\;\\;\\;\\;\\;\\;\\;\\;\\;\\;\\;$ using Kronecker propeties we can replace symbol $t$ with $j$: then we achieve \n",
    "     </font>\n",
    " </h7> \n",
    "  <h3>\n",
    "    <br><br>\n",
    "    $\\;\\;\\;\\;\\; \\;\\;\\;\\;\\;\\;\\;\\; \\;\\;\\;  = y_{ij}(\\delta_{jj} - p_{ij})x_{ij} $\n",
    "   <br><br>\n",
    "    $\\;\\;\\;\\;\\; \\;\\;\\;\\;\\;\\;\\;\\; \\;\\;\\;  = y_{ij}(1 - p_{ij})x_{ij}$\n",
    "  </font>\n",
    "  </h3>"
   ]
  },
  {
   "cell_type": "markdown",
   "metadata": {},
   "source": [
    "<h7>\n",
    "     <font color='#263a61'>\n",
    "         We achived extrmly simple eqation :\n",
    "         \n",
    "   <font>\n",
    "</h7>    \n",
    "<h2>\n",
    "    <br><br>\n",
    "      $$ \\frac{\\partial L}{\\partial w_{ij}} = y_{ij}(1 - p_{ij})x_{ij}$$ \n",
    "  </font>\n",
    "  </h2>\n",
    "<h7>\n",
    "     <font color='#263a61'>\n",
    "         For bias is just :\n",
    "         \n",
    "   <font>\n",
    "</h7> \n"
   ]
  },
  {
   "cell_type": "markdown",
   "metadata": {},
   "source": [
    "                         <h2>\n",
    "    <br><br>\n",
    "      $$ \\frac{\\partial L}{\\partial b_{j}} = \\sum_i y_{ij}(1 - p_{ij})$$ \n",
    "  </font>\n",
    "  </h2>\n",
    "  <h7>\n",
    "     <font color='#263a61'>\n",
    "         The bias can not be fitted :\n",
    "         \n",
    "   <font>\n",
    "</h7>  "
   ]
  }
 ],
 "metadata": {
  "kernelspec": {
   "display_name": "Python 3",
   "language": "python",
   "name": "python3"
  },
  "language_info": {
   "codemirror_mode": {
    "name": "ipython",
    "version": 3
   },
   "file_extension": ".py",
   "mimetype": "text/x-python",
   "name": "python",
   "nbconvert_exporter": "python",
   "pygments_lexer": "ipython3",
   "version": "3.7.4"
  }
 },
 "nbformat": 4,
 "nbformat_minor": 2
}
