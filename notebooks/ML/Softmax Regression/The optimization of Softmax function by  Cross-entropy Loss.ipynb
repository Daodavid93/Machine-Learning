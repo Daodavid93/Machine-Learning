{
 "cells": [
  {
   "cell_type": "code",
   "execution_count": 1,
   "metadata": {},
   "outputs": [],
   "source": [
    "%matplotlib inline"
   ]
  },
  {
   "cell_type": "code",
   "execution_count": 2,
   "metadata": {},
   "outputs": [],
   "source": [
    "import warnings\n",
    "import datetime\n",
    "\n",
    "import numpy as np\n",
    "import matplotlib.pyplot as plt\n",
    "import pandas as pd\n",
    "import seaborn as sns\n",
    "\n",
    "from sklearn.model_selection import train_test_split\n",
    "from IPython.display import display, Markdown , Math \n"
   ]
  },
  {
   "cell_type": "code",
   "execution_count": 3,
   "metadata": {},
   "outputs": [],
   "source": [
    "def printmd(string): display(Markdown(string))\n",
    "def latex(out): printmd(f'{out}')  \n",
    "def pr(string): printmd('***{}***'.format(string))"
   ]
  },
  {
   "cell_type": "markdown",
   "metadata": {},
   "source": [
    "<h1>\n",
    "   <font size=\"5\" face = \"Times New Roma\" color='#270336'>\n",
    "     The optimization of Softmax function by  Cross-entropy Loss \n",
    "   </font> \n",
    " </h1>"
   ]
  },
  {
   "cell_type": "markdown",
   "metadata": {},
   "source": [
    "<h2>\n",
    "  <p>\n",
    "    <a href =   \"https://github.com/daodavid\" > \n",
    "       <img src=\"https://cdn.thenewstack.io/media/2014/12/github-octocat.png\" align=\"left\" width=\"120\"  alt=\"daodavid\" >\n",
    "    </a>\n",
    "    <font face = \"Times New Roma\" size=\"4\"  color='#270336'>\n",
    "        author: daodeiv (David Stankov) \n",
    "    </font>\n",
    "</p>      \n",
    "</h2>   "
   ]
  },
  {
   "cell_type": "markdown",
   "metadata": {},
   "source": [
    "<h6>\n",
    "  <font size=\"4\" face = \"Times New Roma\" color='#3f134f' > \n",
    "    <ul style=\"margin-left: 30px\">\n",
    "      <li><a href='#abstract'>Abstract </a> </li> <br>\n",
    "      <!--<li><a href='#int-1'>Introduction </a> </li><br> -->\n",
    "      <li><a href='#deff_softmax'>Softmaxt definition and  how it works?</a> </li><br>\n",
    "      <li><a href='#cross_entropy'>Cross-entropy Loss and Gradient Descent</a> </li><br>  \n",
    "      <li><a href='#optimization'>Optimization by Cross-entropy Loss and derivation of Gradient descent formula </a> </li><br>\n",
    "       <li><a href='#gradient'>Implementation of Gradient descent algorithm </a> </li><br> \n",
    "      <li><a href='#reg'>Regularization by learning rate and max iterations</a> </li><br>     \n",
    "        \n",
    "</ul>    \n",
    " </font>\n",
    "  </h6>\n",
    "  "
   ]
  },
  {
   "cell_type": "markdown",
   "metadata": {},
   "source": [
    "<font size=\"1\" id=\"abstract\">... </font> \n",
    "<h2 face = \"Times New Roma\" color='#270336' >&nbsp; Abstract</h2>\n",
    "<br>\n",
    "<font face = \"Times New Roma\" size=\"4.5\"  color='#270336' style=\"margin-right: 45px; margin-left: 45px\" >\n",
    "  &nbsp;&nbsp;&nbsp;&nbsp; &nbsp;&nbsp;&nbsp;&nbsp; This paper contains a mathematical proof and implementation of Gradient Descent formula used as optimization alogithm in Cross-entropy Loss. We will use the Cross-entropy Loss or so-called Softmax Loss as an error function in the process of fitting estimator parameters. This notebook is focused on the mathematics behind softmax regression rather than its application in multi-class classification.We will use the Iris dataset in order to represent the training data process using the softmax implementation. In addition, we will see the experiments related to leaning step and max iterations  </font> <br>\n"
   ]
  },
  {
   "cell_type": "markdown",
   "metadata": {},
   "source": [
    "<h5 id=\"int-1\" style=\"margin-right: 45px; margin-left: 45px\">\n",
    "<font face=\"Times New Roma\" size=\"4\" color='#270336' >\n",
    "      &nbsp;&nbsp;&nbsp;&nbsp; &nbsp;&nbsp;&nbsp;&nbsp;The Softmax function maybe is the most popular Machine learning algorithm basically, it turns arbitrary real values into probabilities, by using the exponential function.  It could be considered a generalization of the sigmoid function that we could use for multi-class classification problems yet the softmax function is met in many various fields of science as statistical physics (Gibbs distributions), Quantum statistic, Information theory, and Neural networks. Softmax is much attractive in classification problems since it has a simple implementation and in most cases gives satisfying results.\n",
    "    </font>\n",
    "</h5>      \n",
    "\n",
    "  "
   ]
  },
  {
   "cell_type": "markdown",
   "metadata": {},
   "source": [
    "<br>\n",
    "<font size=\"4\" color='#270336' face = \"Times New Roma\">\n",
    "  &nbsp;&nbsp; For our purpose, we gonna use the Iris dataset.It is comparatively simple however, it is verry convinient  in Machine Learning styding. \n",
    "<h6> \n",
    "    <font size=\"3\" color='#270336' face = \"Times New Roma\" >\n",
    "        &nbsp;&nbsp; Loading data : <br>\n",
    "</font>    \n",
    "</h6>  \n",
    "  "
   ]
  },
  {
   "cell_type": "code",
   "execution_count": 4,
   "metadata": {},
   "outputs": [
    {
     "data": {
      "text/html": [
       "<div>\n",
       "<style scoped>\n",
       "    .dataframe tbody tr th:only-of-type {\n",
       "        vertical-align: middle;\n",
       "    }\n",
       "\n",
       "    .dataframe tbody tr th {\n",
       "        vertical-align: top;\n",
       "    }\n",
       "\n",
       "    .dataframe thead th {\n",
       "        text-align: right;\n",
       "    }\n",
       "</style>\n",
       "<table border=\"1\" class=\"dataframe\">\n",
       "  <thead>\n",
       "    <tr style=\"text-align: right;\">\n",
       "      <th></th>\n",
       "      <th>sepal_length</th>\n",
       "      <th>sepal_width</th>\n",
       "      <th>petal_length</th>\n",
       "      <th>petal_width</th>\n",
       "      <th>species</th>\n",
       "    </tr>\n",
       "  </thead>\n",
       "  <tbody>\n",
       "    <tr>\n",
       "      <td>0</td>\n",
       "      <td>5.1</td>\n",
       "      <td>3.5</td>\n",
       "      <td>1.4</td>\n",
       "      <td>0.2</td>\n",
       "      <td>Iris-setosa</td>\n",
       "    </tr>\n",
       "    <tr>\n",
       "      <td>1</td>\n",
       "      <td>4.9</td>\n",
       "      <td>3.0</td>\n",
       "      <td>1.4</td>\n",
       "      <td>0.2</td>\n",
       "      <td>Iris-setosa</td>\n",
       "    </tr>\n",
       "    <tr>\n",
       "      <td>2</td>\n",
       "      <td>4.7</td>\n",
       "      <td>3.2</td>\n",
       "      <td>1.3</td>\n",
       "      <td>0.2</td>\n",
       "      <td>Iris-setosa</td>\n",
       "    </tr>\n",
       "    <tr>\n",
       "      <td>3</td>\n",
       "      <td>4.6</td>\n",
       "      <td>3.1</td>\n",
       "      <td>1.5</td>\n",
       "      <td>0.2</td>\n",
       "      <td>Iris-setosa</td>\n",
       "    </tr>\n",
       "    <tr>\n",
       "      <td>4</td>\n",
       "      <td>5.0</td>\n",
       "      <td>3.6</td>\n",
       "      <td>1.4</td>\n",
       "      <td>0.2</td>\n",
       "      <td>Iris-setosa</td>\n",
       "    </tr>\n",
       "  </tbody>\n",
       "</table>\n",
       "</div>"
      ],
      "text/plain": [
       "   sepal_length  sepal_width  petal_length  petal_width      species\n",
       "0           5.1          3.5           1.4          0.2  Iris-setosa\n",
       "1           4.9          3.0           1.4          0.2  Iris-setosa\n",
       "2           4.7          3.2           1.3          0.2  Iris-setosa\n",
       "3           4.6          3.1           1.5          0.2  Iris-setosa\n",
       "4           5.0          3.6           1.4          0.2  Iris-setosa"
      ]
     },
     "execution_count": 4,
     "metadata": {},
     "output_type": "execute_result"
    }
   ],
   "source": [
    "iris = pd.read_csv(\"../../../resources/data/IRIS.csv\")  \n",
    "iris.head()"
   ]
  },
  {
   "cell_type": "code",
   "execution_count": 5,
   "metadata": {},
   "outputs": [
    {
     "data": {
      "text/markdown": [
       "labels value :['Iris-setosa' 'Iris-versicolor' 'Iris-virginica']"
      ],
      "text/plain": [
       "<IPython.core.display.Markdown object>"
      ]
     },
     "metadata": {},
     "output_type": "display_data"
    }
   ],
   "source": [
    "printmd('labels value :' +str(iris['species'].unique()))"
   ]
  },
  {
   "cell_type": "markdown",
   "metadata": {},
   "source": [
    "<h6> \n",
    "    <font size=\"3\" color='#270336' face = \"Times New Roma\" >\n",
    "        &nbsp;&nbsp; Visualizing  data: <br>\n",
    "</font>    \n",
    "</h6>  \n",
    "  "
   ]
  },
  {
   "cell_type": "code",
   "execution_count": 20,
   "metadata": {},
   "outputs": [
    {
     "data": {
      "text/plain": [
       "<seaborn.axisgrid.FacetGrid at 0x237f54829c8>"
      ]
     },
     "execution_count": 20,
     "metadata": {},
     "output_type": "execute_result"
    },
    {
     "data": {
      "image/png": "[encoded data removed]",
      "text/plain": [
       "<Figure size 463.5x360 with 1 Axes>"
      ]
     },
     "metadata": {
      "needs_background": "light"
     },
     "output_type": "display_data"
    }
   ],
   "source": [
    "sns.FacetGrid(iris,hue='species',height=5).map(plt.scatter,'sepal_length','sepal_width').add_legend()\n"
   ]
  },
  {
   "cell_type": "markdown",
   "metadata": {},
   "source": [
    "\n",
    "<font size=\"4\" color='#270336' face = \"Times New Roma\">\n",
    "&nbsp;&nbsp;The class (target)  variable takes a label among 'Iris-setosa', 'Iris-versicolor', 'Iris-virginica'.We will express the label values as one-hot encoding variables or so-called dummies. Representing a non-numerical data into numerical one allows us to use the data in a mathematical equation.\n",
    "</font>    \n",
    "<br> \n"
   ]
  },
  {
   "cell_type": "code",
   "execution_count": 7,
   "metadata": {},
   "outputs": [
    {
     "data": {
      "text/markdown": [
       "***One hode encoding representation***"
      ],
      "text/plain": [
       "<IPython.core.display.Markdown object>"
      ]
     },
     "metadata": {},
     "output_type": "display_data"
    },
    {
     "data": {
      "text/html": [
       "<div>\n",
       "<style scoped>\n",
       "    .dataframe tbody tr th:only-of-type {\n",
       "        vertical-align: middle;\n",
       "    }\n",
       "\n",
       "    .dataframe tbody tr th {\n",
       "        vertical-align: top;\n",
       "    }\n",
       "\n",
       "    .dataframe thead th {\n",
       "        text-align: right;\n",
       "    }\n",
       "</style>\n",
       "<table border=\"1\" class=\"dataframe\">\n",
       "  <thead>\n",
       "    <tr style=\"text-align: right;\">\n",
       "      <th></th>\n",
       "      <th>Iris-setosa</th>\n",
       "      <th>Iris-versicolor</th>\n",
       "      <th>Iris-virginica</th>\n",
       "    </tr>\n",
       "  </thead>\n",
       "  <tbody>\n",
       "    <tr>\n",
       "      <td>0</td>\n",
       "      <td>1</td>\n",
       "      <td>0</td>\n",
       "      <td>0</td>\n",
       "    </tr>\n",
       "    <tr>\n",
       "      <td>1</td>\n",
       "      <td>1</td>\n",
       "      <td>0</td>\n",
       "      <td>0</td>\n",
       "    </tr>\n",
       "    <tr>\n",
       "      <td>2</td>\n",
       "      <td>1</td>\n",
       "      <td>0</td>\n",
       "      <td>0</td>\n",
       "    </tr>\n",
       "    <tr>\n",
       "      <td>3</td>\n",
       "      <td>1</td>\n",
       "      <td>0</td>\n",
       "      <td>0</td>\n",
       "    </tr>\n",
       "    <tr>\n",
       "      <td>4</td>\n",
       "      <td>1</td>\n",
       "      <td>0</td>\n",
       "      <td>0</td>\n",
       "    </tr>\n",
       "  </tbody>\n",
       "</table>\n",
       "</div>"
      ],
      "text/plain": [
       "   Iris-setosa  Iris-versicolor  Iris-virginica\n",
       "0            1                0               0\n",
       "1            1                0               0\n",
       "2            1                0               0\n",
       "3            1                0               0\n",
       "4            1                0               0"
      ]
     },
     "execution_count": 7,
     "metadata": {},
     "output_type": "execute_result"
    }
   ],
   "source": [
    "x_train = iris.drop('species', axis=1)\n",
    "y_train = pd.get_dummies(iris['species'])\n",
    "pr('One hode encoding representation')\n",
    "y_train.head()"
   ]
  },
  {
   "cell_type": "code",
   "execution_count": 8,
   "metadata": {},
   "outputs": [],
   "source": [
    "X_train, X_test, y_train, y_test = train_test_split(x_train,y_train, test_size=0.33, random_state=42) #separats into test and train samples"
   ]
  },
  {
   "cell_type": "code",
   "execution_count": 9,
   "metadata": {},
   "outputs": [
    {
     "data": {
      "text/markdown": [
       "shape of X test data $ X_{M\\times N} =(50, 4)$"
      ],
      "text/plain": [
       "<IPython.core.display.Markdown object>"
      ]
     },
     "metadata": {},
     "output_type": "display_data"
    },
    {
     "data": {
      "text/markdown": [
       "shape of Y test data $ Y_{M\\times N} =(50, 3)$"
      ],
      "text/plain": [
       "<IPython.core.display.Markdown object>"
      ]
     },
     "metadata": {},
     "output_type": "display_data"
    },
    {
     "data": {
      "text/markdown": [
       "shape of X train data $ X_{M\\times N} =(100, 4)$"
      ],
      "text/plain": [
       "<IPython.core.display.Markdown object>"
      ]
     },
     "metadata": {},
     "output_type": "display_data"
    },
    {
     "data": {
      "text/markdown": [
       "shape of Y train data $ Y_{M\\times N} =(100, 3)$"
      ],
      "text/plain": [
       "<IPython.core.display.Markdown object>"
      ]
     },
     "metadata": {},
     "output_type": "display_data"
    }
   ],
   "source": [
    "out = \"shape of X test data \" +r'$ X_{{M\\times N}} ={}$'.format(X_test.shape)\n",
    "latex(out)\n",
    "out =\"shape of Y test data \" +r'$ Y_{{M\\times N}} ={}$'.format(y_test.shape)\n",
    "latex(out)\n",
    "    \n",
    "out =\"shape of X train data \" +r'$ X_{{M\\times N}} ={}$'.format(X_train.shape)\n",
    "latex(out)\n",
    "out =\"shape of Y train data \" +r'$ Y_{{M\\times N}} ={}$'.format(y_train.shape)\n",
    "latex(out)\n"
   ]
  },
  {
   "cell_type": "markdown",
   "metadata": {},
   "source": [
    "<br>\n",
    "<font size=\"3\" color='#270336' face = \"Times New Roma\">  \n",
    "The dataset is split into $X_{M\\times N}$ feature matrix and $Y_{M\\times K}$ target one.Where $M$ is the number of feature vectors match the rows of  dataset. $N$ is the number of components match the columns in dataset.They are also called predictors or attributes.$K$ is equal to the number of  class labels  of target vector.\n",
    "   For our tran data $M = 100$, $N=4$ and $K=3$.<br>\n",
    "</font>\n",
    "<br>\n",
    "<h5 style=\"margin-right: 5px; margin-left: 5px\">\n",
    "<font face=\"Times New Roma\" size=\"3\" color='#270336' >\n",
    "   !!!  Index convetions. When we write $Q_{lh}$ or $q_{ih}$ we will mean the one element of matrix $Q_{M\\times N}$ where $l$ is row $h$ is column.When we write $Q^{i}$  or  $q_{i}$ we  will assume as vector row  $\\vec Q^{i}= [q_{i1},q_{i2},...q_{in}]\\in Q_{m\\times n}$\n",
    "</font>\n",
    "</h5>      "
   ]
  },
  {
   "cell_type": "markdown",
   "metadata": {},
   "source": [
    "<font size=\"1\" id=\"deff_softmax\">... </font> \n",
    "<h2 face = \"Times New Roma\" color='#270336' >&nbsp; Softmaxt definition and  how it works?</h2>\n",
    "\n",
    "<br> \n",
    "<font  size=\"4\" color='#270336' face = \"Times New Roma\">\n",
    "  &nbsp;&nbsp;&nbsp;&nbsp;  The softmax function $\\sigma: \\; \\Re^k \\; \\rightarrow \\; \\Re^k $  could be define by formula :\n",
    "</font>    "
   ]
  },
  {
   "cell_type": "markdown",
   "metadata": {},
   "source": [
    "\n",
    "<font size=\"5\" color='#4a3e20'>\n",
    "    $$ \\sigma_{softmax (W,b,X^{i})_{ij}}=\\frac{e^{ \\sum_p x_{ip} w_{pj} + b_j}}{\\sum_j^k e^{ \\sum_p x_{ip} w_{pj} + b_j}} $$ \n",
    "</font>   \n",
    "\n",
    "\n"
   ]
  },
  {
   "cell_type": "markdown",
   "metadata": {},
   "source": [
    "\n",
    "<h5>\n",
    "<font size=\"3\" color='#270336' face = \"Times New Roma\">\n",
    "  if we write :\n",
    "</font>    \n",
    "</h5>\n",
    "\n",
    "<font  size=\"3\" color='#4a3e20' >  \n",
    " $\\; \\; z_{ij} = \\sum_p x_{ip} w_{jp} + b_j $ \n",
    " <br>\n",
    " $\\; \\; \\vec{z_i} = z^i= [z_{i1},...z_{ik} ] $\n",
    "</font>  \n",
    "\n",
    "<h5 >\n",
    "<font size=\"3\" color='#270336' face = \"Times New Roma\">\n",
    " We can rewrite the eq. as  :\n",
    "</font> \n",
    "</h5>    \n"
   ]
  },
  {
   "cell_type": "markdown",
   "metadata": {},
   "source": [
    " <font size=\"5\" id=\"deff_softmax\" color='#4a3e20'>\n",
    "    $$ (1) \\;\\; \\sigma_{softmax}({z^i})_{ij} =\\frac {e^{z_{ij}} }{ \\sum_i^k e^{z_{ik}} } $$ \n",
    "  </font>\n",
    "  <br>"
   ]
  },
  {
   "cell_type": "markdown",
   "metadata": {},
   "source": [
    "<font size=\"3\" color='#270336' face = \"Times New Roma\" > \n",
    "  The softmax function  takes as an input a vector $z^i$ with $K$ number of component $z_{i1},...,z{ik}$, and normalized it into  a  probability distribution $p^{i}$ consisting of  $K$ number of probabilities  $p_{i1},...,{ik}$ proportional to exponentials of input values.That is, prior to applying softmax function some vector components could be negative or greater than one and  might not sum up to 1.\n",
    "Furthermore more the larger input components correspond to larger probabilities and $\\sum_j p_{ij}=1$, $w_{jp}$ are the wights or estimators  $w_{pj}\\in W^{K\\times N}$ In matrix  $W^{K\\times N}$ $K$ coresponds to number of class labels and  $N$ coresponds to number of atrribute(feature) of training data, and $ b = [b_1, ...b_k]$ is bais term with component coresponds to class labels. \n",
    " </font> "
   ]
  },
  {
   "cell_type": "markdown",
   "metadata": {},
   "source": [
    "\n",
    "<br>\n",
    "<font size=\"4\" color='#270336'  face = \"Times New Roma\">\n",
    "    According to our data set, we can write the folowing expression.\n",
    "  </font>\n",
    "\n",
    "   "
   ]
  },
  {
   "cell_type": "markdown",
   "metadata": {},
   "source": [
    " <font size=\"3\" color='#4a3e20' >  <br>  \t\n",
    "      &nbsp;&nbsp;&nbsp;&nbsp;   $ W= \\begin{bmatrix} \n",
    "      weight^1\\rightarrow class \\; 1(Iris-setosa)\n",
    "      \\\\ weight^2\\rightarrow class\\;  2(Iris-versicolor) \\;  \n",
    "      \\\\ weight^{3}\\rightarrow class \\;3(Iris-virginica) \\;\n",
    "      \\end{bmatrix} =\n",
    "    \\begin{bmatrix}\n",
    "    \\vec W^1 \\\\  \\vec W^2\\  \\\\ \\vec W^3  \\end{bmatrix} =\n",
    "    \\begin{bmatrix} \n",
    "    w_{11} & w_{12} & w_{13} & w_{14}\n",
    "    \\\\ w_{21} & w_{22} & w_{23}  & w_{24}\n",
    "    \\\\ w_{31} & w_{32} & w_{33} & w_{34}\n",
    "    \\end{bmatrix}  $ &nbsp;&nbsp;&nbsp;&nbsp;  $ B= \\begin{bmatrix}  b_1 \\\\  b_2\\  \\\\  b_3  \\end{bmatrix}\\;\\;\\;$\n",
    "   </font>\n",
    "   \n",
    "<h5 style=\"margin-right: 45px; margin-left: 45px\">\n",
    "<font size=\"2\" color='#270336' face = \"Times New Roma\">\n",
    "  &nbsp;&nbsp;&nbsp;&nbsp; &nbsp;&nbsp;&nbsp;&nbsp;&nbsp;&nbsp; vector $\\vec W^i=[w_{i1},..w_{in}]$ is estimator vecotor for class $i$ , $n$ coresponds to the feature of $X$ (attribute).\n",
    "</font>   \n",
    "</h5>  "
   ]
  },
  {
   "cell_type": "markdown",
   "metadata": {},
   "source": [
    "<br>\n",
    "<font size=\"3\" color='#270336'  face = \"Times New Roma\">\n",
    "     &nbsp;&nbsp; and the $Z$ in matrix is written as : $Z = XW^T$ \n",
    " </font>\n",
    " <br> <br>\n",
    "  <font size=\"3\" color='#4a3e20' >\n",
    "  &nbsp;&nbsp;&nbsp;&nbsp;  $Z = \n",
    "    \\begin{bmatrix} x_{11} &  x_{12} & x_{13}  & x_{14} \\\\  x_{21} &  x_{22} & x_{23}  & x_{24}\\\\ ... & ... & ... & ...\\\\ x_{m1} &  x_{m2} & x_{m3}  & x_{m4} \\end{bmatrix} \\times \\begin{bmatrix}\n",
    "    w_{11} & w_{21} & w_{31} \n",
    "    \\\\ w_{12} & w_{22} & w_{32} \n",
    "    \\\\  w_{13} & w_{23} & w_{33}\n",
    "     \\\\  w_{14} & w_{24} & w_{34}\n",
    "    \\end{bmatrix} + \\begin{bmatrix}  b_1 \\\\  b_2\\  \\\\  b_3  \\end{bmatrix}  =   \\begin{bmatrix} z_{11} &  z_{12} & z_{13} \\\\  z_{21} &  z_{32} & z_{33} \\\\ ... & ... & ...  \\\\ z_{m1} &  z_{m2} & z_{m3}  \\end{bmatrix} $ <br>   \n",
    "   </font>\n",
    "</h1>   \n"
   ]
  },
  {
   "cell_type": "markdown",
   "metadata": {},
   "source": [
    "<h7>\n",
    "<font size=\"3\" color='#270336'>  \n",
    "   &nbsp;&nbsp; The softmax function computes the probability that a training example $X^{(i)}$  belongs to class $y^{j}$ given \n",
    "    the weight  matrix $W$ and bias $\\vec b$ . <br> \n",
    "    So we compute the probability : <br>\n",
    "  </font>\n",
    "  <font size=\"3\" color='#4a3e20' >\n",
    "      $$p_{ij}=P(y^{j} \\;| \\;z^i) = \\sigma_{softmax (z)_{ij}}=\\frac{e^{z_{ij}}}{\\sum_p^K e^{z_{ip}}} $$\n",
    "   </font>   \n",
    "</h7>    "
   ]
  },
  {
   "cell_type": "markdown",
   "metadata": {},
   "source": [
    "<font size=\"3\" color='#270336' > \n",
    "    &nbsp;&nbsp; In a matrix for all $P_{ij}$ given our data $Y = [y^1 -Iris-setosa,y^2 -Iris-versicolor,y^3- Iris-virginica]$\n",
    " </font> <br>   "
   ]
  },
  {
   "cell_type": "markdown",
   "metadata": {},
   "source": [
    "<h1>\n",
    "<font size=\"3\" color='#4a3e20' >\n",
    "   $ P = \\begin{bmatrix} p(y_{1} |z^{1})_{11} &  p(y_{2} |z_{2} )_{12}  &  p(y^{3}  |z^{3} )_{13} \n",
    "        \\\\ ... &  ...  & ...\n",
    "        \\\\ P(y_{1} |z^{m}  )_{m1} &  P(y_{m}  |z^{m}  )_{m2}  & P(y_{3}  |z^{m} )_{m3}\n",
    "        \\end{bmatrix} = \n",
    "        \\begin{bmatrix} \\frac{e^{z_{11}}}{\\sum_{1j}e^{z_{1j}}} & \\frac{e^{z_{12}}}{\\sum_{1j}e^{z_{1j}}} & \\frac{e^{z_{13}}}{\\sum_{1j}e^{z_{1j}}} \n",
    "        \\\\   \\\\ ... & ... & ...  \\\\\n",
    "        \\\\    \\frac{e^{k_{n1}}}{\\sum_{j}^3e^{z_{nj}}} & \\frac{e^{z_{n2}}}{\\sum_{j}^3e^{z_{nj}}} & \\frac{e^{z_{n3}}}{\\sum_{j}^3e^{z_{nj}}}\\end{bmatrix} $\n",
    "</h1>        "
   ]
  },
  {
   "cell_type": "markdown",
   "metadata": {},
   "source": [
    "<font size=\"3\" color='#270336' face = \"Times New Roma\"> \n",
    "  for example, the probability record $x^1$ from dataset to belongs to class  $y_2$ (Iris-versicolor) will be calculated as:\n",
    "  </font>\n",
    "  <br> <br> \n",
    "  <font size=\"4\" color='#270336'>\n",
    "     $$p_{12} =P(y=2 |x^{1}) = \\frac{ e^{ ^{z_{12}} } }{ \\sum_p^3 e^{z_{1p}}}=\\frac{ e^{ (^{\\sum_v^3 x_{1v}.w_{vj} + b_v }} )}{ \\sum_k^3 e^{ ^ ({\\sum_v^3 x_{1v}.w_{vk}} + b_k})}$$\n",
    "  </font>\n",
    "  <h5 style=\"margin-right: 45px; margin-left: 45px\">\n",
    "<font size=\"2\" color='#270336' face = \"Times New Roma\">\n",
    "    always the $p_{ij} \\in [0,1]$   and $\\sum_j p_{ij}= 1$\n",
    "    </font>\n",
    "<h5>    \n",
    " "
   ]
  },
  {
   "cell_type": "markdown",
   "metadata": {},
   "source": [
    "<font size=\"3\" color='#270336'  face = \"Times New Roma\">\n",
    "    &nbsp; Let to see how the softmax function  can be applied concretely in our training dataset :\n",
    "             First, let to define a weight matrix $W$ and bias $\\vec b$ <br> <br>\n",
    " <font>  \n",
    "   <font size=\"3\" color='#4a3e20' >\n",
    "   &nbsp;&nbsp;    $W =\\begin{bmatrix} \n",
    "    w_{11} & w_{12} & w_{13} & w_{14}\n",
    "    \\\\ w_{21} & w_{22} & w_{23}  & w_{24}\n",
    "    \\\\ w_{31} & w_{32} & w_{33} & w_{34}\n",
    "    \\end{bmatrix} \n",
    "    =  \\begin{bmatrix} 1.13912853 & 1.36806065 & 0.44595227 &0.74652812\n",
    "              \\\\1.018221  & 0.85803142& 1.15116108 &1.00726296\n",
    "              \\\\0.84265048 & 0.77390793& 1.40288666& 1.24620892\\end{bmatrix}$\n",
    "     &nbsp;&nbsp; $B = \\begin{bmatrix}  b_1 \\\\  b_2\\  \\\\  b_3  \\end{bmatrix} = \\begin{bmatrix} 1.07521097 \\\\1.00883369 \\\\0.91595534 \\end{bmatrix} $\n",
    "</font>     \n",
    "\n",
    "       "
   ]
  },
  {
   "cell_type": "markdown",
   "metadata": {},
   "source": [
    "<h5 style=\"margin-right: 45px; margin-left: 45px\">\n",
    "<font size=\"3\" color='#270336' face = \"Times New Roma\">\n",
    " I've prepared weight vector $W$ and bias $B$ in advance, how? We will see later.\n",
    "</font>    \n",
    "</h5>"
   ]
  },
  {
   "cell_type": "code",
   "execution_count": 19,
   "metadata": {},
   "outputs": [],
   "source": [
    "W = np.array([[1.13912853, 1.36806065, 0.44595227, 0.74652812],\n",
    "              [1.018221,   0.85803142, 1.15116108, 1.00726296],\n",
    "              [0.84265048, 0.77390793, 1.40288666, 1.24620892]]) # define a weight matrix\n",
    "\n",
    "b = np.array([1.07521097, 1.00883369, 0.91595534])  #bias vector (intercept) "
   ]
  },
  {
   "cell_type": "markdown",
   "metadata": {},
   "source": [
    "<h5 style=\"margin-right: 45px; margin-left: 45px\">\n",
    "<font size=\"3\" color='#270336' face = \"Times New Roma\">\n",
    "         The implementation of softmax function: <br>\n",
    "</font>    \n",
    "</h5>  "
   ]
  },
  {
   "cell_type": "code",
   "execution_count": 11,
   "metadata": {},
   "outputs": [],
   "source": [
    "def softmax(X, weight, b):\n",
    "    '''\n",
    "    perform softmax function\n",
    "    \n",
    "    Parameters :\n",
    "    X : ndarray\n",
    "       train data\n",
    "    weight : ndarray\n",
    "       weght matrix\n",
    "    b : ndarray \n",
    "        bias vector        \n",
    "\n",
    "    Returns \n",
    "       ndarray \n",
    "    '''\n",
    "    if type(X) != np.ndarray or type(W) != np.ndarray or type(b) != np.ndarray: \n",
    "        raise ValueError('X and y must be ndarray')\n",
    "    #dot product between X_data matrix  and tranposed Weight_ matrix added to Bias  gives matrix each z_ij\n",
    "    Z = X.dot(weight.T)\n",
    "\n",
    "    #return matrix cosist of exponentials Z input net\n",
    "    exp_z = np.exp(Z)\n",
    "\n",
    "    #array contains sum  of every row  (e^z_{ik})\n",
    "    sums=np.sum(exp_z, axis=1) \n",
    "    \n",
    "    #return softmax(Z)_{ij}\n",
    "    return (exp_z.T/sums).T \n",
    "\n",
    "\n",
    "def accuracy(Y, P):\n",
    "    '''\n",
    "    evualate accuracy of dummies variable\n",
    "    \n",
    "    Parameters :\n",
    "    Y_target : ndarray\n",
    "      actual real values \n",
    "    P : ndarray\n",
    "     predicted values (probability)\n",
    "    Return\n",
    "      float\n",
    "    '''\n",
    "    if type(Y) != np.ndarray or type(P) != np.ndarray: \n",
    "        raise ValueError('X and y must be ndarray')\n",
    "        \n",
    "    C =  np.argmax(Y, axis=1)==np.argmax(P, axis=1)\n",
    "    D = np.where(C==True)\n",
    "    return len(D[0])/len(C)"
   ]
  },
  {
   "cell_type": "code",
   "execution_count": 12,
   "metadata": {},
   "outputs": [
    {
     "data": {
      "text/markdown": [
       "original data label $ Y_{M\\times N} :$"
      ],
      "text/plain": [
       "<IPython.core.display.Markdown object>"
      ]
     },
     "metadata": {},
     "output_type": "display_data"
    },
    {
     "data": {
      "text/html": [
       "<div>\n",
       "<style scoped>\n",
       "    .dataframe tbody tr th:only-of-type {\n",
       "        vertical-align: middle;\n",
       "    }\n",
       "\n",
       "    .dataframe tbody tr th {\n",
       "        vertical-align: top;\n",
       "    }\n",
       "\n",
       "    .dataframe thead th {\n",
       "        text-align: right;\n",
       "    }\n",
       "</style>\n",
       "<table border=\"1\" class=\"dataframe\">\n",
       "  <thead>\n",
       "    <tr style=\"text-align: right;\">\n",
       "      <th></th>\n",
       "      <th>Iris-setosa</th>\n",
       "      <th>Iris-versicolor</th>\n",
       "      <th>Iris-virginica</th>\n",
       "    </tr>\n",
       "  </thead>\n",
       "  <tbody>\n",
       "    <tr>\n",
       "      <td>71</td>\n",
       "      <td>0</td>\n",
       "      <td>1</td>\n",
       "      <td>0</td>\n",
       "    </tr>\n",
       "    <tr>\n",
       "      <td>106</td>\n",
       "      <td>0</td>\n",
       "      <td>0</td>\n",
       "      <td>1</td>\n",
       "    </tr>\n",
       "    <tr>\n",
       "      <td>14</td>\n",
       "      <td>1</td>\n",
       "      <td>0</td>\n",
       "      <td>0</td>\n",
       "    </tr>\n",
       "    <tr>\n",
       "      <td>92</td>\n",
       "      <td>0</td>\n",
       "      <td>1</td>\n",
       "      <td>0</td>\n",
       "    </tr>\n",
       "    <tr>\n",
       "      <td>102</td>\n",
       "      <td>0</td>\n",
       "      <td>0</td>\n",
       "      <td>1</td>\n",
       "    </tr>\n",
       "  </tbody>\n",
       "</table>\n",
       "</div>"
      ],
      "text/plain": [
       "     Iris-setosa  Iris-versicolor  Iris-virginica\n",
       "71             0                1               0\n",
       "106            0                0               1\n",
       "14             1                0               0\n",
       "92             0                1               0\n",
       "102            0                0               1"
      ]
     },
     "execution_count": 12,
     "metadata": {},
     "output_type": "execute_result"
    }
   ],
   "source": [
    "out = \"original data label \" +r'$ Y_{{M\\times N}} :$'.format(X_test.shape)\n",
    "latex(out)\n",
    "y_train.tail()"
   ]
  },
  {
   "cell_type": "code",
   "execution_count": 13,
   "metadata": {},
   "outputs": [
    {
     "data": {
      "text/markdown": [
       "predicted data label $ P_{M\\times N} :$"
      ],
      "text/plain": [
       "<IPython.core.display.Markdown object>"
      ]
     },
     "metadata": {},
     "output_type": "display_data"
    },
    {
     "data": {
      "text/html": [
       "<div>\n",
       "<style scoped>\n",
       "    .dataframe tbody tr th:only-of-type {\n",
       "        vertical-align: middle;\n",
       "    }\n",
       "\n",
       "    .dataframe tbody tr th {\n",
       "        vertical-align: top;\n",
       "    }\n",
       "\n",
       "    .dataframe thead th {\n",
       "        text-align: right;\n",
       "    }\n",
       "</style>\n",
       "<table border=\"1\" class=\"dataframe\">\n",
       "  <thead>\n",
       "    <tr style=\"text-align: right;\">\n",
       "      <th></th>\n",
       "      <th>Iris-setosa</th>\n",
       "      <th>Iris-versicolor</th>\n",
       "      <th>Iris-virginica</th>\n",
       "    </tr>\n",
       "  </thead>\n",
       "  <tbody>\n",
       "    <tr>\n",
       "      <td>95</td>\n",
       "      <td>0.155403</td>\n",
       "      <td>0.419975</td>\n",
       "      <td>0.424622</td>\n",
       "    </tr>\n",
       "    <tr>\n",
       "      <td>96</td>\n",
       "      <td>0.062757</td>\n",
       "      <td>0.360841</td>\n",
       "      <td>0.576402</td>\n",
       "    </tr>\n",
       "    <tr>\n",
       "      <td>97</td>\n",
       "      <td>0.822160</td>\n",
       "      <td>0.130184</td>\n",
       "      <td>0.047656</td>\n",
       "    </tr>\n",
       "    <tr>\n",
       "      <td>98</td>\n",
       "      <td>0.138449</td>\n",
       "      <td>0.418586</td>\n",
       "      <td>0.442965</td>\n",
       "    </tr>\n",
       "    <tr>\n",
       "      <td>99</td>\n",
       "      <td>0.036041</td>\n",
       "      <td>0.366646</td>\n",
       "      <td>0.597314</td>\n",
       "    </tr>\n",
       "  </tbody>\n",
       "</table>\n",
       "</div>"
      ],
      "text/plain": [
       "    Iris-setosa  Iris-versicolor  Iris-virginica\n",
       "95     0.155403         0.419975        0.424622\n",
       "96     0.062757         0.360841        0.576402\n",
       "97     0.822160         0.130184        0.047656\n",
       "98     0.138449         0.418586        0.442965\n",
       "99     0.036041         0.366646        0.597314"
      ]
     },
     "execution_count": 13,
     "metadata": {},
     "output_type": "execute_result"
    }
   ],
   "source": [
    "latex(\"predicted data label \" +r'$ P_{{M\\times N}} :$'.format(X_test.shape))\n",
    "predict = softmax(np.array(X_train),W,b)\n",
    "predict = pd.DataFrame(predict,columns = ['Iris-setosa', 'Iris-versicolor','Iris-virginica'])\n",
    "predict.tail()"
   ]
  },
  {
   "cell_type": "code",
   "execution_count": 14,
   "metadata": {},
   "outputs": [
    {
     "data": {
      "text/markdown": [
       "***accuracy : 0.68***"
      ],
      "text/plain": [
       "<IPython.core.display.Markdown object>"
      ]
     },
     "metadata": {},
     "output_type": "display_data"
    }
   ],
   "source": [
    "a =accuracy(np.array(y_train),np.array(predict))\n",
    "pr('accuracy : '+str(a))"
   ]
  },
  {
   "cell_type": "markdown",
   "metadata": {},
   "source": [
    "<br>\n",
    "<font  size=\"3\" color='#270336'  face = \"Times New Roma\">\n",
    "  From $P_{{M\\times N}}$ output let to consider the first row : <br> <br>\n",
    "            $P'_{71,1} = 0.17 \\rightarrow  $ has  $17$% chance that record $x^{71}$ belongs to class 1 'iris-setosa' <br> \n",
    "            $P'_{71,2} = 0.43 \\rightarrow  $ has $43$% chance that record row $x^{71}$ belongs to class 2 'Iris-versicolor' <br> \n",
    "            $Y'_{71,3} = 0.39 \\rightarrow  $ has $39$% chance that record $x^{71}$ belongs to class 3 'Iris-virginica'<br> \n",
    "            <br>\n",
    "      From above result we can conclude : <br>\n",
    "      We cannot be too sure which is the class that record belongs $X_{71}$. Its second column has $43$% chance which is the biggest one therefore, we would assume that record belongs to class 'Iris-versicolor'in fact, that is actually correct .By applying the evaluation process for all results we can validate that the weight matrix $W_{M \\times N}$ have given the $80$% accuracy.\n",
    "</font>\n",
    "<h6> \n",
    "  <font size=\"3\" color='#270336' face = \"Times New Roma\" >\n",
    "     &nbsp;&nbsp; &nbsp;&nbsp;How have I  found the weight matrix $W$ and bias $B$ ? \n",
    "</font>  \n",
    " </h6>\n",
    " <font size=\"3\" color='#270336'  face = \"Times New Roma\">\n",
    "Just I used the <mark>LogisticRegression</mark> from <mark>scikit-learn</mark> and took the coefficients, but our main purpose is to understand the way   of finding the weight $W$ and bias $\\vec b$ . \n",
    "</font>\n",
    "\n",
    "\n",
    "       "
   ]
  },
  {
   "cell_type": "markdown",
   "metadata": {},
   "source": [
    "<font size=\"1\" id=\"cross_entropy\">... </font> \n",
    "<\n",
    "<h2 color='#270336' face = \"Times New Roma\" >&nbsp; Cross-entropy Loss and Gradient Descent</h2>\n",
    "<br>\n",
    "<font size=\"3\" color='#270336' face = \"Times New Roma\">\n",
    "      &nbsp;&nbsp;&nbsp;&nbsp; &nbsp;&nbsp;&nbsp;&nbsp;In order to find the $W$ matrix we will introduce the error function, wich we minimaize.The error function \n",
    "        wich we will use in Softmax regression is called Cross-Entropy Loss or Sofmax Loss  defined as: \n",
    " <font>   "
   ]
  },
  {
   "cell_type": "markdown",
   "metadata": {},
   "source": [
    "<br> <br>   \n",
    "  <font size=\"5\" color='#4a3e20' >\n",
    "    $$ (2)\\;\\; L(W,b)=-\\sum_i^m\\sum_j^k y_{ij} \\log (p(Z)_{ij})$$ <br> <br>  \n",
    "  </font>\n",
    " <h5 style=\"margin-right: 45px; margin-left: 45px\">\n",
    "<font size=\"2\" color='#270336' face = \"Times New Roma\">\n",
    "  &nbsp;&nbsp;&nbsp;&nbsp; &nbsp;&nbsp;&nbsp;&nbsp;&nbsp;&nbsp;\n",
    "    Where $m$ is a count of records , $k$ is  count of classes $y_{ij}$ is label values , $p_{ij}=\\phi_{softmax}(Z)_{ij}$ are  $Y'_{ij}$ predicited class  values, $W$ is weight matrix and $b$ bias. \n",
    "  </font>   \n",
    "</h5>   "
   ]
  },
  {
   "cell_type": "markdown",
   "metadata": {},
   "source": [
    "<font size=\"3\" color='#270336' face = \"Times New Roma\">\n",
    "    Why will we use these Loss function is a question which brings by itself much reading and investigations.Here <a href='https://daodavid.github.io/Machine-Learning/pages/html/ML/logistic-regression/Cross-entropy%20function.Investigation%20and%20gradient%20descent.html'>cross-entropy</a> there are some examples and investigations related to Minimum cross-entropy used in  Sigmoid regression. That can give you some intuitions.<br>\n",
    "Out goal is to mimimaize the eq.(2) in order to find best estimators   $w_{ij}\\in W$ and $b_j$ given \n",
    " a training data $X$  and a label data $Y$. <br>\n",
    "    To do that we will apply well known Gradient descent as a optimization model. \n",
    "    Note that, the eq.(2) is the function of all weights $w_{ij}$, bias $b_j$ all training data X and label data Y.        \n",
    " </font>\n",
    "\n",
    "  "
   ]
  },
  {
   "cell_type": "markdown",
   "metadata": {},
   "source": [
    "<font size=\"4\" color='#270336' face = \"Times New Roma\"> \n",
    "  &nbsp;&nbsp;  Gradient descent is defined as  : \n",
    "</font>\n",
    "<br>    \n",
    "<font size=\"3\" color='#4a3e20' >   \n",
    "    $$ \\;  \\; \\;  \\; \\; \\; \\;\\begin{matrix} w_{ij} = w_{ij} - \\lambda \\nabla w_{ij}L(W,b) \\\\  \\\\ b_{j} = b_j - \\lambda\\nabla b_{j}L(W,b)\n",
    "       \\end{matrix} $$ \n",
    "</font>\n",
    "\n",
    "<h5 >\n",
    "&nbsp;&nbsp;&nbsp;&nbsp; &nbsp;&nbsp;&nbsp;&nbsp;&nbsp;&nbsp; <font size=\"3\" color='#270336' face = \"Times New Roma\">\n",
    "where  $\\lambda$ is learning rate or step size \n",
    "  </font>   \n",
    "</h5>   \n"
   ]
  },
  {
   "cell_type": "markdown",
   "metadata": {},
   "source": [
    "<h7>\n",
    "    <font size=\"3\" color='#270336' face = \"Times New Roma\">\n",
    "&nbsp;&nbsp;  Plug in eq.(2) in  gradient descent we achive the general formula : \n",
    "</font>\n",
    "    <br>\n",
    "    <font size=\"4\" color='#4a3e20' >   \n",
    "     $$(3) \\;  \\; \\;  \\; \\; \\; \n",
    "   \\begin{matrix} \\nabla w_{ij}L(W,b)   &=  \\nabla w_{ij}L(W,b) -\\frac{\\partial}{\\partial w_{ij}}\\Big(\\sum_k^m\\sum_n^n y_{mn} \\log {p_{mn}}\\Big) \\\\  \\\\\n",
    "     \\nabla b_{j}L(W,b) & = \\nabla b_{j}L(W,b)  - \\frac{\\partial}{\\partial b_{j}}\\Big(\\sum_k^m\\sum_n^n y_{mn} \\log{p_{mn}}\\Big)\n",
    "       \\end{matrix} $$\n",
    "</font>"
   ]
  },
  {
   "cell_type": "markdown",
   "metadata": {},
   "source": [
    "<font size=\"3\" color='#270336' face = \"Times New Roma\"> \n",
    "   Before we take up  with  $\\nabla w_{ij}L(W,b)$. We gonna introduce some math technics which will make our work easier.\n",
    "   <br>\n",
    "   For simplicity in the summation process of indices, we will introduce a <a href='http://physics.csusb.edu/~prenteln/notes/vc_notes.pdf'>Kronecker symbol</a> .<br>   <br>\n",
    "</font>\n",
    "<font size=\"3\" color='#4a3e20' >  \n",
    "       $$\\delta_{ij} =    \n",
    "         \\begin{equation}\n",
    "   \\begin{Bmatrix} \n",
    "   1 & if \\; i=j  \\\\\n",
    "   0 & if \\; i\\ne j  \n",
    "    \\end{Bmatrix} \n",
    "\\end{equation}$$\n",
    "  <br><br>\n",
    "          $$ \\delta_{ij} = \\begin{bmatrix} 1 & 0 & 0  \\\\ 0 & 1 & 0 \\\\  0 & 0 & 1 \\end{bmatrix}$$\n",
    "   </font>\n",
    "<font size=\"3\" color='#270336' face = \"Times New Roma\">  \n",
    "   In many places in the coming sum operations over indexes we will miss the $\\sum$ symbol, just it will be avoided(hidden) according to the .<a href='https://en.wikipedia.org/wiki/Einstein_notation'>Einstein summation convention</a> .<br>\n",
    "       For example, the equation. \n",
    "</font>\n"
   ]
  },
  {
   "cell_type": "markdown",
   "metadata": {},
   "source": [
    "<h7>\n",
    "    <font size=\"2\" color='#270336'>  \n",
    "   $$z_{ij} = \\sum_p^3 x_{ip} w_{jp} + b_j $$ \n",
    "</font>\n",
    "<font size=\"3\" color='#270336' face = \"Times New Roma\">  \n",
    "     by applying the  Enstein convetion we could rewrite it as : <br>\n",
    "</font>\n",
    "</h7>"
   ]
  },
  {
   "cell_type": "markdown",
   "metadata": {},
   "source": [
    "<h7>\n",
    "    <font size=\"2\" color='#270336'> \n",
    "   $$z_{ij} = x_{ip} w_{jp} + b_j$$  \n",
    "</font>\n",
    "<font size=\"3\" color='#270336' face = \"Times New Roma\">   \n",
    "     The sign $\\sum_p^3$ is miss.The sumation over p  is implied(by default) because p is repeated twice.Every time when there are repeatable indices that is the indicator for exist of $\\sum$  which is just missing(The sum sign  is not written).\n",
    "</font>\n",
    "</h7>\n"
   ]
  },
  {
   "cell_type": "markdown",
   "metadata": {},
   "source": [
    "<h5 style=\"margin-right: 45px; margin-left: 45px\">\n",
    "<font size=\"4\" color='#270336' face = \"Times New Roma\">\n",
    " &nbsp;&nbsp; Now we gonna to resolve the eqs.(3)\n",
    "  </font>   \n",
    "</h5>   \n"
   ]
  },
  {
   "cell_type": "markdown",
   "metadata": {},
   "source": [
    "<font size=\"1\" id=\"optimization\">... </font> \n",
    "<h2 color='#270336' face = \"Times New Roma\" >&nbsp; Optimization of Cross-entropy Loss and derivation of Gradient descent formula</h2>\n",
    "<br><br>\n",
    "<font size=\"4\" color='#270336' face = \"Times New Roma\">\n",
    "      &nbsp;&nbsp;&nbsp;&nbsp; &nbsp;&nbsp;&nbsp;&nbsp;In order to minimize the entropy of data, we must to take up with minimizatin of Cross entropy loss respect to $w_{ij}$.The cross-etropy Loss is a function of all feature vectors $X_{M\\times N}$ ,all labels $X_{M\\times K}$ , weight $W_{K\\times N}$ and bias $B_K$ <br> $L = L(X,T,W,B)$"
   ]
  },
  {
   "cell_type": "markdown",
   "metadata": {},
   "source": [
    "<h1>\n",
    " <font size=\"4\" color='#4a3e20' >    \n",
    " &nbsp;&nbsp; &nbsp;&nbsp; &nbsp;&nbsp; &nbsp;&nbsp;$\\frac{\\partial L}{\\partial w_{ij}}=-\\frac{\\partial}{\\partial w_{ij}}\\Big(\\sum_k\\sum_n y_{mn} \\log {p_{mn}}\\Big)$\n",
    " $=\\sum_k\\sum_n y_{mn}\\frac{\\partial \\log {p_{mn}}}{\\partial w_{ij}}$ \n",
    "  </font>\n",
    "</h1>     "
   ]
  },
  {
   "cell_type": "markdown",
   "metadata": {},
   "source": [
    "<h1>\n",
    " <font size=\"4\" color='#4a3e20' >    \n",
    " &nbsp;&nbsp; &nbsp;&nbsp; &nbsp;&nbsp; &nbsp;&nbsp;  &nbsp;&nbsp; &nbsp;&nbsp; &nbsp;&nbsp;$=-\\sum_m\\sum_n\\frac{y_{mn}}{p_{mn}}\\frac{\\partial  p_{mn}}{\\partial w_{ij}} $ \n",
    "            $=\\sum_m\\sum_n \\frac{y_{mn}}{p_{mn}}\\frac{\\partial  p_{mn}}{\\partial z_{vp}}\\frac{\\partial  z_{vp}}{\\partial w_{ij}} $\n",
    " </font>\n",
    "</h1> "
   ]
  },
  {
   "cell_type": "markdown",
   "metadata": {},
   "source": [
    "<h5 style=\"margin-right: 50px; margin-left: 160px\">\n",
    "<font face=\"Times New Roma\" size=\"3\" color='#270336' >\n",
    "since  $z_{vp} = f(w_{pi}) \\Rightarrow \\frac{\\partial  z_{vp}}{\\partial w_{ij}} = 0\\;$ if $\\; p\\ne i$ then  we can  write $ \\frac{\\partial  z_{vp}}{\\partial w_{ij}}=\\delta_{pi}\\frac{\\partial  z_{vp}}{\\partial w_{ij}}$ \n",
    "      and  $p_{mn} = f(z_{mv}) \\Rightarrow \\frac{\\partial  z_{vp}}{\\partial w_{ij}} = 0$ if $ m\\ne v $ then  we  can  write  $\\frac{\\partial p_{mn}}{\\partial z_{vp}}=\\delta_{mv}\\frac{\\partial  p_{mn}}{\\partial z_{vp}}  $ \n",
    "   plug in our equation we will achieve \n",
    "    </font>\n",
    "</h5>    "
   ]
  },
  {
   "cell_type": "markdown",
   "metadata": {},
   "source": [
    "<h1>\n",
    " <font size=\"4\" color='#4a3e20' >  \n",
    "     &nbsp;&nbsp; &nbsp;&nbsp; &nbsp;&nbsp; &nbsp;&nbsp;  &nbsp;&nbsp; &nbsp;&nbsp; &nbsp;&nbsp;$ =-\\sum_m\\sum_n \\frac{y_{mn}}{p_{mn}}\\delta_{mv}\\frac{\\partial  p_{mn}}{\\partial  z_{vp}} \\delta_{pi}\\frac{\\partial  z_{vp}}{\\partial w_{ij}} $\n",
    "    </font>\n",
    "</h1>     "
   ]
  },
  {
   "cell_type": "markdown",
   "metadata": {},
   "source": [
    "<h5 style=\"margin-right: 50px; margin-left: 160px\">\n",
    "<font face=\"Times New Roma\" size=\"3\" color='#270336' >\n",
    "    using common Kronicker $\\delta$ proprties   \n",
    "  </font>\n",
    "</h5>    \n"
   ]
  },
  {
   "cell_type": "markdown",
   "metadata": {},
   "source": [
    "<h1>\n",
    " <font size=\"4\" color='#4a3e20' >  \n",
    "     &nbsp;&nbsp; &nbsp;&nbsp; &nbsp;&nbsp; &nbsp;&nbsp;  &nbsp;&nbsp; &nbsp;&nbsp; &nbsp;&nbsp;$=-\\sum_m\\sum_n \\frac{y_{mn}}{p_{mn}}\\delta_{mm}\\delta_{ii}\\frac{\\partial  p_{mn}}{\\partial z_{mi}}\\frac{\\partial  z_{mi}}{\\partial w_{ij}} $ $=-\\sum_m\\sum_n \\frac{y_{mn}}{p_{mn}}\\frac{\\partial  p_{mn}}{\\partial z_{mi}}\\frac{\\partial  z_{mi}}{\\partial w_{ij}} $ \n",
    "    </font>\n",
    "</h1>     "
   ]
  },
  {
   "cell_type": "markdown",
   "metadata": {},
   "source": [
    "<font size=\"4\" color='#270336' face = \"Times New Roma\">\n",
    "    We've successfully reduced the count of sum operations, using Einstein's convention and Kronecker symbol and\n",
    "    achieved\n",
    "</font>    "
   ]
  },
  {
   "cell_type": "markdown",
   "metadata": {},
   "source": [
    "<h1>\n",
    " <font size=\"4\" color='#4a3e20' >    \n",
    " &nbsp;&nbsp; &nbsp;&nbsp; &nbsp;&nbsp; &nbsp;&nbsp;$\\frac{\\partial L}{\\partial w_{ij}}=-\\sum_m\\sum_n \\frac{y_{mn}}{p_{mn}}\\frac{\\partial  p_{mn}}{\\partial z_{mi}}\\frac{\\partial  z_{mi}}{\\partial w_{ij}}$ \n",
    "  </font>\n",
    "</h1>     "
   ]
  },
  {
   "cell_type": "markdown",
   "metadata": {},
   "source": [
    "<h7>\n",
    "    <font size=\"3\" color='#270336'>\n",
    "  Let to focus on terms $\\frac{\\partial  p_{mn}}{\\partial z_{mi}}$ and $\\frac{\\partial  z_{mi}}{\\partial w_{ij}}$\n",
    "    </font>\n",
    "</h7>  "
   ]
  },
  {
   "cell_type": "markdown",
   "metadata": {},
   "source": [
    "<h1>\n",
    " <font size=\"4\" color='#4a3e20' >  \n",
    "      &nbsp;&nbsp; &nbsp;&nbsp; &nbsp;&nbsp; &nbsp;&nbsp;\n",
    "     $\\frac{\\partial  p_{mn}} {\\partial z_{mi}}=\\frac{\\partial\\frac { e^{z_{mn}} }{ \\sum_ke^{z_{mk}}} }{\\partial z_{mi}}$\n",
    "     $=\\frac{1}{(\\sum_ke^{z_{mk}})^2}\\times \\Big(\\frac{\\partial e^{z_{mn}} }{\\partial z_{mi}}\\times(\\sum_ke^{z_{mk}}) - e^{z_{mn}}\\times\\frac{\\partial (\\sum_ke^{z_{mk}})}{\\partial z_{mi}}  \\Big)$\n",
    "   </font>\n",
    "</h1>"
   ]
  },
  {
   "cell_type": "markdown",
   "metadata": {},
   "source": [
    "<h1>\n",
    " <font size=\"4\" color='#4a3e20' >  \n",
    "     &nbsp;&nbsp; &nbsp;&nbsp; &nbsp;&nbsp; &nbsp;&nbsp;  &nbsp;&nbsp; &nbsp;&nbsp; &nbsp;&nbsp;\n",
    "     $=\\frac{e^{z_{mn}}\\times\\frac{\\partial z_{mn}}{\\partial z_{mi}}}{\\sum_ke^{z_{mk}}} - \\frac{e^{z_{mn}}}{\\sum_ke^{z_{mk}}}\\times\\frac{ \\sum_k e^{z_{mk}} \\frac{ \\partial z_{mk}}{\\partial z_{mi}}}  {\\sum_ke^{z_{mk}}}$\n",
    "   </font>\n",
    "</h1>   "
   ]
  },
  {
   "cell_type": "markdown",
   "metadata": {},
   "source": [
    "<h5 style=\"margin-right: 50px; margin-left: 160px\">\n",
    "<font face=\"Times New Roma\" size=\"3\" color='#270336' >\n",
    "      since $\\frac{\\partial z_{mk}}{\\partial z_{mi}}=0$ if $k\\ne i\\;\\frac{\\partial z_{mk}}{\\partial z_{mi}}=1\\;ifk = i\\;\\Rightarrow \\frac{\\partial z_{mk}}{\\partial z_{mi}}=\\delta_{ki} $ plug in we achieve\n",
    "  </font>\n",
    "</h5>    "
   ]
  },
  {
   "cell_type": "markdown",
   "metadata": {},
   "source": [
    "<h1>\n",
    " <font size=\"4\" color='#4a3e20' >  \n",
    "     &nbsp;&nbsp; &nbsp;&nbsp; &nbsp;&nbsp; &nbsp;&nbsp;  &nbsp;&nbsp; &nbsp;&nbsp; &nbsp;&nbsp;\n",
    "     $=\\frac{e^{z_{mn}}\\times \\delta_{ni} }{\\sum_ke^{z_{mk}}} - \\frac{e^{z_{mn}}}{\\sum_ke^{z_{mk}}}\\times\\frac{ \\sum_k e^{z_{mk}}\\delta_{ki}}  {\\sum_ke^{z_{mk}}}$ \n",
    "      $=\\frac{e^{z_{mn}}\\times \\delta_{ni} }{\\sum_k e^{z_{mk}}} - \\frac{e^{z_{mn}}}{\\sum_ke^{z_{mk}}}\\times\\frac{ \\sum_k e^{z_{mk}}\\delta_{ki}}  {\\sum_ke^{z_{mk}}}$ \n",
    "   </font>\n",
    "</h1>"
   ]
  },
  {
   "cell_type": "markdown",
   "metadata": {},
   "source": [
    "<h1>\n",
    " <font size=\"4\" color='#4a3e20' >  \n",
    "      &nbsp;&nbsp; &nbsp;&nbsp; &nbsp;&nbsp; &nbsp;&nbsp;  &nbsp;&nbsp; &nbsp;&nbsp; &nbsp;&nbsp;\n",
    "      $=\\frac{e^{z_{mn}}\\times \\delta_{ni} }{\\sum_ke^{z_{mk}}} - \\frac{e^{z_{mn}}}{\\sum_ke^{z_{mk}}}\\times\\frac{ \\sum_k e^{z_{mi}}\\delta_{ii}}  {\\sum_ke^{z_{mk}}}$ \n",
    "          $=\\frac{e^{z_{mn}}\\times \\delta_{ni} }{\\sum_ke^{z_{mk}}} - \\frac{e^{z_{mn}}}{\\sum_ke^{z_{mk}}}\\times \\frac{ e^{z_{mi}}}{\\sum_ke^{z_{mk}}}$ \n",
    "   </font>\n",
    "</h1>"
   ]
  },
  {
   "cell_type": "markdown",
   "metadata": {},
   "source": [
    "<h5 style=\"margin-right: 50px; margin-left: 160px\">\n",
    "<font face=\"Times New Roma\" size=\"3\" color='#270336' >\n",
    "from eq.(1)  $\\Rightarrow$ $\\frac{ e^{z_{mn}} }{ \\sum_k e^{z_{mk} } }=p_{mn}$ and $\\frac{ e^{z_{mi}} }{ \\sum_k e^{z_{mk} } }=p_{mi}$  when we apply it, we will achieve \n",
    " </font>\n",
    "</h5>   "
   ]
  },
  {
   "cell_type": "markdown",
   "metadata": {},
   "source": [
    "<h1>\n",
    " <font size=\"4\" color='#4a3e20' >  \n",
    "      &nbsp;&nbsp; &nbsp;&nbsp; &nbsp;&nbsp; &nbsp;&nbsp;  &nbsp;&nbsp; &nbsp;&nbsp; &nbsp;&nbsp;\n",
    "       $=p_{mn}\\times \\delta_{ni} - p_{mn}\\times p_{mn}p_{mi}$ <br>\n",
    "        &nbsp;&nbsp; &nbsp;&nbsp; &nbsp;&nbsp; &nbsp;&nbsp;  &nbsp;&nbsp; &nbsp;&nbsp; &nbsp;&nbsp;\n",
    "          $=p_{mn}(\\delta_{ni} -  p_{mi})$ \n",
    "   </font>\n",
    "</h1>"
   ]
  },
  {
   "cell_type": "markdown",
   "metadata": {},
   "source": [
    "<font size=\"4\" color='#270336' face = \"Times New Roma\">\n",
    " For term  $\\frac{\\partial  p_{mn}} {\\partial z_{mi}}$ we achieve :\n",
    "</font>\n",
    "<br> <br>\n",
    "<font size=\"4\" color='#4a3e20' >  \n",
    "      &nbsp;&nbsp; &nbsp;&nbsp; &nbsp;&nbsp; &nbsp;&nbsp;\n",
    "     $$4) \\; \\; \\; \\; \\frac{\\partial  p_{mn}} {\\partial z_{mi}}=p_{mn}(\\delta_{ni} -  p_{mi})$$\n",
    "   </font>\n"
   ]
  },
  {
   "cell_type": "markdown",
   "metadata": {},
   "source": [
    "<font size=\"4\" color='#270336' face = \"Times New Roma\">\n",
    " For $\\frac{\\partial  z_{mi}}{\\partial w_{ij}} $ we have :\n",
    "</font>\n",
    "<br><br>\n",
    " <font size=\"4\" color='#4a3e20' >    \n",
    " &nbsp;&nbsp; &nbsp;&nbsp; &nbsp;&nbsp; &nbsp;&nbsp;\n",
    "     $\\frac{\\partial  z_{mi}}{\\partial w_{ij}} =\\frac{\\partial ( \\sum_k  x_{mk}w_{ki})}{\\partial w_{ij}}= \\frac{ \\sum_k z_{mi} x_{mk}\\partial w_{ki}}{\\partial w_{ij}}$ \n",
    "  </font>\n"
   ]
  },
  {
   "cell_type": "markdown",
   "metadata": {},
   "source": [
    "<h5 style=\"margin-right: 50px; margin-left: 160px\">\n",
    "<font face=\"Times New Roma\" size=\"3\" color='#270336' >\n",
    "      $\\frac{\\partial w_{ki}}{\\partial w_{ij}} = \\delta_{kj}$ only a direct verification can  proof it\n",
    "  </font>\n",
    "</h5>   "
   ]
  },
  {
   "cell_type": "markdown",
   "metadata": {},
   "source": [
    "<h1>\n",
    " <font size=\"4\" color='#4a3e20' >  \n",
    "      &nbsp;&nbsp; &nbsp;&nbsp; &nbsp;&nbsp; &nbsp;&nbsp;  &nbsp;&nbsp; &nbsp;&nbsp; &nbsp;&nbsp;\n",
    "     $=  \\sum_k  x_{mk} \\delta_{kj} =\\sum_k  x_{mj}\\delta_{jj}=x_{mj}$  \n",
    "   </font>\n",
    "</h1>"
   ]
  },
  {
   "cell_type": "markdown",
   "metadata": {},
   "source": [
    "<font size=\"4\" color='#270336' face = \"Times New Roma\">\n",
    " and for $\\frac{\\partial  z_{mi}}{\\partial w_{ij}}$ we achive :\n",
    "</font>\n",
    "<br> <br>\n",
    "\n",
    " <font size=\"4\" color='#4a3e20' >  \n",
    "      $$(5) \\;\\;\\;\\;\\;\\frac{\\partial  z_{mi}}{\\partial w_{ij}} = x_{mj} $$   \n",
    "   </font>\n"
   ]
  },
  {
   "cell_type": "markdown",
   "metadata": {},
   "source": [
    "<h7>\n",
    "    <font size=\"3\" color='#270336'> \n",
    "     &nbsp;&nbsp;\n",
    "     Applying  eqs.(4) (5) in : $\\frac{\\partial L}{\\partial w_{ij}}=-\\sum_m\\sum_n \\frac{y_{mn}}{p_{mn}}\\frac{\\partial  p_{mn}}{\\partial z_{mi}}\\frac{\\partial  z_{mi}}{\\partial w_{ij}}$   we have  :\n",
    "    </font>\n",
    "</h7>  "
   ]
  },
  {
   "cell_type": "markdown",
   "metadata": {},
   "source": [
    "<h1>\n",
    " <font size=\"4\" color='#4a3e20' >    \n",
    " &nbsp;&nbsp; &nbsp;&nbsp; &nbsp;&nbsp; &nbsp;&nbsp;$\\frac{\\partial L}{\\partial w_{ij}}=-\\sum_m\\sum_n \\frac{y_{mn}}{p_{mn}}p_{mn}(\\delta_{ni} -  p_{mi})x_{mj}=--\\sum_m\\sum_n y_{mn}(\\delta_{ni} -  p_{mi})x_{mj} $ \n",
    "  </font>\n",
    "</h1>   "
   ]
  },
  {
   "cell_type": "markdown",
   "metadata": {},
   "source": [
    "<h1>\n",
    " <font size=\"4\" color='#4a3e20' >  \n",
    "      &nbsp;&nbsp; &nbsp;&nbsp; &nbsp;&nbsp; &nbsp;&nbsp;  &nbsp;&nbsp; &nbsp;&nbsp; &nbsp;&nbsp;\n",
    "     $ =-\\sum_m\\sum_n y_{mn}\\delta_{ni} + \\sum_m\\sum_n y_{mn} p_{mi}x_{mj} $ \n",
    "   </font>\n",
    "</h1>"
   ]
  },
  {
   "cell_type": "markdown",
   "metadata": {},
   "source": [
    "<h5 style=\"margin-right: 50px; margin-left: 160px\">\n",
    " <font face=\"Times New Roma\" size=\"3\" color='#270336' >\n",
    " we can  replace an index $n$ with $i$ (!There is no $\\sum_i$)  \n",
    " </font>    \n",
    "</h5>  "
   ]
  },
  {
   "cell_type": "markdown",
   "metadata": {},
   "source": [
    "\n",
    "<h1>\n",
    " <font size=\"4\" color='#4a3e20' >  \n",
    "      &nbsp;&nbsp; &nbsp;&nbsp; &nbsp;&nbsp; &nbsp;&nbsp;  &nbsp;&nbsp; &nbsp;&nbsp; &nbsp;&nbsp;\n",
    "    $ =-\\sum_m\\sum_n y_{mi}\\delta_{ii}x_{mj} + \\sum_m\\sum_n y_{mn} p_{mi}x_{mj} $ \n",
    "   </font>\n",
    "</h1>\n",
    " "
   ]
  },
  {
   "cell_type": "markdown",
   "metadata": {},
   "source": [
    "\n",
    "<h1>\n",
    " <font size=\"4\" color='#4a3e20' >  \n",
    "      &nbsp;&nbsp; &nbsp;&nbsp; &nbsp;&nbsp; &nbsp;&nbsp;  &nbsp;&nbsp; &nbsp;&nbsp; &nbsp;&nbsp;\n",
    "   $ =-\\sum_m y_{mi}x_{mj} + \\sum_m\\sum_n y_{mn} p_{mi}x_{mj} $\n",
    "   </font>\n",
    "</h1>"
   ]
  },
  {
   "cell_type": "markdown",
   "metadata": {},
   "source": [
    "<h5 style=\"margin-right: 50px; margin-left: 160px\">\n",
    " <font face=\"Times New Roma\" size=\"3\" color='#270336' >\n",
    "      &nbsp;&nbsp; &nbsp;&nbsp; &nbsp;&nbsp; &nbsp;&nbsp;  &nbsp;&nbsp; &nbsp;&nbsp; &nbsp;&nbsp;&nbsp;&nbsp;&nbsp;&nbsp;\n",
    "      $\\sum_n y_{in}=1$ (the sum of all probability) applying it\n",
    " </font> \n",
    "</h5>   "
   ]
  },
  {
   "cell_type": "markdown",
   "metadata": {},
   "source": [
    "<h1>\n",
    " <font size=\"4\" color='#4a3e20' >  \n",
    "      &nbsp;&nbsp; &nbsp;&nbsp; &nbsp;&nbsp; &nbsp;&nbsp;  &nbsp;&nbsp; &nbsp;&nbsp; &nbsp;&nbsp;\n",
    "  $ =-\\sum_m y_{mi}x_{mj} + \\sum_m 1. p_{mi}x_{mj} = \\sum_m  p_{mi}x_{mj}-\\sum_m y_{mi}x_{mj}$\n",
    "   </font>\n",
    "</h1>"
   ]
  },
  {
   "cell_type": "markdown",
   "metadata": {},
   "source": [
    "<h1>\n",
    " <font size=\"4\" color='#4a3e20' >  \n",
    "      &nbsp;&nbsp; &nbsp;&nbsp; &nbsp;&nbsp; &nbsp;&nbsp;  &nbsp;&nbsp; &nbsp;&nbsp; &nbsp;&nbsp;\n",
    "  $ = \\sum_k^m( p_{mi}-y_{mi})x_{mj}$\n",
    "  </font>\n",
    "</h1>"
   ]
  },
  {
   "cell_type": "markdown",
   "metadata": {},
   "source": [
    "<font size=\"4\" color='#270336' face = \"Times New Roma\">\n",
    "     &nbsp;&nbsp;\n",
    "      Maybe we've achieved the most important result .The optimization  of Cross-entropy respect to $w_{ij}$  :\n",
    " </font>\n",
    "  "
   ]
  },
  {
   "cell_type": "markdown",
   "metadata": {},
   "source": [
    "<h1>\n",
    " <font size=\"5\" color='#4a3e20' >  \n",
    "     $$6) \\;\\;\\;\\;\\nabla w_{ij}L(W,b)= \\sum_m( p_{mi}-y_{mi})x_{mj}$$\n",
    "   </font>\n",
    "</h1>"
   ]
  },
  {
   "cell_type": "markdown",
   "metadata": {},
   "source": [
    "<font size=\"4\" color='#270336' face = \"Times New Roma\">\n",
    "     &nbsp;&nbsp;\n",
    "      If we apply  the same   step for $\\nabla b_{i}L(W,b)$ (It is easier one)  we will achieve the minimization formula for bias ,wich looks like this<br>\n",
    " </font>\n"
   ]
  },
  {
   "cell_type": "markdown",
   "metadata": {},
   "source": [
    "<h1>\n",
    " <font size=\"5\" color='#4a3e20' >  \n",
    "     $$7)\\;\\;\\;\\;\\nabla b_{i}L(W,b)= \\sum_m( p_{mi}-y_{mi})$$\n",
    "   </font>\n",
    "</h1>\n"
   ]
  },
  {
   "cell_type": "markdown",
   "metadata": {},
   "source": [
    "<font size=\"4\" color='#270336' face = \"Times New Roma\">\n",
    "     &nbsp;&nbsp;\n",
    "        Althought the eq.(6) seems so simple and elegant  it is written is tenzor form not in matrix one. Therefore  its implementation becomes more dificult, espesialy when we want to use our lovely library numpy.But we can write the equation in matrix form seeming like that :\n",
    "    </font>\n",
    "</h7>  "
   ]
  },
  {
   "cell_type": "markdown",
   "metadata": {},
   "source": [
    "\n",
    " <font size=\"3\" color='#4a3e20' >  \n",
    "      &nbsp;&nbsp;\n",
    " $\\nabla_W L = \\begin{bmatrix}\n",
    "               \\nabla_{w_{11}} L  & \\nabla_{w_{12}}L &... &\\nabla_{ w_{1j}}L \\\\\n",
    "               \\nabla_{ w_{21}}L & \\nabla_{ w_{22}}L  &... &\\nabla_{ w_{2j}}L \\\\\n",
    "                ...   &  ...  & ... & ...  \\\\\n",
    "                \\nabla_{ w_{i1}}L  & \\nabla_{ w_{i2}}L  & ...& \\nabla_{ w_{ij}}L \\end{bmatrix} $\n",
    "$  =\\begin{bmatrix}\n",
    "p_{11} -y_{11}  &  p_{21}-y_{21}  & ... &  p_{m1}-y_{m1}\\\\\n",
    "p_{12} -y_{12}  &  p_{22}-y_{22}  & ... &  p_{m2}-y_{m2}\\\\\n",
    "\\;\\;...\\;\\;\\;   &  \\;\\;...\\;\\;\\;  &\\;\\;...\\;\\;\\; &\\;\\;...\\;\\;\\; \\\\\n",
    "p_{1i} -y_{1i}  &  p_{2i}-y_{2i}  & ... &  p_{mi}-y_{mi}\n",
    " \\end{bmatrix}$\n",
    "$\\begin{bmatrix} x_{11} &  x_{12} &...&  x_{1j} \\\\  x_{21} &  x_{22}  &...&  x_{2j}  \\\\ ... & ... & ... &... \\\\ x_{m1} &  x_{m2} &...&  x_{mj}\\end{bmatrix}$\n",
    "   </font>\n"
   ]
  },
  {
   "cell_type": "markdown",
   "metadata": {},
   "source": [
    "\n",
    " <font size=\"4\" color='#4a3e20' >  \n",
    "      $$8)\\;\\;\\;\\;\\nabla_W L = (P-Y)^T.X$$\n",
    "   </font>\n",
    "\n",
    "\n",
    " <font size=\"4\" color='#4a3e20' >  \n",
    "      $$9)\\;\\;\\;\\;\\nabla_{b} L = \\sum_m (P-Y)_{mi}$$\n",
    "   </font>\n"
   ]
  },
  {
   "cell_type": "markdown",
   "metadata": {},
   "source": [
    "<h5 style=\"margin-right: 50px; margin-left:10px\">\n",
    " <font face=\"Times New Roma\" size=\"3\" color='#270336' >\n",
    "      &nbsp;&nbsp; &nbsp;&nbsp; &nbsp;&nbsp; &nbsp;&nbsp;  &nbsp;&nbsp; &nbsp;&nbsp; &nbsp;&nbsp;&nbsp;&nbsp;&nbsp;&nbsp;\n",
    "      The eq(8) can be proved only with direct verification, you can try to  proof it !!! See why this is correct!!!\n",
    "  </font> \n",
    "<h5>    "
   ]
  },
  {
   "cell_type": "markdown",
   "metadata": {},
   "source": [
    "<font size=\"4\" color='#270336' face = \"Times New Roma\">\n",
    "     We've  written eq(6) and(7) in matrix form, and  result is surprisingly simple and  so easy for implementation.If we plug the eq(8) and (9) in gradient descent eqaution <br> \n",
    "    </font>\n",
    "    <font size=\"3\" color='#4a3e20' >   \n",
    "    $$ \\;  \\; \\;  \\; \\; \\; \\;\\begin{matrix} w_{ij} = w_{ij} - \\lambda \\nabla w_{ij}L(W,b) \\\\  \\\\ b_{j} = b_j - \\lambda\\nabla b_{j}L(W,b)\n",
    "       \\end{matrix} $$ \n",
    "</font>\n",
    "<font size=\"4\" color='#270336' face = \"Times New Roma\">\n",
    "    We've achieve our minimization alogithm for Cross-entopy Loss for find the best esitmitators $W_{ij}$.\n",
    "    The minimization alogorithm using gradient descent is deifined as :  "
   ]
  },
  {
   "cell_type": "markdown",
   "metadata": {},
   "source": [
    "<h1>\n",
    "<font size=\"5\" color='#4a3e20' > \n",
    "    $$(10) \\;  \\; \\;  \\; \\; \\; \\;  W= W -\\lambda(P-Y)^T.X  $$\n",
    "  <br>\n",
    "    $$(11) \\;  \\; \\;  \\; \\; \\; \\;  b_i = b_i -\\lambda \\sum_m(P-Y)_{mi}   $$\n",
    "</font>      \n",
    "</h1>"
   ]
  },
  {
   "cell_type": "markdown",
   "metadata": {},
   "source": [
    " \n",
    "<h5 style=\"margin-right: 50px; margin-left:10px\">\n",
    " <font face=\"Times New Roma\" size=\"3\" color='#270336' >\n",
    "      where W is a weight matrix , $\\lambda$ is an leraning rate or step size, P is the the prediction values pruduced from sofmax   $Y$ is the target values $X$ is the training data (features vectors).\n",
    "    \n",
    "</font> \n",
    "<h5>   "
   ]
  },
  {
   "cell_type": "markdown",
   "metadata": {},
   "source": [
    "<font id=\"gradient\" size=\"1\">....</font>\n",
    "<h2 color='#270336' face = \"Times New Roma\"> &nbsp; Implementation of Gradient descent algorithm<h2>\n",
    "  \n",
    "<font size=\"3\" color='#270336' face = \"Times New Roma\">\n",
    "   &nbsp;&nbsp;&nbsp;&nbsp; &nbsp;&nbsp;&nbsp;&nbsp;The implentation  using <mark color='blue' size='5'>numpy</mark>\n",
    "     could be defined as : <br> <br>:\n",
    " <font size=\"3\" color='#4a3e20' >   \n",
    "  $$ W = W - gamma*(( softmax(W,b,X,Y) -Y )^T).dot(X)$$ <br>\n",
    "      $$ b = b_i - gamma*sum_m((softmax(W,b,X,Y)_i -Y_i)) $$\n",
    " </font> \n",
    " <br>\n",
    " </h2>\n",
    "\n"
   ]
  },
  {
   "cell_type": "markdown",
   "metadata": {},
   "source": [
    "<h5 style=\"margin-right: 50px; margin-left:50px\">\n",
    " <font face=\"Times New Roma\" size=\"3\" color='#270336' >\n",
    "      where the arguments are considered: the W matrix our estimator coeficients , $gamma=$ $\\lambda* (1/m)$ or step size,   $Y$ is the target values $X$ is the training data (features vectors).\n",
    "      \n",
    "</font>\n",
    " </h5> "
   ]
  },
  {
   "cell_type": "code",
   "execution_count": 15,
   "metadata": {},
   "outputs": [],
   "source": [
    "def gradient_descent(X, y, W, b, step_size):\n",
    "    ''''\n",
    "    perform gradient descent one iteration\n",
    "    \n",
    "     Parameters :\n",
    "    X : ndarray\n",
    "       train data\n",
    "    y : ndarray\n",
    "       target data\n",
    "    W : ndarray\n",
    "     weight matrix\n",
    "    b : ndarray\n",
    "      bias \n",
    "    step_size : float\n",
    "       gradient descent setting\n",
    "    \n",
    "    '''\n",
    "    P_y = softmax(X,W,b)-y\n",
    "    W = W - step_size*(P_y.T).dot(X)\n",
    "    b = b - step_size*np.sum(P_y, axis=0)\n",
    "    return W,b\n",
    "    \n",
    "\n",
    "def train(X , y, max_iter=300,learning_rate=0.1,innitial_value =1, debug_W=None):\n",
    "    '''\n",
    "    Train by softmax regression \n",
    "    \n",
    "    Parameters :\n",
    "    X : ndarray\n",
    "       train data\n",
    "    y : ndarray\n",
    "       target data\n",
    "    max_iter : int \n",
    "        number of epoch (iterations)\n",
    "        \n",
    "    debug_W : tuple \n",
    "       index of weight parameter for debugging\n",
    "    Returns \n",
    "       W, b : ndarray\n",
    "         weight and bias\n",
    "       in debug mode\n",
    "       W, b, k : ndarray\n",
    "          weight and bias and debugind parameter \n",
    "         \n",
    "       \n",
    "    '''\n",
    "    \n",
    "    if type(X) != np.ndarray or type(y) != np.ndarray: \n",
    "        raise ValueError('X and y must be ndarray')\n",
    "        \n",
    "    #init weight and bias\n",
    "    b = np.full((y.shape[1],),innitial_value)\n",
    "    W = np.full((y.shape[1], X.shape[1]), innitial_value)\n",
    "    \n",
    "    m = X.shape[0] \n",
    "    step_size = (1/m)*learning_rate\n",
    "    \n",
    "    if debug_W is not None: \n",
    "        debug_mode=True \n",
    "        debug = W[(debug_W)]\n",
    "    else :\n",
    "        debug_mode=False\n",
    "        \n",
    "    for i in range(max_iter):\n",
    "        W,b = gradient_descent(X , y, W, b,step_size)\n",
    "        if debug_mode: debug = np.append(debug, W[debug_W])   \n",
    "    \n",
    "    \n",
    "    if debug_mode: return W,b,debug\n",
    "        \n",
    "    return W,b\n",
    " "
   ]
  },
  {
   "cell_type": "code",
   "execution_count": 16,
   "metadata": {},
   "outputs": [],
   "source": [
    "#W,b,k = train(X, y, max_iter= 10**3 ,learning_rate= 10,debug_W =(1,0) )   \n",
    "W,b,k = train(np.array(X_train), np.array(y_train),debug_W=(1,1))   \n",
    "#np.round(k,10)\n",
    " \n"
   ]
  },
  {
   "cell_type": "code",
   "execution_count": 17,
   "metadata": {},
   "outputs": [
    {
     "data": {
      "text/plain": [
       "0.96"
      ]
     },
     "execution_count": 17,
     "metadata": {},
     "output_type": "execute_result"
    }
   ],
   "source": [
    "v = softmax(np.array(X_train), W,b)\n",
    "accuracy(np.array(y_train), v)\n"
   ]
  },
  {
   "cell_type": "markdown",
   "metadata": {},
   "source": [
    "<font id=\"reg\" size=\"1\">....</font>\n",
    "<h2  color='#270336' face = \"Times New Roma\">Regularization by learning rate and max iterations</h2>"
   ]
  },
  {
   "cell_type": "code",
   "execution_count": null,
   "metadata": {},
   "outputs": [],
   "source": []
  },
  {
   "cell_type": "code",
   "execution_count": null,
   "metadata": {},
   "outputs": [],
   "source": []
  }
 ],
 "metadata": {
  "kernelspec": {
   "display_name": "Python 3",
   "language": "python",
   "name": "python3"
  },
  "language_info": {
   "codemirror_mode": {
    "name": "ipython",
    "version": 3
   },
   "file_extension": ".py",
   "mimetype": "text/x-python",
   "name": "python",
   "nbconvert_exporter": "python",
   "pygments_lexer": "ipython3",
   "version": "3.7.4"
  }
 },
 "nbformat": 4,
 "nbformat_minor": 2
}
