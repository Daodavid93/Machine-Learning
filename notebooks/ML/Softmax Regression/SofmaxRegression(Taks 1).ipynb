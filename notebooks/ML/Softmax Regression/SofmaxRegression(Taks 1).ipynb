{
 "cells": [
  {
   "cell_type": "code",
   "execution_count": 40,
   "metadata": {},
   "outputs": [],
   "source": [
    "import numpy as np\n",
    "import matplotlib.pyplot as plt\n",
    "import pandas as pd\n",
    "%matplotlib inline\n",
    "import math\n",
    "from sklearn.model_selection import train_test_split"
   ]
  },
  {
   "cell_type": "markdown",
   "metadata": {},
   "source": [
    "# Taks 1\n"
   ]
  },
  {
   "cell_type": "markdown",
   "metadata": {},
   "source": [
    " <h7>\n",
    " <br> <br>\n",
    "        <font color='#263a61' >\n",
    "        Now we are going to Loss function  for : \n",
    "    </font>\n",
    "</h7>\n",
    "</h3>\n",
    "     <font color='#454214'>\n",
    "            $$(1) \\; \\; \\; softmax(Z)_{ij}=p_{ij}=\\frac{e^{z_{ij}}}{\\sum_l^k e^{z_{il}}} $$ <br>\n",
    "            $$z_{ij} = \\sum_p^3 x_{ip} w_{jp} + b_j $$\n",
    "   </font>\n",
    "   \n",
    "</h3>"
   ]
  },
  {
   "cell_type": "markdown",
   "metadata": {},
   "source": [
    "<h7>\n",
    " <br> <br>\n",
    "        <font color='#263a61' >\n",
    "        Now we are going to Loss function  for : \n",
    "    </font>\n",
    "</h7>\n",
    "</h1>\n",
    "     <font color='#454214'>\n",
    "           <br> <br>\n",
    "               $\\;\\;  \\nabla_{w_{ij}} \\;= \\frac{\\partial L}{ \\partial w} = \\frac{1}{m}\\sum_p^m(y_{mi}-p_{mi}).x_{mj}$\n",
    "   </font>\n",
    "   \n",
    "</h1>\n",
    "\n",
    "  <font color='#454214'>\n",
    "           <br> <br>\n",
    "           $$\\;\\;\\;\\;  \\nabla_{w_{ij}} \\;\\nabla_{w_{ij} }L \\;\\;= \\frac{\\partial L}{ \\partial w_{ij}} = \\frac{1}{m}\\sum_p^m(y_{mi}-p_{mi}).x_{mj}$$\n",
    "   </font>\n",
    "W = \\begin{bmatrix} w_{11} & w_{12} & w_{13} \\\\ w_{21} & w_{22} & w_{23} \\\\ w_{31} & w_{32} & w_{33} \\end{bmatrix}  =\n"
   ]
  },
  {
   "cell_type": "markdown",
   "metadata": {},
   "source": [
    "$X = \\begin{bmatrix} x_{11} &  x_{12} & x_{13} \\\\  x_{21} &  x_{22} & x_{23} \\\\ ... & ... & ... \\\\ x_{n1} &  x_{n2} & x_{n3} \\end{bmatrix} \\;\\;\\;\\;\\;\\;\\;$\n",
    "$ P =\\begin{bmatrix} p_{11} &  p_{12} & p_{13} \\\\  p_{21} &  p_{22} & p_{23} \\\\ ... & ... & ... \\\\ p_{n1} &  p_{n2} & p_{n3} \\end{bmatrix}\\;\\;\\;\\;\\;\\;$ \n",
    "$ Y =\\begin{bmatrix} y_{11} &  y_{12} & y_{13} \\\\  y_{21} &  y_{22} & y_{23} \\\\ ... & ... & ... \\\\ y_{n1} &  y_{n2} & y_{n3} \\end{bmatrix}$\n"
   ]
  },
  {
   "cell_type": "markdown",
   "metadata": {},
   "source": [
    "$$\\nabla L = \\begin{bmatrix} \\nabla_{w_{11}}  & \\nabla_{w_{12}} &\\nabla_{ w_{13}} \\\\\\nabla_{ w_{21}} &\\nabla_{ w_{22}} & \\nabla_{w_{23}} \\\\\\nabla_{ w_{31}} &\\nabla_{w_{32} }&\\nabla_{ w_{33}} \\end{bmatrix}.L $$"
   ]
  },
  {
   "cell_type": "markdown",
   "metadata": {},
   "source": [
    "$y_{mi} - p_{mi} =  Y - P =\\begin{bmatrix} y_{11} -p_{11}  &  y_{12}-p_{12}  & y_{13} -p_{13}\\\\  y_{21}-p_{12} &  y_{22} -p_{22}& y_{23} -p_{23}\\\\ ... & ... & ... \\\\ y_{n1}-p_{n1} & y_{n2}- p_{n2} &y_{n3}- y_{n3} \\end{bmatrix} = B$\n",
    "\n",
    "<br> <br>\n",
    " $\\;\\;  \\nabla_{w_{ij}} \\;= \\frac{\\partial L}{ \\partial w} = \\frac{1}{m}\\sum_p^m(y_{mi}-p_{mi}).x_{mj}$\n",
    " <br>\n",
    " we can write as 3) b_{mi}.x_{mj}\n",
    " \n",
    " that eqation is a little bit difficult because that tensor product,but we can wtite as matrix product\n",
    "  \n",
    "  \n",
    " $(Y-P)^T.X= \\nabla L$ \n",
    "direct verification can proof it !!!\n",
    "\n",
    "\n",
    "\n"
   ]
  },
  {
   "cell_type": "markdown",
   "metadata": {},
   "source": [
    "$\\nabla_{w_{11}} =  (y_{11} -p_{11}).x_{11} \\; \\; \\;$ $\\nabla_{w_{12}} =  y_{12} -p_{21}.x_1 \\;$ <br>\n",
    "$\\nabla_{w_{12}} =  y_{11} -p_{11}.x_{12} \\; \\; \\;$  $\\nabla_{w_{13}} =  y_{11} -p_{11}.x_2 \\;$ <br>\n",
    "$\\nabla_{w_{13}} =  y_{11} -p_{11}.x_{13} \\; \\; \\;$  $\\nabla_{w_{13}} =  y_{11} -p_{11}.x_3 \\;$ <br>"
   ]
  },
  {
   "cell_type": "markdown",
   "metadata": {},
   "source": [
    "$Y^T.X = W$ <br>\n",
    "$Y_{mj}.x_{in} = W_ij$"
   ]
  },
  {
   "cell_type": "code",
   "execution_count": null,
   "metadata": {},
   "outputs": [],
   "source": []
  },
  {
   "cell_type": "markdown",
   "metadata": {},
   "source": [
    "test "
   ]
  },
  {
   "cell_type": "code",
   "execution_count": 2,
   "metadata": {},
   "outputs": [
    {
     "data": {
      "text/html": [
       "<div>\n",
       "<style scoped>\n",
       "    .dataframe tbody tr th:only-of-type {\n",
       "        vertical-align: middle;\n",
       "    }\n",
       "\n",
       "    .dataframe tbody tr th {\n",
       "        vertical-align: top;\n",
       "    }\n",
       "\n",
       "    .dataframe thead th {\n",
       "        text-align: right;\n",
       "    }\n",
       "</style>\n",
       "<table border=\"1\" class=\"dataframe\">\n",
       "  <thead>\n",
       "    <tr style=\"text-align: right;\">\n",
       "      <th></th>\n",
       "      <th>x_size</th>\n",
       "      <th>y_size</th>\n",
       "      <th>z_size</th>\n",
       "      <th>label_Bus</th>\n",
       "      <th>label_Car</th>\n",
       "      <th>label_Tractor</th>\n",
       "    </tr>\n",
       "  </thead>\n",
       "  <tbody>\n",
       "    <tr>\n",
       "      <td>0</td>\n",
       "      <td>4.671646</td>\n",
       "      <td>4.377305</td>\n",
       "      <td>4.122743</td>\n",
       "      <td>0</td>\n",
       "      <td>0</td>\n",
       "      <td>1</td>\n",
       "    </tr>\n",
       "    <tr>\n",
       "      <td>1</td>\n",
       "      <td>4.147754</td>\n",
       "      <td>4.915190</td>\n",
       "      <td>4.903215</td>\n",
       "      <td>0</td>\n",
       "      <td>0</td>\n",
       "      <td>1</td>\n",
       "    </tr>\n",
       "    <tr>\n",
       "      <td>2</td>\n",
       "      <td>4.214498</td>\n",
       "      <td>4.772750</td>\n",
       "      <td>4.836306</td>\n",
       "      <td>0</td>\n",
       "      <td>0</td>\n",
       "      <td>1</td>\n",
       "    </tr>\n",
       "    <tr>\n",
       "      <td>3</td>\n",
       "      <td>4.598772</td>\n",
       "      <td>4.259568</td>\n",
       "      <td>4.811365</td>\n",
       "      <td>0</td>\n",
       "      <td>0</td>\n",
       "      <td>1</td>\n",
       "    </tr>\n",
       "    <tr>\n",
       "      <td>4</td>\n",
       "      <td>4.527409</td>\n",
       "      <td>4.747942</td>\n",
       "      <td>4.775067</td>\n",
       "      <td>0</td>\n",
       "      <td>0</td>\n",
       "      <td>1</td>\n",
       "    </tr>\n",
       "    <tr>\n",
       "      <td>...</td>\n",
       "      <td>...</td>\n",
       "      <td>...</td>\n",
       "      <td>...</td>\n",
       "      <td>...</td>\n",
       "      <td>...</td>\n",
       "      <td>...</td>\n",
       "    </tr>\n",
       "    <tr>\n",
       "      <td>25</td>\n",
       "      <td>1.493191</td>\n",
       "      <td>1.927512</td>\n",
       "      <td>1.178379</td>\n",
       "      <td>0</td>\n",
       "      <td>1</td>\n",
       "      <td>0</td>\n",
       "    </tr>\n",
       "    <tr>\n",
       "      <td>26</td>\n",
       "      <td>1.240098</td>\n",
       "      <td>1.012125</td>\n",
       "      <td>1.797144</td>\n",
       "      <td>0</td>\n",
       "      <td>1</td>\n",
       "      <td>0</td>\n",
       "    </tr>\n",
       "    <tr>\n",
       "      <td>27</td>\n",
       "      <td>1.494590</td>\n",
       "      <td>1.127592</td>\n",
       "      <td>1.182239</td>\n",
       "      <td>0</td>\n",
       "      <td>1</td>\n",
       "      <td>0</td>\n",
       "    </tr>\n",
       "    <tr>\n",
       "      <td>28</td>\n",
       "      <td>1.065745</td>\n",
       "      <td>1.612847</td>\n",
       "      <td>1.479814</td>\n",
       "      <td>0</td>\n",
       "      <td>1</td>\n",
       "      <td>0</td>\n",
       "    </tr>\n",
       "    <tr>\n",
       "      <td>29</td>\n",
       "      <td>1.801567</td>\n",
       "      <td>1.758334</td>\n",
       "      <td>1.934439</td>\n",
       "      <td>0</td>\n",
       "      <td>1</td>\n",
       "      <td>0</td>\n",
       "    </tr>\n",
       "  </tbody>\n",
       "</table>\n",
       "<p>90 rows × 6 columns</p>\n",
       "</div>"
      ],
      "text/plain": [
       "      x_size    y_size    z_size  label_Bus  label_Car  label_Tractor\n",
       "0   4.671646  4.377305  4.122743          0          0              1\n",
       "1   4.147754  4.915190  4.903215          0          0              1\n",
       "2   4.214498  4.772750  4.836306          0          0              1\n",
       "3   4.598772  4.259568  4.811365          0          0              1\n",
       "4   4.527409  4.747942  4.775067          0          0              1\n",
       "..       ...       ...       ...        ...        ...            ...\n",
       "25  1.493191  1.927512  1.178379          0          1              0\n",
       "26  1.240098  1.012125  1.797144          0          1              0\n",
       "27  1.494590  1.127592  1.182239          0          1              0\n",
       "28  1.065745  1.612847  1.479814          0          1              0\n",
       "29  1.801567  1.758334  1.934439          0          1              0\n",
       "\n",
       "[90 rows x 6 columns]"
      ]
     },
     "execution_count": 2,
     "metadata": {},
     "output_type": "execute_result"
    }
   ],
   "source": [
    "#generate tractor records with random size between [4,5] \n",
    "tractor_dataframe= pd.DataFrame(data=np.random.random((30, 3))+4,columns = ['x_size','y_size','z_size'])\n",
    "tractor_dataframe['label'] =pd.DataFrame( np.full((1,30 ), 'Tractor').T)\n",
    "\n",
    "#generate car records with random size between [3,4] \n",
    "car_dataframe= pd.DataFrame(data=np.random.random((30, 3)) + 1,columns = ['x_size','y_size','z_size'])\n",
    "car_dataframe['label'] =pd.DataFrame( np.full((1,30 ), 'Car').T)\n",
    "\n",
    "#generate bus records with random size between [2,3] \n",
    "bus_dataframe= pd.DataFrame(data=np.random.random((30, 3))+2,columns = ['x_size','y_size','z_size'])\n",
    "bus_dataframe['label'] =pd.DataFrame( np.full((1,30 ), 'Bus').T)\n",
    "\n",
    "# joint each data frame into  one\n",
    "data = tractor_dataframe.append(bus_dataframe).append(car_dataframe)\n",
    "data = pd.get_dummies(data) \n",
    "data\n"
   ]
  },
  {
   "cell_type": "code",
   "execution_count": 3,
   "metadata": {},
   "outputs": [
    {
     "data": {
      "text/plain": [
       "<matplotlib.legend.Legend at 0x1d82f9626c8>"
      ]
     },
     "execution_count": 3,
     "metadata": {},
     "output_type": "execute_result"
    },
    {
     "data": {
      "image/png": "[encoded data removed]",
      "text/plain": [
       "<Figure size 432x288 with 1 Axes>"
      ]
     },
     "metadata": {
      "needs_background": "light"
     },
     "output_type": "display_data"
    }
   ],
   "source": [
    "plt.scatter(tractor_dataframe['x_size'],tractor_dataframe['y_size'],label='Tractor',color='blue')\n",
    "plt.scatter(car_dataframe['x_size'],tractor_dataframe['y_size'],label='Car',color='red')\n",
    "plt.scatter(bus_dataframe['x_size'],tractor_dataframe['y_size'],label='Bus',color='yellow')\n",
    "plt.xlabel('x size')\n",
    "plt.ylabel('y size')\n",
    "plt.legend()"
   ]
  },
  {
   "cell_type": "code",
   "execution_count": 4,
   "metadata": {},
   "outputs": [
    {
     "name": "stdout",
     "output_type": "stream",
     "text": [
      "first 3 record of x train [[4.74730405 4.77948511 4.9443991 ]\n",
      " [1.55518331 1.01082398 1.2655518 ]\n",
      " [4.43267471 4.51082204 4.12413034]\n",
      " [2.66457233 2.0141695  2.39815676]]\n",
      "first 3 record of y label  [[0 0 1]\n",
      " [0 1 0]\n",
      " [0 0 1]\n",
      " [1 0 0]]\n",
      "shape of x train (n.m) (60, 3)\n",
      "shape of y label (n,k) (60, 3)\n"
     ]
    }
   ],
   "source": [
    "x_train = np.array(data.drop(['label_Bus','label_Car','label_Tractor'], axis = 1)) # gets the target label variables\n",
    "y_train = np.array(data[['label_Bus','label_Car','label_Tractor']]) # gets feature variables \n",
    "X_train, X_test, y_train, y_test = train_test_split(x_train,y_train, test_size=0.33, random_state=42) #separats into test and train samples \n",
    "print('first 3 record of x train', X_train[ : 4] )\n",
    "print('first 3 record of y label ', y_train[ : 4] )\n",
    "\n",
    "print('shape of x train (n.m)', X_train.shape)\n",
    "print('shape of y label (n,k)', y_train.shape )"
   ]
  },
  {
   "cell_type": "code",
   "execution_count": 5,
   "metadata": {},
   "outputs": [],
   "source": [
    "W= np.array([[ 0.75776811,  0.6690284 , -0.02646755],\n",
    " [-2.94775864, -3.06439323, -2.14043833],\n",
    " [ 2.18999053 , 2.39536483,  2.16690588]])\n",
    "\n",
    "B = intercept = np.array([ -0.15425504 , 18.81781451, -18.66355947])  "
   ]
  },
  {
   "cell_type": "code",
   "execution_count": null,
   "metadata": {},
   "outputs": [],
   "source": []
  },
  {
   "cell_type": "code",
   "execution_count": 6,
   "metadata": {},
   "outputs": [],
   "source": [
    "def sofmax(x,W,intercept):\n",
    "    '''\n",
    "    soft max product \n",
    "    takes :\n",
    "    x feature matrix (train data)\n",
    "    W weight matrix\n",
    "    intercept Bias vector\n",
    "    '''\n",
    "    exp_z = np.exp(x.dot(W.T)+intercept) # calculate each z_ij\n",
    "    sums=np.sum(exp_z, axis=1) # array consist of denomitators for ever Z_i\n",
    "    result = (exp_z.T/sums).T  #return array populate with Softmax products e^{k_ij}/(e^{k_i1}+e^{k_i2}+e^{k_i3})\n",
    "    return result"
   ]
  },
  {
   "cell_type": "code",
   "execution_count": 130,
   "metadata": {},
   "outputs": [
    {
     "name": "stdout",
     "output_type": "stream",
     "text": [
      "original data label Y :  \n",
      "[[0 1 0]\n",
      " [0 0 1]\n",
      " [1 0 0]\n",
      " [1 0 0]\n",
      " [0 0 1]\n",
      " [1 0 0]\n",
      " [1 0 0]\n",
      " [0 0 1]\n",
      " [0 1 0]]\n",
      "\n"
     ]
    },
    {
     "data": {
      "text/markdown": [
       "*predicted data label Y'* :"
      ],
      "text/plain": [
       "<IPython.core.display.Markdown object>"
      ]
     },
     "metadata": {},
     "output_type": "display_data"
    },
    {
     "name": "stdout",
     "output_type": "stream",
     "text": [
      "[[0.19 0.8  0.01]\n",
      " [0.15 0.   0.85]\n",
      " [0.67 0.17 0.16]\n",
      " [0.64 0.05 0.31]\n",
      " [0.15 0.   0.85]\n",
      " [0.67 0.18 0.15]\n",
      " [0.66 0.07 0.27]\n",
      " [0.1  0.   0.9 ]\n",
      " [0.32 0.67 0.02]]\n"
     ]
    }
   ],
   "source": [
    "print('original data label Y :  ')\n",
    "print(y_train[1:10])\n",
    "print('')\n",
    "display(Markdown(\"*predicted data label Y'* :\"))\n",
    "print(np.around(sofmax(X_train,W,intercept)[1:10],2))"
   ]
  },
  {
   "cell_type": "markdown",
   "metadata": {},
   "source": [
    "gradien :\n",
    " $\\;\\;  \\nabla_{w_{ij}} \\;= \\frac{\\partial L}{ \\partial w} = \\frac{1}{m}\\sum_p^m(y_{mi}-p_{mi}).x_{mj}$\n",
    " \n",
    " $$ w_{ij} =w_{ij} - l*(\\nabla_{w_{ij}}L) = \\frac{\\partial L}{ \\partial w} = \\frac{1}{m}\\sum_p^m(y_{mi}-p_{mi}).x_{mj} $$\n",
    " <br> <br>\n",
    "  $$ b_{i} =b_i - l*(\\nabla_{b_i} L)=\\frac{\\partial L}{ \\partial w} = \\frac{1}{m}\\sum_p^m(y_{mi}-p_{mi}) $$"
   ]
  },
  {
   "cell_type": "markdown",
   "metadata": {},
   "source": [
    "$ W = W - l*(Y-softmax(W,b,X,Y))^T.dot(X)$"
   ]
  },
  {
   "cell_type": "code",
   "execution_count": 122,
   "metadata": {},
   "outputs": [
    {
     "data": {
      "text/plain": [
       "array([[4.74730405, 4.77948511, 4.9443991 ],\n",
       "       [1.55518331, 1.01082398, 1.2655518 ],\n",
       "       [4.43267471, 4.51082204, 4.12413034],\n",
       "       [2.66457233, 2.0141695 , 2.39815676],\n",
       "       [2.85494354, 2.79206873, 2.89876616],\n",
       "       [4.52795868, 4.31908637, 4.14873275],\n",
       "       [2.23899289, 2.78270114, 2.41945964],\n",
       "       [2.5297501 , 2.6247339 , 2.98255521],\n",
       "       [4.46802619, 4.518024  , 4.63168649],\n",
       "       [1.93491339, 1.04820636, 1.52827104],\n",
       "       [4.79152853, 4.75435394, 4.68278118],\n",
       "       [4.68433592, 4.5551798 , 4.60994399],\n",
       "       [1.27030071, 1.1121158 , 1.3579824 ],\n",
       "       [4.15834207, 4.13401832, 4.90778613],\n",
       "       [2.17909822, 2.87798962, 2.27989494],\n",
       "       [4.32809365, 4.89578942, 4.62442728],\n",
       "       [4.96085928, 4.20848296, 4.39177009],\n",
       "       [4.59877151, 4.25956828, 4.81136544],\n",
       "       [4.99836963, 4.72163745, 4.3341854 ],\n",
       "       [2.07226292, 2.25475041, 2.68181992],\n",
       "       [4.29185074, 4.01191814, 4.26001788],\n",
       "       [1.49459021, 1.12759216, 1.18223941],\n",
       "       [4.96853134, 4.65155797, 4.74639415],\n",
       "       [1.76375533, 1.79784755, 1.23592992],\n",
       "       [2.9007103 , 2.68390965, 2.84744388],\n",
       "       [1.66088416, 1.41455824, 1.5342877 ],\n",
       "       [1.80156685, 1.75833363, 1.93443872],\n",
       "       [2.41015052, 2.16311673, 2.42457502],\n",
       "       [2.58900074, 2.96135911, 2.36718218],\n",
       "       [2.32325549, 2.33831097, 2.41087391],\n",
       "       [2.04944093, 2.67592511, 2.10599892],\n",
       "       [1.36637542, 1.76362135, 1.64120897],\n",
       "       [1.06574541, 1.61284688, 1.47981374],\n",
       "       [4.91296246, 4.77583886, 4.04519805],\n",
       "       [1.45599243, 1.19598626, 1.53795358],\n",
       "       [2.07404769, 2.86746653, 2.28014277],\n",
       "       [2.65273425, 2.09582319, 2.66783022],\n",
       "       [2.46777937, 2.42693088, 2.4646598 ],\n",
       "       [1.17153855, 1.97386548, 1.94204518],\n",
       "       [2.5363299 , 2.37906143, 2.71061551],\n",
       "       [2.78095027, 2.46660263, 2.64421212],\n",
       "       [1.49319141, 1.92751235, 1.17837869],\n",
       "       [2.9230019 , 2.77657037, 2.13689153],\n",
       "       [1.08292849, 1.90383863, 1.51318642],\n",
       "       [1.69128859, 1.15432354, 1.00123073],\n",
       "       [2.55584469, 2.39977769, 2.72436051],\n",
       "       [4.23474803, 4.71603578, 4.42050696],\n",
       "       [4.14775399, 4.9151904 , 4.90321526],\n",
       "       [2.87953353, 2.71866689, 2.40589254],\n",
       "       [4.23051092, 4.28580283, 4.88014187],\n",
       "       [4.21449842, 4.77274954, 4.83630564],\n",
       "       [4.05080239, 4.33275806, 4.68216369],\n",
       "       [1.10893869, 1.9759665 , 1.39599386],\n",
       "       [1.48721116, 1.86167553, 1.00379764],\n",
       "       [1.26974789, 1.4186657 , 1.14749074],\n",
       "       [4.08931968, 4.0918723 , 4.90878204],\n",
       "       [1.63426739, 1.58873193, 1.07865792],\n",
       "       [1.16796222, 1.67962762, 1.67525105],\n",
       "       [4.81772653, 4.01059821, 4.4161477 ],\n",
       "       [2.02705195, 2.44064636, 2.20101374]])"
      ]
     },
     "metadata": {},
     "output_type": "display_data"
    },
    {
     "name": "stdout",
     "output_type": "stream",
     "text": [
      "[[4.74730405 4.77948511 4.9443991 ]\n",
      " [1.55518331 1.01082398 1.2655518 ]\n",
      " [4.43267471 4.51082204 4.12413034]\n",
      " [2.66457233 2.0141695  2.39815676]\n",
      " [2.85494354 2.79206873 2.89876616]\n",
      " [4.52795868 4.31908637 4.14873275]\n",
      " [2.23899289 2.78270114 2.41945964]\n",
      " [2.5297501  2.6247339  2.98255521]\n",
      " [4.46802619 4.518024   4.63168649]\n",
      " [1.93491339 1.04820636 1.52827104]\n",
      " [4.79152853 4.75435394 4.68278118]\n",
      " [4.68433592 4.5551798  4.60994399]\n",
      " [1.27030071 1.1121158  1.3579824 ]\n",
      " [4.15834207 4.13401832 4.90778613]\n",
      " [2.17909822 2.87798962 2.27989494]\n",
      " [4.32809365 4.89578942 4.62442728]\n",
      " [4.96085928 4.20848296 4.39177009]\n",
      " [4.59877151 4.25956828 4.81136544]\n",
      " [4.99836963 4.72163745 4.3341854 ]\n",
      " [2.07226292 2.25475041 2.68181992]\n",
      " [4.29185074 4.01191814 4.26001788]\n",
      " [1.49459021 1.12759216 1.18223941]\n",
      " [4.96853134 4.65155797 4.74639415]\n",
      " [1.76375533 1.79784755 1.23592992]\n",
      " [2.9007103  2.68390965 2.84744388]\n",
      " [1.66088416 1.41455824 1.5342877 ]\n",
      " [1.80156685 1.75833363 1.93443872]\n",
      " [2.41015052 2.16311673 2.42457502]\n",
      " [2.58900074 2.96135911 2.36718218]\n",
      " [2.32325549 2.33831097 2.41087391]\n",
      " [2.04944093 2.67592511 2.10599892]\n",
      " [1.36637542 1.76362135 1.64120897]\n",
      " [1.06574541 1.61284688 1.47981374]\n",
      " [4.91296246 4.77583886 4.04519805]\n",
      " [1.45599243 1.19598626 1.53795358]\n",
      " [2.07404769 2.86746653 2.28014277]\n",
      " [2.65273425 2.09582319 2.66783022]\n",
      " [2.46777937 2.42693088 2.4646598 ]\n",
      " [1.17153855 1.97386548 1.94204518]\n",
      " [2.5363299  2.37906143 2.71061551]\n",
      " [2.78095027 2.46660263 2.64421212]\n",
      " [1.49319141 1.92751235 1.17837869]\n",
      " [2.9230019  2.77657037 2.13689153]\n",
      " [1.08292849 1.90383863 1.51318642]\n",
      " [1.69128859 1.15432354 1.00123073]\n",
      " [2.55584469 2.39977769 2.72436051]\n",
      " [4.23474803 4.71603578 4.42050696]\n",
      " [4.14775399 4.9151904  4.90321526]\n",
      " [2.87953353 2.71866689 2.40589254]\n",
      " [4.23051092 4.28580283 4.88014187]\n",
      " [4.21449842 4.77274954 4.83630564]\n",
      " [4.05080239 4.33275806 4.68216369]\n",
      " [1.10893869 1.9759665  1.39599386]\n",
      " [1.48721116 1.86167553 1.00379764]\n",
      " [1.26974789 1.4186657  1.14749074]\n",
      " [4.08931968 4.0918723  4.90878204]\n",
      " [1.63426739 1.58873193 1.07865792]\n",
      " [1.16796222 1.67962762 1.67525105]\n",
      " [4.81772653 4.01059821 4.4161477 ]\n",
      " [2.02705195 2.44064636 2.20101374]]\n"
     ]
    }
   ],
   "source": [
    "X_train[1:10]\n",
    "from IPython.display import Markdown, display\n",
    "display(X_train)\n",
    "print(X_train)"
   ]
  },
  {
   "cell_type": "code",
   "execution_count": 9,
   "metadata": {},
   "outputs": [
    {
     "data": {
      "text/plain": [
       "array([[0, 1, 0],\n",
       "       [0, 0, 1],\n",
       "       [1, 0, 0],\n",
       "       [1, 0, 0],\n",
       "       [0, 0, 1],\n",
       "       [1, 0, 0],\n",
       "       [1, 0, 0],\n",
       "       [0, 0, 1],\n",
       "       [0, 1, 0]], dtype=uint8)"
      ]
     },
     "execution_count": 9,
     "metadata": {},
     "output_type": "execute_result"
    }
   ],
   "source": [
    "y_train[1:10]"
   ]
  },
  {
   "cell_type": "markdown",
   "metadata": {},
   "source": [
    "$ W = W - l*(Y-softmax(W,b,X))^T.dot(X)$"
   ]
  },
  {
   "cell_type": "code",
   "execution_count": 110,
   "metadata": {},
   "outputs": [],
   "source": [
    "def perform_gradient(X,y,max_iter=999,learning_rate=0.1):\n",
    "    innitial_value =5  \n",
    "    \n",
    "    bias = np.full((y.shape[1],),innitial_value)\n",
    "    W = np.full((X.shape[1], y.shape[1]), innitial_value)\n",
    "    m = X.shape[0] \n",
    "    P = sofmax(X,W,bias)\n",
    "    for i in range(1000):\n",
    "        P = sofmax(X,W,bias)\n",
    "        B = y-P\n",
    "        w_delta =(1/m)*(learning_rate*B.T.dot(X))\n",
    "        b_delta = (1/m)*learning_rate*np.sum(B, axis=0)\n",
    "        if np.isnan(w_delta).any() or np.isnan(b_delta).any():\n",
    "            print('or fuck')\n",
    "            break;   \n",
    "        #print('bias ' ,bias)      \n",
    "        W = W + w_delta\n",
    "        bias = bias + b_delta\n",
    "        \n",
    "    print('bias ' ,bias)    \n",
    "    print('W ' ,W)   "
   ]
  },
  {
   "cell_type": "code",
   "execution_count": 111,
   "metadata": {},
   "outputs": [
    {
     "name": "stdout",
     "output_type": "stream",
     "text": [
      "bias  [ 5.28361925 10.08490948 -0.36852873]\n",
      "W  [[5.08196969 5.03709761 5.15405716]\n",
      " [4.24027399 4.67333502 3.818242  ]\n",
      " [5.67775632 5.28956737 6.02770084]]\n"
     ]
    }
   ],
   "source": [
    "perform_gradient(X_train,y_train)\n"
   ]
  },
  {
   "cell_type": "code",
   "execution_count": 114,
   "metadata": {},
   "outputs": [],
   "source": [
    "W = np.array([[ -9.55477001,  -9.857533 ,   -9.65607295],\n",
    " [ 47.63607657 , 47.80641582 , 48.23073022],\n",
    " [-23.08130656, -22.94888282 ,-23.57465728]]);\n",
    "intercept = np.array([-0.86289088 ,17.06748567, -1.20459479])\n",
    "\n",
    "intercept= np.array(  [ 5.28361925 ,10.08490948 ,-0.36852873])\n",
    "W = np.array( [[5.08196969 ,5.03709761 ,5.15405716],\n",
    " [4.24027399, 4.67333502 ,3.818242  ],\n",
    " [5.67775632, 5.28956737, 6.02770084]])"
   ]
  },
  {
   "cell_type": "code",
   "execution_count": 116,
   "metadata": {},
   "outputs": [
    {
     "name": "stdout",
     "output_type": "stream",
     "text": [
      "original data label Y :  \n",
      "[[0 1 0]\n",
      " [0 0 1]\n",
      " [1 0 0]\n",
      " [1 0 0]\n",
      " [0 0 1]\n",
      " [1 0 0]\n",
      " [1 0 0]\n",
      " [0 0 1]\n",
      " [0 1 0]\n",
      " [0 0 1]\n",
      " [0 0 1]\n",
      " [0 1 0]\n",
      " [0 0 1]\n",
      " [1 0 0]\n",
      " [0 0 1]\n",
      " [0 0 1]\n",
      " [0 0 1]\n",
      " [0 0 1]\n",
      " [1 0 0]]\n",
      "\n",
      "predicted data label Y' :\n",
      "[[0.19 0.8  0.01]\n",
      " [0.15 0.   0.85]\n",
      " [0.67 0.17 0.16]\n",
      " [0.64 0.05 0.31]\n",
      " [0.15 0.   0.85]\n",
      " [0.67 0.18 0.15]\n",
      " [0.66 0.07 0.27]\n",
      " [0.1  0.   0.9 ]\n",
      " [0.32 0.67 0.02]\n",
      " [0.08 0.   0.92]\n",
      " [0.09 0.   0.91]\n",
      " [0.18 0.81 0.01]\n",
      " [0.1  0.   0.9 ]\n",
      " [0.66 0.21 0.13]\n",
      " [0.1  0.   0.9 ]\n",
      " [0.1  0.   0.9 ]\n",
      " [0.09 0.   0.91]\n",
      " [0.09 0.   0.91]\n",
      " [0.67 0.18 0.15]]\n"
     ]
    }
   ],
   "source": [
    "print('original data label Y :  ')\n",
    "print(y_train[1:20])\n",
    "print('')\n",
    "print(\"predicted data label Y' :\")\n",
    "print(np.around(sofmax(X_train,W,intercept)[1:20],2))"
   ]
  },
  {
   "cell_type": "markdown",
   "metadata": {},
   "source": [
    "$$GREAT!!!$$"
   ]
  },
  {
   "cell_type": "code",
   "execution_count": null,
   "metadata": {},
   "outputs": [],
   "source": [
    "1/4"
   ]
  },
  {
   "cell_type": "code",
   "execution_count": 42,
   "metadata": {},
   "outputs": [
    {
     "name": "stdout",
     "output_type": "stream",
     "text": [
      "[[3 3]\n",
      " [3 3]\n",
      " [3 3]]\n",
      "[[1 1]\n",
      " [1 1]\n",
      " [1 1]]\n",
      "True\n",
      "False\n"
     ]
    },
    {
     "ename": "NameError",
     "evalue": "name 'Float' is not defined",
     "output_type": "error",
     "traceback": [
      "\u001b[1;31m---------------------------------------------------------------------------\u001b[0m",
      "\u001b[1;31mNameError\u001b[0m                                 Traceback (most recent call last)",
      "\u001b[1;32m<ipython-input-42-5917483680d7>\u001b[0m in \u001b[0;36m<module>\u001b[1;34m\u001b[0m\n\u001b[0;32m      6\u001b[0m \u001b[0mprint\u001b[0m\u001b[1;33m(\u001b[0m \u001b[0mmath\u001b[0m\u001b[1;33m.\u001b[0m\u001b[0misinf\u001b[0m\u001b[1;33m(\u001b[0m\u001b[0mfloat\u001b[0m\u001b[1;33m(\u001b[0m\u001b[1;34m'inf'\u001b[0m\u001b[1;33m)\u001b[0m\u001b[1;33m)\u001b[0m \u001b[1;33m)\u001b[0m\u001b[1;33m\u001b[0m\u001b[1;33m\u001b[0m\u001b[0m\n\u001b[0;32m      7\u001b[0m \u001b[0mprint\u001b[0m\u001b[1;33m(\u001b[0m \u001b[0mmath\u001b[0m\u001b[1;33m.\u001b[0m\u001b[0misinf\u001b[0m\u001b[1;33m(\u001b[0m\u001b[1;36m99999999999999.99\u001b[0m\u001b[1;33m)\u001b[0m \u001b[1;33m)\u001b[0m\u001b[1;33m\u001b[0m\u001b[1;33m\u001b[0m\u001b[0m\n\u001b[1;32m----> 8\u001b[1;33m \u001b[0mprint\u001b[0m\u001b[1;33m(\u001b[0m\u001b[0mFloat\u001b[0m\u001b[1;33m(\u001b[0m\u001b[1;34m'NaN'\u001b[0m\u001b[1;33m)\u001b[0m\u001b[1;33m)\u001b[0m\u001b[1;33m\u001b[0m\u001b[1;33m\u001b[0m\u001b[0m\n\u001b[0m",
      "\u001b[1;31mNameError\u001b[0m: name 'Float' is not defined"
     ]
    }
   ],
   "source": []
  }
 ],
 "metadata": {
  "kernelspec": {
   "display_name": "Python 3",
   "language": "python",
   "name": "python3"
  },
  "language_info": {
   "codemirror_mode": {
    "name": "ipython",
    "version": 3
   },
   "file_extension": ".py",
   "mimetype": "text/x-python",
   "name": "python",
   "nbconvert_exporter": "python",
   "pygments_lexer": "ipython3",
   "version": "3.7.4"
  }
 },
 "nbformat": 4,
 "nbformat_minor": 2
}
