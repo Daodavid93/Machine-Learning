{
 "cells": [
  {
   "cell_type": "code",
   "execution_count": 1,
   "metadata": {},
   "outputs": [],
   "source": [
    "import numpy as np\n",
    "import matplotlib.pyplot as plt\n",
    "%matplotlib inline"
   ]
  },
  {
   "cell_type": "markdown",
   "metadata": {},
   "source": [
    "<style>\n",
    ".city {\n",
    "  background-color: tomato;\n",
    "  color: '#270336';\n",
    "  font-face : \"Times New Roma\";\n",
    "  margin-right: 45px; \n",
    "  margin-left: 45px;  \n",
    "}\n",
    "</style>\n"
   ]
  },
  {
   "cell_type": "markdown",
   "metadata": {},
   "source": []
  },
  {
   "cell_type": "markdown",
   "metadata": {},
   "source": [
    "Principle Component Analisis"
   ]
  },
  {
   "cell_type": "code",
   "execution_count": 6,
   "metadata": {},
   "outputs": [],
   "source": [
    "x = np.linspace(-10,10)\n",
    "f = lambda x : 2*x\n",
    "y = f(x)"
   ]
  },
  {
   "cell_type": "code",
   "execution_count": 57,
   "metadata": {},
   "outputs": [],
   "source": [
    "def cord_syst(x,y,len,label,**kwargs):\n",
    "    print(type(x))\n",
    "    axes = plt.gca();\n",
    "    axes.arrow(0, 0, len*x, 0,head_width=0.3, head_length=2)\n",
    "    axes.arrow(0, 0, 0, len*y,head_width=0.3, head_length=2)\n",
    "    plt.text(len*x, 0,label[0], fontsize=12)\n",
    "    plt.text(0, len*y,label[1], fontsize=12)\n",
    "    axes.set_aspect('equal', adjustable='box')\n",
    "\n",
    "    \n",
    "#cord_syst(1,1,\"s\",s=1)    "
   ]
  },
  {
   "cell_type": "code",
   "execution_count": 67,
   "metadata": {},
   "outputs": [
    {
     "data": {
      "text/plain": [
       "<matplotlib.patches.FancyArrow at 0x2520702d588>"
      ]
     },
     "execution_count": 67,
     "metadata": {},
     "output_type": "execute_result"
    },
    {
     "data": {
      "image/png": "[encoded data removed]",
      "text/plain": [
       "<Figure size 432x288 with 1 Axes>"
      ]
     },
     "metadata": {
      "needs_background": "light"
     },
     "output_type": "display_data"
    }
   ],
   "source": [
    "#plt.scatter(x,y)\n",
    "fig = plt.figure()\n",
    "ax = fig.add_subplot(111)\n",
    "ax.scatter(x,y)\n",
    "#axes = plt.gca();\n",
    "ax.arrow(0, 0, 3*3, 0,head_width=0.3, head_length=2)\n",
    "#cord_syst(1,1,len=10,label=['x','y'],s=1)   "
   ]
  },
  {
   "cell_type": "code",
   "execution_count": null,
   "metadata": {},
   "outputs": [],
   "source": []
  }
 ],
 "metadata": {
  "kernelspec": {
   "display_name": "Python 3",
   "language": "python",
   "name": "python3"
  },
  "language_info": {
   "codemirror_mode": {
    "name": "ipython",
    "version": 3
   },
   "file_extension": ".py",
   "mimetype": "text/x-python",
   "name": "python",
   "nbconvert_exporter": "python",
   "pygments_lexer": "ipython3",
   "version": "3.7.6"
  }
 },
 "nbformat": 4,
 "nbformat_minor": 4
}
