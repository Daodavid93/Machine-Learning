{
 "cells": [
  {
   "cell_type": "code",
   "execution_count": 3,
   "metadata": {},
   "outputs": [],
   "source": [
    "%matplotlib inline"
   ]
  },
  {
   "cell_type": "code",
   "execution_count": 1,
   "metadata": {},
   "outputs": [],
   "source": [
    "import matplotlib.pyplot as plt\n",
    "plt.style.use('classic')\n",
    "import seaborn as sns\n",
    "import numpy as np\n",
    "import pandas as pd\n",
    "from mpl_toolkits.mplot3d import Axes3D\n",
    "import math\n",
    "from mpl_toolkits import mplot3d\n",
    "\n",
    "from svn_util.dplot import VectorGround\n"
   ]
  },
  {
   "cell_type": "markdown",
   "metadata": {},
   "source": [
    "\n",
    "\n",
    "# Linear dependency .Definitions and theorems"
   ]
  },
  {
   "cell_type": "markdown",
   "metadata": {},
   "source": [
    "#### Linear dependecy \n",
    "deff : let's to have set of n vectors $\\vec{r}_i\\in L^n linear space$ if exists real numbers $\\gamma_i\\in |R $ such that :\n",
    "$$\\sum_{i=n}^{n}\\gamma_i.r_i=0$$ the vecors $\\vec{r}_i$ are linear dependent <br>\n",
    "\n"
   ]
  },
  {
   "cell_type": "markdown",
   "metadata": {},
   "source": [
    "### Theorem 1: <br> \n",
    "##### if the n vectors for example  $\\vec{r_1}=r_{11}.\\vec{e}_1 +r_{12}.\\vec{e}_2  + _{13}.\\vec{e}_3 $    \n",
    "##### and $\\vec{r_2}=r_{21}.\\vec{e}_1 +r_{22}.\\vec{e}_2  + _{23}.\\vec{e}_3 $   \n",
    " , $\\vec{r_3}=r_{31}.\\vec{e}_1 +r_{32}.\\vec{e}_2  + _{33}.\\vec{e}_3 $ where $\\vec{r}_{i}\\in{L^3}$ \n",
    "##### are linear dependent then   $\\det{R}=0$   \n",
    "$\\large\\det{R}=\\large{\\bigtriangleup}\n",
    "\\begin{pmatrix} \n",
    "r_{11} & r_{21} & r_{31} \\\\\n",
    "r_{12} & r_{22} & r_{32} \\\\\n",
    "r_{13} & r_{23} & r_{33}\n",
    "\\end{pmatrix} \n",
    "\\quad$ $\\large {=0}$\n"
   ]
  },
  {
   "cell_type": "markdown",
   "metadata": {},
   "source": [
    "#### proof:\n",
    "  if vectors $\\vec{r_1}$ and $\\vec{r_2}$,$\\vec{r_3}$ are linear depend then by deffinition \n",
    "  we have $$\\gamma_1.\\vec{r}_1 + \\gamma_2.\\vec{r}_2 +   \\gamma_3.\\vec{r}_3  = 0 $$\n",
    "  wich can be expressed as : <br>\n",
    "   $\\gamma_1.(r_{11}\\vec{e}_1+r_{12}\\vec{e}_2+r_{13}\\vec{e}_3) $ + \n",
    "   $\\gamma_2.(r_{21}\\vec{e}_1+r_{22}\\vec{e}_2+r_{23}\\vec{e}_3) $ + \n",
    "   $ \\gamma_3.(r_{31}\\vec{e}_1+r_{32}\\vec{e}_2+r_{33}\\vec{e}_3) =  $ <br> \n",
    "   $(\\gamma_1.r_{11} + \\gamma_2.r_{21} +\\gamma_3.r_{31}).\\vec{e}_1 $ + \n",
    "   $(\\gamma_1.r_{12} + \\gamma_2.r_{22} +\\gamma_3.r_{31}).\\vec{e}_2 $\n",
    "   $(\\gamma_1.r_{13} + \\gamma_2.r_{23} +\\gamma_3.r_{33}).\\vec{e}_3 = 0 $ <br>\n",
    "   the desion are when $$ \\gamma_i.r_{ik}=0$$\n",
    "   in matrix form expressed $\\large{R*Y=0}$ <br>\n",
    "\n",
    "!!!ERROR\n",
    "$$\\begin{pmatrix} \n",
    "r_{21} & r_{22}  \n",
    "\\end{pmatrix}*\n",
    "\\begin{pmatrix} \n",
    "r_{31}\\\\r_{32}\n",
    "\\end{pmatrix}=0\n",
    "\\quad$$  \n",
    "\n",
    "$$\\begin{pmatrix} \n",
    "\\gamma_1 \\\\\n",
    "\\gamma_2\n",
    "\\end{pmatrix}=\n",
    " $$\n",
    "\n",
    "$ \\begin{pmatrix} \n",
    "r_{11} & r_{21} & r_{31} \\\\\n",
    "r_{12} & r_{22} & r_{32} \\\\\n",
    "r_{13} & r_{23} & r_{33}\n",
    "\\end{pmatrix} *\n",
    "\\begin{pmatrix} \n",
    "\\gamma_{11} \\\\\n",
    "\\gamma_{12} \\\\\n",
    "\\gamma_{13}\n",
    "\\end{pmatrix}\n",
    "=\n",
    "\\begin{pmatrix} \n",
    "0 \\\\0 \\\\0\n",
    "\\end{pmatrix}\\quad $\n",
    "<br> From theory of linear algebra we know that the above matrix eqation has only desion when $\\det{R}=0$\n",
    "\n",
    "and $\\det{R}=\\det{R^T}$ is true as well\n",
    "\n",
    "R^T = transpose matrix of R wihc  is <br>\n",
    "\n",
    "$\\large{R^T}=$ $\\begin{pmatrix} \n",
    "r_{11} & r_{21} & r_{31} \\\\\n",
    "r_{12} & r_{22} & r_{32} \\\\ r_{13} & r_{23} & r_{33}\\end{pmatrix}\\quad$\n",
    "from above discussion $\\Rightarrow$  $\\large{det{R^T}=0}$ and threorem is proven"
   ]
  },
  {
   "cell_type": "markdown",
   "metadata": {},
   "source": [
    "#### Example : <br>\n",
    "let's to have $r_1=2.\\vec{e}_1+3.\\vec{e}_2$   and    $r_1=4.\\vec{e}_1+6.\\vec{e}_2$\n"
   ]
  },
  {
   "cell_type": "code",
   "execution_count": 141,
   "metadata": {},
   "outputs": [
    {
     "data": {
      "image/png": "[encoded data removed]",
      "text/plain": [
       "<Figure size 640x480 with 1 Axes>"
      ]
     },
     "metadata": {},
     "output_type": "display_data"
    }
   ],
   "source": [
    "g = VectorGround()\n",
    "g.add_v(0,0,2,3,font_size=20)\n",
    "g.add_v(0,0,4,6,font_size=20)"
   ]
  },
  {
   "cell_type": "markdown",
   "metadata": {},
   "source": [
    "#### we can see from geometric graphic that the vector are linear depends\n",
    "#### but lets to check if exists $\\gamma_i$ $\\gamma_2$ ,<br>"
   ]
  },
  {
   "cell_type": "markdown",
   "metadata": {},
   "source": [
    "$\\gamma_i.\\vec{r}_1 + \\gamma_2.\\vec{r}_2 =$ <br> $\\gamma_1.(2.\\vec{e}_1+3.\\vec{e}_2) + \\gamma_2.(4.\\vec{e}_1+6.\\vec{e}_2) = $ <br>$ (\\gamma_1.2+\\gamma_2.4)\\vec{e} +(\\gamma_1.3+\\gamma_2.6)\\vec{e}=0 $ <br>\n",
    "$\t\\Rightarrow$ <br>\n",
    "$(\\gamma_1.2+\\gamma_2.4) =0 $ <br>\n",
    "$(\\gamma_1.3+\\gamma_2.6) =0 $ in matrix form : <br>\n",
    "$$\\begin{pmatrix} \n",
    "2 & 4 \\\\\n",
    "3 & 6 \n",
    "\\end{pmatrix}*\n",
    "\\begin{pmatrix} \n",
    "\\gamma_1 \\\\\n",
    "\\gamma_2\n",
    "\\end{pmatrix}=\n",
    "\\begin{pmatrix} \n",
    "0 \\\\\n",
    "0\n",
    "\\end{pmatrix}\n",
    "\\quad$$\n",
    "\n",
    "the above eqation has a decision only when $\\det{A} = 0$\n",
    "$$\\det{A} = r_{11}.r_{22} -r_{12}.r_{21} =  2*6 - 3*4 =0$$ \n",
    "#### from above theore $\t\\Rightarrow$ $\\gamma_i$ $\\gamma_2$  exists and $\\gamma_1=-2.\\gamma_2$ and moreover we can and from $|\\vec{r}_1|=\\gamma |\\vec{r_2}|$ we can calculate that $\\gamma=r_{11}/r_{21}$=1/2\n"
   ]
  },
  {
   "cell_type": "markdown",
   "metadata": {},
   "source": [
    "### Threorem 2:\n",
    "##### if vectors $\\vec{r}_1,\\vec{r}_2,\\vec{r}_3$ satisfy $\\vec{r}_1 \\perp \\vec{r}_3 $  and  $\\vec{r}_2 \\perp \\vec{r}_3 $  \t$\\Rightarrow$  $\\vec{r}_1$ and $\\vec{r}_2$  are linear dependent\n",
    "#### Proof :\n",
    "if $\\vec{r}_1\\perp\\vec{r}_3$ then the angle between the both vector $\\alpha$=90  and moreover the dot product  $<\\vec{r}_1|\\vec{r}_2>=|\\vec{r}_1|.|\\vec{r}_2|.\\cos{90}=r_{ki}.r_{li}=0$ <br>\n",
    "in matrix $r_{ki}.r_{li}=0$ in matrix form form we ca write :\n",
    "\n",
    "$$\\begin{pmatrix} \n",
    "r_{11} & r_{12} \n",
    "\\end{pmatrix}*\n",
    "\\begin{pmatrix} \n",
    "r_{31}\\\\\n",
    "r_{32} \n",
    "\\end{pmatrix}=0\n",
    "\\quad$$\n",
    "\n",
    "\n",
    "$$\\begin{pmatrix} \n",
    "r_{21} & r_{22}  \n",
    "\\end{pmatrix}*\n",
    "\\begin{pmatrix} \n",
    "r_{31}\\\\r_{32}\n",
    "\\end{pmatrix}=0\n",
    "\\quad$$  \n",
    "\n",
    "###### their union\n",
    "$$\\begin{pmatrix} \n",
    "r_{11} & r_{12}  \\\\\n",
    "r_{21} & r_{22} \n",
    "\\end{pmatrix}*\n",
    "\\begin{pmatrix} \n",
    "r_{31}\\\\\n",
    "r_{32} \n",
    "\\end{pmatrix}=0\n",
    "\\quad$$  \n",
    "#### from theorem 1$\\Rightarrow$ $\\vec{r}_1$ and $\\vec{r}_1$ are linear dependent\n",
    "#### ! when $\\vec{r}_1$ , $\\vec{r}_2$ ,$\\vec{r}_3$ $\\in$ $L^2$ then $\\vec{r}_1$ , $\\vec{r}_2$ lie one same line and when$\\vec{r}_1$ , $\\vec{r}_2$ ,$\\vec{r}_3$ $\\in$ $L^3$ then $\\vec{r}_1$ , $\\vec{r}_2 $ are linear independent then $\\vec{r}_1$ , $\\vec{r}_2$  form plane with vectors  $\\vec{z}=a.\\vec{r}_1+b.\\vec{r}_2 $ wich is pependicular to $\\vec{r}_3$ a,b is just a scallar if demension L>3 they can form hyperplane "
   ]
  },
  {
   "cell_type": "code",
   "execution_count": null,
   "metadata": {},
   "outputs": [],
   "source": []
  }
 ],
 "metadata": {
  "kernelspec": {
   "display_name": "Python 3",
   "language": "python",
   "name": "python3"
  },
  "language_info": {
   "codemirror_mode": {
    "name": "ipython",
    "version": 3
   },
   "file_extension": ".py",
   "mimetype": "text/x-python",
   "name": "python",
   "nbconvert_exporter": "python",
   "pygments_lexer": "ipython3",
   "version": "3.7.6"
  }
 },
 "nbformat": 4,
 "nbformat_minor": 2
}
