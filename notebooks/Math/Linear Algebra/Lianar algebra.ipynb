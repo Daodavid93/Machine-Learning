{
 "cells": [
  {
   "cell_type": "code",
   "execution_count": 7,
   "metadata": {},
   "outputs": [],
   "source": [
    "%matplotlib inline"
   ]
  },
  {
   "cell_type": "code",
   "execution_count": null,
   "metadata": {},
   "outputs": [],
   "source": []
  },
  {
   "cell_type": "code",
   "execution_count": null,
   "metadata": {},
   "outputs": [],
   "source": []
  },
  {
   "cell_type": "code",
   "execution_count": 6,
   "metadata": {},
   "outputs": [],
   "source": [
    "import warnings\n",
    "import datetime\n",
    "\n",
    "import numpy as np\n",
    "import matplotlib.pyplot as plt\n",
    "import pandas as pd\n",
    "import seaborn as sns\n",
    "\n",
    "from sklearn.model_selection import train_test_split\n",
    "from IPython.display import display, Markdown , Math \n",
    "\n",
    "sns.set()\n",
    "warnings.filterwarnings('ignore')\n",
    "import matplotlib.pyplot as plt\n",
    "from mpl_toolkits.mplot3d import Axes3D\n",
    "import matplotlib.style\n",
    "import matplotlib as mpl\n",
    "mpl.style.use('classic')"
   ]
  },
  {
   "cell_type": "code",
   "execution_count": 1,
   "metadata": {},
   "outputs": [],
   "source": [
    "def printmd(string): display(Markdown(string))\n",
    "def latex(out): printmd(f'{out}')  \n",
    "def pr(string): printmd('***{}***'.format(string))"
   ]
  },
  {
   "cell_type": "markdown",
   "metadata": {},
   "source": [
    "<h2>\n",
    "  <p>\n",
    "    <a href =   \"https://github.com/daodavid\" > \n",
    "       <img src=\"https://cdn.thenewstack.io/media/2014/12/github-octocat.png\" align=\"left\" width=\"120\"  alt=\"daodavid\" >\n",
    "    </a>\n",
    "    <font face = \"Times New Roma\" size=\"4\"  color='#270336'>\n",
    "        author: daodeiv (David Stankov) \n",
    "    </font>\n",
    "</p>      \n",
    "</h2>  "
   ]
  },
  {
   "cell_type": "markdown",
   "metadata": {},
   "source": [
    "<h6>\n",
    "  <font size=\"4\" face = \"Times New Roma\" color='#3f134f' > \n",
    "    <ul style=\"margin-left: 30px\">\n",
    "      <li><a href='#abstract'>Abstract </a> </li> <br>\n",
    "      <!--<li><a href='#int-1'>Introduction </a> </li><br> -->\n",
    "      <li><a href='#operator'>Linear operator</a> </li><br>\n",
    "      <li><a href='#cross_entropy'>Cross-entropy Loss</a> </li><br>  \n",
    "      <li><a href='#optimization'>Optimization of softmax by Cross-entropy Loss and derivation of Gradient descent formula </a> </li><br>\n",
    "       <li><a href='#gradient'>Implementation of Gradient descent algorithm </a> </li><br> \n",
    "      <li><a href='#reg'>Regularization of gradient descent by learning rate and max iterations</a> </li><br>     \n",
    "       <li><a href='#conclusion'>Conclusion</a> </li><br>  \n",
    "        \n",
    "</ul>    \n",
    " </font>\n",
    "  </h6>"
   ]
  },
  {
   "cell_type": "markdown",
   "metadata": {},
   "source": [
    "<font size=\"1\" id=\"operator\">... </font> \n",
    "<h2 face = \"Times New Roma\" color='#270336' >&nbsp; Linear operator</h2>"
   ]
  },
  {
   "cell_type": "markdown",
   "metadata": {},
   "source": [
    "\n",
    "<font size=\"4\" color='#270336' face = \"Times New Roma\">\n",
    "     deff : The operator A acts on linear space $L^n$ is linear if for every x,y $\\in $ $L^n$ and $\\gamma x,\\beta \\in R $ is  satify $A(\\gamma x+ \\beta y)=\\gamma A(x) + \\beta A(y)$ <br>\n",
    "    For the linear operators satify the folowong acsions : <br> \n",
    "</font>\n",
    "    "
   ]
  },
  {
   "cell_type": "markdown",
   "metadata": {},
   "source": [
    " <font size=\"5\" id=\"deff_softmax\" color='#4a3e20'>\n",
    "    $$ for\\; every\\; opeararos\\; A,B\\; \\gamma \\;in \\;R $$\n",
    "    $$(A + B)r  = Ar + Br $$\n",
    "    $$ \\gamma (A + B)  =  \\gamma A+   \\gamma B $$\n",
    "    $$ \\gamma (AB)r  =  A(Br) $$\n",
    "    $$ exists \\; I \\; such\\;that\\;IA=AI=A $$\n",
    "</font>"
   ]
  },
  {
   "cell_type": "markdown",
   "metadata": {},
   "source": [
    "<font size=\"4\" color='#270336' face = \"Times New Roma\"> \n",
    "example : <br>\n",
    "    let $ A = \\begin{pmatrix} \n",
    "a & b & c \\\\\n",
    "c & d & d\\\\\n",
    "e & f & g \\\\\n",
    "\\end{pmatrix}$"
   ]
  },
  {
   "cell_type": "code",
   "execution_count": 4,
   "metadata": {},
   "outputs": [],
   "source": [
    "def cartesian_product(x,y):\n",
    "    \"\"\"\n",
    "    retrun catesian product\n",
    "    \"\"\"\n",
    "    return np.transpose([np.tile(x, len(y)), np.repeat(y, len(x))])\n",
    "\n",
    "\n",
    "\n",
    "class VectorGround:\n",
    "    def __init__(self, range=[-3,10], fig_size=(20,20),**kwargs):\n",
    "        self.plt = plt\n",
    "        self.range=range\n",
    "        self.ax = self.plt.gca()\n",
    "        self.ax.set_aspect('equal')\n",
    "        plt.grid()\n",
    "        self.ax.arrow(0, 0, 1, 0, head_width=0.1, head_length=0.1, fc='blue', ec='black')\n",
    "        self.ax.arrow(0, 0, 0, 1, head_width=0.1, head_length=0.1, fc='blue', ec='black')\n",
    "\n",
    "        self.ax.text(1, -0.3, r'$\\vec{e}_1$',fontsize=16,color='red')\n",
    "        self.ax.text(-0.4, 1, r'$\\vec{e}_2$',fontsize=16,color='red')\n",
    "        self.plt.xlim(range[0],range[1])\n",
    "        self.plt.ylim(range[0],range[1])\n",
    "        self.ax.set_xlabel('X',fontsize=30)\n",
    "        \n",
    "        self.ax.set_ylabel('Y',fontsize=30)\n",
    "        self.plt.title('',fontsize=10)\n",
    "\n",
    "        self.plt.savefig('fig1.png', bbox_inches='tight')\n",
    "    \n",
    "    def add_v(self,x_0,y_0,x,y,index='1',show_cord=True,font_size=15):\n",
    "        self.ax.arrow(x_0, y_0, x, y, head_width=0.1, head_length=0.1, fc='black', ec='black')\n",
    "    \n",
    "        if show_cord:\n",
    "            #self.ax.text(x, y-0.2, r'$\\vec{r}_{%s}(%1.1f:%1.1f)$' % (index,x, y),fontsize=font_size,color='blue')\n",
    "            self.ax.text(x, y-0.2, r'$\\vec{r}_{%s}(%1.f:%1.f)$' % (index,x, y),fontsize=font_size,color='blue')\n",
    "    def plot_points(self,points,color='b'):\n",
    "        for p in points:\n",
    "            self.plt.scatter(p[0],p[1],color=color)"
   ]
  },
  {
   "cell_type": "code",
   "execution_count": 7,
   "metadata": {},
   "outputs": [
    {
     "name": "stdout",
     "output_type": "stream",
     "text": [
      "<class 'numpy.ndarray'>\n",
      "(81, 2)\n"
     ]
    },
    {
     "data": {
      "image/png": "[encoded data removed]",
      "text/plain": [
       "<Figure size 640x480 with 1 Axes>"
      ]
     },
     "metadata": {},
     "output_type": "display_data"
    }
   ],
   "source": [
    "x_args=y_args = np.linspace(0,10,9)\n",
    "points = np.meshgrid(x_args,y_args)\n",
    "result = cartesian_product(x_args,y_args)\n",
    "print(type(result))\n",
    "\n",
    "g = VectorGround(range=[-10,30])\n",
    "\n",
    "\n",
    "\n",
    "def linear_tranformation(points,matrix):\n",
    "    sh = points.shape\n",
    "    print(sh)\n",
    "    A = np.array([0,0])\n",
    "    for i in points[:][:]:\n",
    "        row = matrix.dot(i)\n",
    "        A=np.vstack([A, row])\n",
    "    return A\n",
    "\n",
    "g.plot_points(result)\n",
    "new_points = linear_tranformation(result,np.array([[1.7,0.6],[0.6,1.7]]))  \n",
    "g.plot_points(new_points,color='r')"
   ]
  },
  {
   "cell_type": "code",
   "execution_count": 64,
   "metadata": {},
   "outputs": [
    {
     "data": {
      "text/plain": [
       "<matplotlib.patches.FancyArrow at 0x1ccb73a7408>"
      ]
     },
     "execution_count": 64,
     "metadata": {},
     "output_type": "execute_result"
    },
    {
     "data": {
      "image/png": "[encoded data removed]",
      "text/plain": [
       "<Figure size 432x288 with 1 Axes>"
      ]
     },
     "metadata": {},
     "output_type": "display_data"
    },
    {
     "data": {
      "text/plain": [
       "<Figure size 1440x1440 with 0 Axes>"
      ]
     },
     "metadata": {},
     "output_type": "display_data"
    }
   ],
   "source": [
    "ax = plt.gca()\n",
    "plt.figure(figsize=[20,20])\n",
    "ax.set_aspect('equal')\n",
    "#plt.grid()\n",
    "ax.arrow(0, 0, 1, 0, head_width=0.1, head_length=0.1, fc='blue', ec='black')\n",
    "ax.arrow(0, 0, 0, 1, head_width=1, head_length=0.1, fc='blue', ec='black')"
   ]
  }
 ],
 "metadata": {
  "kernelspec": {
   "display_name": "Python 3",
   "language": "python",
   "name": "python3"
  },
  "language_info": {
   "codemirror_mode": {
    "name": "ipython",
    "version": 3
   },
   "file_extension": ".py",
   "mimetype": "text/x-python",
   "name": "python",
   "nbconvert_exporter": "python",
   "pygments_lexer": "ipython3",
   "version": "3.7.4"
  }
 },
 "nbformat": 4,
 "nbformat_minor": 2
}
