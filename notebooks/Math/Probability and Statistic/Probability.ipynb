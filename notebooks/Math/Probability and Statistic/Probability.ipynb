{
 "cells": [
  {
   "cell_type": "code",
   "execution_count": 1,
   "metadata": {},
   "outputs": [],
   "source": [
    "%matplotlib inline"
   ]
  },
  {
   "cell_type": "code",
   "execution_count": 2,
   "metadata": {},
   "outputs": [],
   "source": [
    "import warnings\n",
    "import datetime\n",
    "\n",
    "import numpy as np\n",
    "import matplotlib.pyplot as plt\n",
    "import pandas as pd\n",
    "import seaborn as sns\n",
    "\n",
    "from matplotlib.ticker import PercentFormatter\n",
    "from sklearn.model_selection import train_test_split\n",
    "from IPython.display import display, Markdown , Math \n",
    "\n",
    "sns.set()\n",
    "warnings.filterwarnings('ignore')"
   ]
  },
  {
   "cell_type": "code",
   "execution_count": 3,
   "metadata": {},
   "outputs": [],
   "source": [
    "def printmd(string): display(Markdown(string))\n",
    "def latex(out): printmd(f'{out}')  \n",
    "def pr(string): printmd('***{}***'.format(string))"
   ]
  },
  {
   "cell_type": "markdown",
   "metadata": {},
   "source": [
    "# Probability"
   ]
  },
  {
   "cell_type": "markdown",
   "metadata": {},
   "source": [
    "<font face = \"Times New Roma\" size=\"4.5\"  color='#270336' >\n",
    " &nbsp;&nbsp;&nbsp;&nbsp; &nbsp;&nbsp;&nbsp;&nbsp; Let to have a fair coin its fliping can give two posible results S={H,T}. S is set of all posible results of and experiments. When the coin lands heads UP that is denoted by H and Tail up is denoted by T. When we flip a coin many time we expect that the 50% of outcome will be head up and the same for Tail UP.\n",
    "    Then we write the probability of H to occur = 50% . $P(H) = \\frac{1}{2}$ "
   ]
  },
  {
   "cell_type": "markdown",
   "metadata": {},
   "source": [
    "<h6> \n",
    "    <font size=\"3\" color='#270336' face = \"Times New Roma\" >\n",
    "        &nbsp;&nbsp; Let to perform of fliping a coin  in diferent times, and to see the count and perent of occuring.For this purpose we will use <mark>numpy.random</mark>\n",
    "</font>    \n",
    "</h6>  "
   ]
  },
  {
   "cell_type": "code",
   "execution_count": null,
   "metadata": {},
   "outputs": [],
   "source": []
  },
  {
   "cell_type": "code",
   "execution_count": 4,
   "metadata": {},
   "outputs": [],
   "source": [
    "sample_space = np.array(['H','T'])"
   ]
  },
  {
   "cell_type": "code",
   "execution_count": null,
   "metadata": {},
   "outputs": [],
   "source": []
  },
  {
   "cell_type": "code",
   "execution_count": 6,
   "metadata": {},
   "outputs": [
    {
     "data": {
      "text/plain": [
       "array(['H', 'H', 'H', 'T', 'H', 'H', 'T', 'H', 'T', 'T'], dtype='<U32')"
      ]
     },
     "execution_count": 6,
     "metadata": {},
     "output_type": "execute_result"
    }
   ],
   "source": [
    "random_experiment(10, sample_space)"
   ]
  },
  {
   "cell_type": "code",
   "execution_count": null,
   "metadata": {},
   "outputs": [],
   "source": []
  },
  {
   "cell_type": "code",
   "execution_count": null,
   "metadata": {},
   "outputs": [],
   "source": []
  },
  {
   "cell_type": "markdown",
   "metadata": {
    "scrolled": true
   },
   "source": [
    "<h2> Algebra of events </h2>\n",
    "Since the  events are set we can do ussual subset operations. <br>\n",
    "$\\cup$    ,  $\\cap$,  $\\subset$\n",
    "if E and F are set :\n",
    "  $$E\\cup F$$\n",
    "  $$E \\cap F = EF$$\n",
    "  $E^c$  the complement of $E$\n",
    "EF intersection\n",
    "\\venn diagram"
   ]
  },
  {
   "cell_type": "markdown",
   "metadata": {},
   "source": [
    "<h2> Conditianal Probability</h2>"
   ]
  },
  {
   "cell_type": "markdown",
   "metadata": {},
   "source": [
    "<h2> Discrete random variables </h2>\n",
    "Discrete random variable is a function $F(s)$ from finite samples or coutably infinity space to real numbers . <br>\n",
    "$$ X(.) : s  \\rightarrow R $$"
   ]
  },
  {
   "cell_type": "markdown",
   "metadata": {},
   "source": [
    "for the sample space S = {HHH , HHT , HTH , HTT , THH , THT , TTH , TTT} ,<br>\n",
    "with X(s) number of Heads, we have <bt>\n",
    "    $$ P( 0 < X \\leq 2) = \\frac{6}{8}$$"
   ]
  },
  {
   "cell_type": "code",
   "execution_count": null,
   "metadata": {},
   "outputs": [],
   "source": []
  },
  {
   "cell_type": "markdown",
   "metadata": {},
   "source": [
    "what are the values of ? \n",
    "$ P(  X  - \\leq 1)  ,  P(  X  \\leq 0),  P(X  \\leq 1),  P( 0 < X \\leq 2),  P( 0 < X \\leq 3) , ,  P( 0 < X \\leq 5) $ <br>\n",
    "we also write $p_X(x)$ to denote $P(X)$\n"
   ]
  },
  {
   "cell_type": "markdown",
   "metadata": {},
   "source": [
    "deff : <br>\n",
    "    $$F_X(x) = P(x $$"
   ]
  },
  {
   "cell_type": "markdown",
   "metadata": {},
   "source": [
    "example <br>\n",
    "For sample space S  : <br> \n",
    "    with $X(s) \\rightarrow$   number of H <br>\n",
    "    \n",
    "       "
   ]
  },
  {
   "cell_type": "markdown",
   "metadata": {},
   "source": [
    "   $$p_X(0) ≡ P( (TTT) ) = \\frac{1}{8}$$\n",
    "   $$p_X(1) ≡ P( s = ( HTT , THT , TTH )  ) = \\frac{3}{8} $$\n",
    "         $$ p_X(2) ≡ P( s = ( HHT , HTH , THH ) ) = \\frac{3}{8} $$\n",
    "          $$ p_X(3) ≡ P( s= (HHH) ) = \\frac{1}{8} $$  <br>\n",
    "\n",
    "where $p_x(0) + p_x(1) + p_x(2) +p_x(3) +  p_x(4)  =1$\n",
    "          "
   ]
  },
  {
   "cell_type": "markdown",
   "metadata": {},
   "source": [
    "deff : <br>\n",
    "  the $p_X(x)\\equiv P(X == x)$  is called   probability mass function <br>\n",
    "  deff : <br>\n",
    "    $$F_X(x) = P(X \\leq x )  $$  is called cumulative probability distribution function"
   ]
  },
  {
   "cell_type": "markdown",
   "metadata": {},
   "source": [
    "Joint distribution <br>\n",
    "The probability of mass function and probability of distribution function is also called  can be also the function of more than one variable . <br>\n",
    "example :"
   ]
  },
  {
   "cell_type": "markdown",
   "metadata": {},
   "source": [
    "Toss a coin free times in sequence : <br>\n",
    "S = {HHH , HHT , HTH , HTT , THH , THT , TTH , TTT} , <br>\n",
    "we let <br>\n",
    "X(s) = Heads <br>\n",
    "Y(s) = number of firs HEAD , then we have a join proability ms function :\n",
    "p_{X,Y} = P( x = X, y=Y) , for example <br>\n",
    "\n",
    "$4_{2,1} = P( x = 1, y=2 ) = \\frac{2}{8} =\\frac{1}{2}$\n",
    "p_{X,Y} = P( x = X, y=Y) is called join probability"
   ]
  },
  {
   "cell_type": "markdown",
   "metadata": {},
   "source": [
    "Two X(s) and Y(s) are independent if <br>\n",
    "\n",
    "p_{X,Y}(x,y) = P(X=x).P(Y=y) for all x and y"
   ]
  },
  {
   "cell_type": "markdown",
   "metadata": {},
   "source": [
    "<h2> expectation </h2>\n",
    "expected value "
   ]
  },
  {
   "cell_type": "markdown",
   "metadata": {},
   "source": [
    "<h2> variance <h2>"
   ]
  },
  {
   "cell_type": "markdown",
   "metadata": {},
   "source": [
    "<h2> standart deviation </h2>"
   ]
  },
  {
   "cell_type": "markdown",
   "metadata": {},
   "source": [
    "<h2> covariance </h2>"
   ]
  },
  {
   "cell_type": "markdown",
   "metadata": {},
   "source": [
    "references. http://users.encs.concordia.ca/~doedel/courses/comp-233/slides.pdf"
   ]
  },
  {
   "cell_type": "code",
   "execution_count": 8,
   "metadata": {},
   "outputs": [],
   "source": [
    "def random_experiment( max_experiments , sample , result_count , custom_handler=None ):\n",
    "    '''\n",
    "    resar \n",
    "    '''\n",
    "    result = np.array([])\n",
    "    for i in range(max_experiments) :\n",
    "        experiment_result =[np.random.choice(sample) for i in range(result_count)]\n",
    "        if custom_handler is not None:\n",
    "            experiment_result = custom_handler(experiment_result)\n",
    "        result =np.append(result, experiment_result)    \n",
    "    \n",
    "    return np.array(result)        \n",
    "\n"
   ]
  },
  {
   "cell_type": "code",
   "execution_count": 9,
   "metadata": {},
   "outputs": [],
   "source": [
    "def hist(max_experiments ,sample ,result_count, experiment = None,**kwargs):\n",
    "    data = random_experiment(max_experiments ,sample ,result_count,experiment)\n",
    "    plt.hist(data , weights=np.ones(len(data)) / len(data) , bins=10,alpha = 0.1)\n",
    "    title = 'Count experiments:{}'.format(max_experiments)\n",
    "    for key, value in kwargs.items(): \n",
    "        if key=='title' :\n",
    "            title =  value + ' ' + title\n",
    "        elif key=='figsize':\n",
    "            plt.figure(figsize=(15,5))   \n",
    "    plt.title(title)        \n",
    "    plt.gca().yaxis.set_major_formatter(PercentFormatter(1))\n"
   ]
  },
  {
   "cell_type": "code",
   "execution_count": null,
   "metadata": {},
   "outputs": [],
   "source": []
  },
  {
   "cell_type": "markdown",
   "metadata": {},
   "source": [
    "What is the probability that The first element to be H ?\n",
    "One expreriment cosist of  of tosses Coin 2 times, If the firs time is the H\n",
    "then True"
   ]
  },
  {
   "cell_type": "code",
   "execution_count": 10,
   "metadata": {},
   "outputs": [],
   "source": [
    "sample_space = np.array(['H','T'])\n",
    "def experiment(arg) :\n",
    "    if arg[0] == 'H':\n",
    "        return 'First Element is Head'\n",
    "    else:\n",
    "        return 'First Element is not Head'\n",
    "\n",
    "    \n"
   ]
  },
  {
   "cell_type": "code",
   "execution_count": null,
   "metadata": {},
   "outputs": [],
   "source": []
  },
  {
   "cell_type": "code",
   "execution_count": 11,
   "metadata": {},
   "outputs": [
    {
     "data": {
      "image/png": "[encoded data removed]",
      "text/plain": [
       "<Figure size 432x288 with 1 Axes>"
      ]
     },
     "metadata": {},
     "output_type": "display_data"
    }
   ],
   "source": [
    "hist(10,sample_space, 1 ,experiment = experiment,title='Probability of that first element to be one')\n",
    "hist(100,sample_space,1 ,experiment = experiment,title='Probability of that first element to be one')\n",
    "hist(9000,sample_space,1 ,experiment = experiment,title='Probability of that first element to be one')"
   ]
  },
  {
   "cell_type": "code",
   "execution_count": 12,
   "metadata": {},
   "outputs": [
    {
     "data": {
      "image/png": "[encoded data removed]",
      "text/plain": [
       "<Figure size 432x288 with 1 Axes>"
      ]
     },
     "metadata": {},
     "output_type": "display_data"
    }
   ],
   "source": [
    "def experiment(arg):\n",
    "    if(arg[0]=='H' and arg[1]=='H'):\n",
    "        return 'first two elements are H'\n",
    "    else :\n",
    "        return 'First two element are note H'\n",
    "        \n",
    "        \n",
    "hist(100,sample_space, 2 ,experiment = experiment,title='Probability of that first element to be one')\n",
    "plt.show()   "
   ]
  },
  {
   "cell_type": "code",
   "execution_count": 206,
   "metadata": {},
   "outputs": [],
   "source": [
    "def hist(max_experiments ,sample ,result_count, experiment = None,**kwargs):\n",
    "    data = random_experiment(max_experiments ,sample ,result_count,experiment)\n",
    "\n",
    "    l = 'Count experiments:{}'.format(max_experiments)\n",
    "    axes =plt.gca()\n",
    "\n",
    "    axes.yaxis.set_major_formatter(PercentFormatter(1,decimals=0))\n",
    "   \n",
    "    bins = None\n",
    "    for key, value in kwargs.items(): \n",
    "        if key=='title' :\n",
    "            title =  value \n",
    "        elif key=='figsize':\n",
    "            #plt.figure(figsize=value)\n",
    "            pass\n",
    "        elif key == 'y_size':    \n",
    "            axes.set_ylim(value)  \n",
    "        elif key == 'bins' :\n",
    "            bins = value    \n",
    "        elif key == 'y_scalled':\n",
    "             axes.set_ylim(value)\n",
    "    plt.hist(data , weights=np.ones(len(data)) / (len(data)) , bins=bins,alpha = 0.4,label=l, histtype='bar', rwidth=1)        \n",
    "    plt.title(title)        \n",
    "    plt.legend()"
   ]
  },
  {
   "cell_type": "markdown",
   "metadata": {},
   "source": [
    "<h2> EXAMPE 1 </h2>"
   ]
  },
  {
   "cell_type": "markdown",
   "metadata": {},
   "source": [
    "<font face = \"Times New Roma\" size=\"4.5\"  color='#270336' >\n",
    "    When we toss a coin 3 times and record the results in the sequence\n",
    "that they occur, then the sample space is S = { HHH , HHT , HTH , HTT , THH , THT , TTH , TTT } .\n",
    "    We may expect each of the 8 outcomes to be equally likely\n",
    "    Thus the probability of the sequence HTT is $\\frac{1}{8}$\n",
    "<font>\n",
    "<h5> <font face = \"Times New Roma\" size=\"3\"  color='#270336' >   \n",
    "    Let to perform an above experiment :\n",
    "</font>\n",
    " </h5>    "
   ]
  },
  {
   "cell_type": "code",
   "execution_count": 224,
   "metadata": {},
   "outputs": [
    {
     "data": {
      "image/png": "[encoded data removed]",
      "text/plain": [
       "<Figure size 432x288 with 1 Axes>"
      ]
     },
     "metadata": {},
     "output_type": "display_data"
    }
   ],
   "source": [
    "set_space = np.array(['H','T'])\n",
    "def experiment(arg):\n",
    "    if(arg[0]=='H' and arg[1]=='T' and arg[2]=='T'):\n",
    "        return 'occured HTT'\n",
    "    else :\n",
    "        return 'Not occured of HTT'\n",
    "        \n",
    "        \n",
    "hist(16,sample_space, 3 ,experiment = experiment,title='Probability of that first element to be one',bins=3)\n",
    "#hist(100,sample_space, 3 ,experiment = experiment,title='Probability of that first element to be one',bins=3)\n",
    "hist(1000,sample_space, 3 ,experiment = experiment,title='Probability of that first element to be one',bins=3)"
   ]
  },
  {
   "cell_type": "code",
   "execution_count": 215,
   "metadata": {},
   "outputs": [
    {
     "data": {
      "image/png": "[encoded data removed]",
      "text/plain": [
       "<Figure size 432x288 with 1 Axes>"
      ]
     },
     "metadata": {},
     "output_type": "display_data"
    }
   ],
   "source": [
    "        \n",
    "hist(100,sample_space, 3 ,experiment = experiment,title='Probability of that first element to be one',bins=2)\n",
    "hist(5300,sample_space, 3 ,experiment = experiment,title='Probability of that first element to be one',bins=2,y_scalled=(0,0.9))"
   ]
  },
  {
   "cell_type": "code",
   "execution_count": 217,
   "metadata": {},
   "outputs": [
    {
     "ename": "SyntaxError",
     "evalue": "invalid syntax (<ipython-input-217-25296af3ae45>, line 1)",
     "output_type": "error",
     "traceback": [
      "\u001b[1;36m  File \u001b[1;32m\"<ipython-input-217-25296af3ae45>\"\u001b[1;36m, line \u001b[1;32m1\u001b[0m\n\u001b[1;33m    We can see that increase  --> 0.8\u001b[0m\n\u001b[1;37m         ^\u001b[0m\n\u001b[1;31mSyntaxError\u001b[0m\u001b[1;31m:\u001b[0m invalid syntax\n"
     ]
    }
   ],
   "source": [
    "We can see that increase  --> 0.8\n"
   ]
  },
  {
   "cell_type": "markdown",
   "metadata": {},
   "source": [
    "<h2>Experiment 2 </h2>"
   ]
  },
  {
   "cell_type": "markdown",
   "metadata": {},
   "source": [
    "For the sample space\n",
    "S = {HHH , HHT , HTH , HTT , THH , THT , TTH , TTT} ,\n",
    "with\n",
    "X(s) = the number of Heads ,\n",
    "we have\n",
    "pX(0) ≡ P( {TTT} ) = $\\frac{1}{8}$\n",
    "pX(1) ≡ P( {HTT , THT , TTH} ) =$\\frac{3}{8}$\n",
    "pX(2) ≡ P( {HHT , HTH , THH} ) =$\\frac{3}{8}$\n",
    "pX(3) ≡ P( {HHH} ) ==$\\frac{1}{8}$\n"
   ]
  },
  {
   "cell_type": "code",
   "execution_count": 263,
   "metadata": {},
   "outputs": [
    {
     "data": {
      "image/png": "[encoded data removed]",
      "text/plain": [
       "<Figure size 432x288 with 1 Axes>"
      ]
     },
     "metadata": {},
     "output_type": "display_data"
    }
   ],
   "source": [
    "set_space = np.array(['H','T'])\n",
    "def experiment(arg):\n",
    "    result = np.array([])\n",
    "    count = 0\n",
    "    a = np.array(arg)\n",
    "    for i in a:\n",
    "        if i=='H' :\n",
    "            count+=1\n",
    "    if count ==1 :\n",
    "        result =np.append(result,1) \n",
    "    if count==2:   \n",
    "        result =np.append(result,2) \n",
    "    if count==3:   \n",
    "        result =np.append(result,3)   \n",
    "    if count == 0 :\n",
    "         result =np.append(result,0)   \n",
    "    return result\n",
    "        \n",
    "        \n",
    "        \n",
    "        \n",
    "#hist(16,sample_space, 3 ,experiment = experiment,title='Probability of that first element to be one',bins=3)\n",
    "#hist(100,sample_space, 3 ,experiment = experiment,title='Probability of that first element to be one',bins=3)\n",
    "hist(9000,sample_space, 3 ,experiment = experiment,title='Probability of that first element to be one',bins=10)"
   ]
  },
  {
   "cell_type": "markdown",
   "metadata": {},
   "source": [
    "<h2> Discrete random variable </h2>"
   ]
  },
  {
   "cell_type": "code",
   "execution_count": 235,
   "metadata": {},
   "outputs": [
    {
     "data": {
      "text/plain": [
       "'H'"
      ]
     },
     "execution_count": 235,
     "metadata": {},
     "output_type": "execute_result"
    }
   ],
   "source": [
    "a = np.array(['H','H','T'])\n",
    "unique, counts = np.unique(a, return_counts=True)\n",
    "counts\n",
    "unique\n",
    "counts\n",
    "unique[0]"
   ]
  },
  {
   "cell_type": "code",
   "execution_count": 264,
   "metadata": {},
   "outputs": [],
   "source": [
    "# Must to be continiue"
   ]
  }
 ],
 "metadata": {
  "kernelspec": {
   "display_name": "Python 3",
   "language": "python",
   "name": "python3"
  },
  "language_info": {
   "codemirror_mode": {
    "name": "ipython",
    "version": 3
   },
   "file_extension": ".py",
   "mimetype": "text/x-python",
   "name": "python",
   "nbconvert_exporter": "python",
   "pygments_lexer": "ipython3",
   "version": "3.7.4"
  }
 },
 "nbformat": 4,
 "nbformat_minor": 2
}
