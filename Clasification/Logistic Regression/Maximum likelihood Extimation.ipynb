{
 "cells": [
  {
   "cell_type": "code",
   "execution_count": null,
   "metadata": {},
   "outputs": [],
   "source": []
  },
  {
   "cell_type": "code",
   "execution_count": null,
   "metadata": {},
   "outputs": [],
   "source": []
  },
  {
   "cell_type": "markdown",
   "metadata": {},
   "source": [
    "# Maximum likelihood Extimation\n",
    "<h7 style=\"color:red\"> In this notebook we will not take up with a general view of MLE instead we will consider in the context of logistic regression, relevant for our purpose to implement a binary logistic regression </h7>\n",
    "We are going to deal with the independent variable that is binary rather then continiuos. <br>\n",
    "<br>\n",
    "\n",
    "<h5>The likehood is conditional probability . The probabilility if $p=P(Y|X)$ the probability of y given x .<br>\n",
    "we can pick the variables $a$ anb $b$ at random , or trial-and-error and then compute likehood given these parameters.\n",
    "\n",
    "We will choose as our parameters, those that result in the greatest likelihood computed.The estimates are called maximum likelihood , because the technique actually employed  to find MKE fall under the general label  numerical analysis.There are several methods in the numerical analysis but they all follow a similar series of steps \n",
    "\n",
    "Where on earth did these stuff come from ? <h5>"
   ]
  },
  {
   "cell_type": "markdown",
   "metadata": {},
   "source": [
    "Suppose we know only a person's heigh and we want to predict whether the person is female or male. \n",
    "<br>\n",
    "We can talk about of probability of being male/female or we can tall about of odds of being male/female.\n",
    "Let's say the probability of being male at a given height is 0.90, then the odds of being male would be $$odds = \\frac{P}{1-P}=\\frac{0.90}{1-0.90}=9$$ The odds of being male will be 11 .The assymetry is an appealing.\n",
    "The asymmetry is unappealing. We can take care of asymmetry by apply of natural algorithm The log of 9 is 2.17 and log of 1/9 is -2.27.So the logs of being male are exactly opposite to the log  being female .These come from equation $$\\log(a/b)=log(a) - log(b)$$"
   ]
  },
  {
   "cell_type": "markdown",
   "metadata": {},
   "source": [
    "In logistic regression ,the dependent variable is a logit,which is natural log of the odds ,that is \n",
    "$$ log(odds)=logit(P)=ln(p/(1-p))$$"
   ]
  },
  {
   "cell_type": "markdown",
   "metadata": {},
   "source": [
    "In logistic regression we find  $logit(P)=a+bX$ which is assumed .We just may write  $$\\ln(\\frac{p}{1-p})=e^{a+bX}$$\n",
    "then $$P = \\frac{e^{a+bX}}{1+e^{a+bX}}$$"
   ]
  },
  {
   "cell_type": "markdown",
   "metadata": {},
   "source": [
    "# References :\n",
    " [1] https://czep.net/stat/mlelr.pdf"
   ]
  }
 ],
 "metadata": {
  "kernelspec": {
   "display_name": "Python 3",
   "language": "python",
   "name": "python3"
  },
  "language_info": {
   "codemirror_mode": {
    "name": "ipython",
    "version": 3
   },
   "file_extension": ".py",
   "mimetype": "text/x-python",
   "name": "python",
   "nbconvert_exporter": "python",
   "pygments_lexer": "ipython3",
   "version": "3.7.4"
  }
 },
 "nbformat": 4,
 "nbformat_minor": 2
}
