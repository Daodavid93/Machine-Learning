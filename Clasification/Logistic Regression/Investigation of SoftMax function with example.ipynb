{
 "cells": [
  {
   "cell_type": "code",
   "execution_count": 1,
   "metadata": {},
   "outputs": [],
   "source": [
    "%matplotlib inline"
   ]
  },
  {
   "cell_type": "code",
   "execution_count": 3,
   "metadata": {},
   "outputs": [],
   "source": [
    "import numpy as np\n",
    "import matplotlib.pyplot as plt\n",
    "import pandas as pd\n",
    "\n",
    "\n",
    "from sklearn.model_selection import train_test_split\n",
    "from sklearn.linear_model import LogisticRegression"
   ]
  },
  {
   "cell_type": "markdown",
   "metadata": {},
   "source": [
    "# Investigation of SoftMax function with example.\n",
    "author : Daodeiv (David Stankov)"
   ]
  },
  {
   "cell_type": "markdown",
   "metadata": {},
   "source": [
    "<h7>\n",
    "        <font color='#263a61' > The softmax is a function that takes as input a vector with K real numbers, and normalizes it into a probability distribution consisting of K probabilities proportional to the exponentials of the input numbers. That is, prior to applying the softmax function, some vector components could be negative, or greater than one and might not sum to one. Futhermore, the larger input components corresponds to larger  probabilities. The softmax function is often used in neural networks to map non normalized output of the network to a probability distribution over predicted output classes.\n",
    "        <br>\n",
    "        \n",
    "             \n",
    "    \n",
    "   </font>\n",
    "</h7>    "
   ]
  },
  {
   "cell_type": "markdown",
   "metadata": {},
   "source": [
    "<h7>\n",
    "    <font color='#454214' >\n",
    "        The standart softmax function $\\sigma: \\; \\Re^k \\; \\rightarrow \\; \\Re^k $ is defined by formula : <br>\n",
    "    \n",
    "\n",
    "   </font>    \n",
    "</h7>\n",
    "<h2><font color='#1c5cd9' > $$\\sigma(z)_i= \\frac{e^z_i}{\\sum_{j=1}^n e^{z}_{j}}$$  \n",
    "     </font> \n",
    "</h2>\n",
    "<h7>\n",
    "    <font color='#263a61' >Before getting deeper into the above equation, we gonna generate our learning data. The data consist of records contains a different type of vehicles and their sizes. The dataset is very simple and we would be able to predict from the size, what vehicle is, but in the beginning, our purpose is not to make a prediction the purpose is diving into the basic concepts behind softmax.\n",
    "    \n",
    "   </font>\n",
    "</h7>  "
   ]
  },
  {
   "cell_type": "code",
   "execution_count": 147,
   "metadata": {},
   "outputs": [
    {
     "data": {
      "image/png": "[encoded data removed]",
      "text/plain": [
       "<Figure size 432x288 with 1 Axes>"
      ]
     },
     "metadata": {
      "needs_background": "light"
     },
     "output_type": "display_data"
    }
   ],
   "source": [
    "tractor_dataframe= pd.DataFrame(data=np.random.random((30, 3))+4,columns = ['x_size','y_size','z_size'])\n",
    "plt.scatter(tractor_dataframe['x_size'],tractor_dataframe['y_size'],label='Tractor',color='blue')\n",
    "tractor_dataframe['label'] =pd.DataFrame( np.full((1,30 ), 'Tractor').T)\n",
    "\n",
    "car_dataframe= pd.DataFrame(data=np.random.random((30, 3)) + 1,columns = ['x_size','y_size','z_size'])\n",
    "plt.scatter(car_dataframe['x_size'],tractor_dataframe['y_size'],label='Car',color='red')\n",
    "car_dataframe['label'] =pd.DataFrame( np.full((1,30 ), 'Car').T)\n",
    "\n",
    "bus_dataframe= pd.DataFrame(data=np.random.random((30, 3))+2,columns = ['x_size','y_size','z_size'])\n",
    "plt.scatter(bus_dataframe['x_size'],tractor_dataframe['y_size'],label='Bus',color='yellow')\n",
    "bus_dataframe['label'] =pd.DataFrame( np.full((1,30 ), 'Bus').T)\n",
    "plt.xlabel('x size')\n",
    "plt.ylabel('y size')\n",
    "plt.legend()\n",
    "\n",
    "\n",
    "data = tractor_dataframe.append(bus_dataframe).append(car_dataframe)\n",
    "data = pd.get_dummies(data) "
   ]
  },
  {
   "cell_type": "code",
   "execution_count": 4,
   "metadata": {},
   "outputs": [
    {
     "data": {
      "text/html": [
       "<div>\n",
       "<style scoped>\n",
       "    .dataframe tbody tr th:only-of-type {\n",
       "        vertical-align: middle;\n",
       "    }\n",
       "\n",
       "    .dataframe tbody tr th {\n",
       "        vertical-align: top;\n",
       "    }\n",
       "\n",
       "    .dataframe thead th {\n",
       "        text-align: right;\n",
       "    }\n",
       "</style>\n",
       "<table border=\"1\" class=\"dataframe\">\n",
       "  <thead>\n",
       "    <tr style=\"text-align: right;\">\n",
       "      <th></th>\n",
       "      <th>x_size</th>\n",
       "      <th>y_size</th>\n",
       "      <th>z_size</th>\n",
       "      <th>label_Bus</th>\n",
       "      <th>label_Car</th>\n",
       "      <th>label_Tractor</th>\n",
       "    </tr>\n",
       "  </thead>\n",
       "  <tbody>\n",
       "    <tr>\n",
       "      <td>0</td>\n",
       "      <td>4.018739</td>\n",
       "      <td>4.081280</td>\n",
       "      <td>4.945429</td>\n",
       "      <td>0</td>\n",
       "      <td>0</td>\n",
       "      <td>1</td>\n",
       "    </tr>\n",
       "    <tr>\n",
       "      <td>1</td>\n",
       "      <td>4.089081</td>\n",
       "      <td>4.959956</td>\n",
       "      <td>4.091043</td>\n",
       "      <td>0</td>\n",
       "      <td>0</td>\n",
       "      <td>1</td>\n",
       "    </tr>\n",
       "    <tr>\n",
       "      <td>2</td>\n",
       "      <td>4.636914</td>\n",
       "      <td>4.308745</td>\n",
       "      <td>4.300109</td>\n",
       "      <td>0</td>\n",
       "      <td>0</td>\n",
       "      <td>1</td>\n",
       "    </tr>\n",
       "    <tr>\n",
       "      <td>3</td>\n",
       "      <td>4.464787</td>\n",
       "      <td>4.828882</td>\n",
       "      <td>4.774260</td>\n",
       "      <td>0</td>\n",
       "      <td>0</td>\n",
       "      <td>1</td>\n",
       "    </tr>\n",
       "    <tr>\n",
       "      <td>4</td>\n",
       "      <td>4.386441</td>\n",
       "      <td>4.999404</td>\n",
       "      <td>4.073386</td>\n",
       "      <td>0</td>\n",
       "      <td>0</td>\n",
       "      <td>1</td>\n",
       "    </tr>\n",
       "    <tr>\n",
       "      <td>...</td>\n",
       "      <td>...</td>\n",
       "      <td>...</td>\n",
       "      <td>...</td>\n",
       "      <td>...</td>\n",
       "      <td>...</td>\n",
       "      <td>...</td>\n",
       "    </tr>\n",
       "    <tr>\n",
       "      <td>25</td>\n",
       "      <td>1.039236</td>\n",
       "      <td>1.387498</td>\n",
       "      <td>1.912427</td>\n",
       "      <td>0</td>\n",
       "      <td>1</td>\n",
       "      <td>0</td>\n",
       "    </tr>\n",
       "    <tr>\n",
       "      <td>26</td>\n",
       "      <td>1.867626</td>\n",
       "      <td>1.915900</td>\n",
       "      <td>1.681023</td>\n",
       "      <td>0</td>\n",
       "      <td>1</td>\n",
       "      <td>0</td>\n",
       "    </tr>\n",
       "    <tr>\n",
       "      <td>27</td>\n",
       "      <td>1.348552</td>\n",
       "      <td>1.763558</td>\n",
       "      <td>1.319645</td>\n",
       "      <td>0</td>\n",
       "      <td>1</td>\n",
       "      <td>0</td>\n",
       "    </tr>\n",
       "    <tr>\n",
       "      <td>28</td>\n",
       "      <td>1.791843</td>\n",
       "      <td>1.038881</td>\n",
       "      <td>1.201212</td>\n",
       "      <td>0</td>\n",
       "      <td>1</td>\n",
       "      <td>0</td>\n",
       "    </tr>\n",
       "    <tr>\n",
       "      <td>29</td>\n",
       "      <td>1.362032</td>\n",
       "      <td>1.578180</td>\n",
       "      <td>1.482176</td>\n",
       "      <td>0</td>\n",
       "      <td>1</td>\n",
       "      <td>0</td>\n",
       "    </tr>\n",
       "  </tbody>\n",
       "</table>\n",
       "<p>90 rows × 6 columns</p>\n",
       "</div>"
      ],
      "text/plain": [
       "      x_size    y_size    z_size  label_Bus  label_Car  label_Tractor\n",
       "0   4.018739  4.081280  4.945429          0          0              1\n",
       "1   4.089081  4.959956  4.091043          0          0              1\n",
       "2   4.636914  4.308745  4.300109          0          0              1\n",
       "3   4.464787  4.828882  4.774260          0          0              1\n",
       "4   4.386441  4.999404  4.073386          0          0              1\n",
       "..       ...       ...       ...        ...        ...            ...\n",
       "25  1.039236  1.387498  1.912427          0          1              0\n",
       "26  1.867626  1.915900  1.681023          0          1              0\n",
       "27  1.348552  1.763558  1.319645          0          1              0\n",
       "28  1.791843  1.038881  1.201212          0          1              0\n",
       "29  1.362032  1.578180  1.482176          0          1              0\n",
       "\n",
       "[90 rows x 6 columns]"
      ]
     },
     "execution_count": 4,
     "metadata": {},
     "output_type": "execute_result"
    }
   ],
   "source": [
    "data"
   ]
  },
  {
   "cell_type": "markdown",
   "metadata": {},
   "source": [
    "<h7>\n",
    "    <br>\n",
    "        <font color='#263a61' >\n",
    "The Label_car,label_bus, and label_tractor contain dummies values, which are categorical values transformed into convenient form in order to perform mathematical operations over them.\n",
    "   <br><br>\n",
    "   First, let separate the data into X data and Y(categorical data).         \n",
    "   </font>\n",
    "    \n",
    "</h7>                "
   ]
  },
  {
   "cell_type": "code",
   "execution_count": 7,
   "metadata": {},
   "outputs": [],
   "source": [
    "x_train = np.array(data.drop(['label_Bus','label_Car','label_Tractor'], axis = 1))\n",
    "y_train = np.array(data[['label_Bus','label_Car','label_Tractor']])\n",
    "X_train, X_test, y_train, y_test = train_test_split(x_train,y_train, test_size=0.33, random_state=42) "
   ]
  },
  {
   "cell_type": "code",
   "execution_count": 11,
   "metadata": {},
   "outputs": [
    {
     "name": "stdout",
     "output_type": "stream",
     "text": [
      "firsts 10 elements of X: \n",
      "[[1.93804015 1.99986983 1.41626215]\n",
      " [4.78199999 4.5278506  4.12819031]\n",
      " [2.142378   2.00865232 2.27417099]\n",
      " [2.15536029 2.26510682 2.67617828]\n",
      " [4.57836866 4.6488343  4.58232809]\n",
      " [2.02076404 2.84216718 2.91191727]\n",
      " [2.36593315 2.14379695 2.49463099]\n",
      " [4.9801253  4.37838206 4.96595237]\n",
      " [1.93171614 1.26317027 1.82852311]]\n",
      "firsts 10 elements of Y: \n",
      "[[0 1 0]\n",
      " [0 0 1]\n",
      " [1 0 0]\n",
      " [1 0 0]\n",
      " [0 0 1]\n",
      " [1 0 0]\n",
      " [1 0 0]\n",
      " [0 0 1]\n",
      " [0 1 0]]\n"
     ]
    }
   ],
   "source": [
    "print('firsts 10 elements of X: ')\n",
    "print(X_train[1:10])\n",
    "print('firsts 10 elements of Y: ')\n",
    "print(y_train[1:10])"
   ]
  },
  {
   "cell_type": "markdown",
   "metadata": {},
   "source": [
    "<h7>\n",
    "    <br>\n",
    "        <font color='#263a61' > Our main purpose is to perform softmax function into $X$ values ant to get matrix(table) $I'$ which is approximately similar to $Y'$ as much as possible.In order to do that, we have to choose a matrix $Z$ consist of vectors $\\vec Z_i$ $i \\in [1,2,..,n]$ where  $n$ is number of categorical variables with $m$ components correspond to every column of the dataset , the components are also called predictors or features. Over this matrix $Z$ we have to apply softmax function. Our above dataset has a three categorical variable and three non-categorical(feature) variables , therefore we have to have matrix $Z_{(n,m+1)}=Z_{(3,4)}$ <br> <br>\n",
    "   The matrix $Z$ looks like this : <br> \n",
    "        </font> \n",
    "        <br>\n",
    "        <font color='#1c5cd9'>\n",
    "    $$ Z = \\begin{bmatrix} \\vec z_1 \\\\  \\vec z_2\\  \\\\ \\vec z_3  \\end{bmatrix} =\\begin{bmatrix} z_{11} & z_{12} & z_{13} & b_{10} \\\\ z_{21} & z_{22} & z_{23} & b_{20}\\\\ z_{31} & z_{32} & z_{33} & b_{30} \\end{bmatrix}  $$ <br> \n",
    "        </font>       \n",
    "        <br> <br>\n",
    "        <font color='#263a61' > \n",
    "         Where acording to  our dataset $z_1$ corresponds to label bus, $z_1$ to label car , $z_3$ to label tractor.\n",
    "        <br>\n",
    " If a get a dot product $K=<X|Z>+Z_0$ wich is a just matrix mutiplication : \n",
    "        </font> \n",
    "        <br> <br>\n",
    "        <font color='#1c5cd9'>\n",
    "        $$ W = K = X.Z^T =  \\begin{bmatrix} x_{11} &  x_{12} & x_{13} & 1 \\\\  x_{21} &  x_{32} & x_{33} & 1 \\\\ ... & ... & ...& ...  \\\\ x_{p1} &  x_{p2} & x_{p3} & 1  \\end{bmatrix} * \\begin{bmatrix} z_{11} & z_{21} & z_{31}  \\\\ z_{12} & z_{22} & z_{32} \\\\  z_{13} & z_{23} & z_{33}  \\\\z_{10} & z_{20} & z_{30}\\end{bmatrix}  =   \\begin{bmatrix} k_{11} &  k_{12} & k_{13} \\\\  k_{21} &  k_{32} & k_{33} \\\\ ... & ... & ...  \\\\ k_{p1} &  k_{p2} & k_{p3}  \\end{bmatrix} $$ <br> \n",
    "   </font> \n",
    "   <br>\n",
    "        <font color='#263a61' >\n",
    "        The next step is applying the softmax function over matrix K, we will call that operation the inner softmax product, wich is the core softmax concept.\n",
    "    </font> \n",
    "        <br> <br>\n",
    "        <font color='#1c5cd9'>\n",
    "        $$<Soft|K> = P(|k)= \\begin{bmatrix} \\frac{e^{k_{11}}}{\\sum_{1j}e^{k_{1j}}} & \\frac{e^{k_{12}}}{\\sum_{1j}e^{k_{1j}}} & \\frac{e^{k_{13}}}{\\sum_{1j}e^{k_{1j}}}\\\\   \\\\ ... & ... & ...  \\\\  \\\\    \\frac{e^{k_{p1}}}{\\sum_{pj}e^{k_{pj}}} & \\frac{e^{k_{p2}}}{\\sum_{pj}e^{k_{pj}}} & \\frac{e^{k_{p3}}}{\\sum_{pj}e^{k_{pj}}}\\end{bmatrix} $$ \n",
    "  </font> \n",
    "   <br> <br>\n",
    "        <font color='#263a61' >\n",
    "        The elements of $P$ we will called predictors $p_{ij}$ wich can be interpreated as probability i_th row elemenet\n",
    "        to be j_th categorical variable.If $p_{1,2}$ means what is the probability of record one belongs to the label_ bus?\n",
    "        Ofcourse, $p_{ij} \\in [0,1]$ <br>\n",
    "        Another way to express $p_{ij}$ : <br>  \n",
    "        </font> \n",
    "        <br> <br>\n",
    "      \n",
    "  </font>    \n",
    "</h7>    "
   ]
  },
  {
   "cell_type": "markdown",
   "metadata": {},
   "source": [
    "<h2>\n",
    "      <font color='#1c5cd9'>\n",
    "        $$(3) \\; \\;p_{ij} = \\frac{ e^{ ^{k_{ij}} } }{ \\sum_p^3 e^{k_{ip}}}\n",
    "        =\\frac{ e^{ ^{\\sum_v^3 x_{iv}.z_{jv} }} }{ \\sum_p^3 e^{ ^ {\\sum_v^3 x_{iv}.z_{jv}}}} $$\n",
    "     </font>\n",
    "</h2>      \n"
   ]
  },
  {
   "cell_type": "markdown",
   "metadata": {},
   "source": [
    "<h4>\n",
    "    <br>\n",
    "        <font color='#263a61' >\n",
    "        How we can interpret the eq.(3) from probability viewpoint. If we want to find what is the probability record 2 from our dataset to be Tractor. The tractor label corresponds to $\\vec Z_3$ estimator therefore, according to the eq.(3) the probability matematicaly looks like this.\n",
    "    </font>\n",
    "     <br>\n",
    "     <br>\n",
    " </h4>\n",
    " <h2>\n",
    "     <font color='#1c5cd9'>\n",
    "         $$P(y=j|X_2) = P(y=3|X_2)=P_{23} = \\frac{ e^{ ^{k_{23}} } }{ \\sum_p^3 e^{k_{23}}}\n",
    "        =\\frac{ e^{ ^{\\sum_v^3 x_{2v}.z_{3v} }} }{ \\sum_p^3 e^{ ^ {\\sum_v^3 x_{1v}.z_{3v}}}}$$\n",
    "   </font>\n",
    "<\\h2>            \n",
    "            "
   ]
  },
  {
   "cell_type": "markdown",
   "metadata": {},
   "source": [
    "<h7>\n",
    " <font color='#263a61' >\n",
    "    Let to define vector $\\vec z$ for our training set in order to apply above equation.<br>\n",
    "    The dataset has  3 categoricals and 3 features variables therefore, Z must have 3 vectors with 3 components.\n",
    "    <br> <br> \n",
    "    $$ Z = \\begin{bmatrix} \\vec z_1 \\\\  \\vec z_2\\  \\\\ \\vec z_3  \\end{bmatrix} =\\begin{bmatrix} z_{11} & z_{12} & z_{13} \\\\ z_{21} & z_{22} & z_{23} \\\\ z_{31} & z_{32} & z_{33} \\end{bmatrix}  = \\begin{bmatrix} 1 & -1.1 & 0 \\\\ -2 & -1.5 & -1 \\\\ 0.3 & 1.2 & 0.9 \\end{bmatrix} $$ <br> <br>\n",
    "  $Z$ is our predictor matrix  "
   ]
  },
  {
   "cell_type": "code",
   "execution_count": null,
   "metadata": {},
   "outputs": [],
   "source": []
  },
  {
   "cell_type": "code",
   "execution_count": 144,
   "metadata": {},
   "outputs": [],
   "source": [
    "Z = np.array([[ 1.08734519, -1.20025562, -0.28915008],\n",
    "       [-2.05135414, -1.42315072, -0.98280891],\n",
    "       [ 0.34794327,  1.28812284,  0.96695257]])\n",
    "\n",
    "Z= np.array([[ 0.75776811,  0.6690284 , -0.02646755],\n",
    " [-2.94775864, -3.06439323, -2.14043833],\n",
    " [ 2.18999053 , 2.39536483,  2.16690588]])\n",
    "\n",
    "\n",
    "intercept = np.array([ -0.15425504 , 18.81781451, -18.66355947])  \n"
   ]
  },
  {
   "cell_type": "code",
   "execution_count": 145,
   "metadata": {},
   "outputs": [],
   "source": [
    "def sofmax(x,Z,intercept):\n",
    "    exp_K = np.exp(x.dot(Z.T)+intercept)\n",
    "    sums=np.sum(exp_K, axis=1) # array contains sum of exp if every row\n",
    "    result = (exp_K.T/sums).T  #return for every element e^{k_ij}/(e^{k_i1}+e^{k_i2}+e^{k_i3})\n",
    "    return result\n",
    "    "
   ]
  },
  {
   "cell_type": "code",
   "execution_count": 146,
   "metadata": {},
   "outputs": [
    {
     "name": "stdout",
     "output_type": "stream",
     "text": [
      "[[0 1 0]\n",
      " [0 0 1]\n",
      " [1 0 0]\n",
      " [1 0 0]\n",
      " [0 0 1]\n",
      " [1 0 0]\n",
      " [1 0 0]\n",
      " [0 0 1]\n",
      " [0 1 0]]\n"
     ]
    },
    {
     "data": {
      "text/plain": [
       "array([[0.25, 0.75, 0.  ],\n",
       "       [0.02, 0.  , 0.98],\n",
       "       [0.95, 0.05, 0.  ],\n",
       "       [0.87, 0.13, 0.  ],\n",
       "       [0.  , 0.  , 1.  ],\n",
       "       [0.99, 0.01, 0.  ],\n",
       "       [0.98, 0.  , 0.02],\n",
       "       [0.  , 0.  , 1.  ],\n",
       "       [0.  , 1.  , 0.  ]])"
      ]
     },
     "execution_count": 146,
     "metadata": {},
     "output_type": "execute_result"
    }
   ],
   "source": [
    "print(y_train[1:10])\n",
    "np.around(sofmax(X_train,Z,intercept)[1:10],2)\n"
   ]
  },
  {
   "cell_type": "code",
   "execution_count": null,
   "metadata": {},
   "outputs": [],
   "source": []
  },
  {
   "cell_type": "code",
   "execution_count": 68,
   "metadata": {},
   "outputs": [
    {
     "data": {
      "text/plain": [
       "1.0000000003139635"
      ]
     },
     "execution_count": 68,
     "metadata": {},
     "output_type": "execute_result"
    }
   ],
   "source": [
    "a = np.sum([[5.59245904e-01, 2.34001132e-04 ,1.09333100e+02], [2, 6,5]], axis=1)\n",
    "(np.array([[1,2],[4,2],[1,4]]).T*np.array([2,3,2])).T\n",
    "2.78631395e-06+ 1.36109512e-14+ 9.99997214e-01"
   ]
  },
  {
   "cell_type": "code",
   "execution_count": 152,
   "metadata": {},
   "outputs": [
    {
     "ename": "NameError",
     "evalue": "name 'X' is not defined",
     "output_type": "error",
     "traceback": [
      "\u001b[1;31m---------------------------------------------------------------------------\u001b[0m",
      "\u001b[1;31mNameError\u001b[0m                                 Traceback (most recent call last)",
      "\u001b[1;32m<ipython-input-152-972e3e4ac3ea>\u001b[0m in \u001b[0;36m<module>\u001b[1;34m\u001b[0m\n\u001b[0;32m      2\u001b[0m     \u001b[1;32mreturn\u001b[0m \u001b[1;33m(\u001b[0m\u001b[0mX\u001b[0m\u001b[1;33m.\u001b[0m\u001b[0mdot\u001b[0m\u001b[1;33m(\u001b[0m\u001b[0mW\u001b[0m\u001b[1;33m)\u001b[0m \u001b[1;33m+\u001b[0m \u001b[0mb\u001b[0m\u001b[1;33m)\u001b[0m\u001b[1;33m\u001b[0m\u001b[1;33m\u001b[0m\u001b[0m\n\u001b[0;32m      3\u001b[0m \u001b[1;33m\u001b[0m\u001b[0m\n\u001b[1;32m----> 4\u001b[1;33m \u001b[0mnet_in\u001b[0m \u001b[1;33m=\u001b[0m \u001b[0mnet_input\u001b[0m\u001b[1;33m(\u001b[0m\u001b[0mX\u001b[0m\u001b[1;33m,\u001b[0m \u001b[0mW\u001b[0m\u001b[1;33m,\u001b[0m \u001b[0mbias\u001b[0m\u001b[1;33m)\u001b[0m\u001b[1;33m\u001b[0m\u001b[1;33m\u001b[0m\u001b[0m\n\u001b[0m\u001b[0;32m      5\u001b[0m \u001b[0mprint\u001b[0m\u001b[1;33m(\u001b[0m\u001b[1;34m'net input:\\n'\u001b[0m\u001b[1;33m,\u001b[0m \u001b[0mnet_in\u001b[0m\u001b[1;33m)\u001b[0m\u001b[1;33m\u001b[0m\u001b[1;33m\u001b[0m\u001b[0m\n",
      "\u001b[1;31mNameError\u001b[0m: name 'X' is not defined"
     ]
    }
   ],
   "source": []
  },
  {
   "cell_type": "code",
   "execution_count": null,
   "metadata": {},
   "outputs": [],
   "source": []
  }
 ],
 "metadata": {
  "kernelspec": {
   "display_name": "Python 3",
   "language": "python",
   "name": "python3"
  },
  "language_info": {
   "codemirror_mode": {
    "name": "ipython",
    "version": 3
   },
   "file_extension": ".py",
   "mimetype": "text/x-python",
   "name": "python",
   "nbconvert_exporter": "python",
   "pygments_lexer": "ipython3",
   "version": "3.7.4"
  }
 },
 "nbformat": 4,
 "nbformat_minor": 2
}
