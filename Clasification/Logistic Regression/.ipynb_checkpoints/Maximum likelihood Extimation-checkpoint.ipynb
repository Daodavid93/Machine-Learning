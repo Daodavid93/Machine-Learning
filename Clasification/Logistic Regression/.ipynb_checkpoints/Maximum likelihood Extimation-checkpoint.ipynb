{
 "cells": [
  {
   "cell_type": "code",
   "execution_count": null,
   "metadata": {},
   "outputs": [],
   "source": []
  },
  {
   "cell_type": "code",
   "execution_count": null,
   "metadata": {},
   "outputs": [],
   "source": []
  },
  {
   "cell_type": "markdown",
   "metadata": {},
   "source": [
    "# Maximum likelihood Extimation\n",
    "<h7 style=\"color:red\"> In this notebook we will not take up with a general view of MLE instead we will consider in the context of logistic regression, relevant for our purpose to implement a binary logistic regression </h7>\n",
    "We are going to deal with the independent variable that is binary rather then continiuos. <br>\n",
    "<br>\n",
    "\n",
    "<h5>The likehood is conditional probability . The probabilility if $p=P(Y|X)$ the probability of y given x .<br>\n",
    "we can pick the variables $a$ anb $b$ at random , or trial-and-error and then compute likehood given these parameters.\n",
    "\n",
    "We will choose as our parameters, those that result in the greatest likelihood computed.The estimates are called maximum likelihood , because the technique actually employed  to find MKE fall under the general label  numerical analysis.There are several methods in the numerical analysis but they all follow a similar series of steps \n",
    "\n",
    "Where on earth did these stuff come from ? <h5>"
   ]
  },
  {
   "cell_type": "markdown",
   "metadata": {},
   "source": [
    "suppose we know only a person's heigh and we want to predict whether the person is female or male Suppose we only know person's height "
   ]
  }
 ],
 "metadata": {
  "kernelspec": {
   "display_name": "Python 3",
   "language": "python",
   "name": "python3"
  },
  "language_info": {
   "codemirror_mode": {
    "name": "ipython",
    "version": 3
   },
   "file_extension": ".py",
   "mimetype": "text/x-python",
   "name": "python",
   "nbconvert_exporter": "python",
   "pygments_lexer": "ipython3",
   "version": "3.7.1"
  }
 },
 "nbformat": 4,
 "nbformat_minor": 2
}
