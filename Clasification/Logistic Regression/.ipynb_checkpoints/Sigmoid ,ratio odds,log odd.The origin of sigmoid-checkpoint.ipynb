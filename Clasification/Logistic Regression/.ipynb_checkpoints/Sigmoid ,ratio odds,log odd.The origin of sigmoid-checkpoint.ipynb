{
 "cells": [
  {
   "cell_type": "code",
   "execution_count": 18,
   "metadata": {},
   "outputs": [],
   "source": [
    "%matplotlib inline\n",
    "import numpy as np\n",
    "import matplotlib.pyplot as plt\n",
    "import random\n",
    "\n",
    "from sklearn.linear_model import LogisticRegression"
   ]
  },
  {
   "cell_type": "markdown",
   "metadata": {},
   "source": [
    "# Sigmoid ,ratio odds,log odd.The origin of sigmoid"
   ]
  },
  {
   "cell_type": "markdown",
   "metadata": {},
   "source": [
    "<h6>\n",
    "    <font color='black'>\n",
    "    First we will generate the data which we use in our investigation and explanation.\n",
    "    The main purpose of Logistic regression is to find the best coefficients of linear equation in form $\\Theta(X)=x_i\\theta_i + \\theta_0$ in order to produce best fitting result when we pass this equation to sigmoid function.\n",
    "    Let our journey begin by the simple linear equation $\\Theta(X) = 2*x_1+4*x_2 + b$ \n",
    "    </font>    \n",
    "</h6>    "
   ]
  },
  {
   "cell_type": "code",
   "execution_count": 77,
   "metadata": {},
   "outputs": [],
   "source": [
    "z_f = lambda x,y : 2*x+4*y + b\n"
   ]
  },
  {
   "cell_type": "code",
   "execution_count": 76,
   "metadata": {},
   "outputs": [],
   "source": [
    "x = np.linspace(-5,5,100) #generate array in interval between [-5,5]\n",
    "arr = np.dstack(np.meshgrid(x, x)).reshape(-1, 2) #generate cartesian product\n"
   ]
  },
  {
   "cell_type": "markdown",
   "metadata": {},
   "source": [
    "<h5>\n",
    "    <font color='B233FF'>\n",
    "     Every number $[-\\infty:\\infty]$ handled from sigmoid function produces the number between $[0,1]$ which makes the sigmoid function very convenient tool for problem related with  prediction or classification.\n",
    "\n",
    "\n",
    "   </font>\n",
    "</h5>    \n"
   ]
  },
  {
   "cell_type": "code",
   "execution_count": 60,
   "metadata": {},
   "outputs": [
    {
     "data": {
      "text/plain": [
       "array([-20.       , -19.8989899, -19.7979798, ...,  19.7979798,\n",
       "        19.8989899,  20.       ])"
      ]
     },
     "execution_count": 60,
     "metadata": {},
     "output_type": "execute_result"
    }
   ],
   "source": [
    "arr.dot(coef.T) ### generate the arg for logistic regression dot product between data and  coefincien wich is a just a linear combination\n"
   ]
  },
  {
   "cell_type": "code",
   "execution_count": 57,
   "metadata": {},
   "outputs": [],
   "source": [
    "def sigmoid(z):\n",
    "    return 1/(1+np.exp(-z))"
   ]
  },
  {
   "cell_type": "code",
   "execution_count": 61,
   "metadata": {},
   "outputs": [
    {
     "data": {
      "text/plain": [
       "<matplotlib.collections.PathCollection at 0x9932b36fd0>"
      ]
     },
     "execution_count": 61,
     "metadata": {},
     "output_type": "execute_result"
    },
    {
     "data": {
      "image/png": "[encoded data removed]",
      "text/plain": [
       "<Figure size 432x288 with 1 Axes>"
      ]
     },
     "metadata": {
      "needs_background": "light"
     },
     "output_type": "display_data"
    }
   ],
   "source": [
    "z = arr.dot(coef.T)\n",
    "y= sigmoid(z)\n",
    "\n",
    "plt.scatter(z,y)"
   ]
  },
  {
   "cell_type": "markdown",
   "metadata": {},
   "source": [
    "#### The above graphic is the sigmoid function  $$ h_{\\Theta}(z)= h_{\\Theta}(<X|\\theta>)= \\frac{1}{1+e^{-\\vec{\\theta}.\\vec{X}}}=\\frac{1}{1+e^{-\\theta^T.X}}$$  where $z = 2*x_1+4*x_2 + b$"
   ]
  },
  {
   "cell_type": "markdown",
   "metadata": {},
   "source": [
    "### What is the origin of sigmoid function, From where come from this special function? \n",
    "###  Odds Ratio\n",
    "<h5> \n",
    "    Odds ratio is is the probability to occur some event dividen to probability to not occur .Matematicaly written $$odds = \\frac{P(A)}{1-P(A)} $$ because the probability to something not hapening is $1-P(A)$\n",
    "    how loog like this function ,as we know that the $P(A)\\in [0,1]$\n",
    "    the function look like this \n",
    "    \n",
    "</h5>"
   ]
  },
  {
   "cell_type": "code",
   "execution_count": 66,
   "metadata": {},
   "outputs": [
    {
     "name": "stderr",
     "output_type": "stream",
     "text": [
      "D:\\Anaconda3\\lib\\site-packages\\ipykernel_launcher.py:2: RuntimeWarning: divide by zero encountered in true_divide\n",
      "  \n"
     ]
    },
    {
     "data": {
      "text/plain": [
       "Text(0.5, 0, 'odds ration')"
      ]
     },
     "execution_count": 66,
     "metadata": {},
     "output_type": "execute_result"
    },
    {
     "data": {
      "image/png": "[encoded data removed]",
      "text/plain": [
       "<Figure size 432x288 with 1 Axes>"
      ]
     },
     "metadata": {
      "needs_background": "light"
     },
     "output_type": "display_data"
    }
   ],
   "source": [
    "p = np.linspace(0,1)\n",
    "odds = p/(1-p)\n",
    "plt.plot(p,odds)\n",
    "plt.xlabel(\"probability\")\n",
    "plt.xlabel(\"odds ration\")"
   ]
  },
  {
   "cell_type": "markdown",
   "metadata": {},
   "source": [
    "#####  we can see that the function is not symetric the probability to something occur is between $[1,\\infty]$ and to not occur $[0,1]$\n",
    "<h5> \n",
    "     <font color='B233FF'> we can transform it in other form of function which is basically doesn't lose the the its meaning ,but it look like much convenient for our future desired results and searching \n",
    "    </font> \n",
    "</h5>\n",
    "\n",
    "##### This new function is called log odds function wich is matematicaly look like this :\n",
    " $$ log(\\frac{P(A)}{1-P(A)}) $$ \n",
    "#####  This is just process of  applying the natural logarithm to log-ratio\n"
   ]
  },
  {
   "cell_type": "code",
   "execution_count": 75,
   "metadata": {},
   "outputs": [
    {
     "data": {
      "text/plain": [
       "Text(0.5, 0, 'log odds')"
      ]
     },
     "execution_count": 75,
     "metadata": {},
     "output_type": "execute_result"
    },
    {
     "data": {
      "image/png": "[encoded data removed]",
      "text/plain": [
       "<Figure size 432x288 with 1 Axes>"
      ]
     },
     "metadata": {
      "needs_background": "light"
     },
     "output_type": "display_data"
    }
   ],
   "source": [
    "p = np.linspace(0.01,0.99)\n",
    "odds = p/(1-p)\n",
    "plt.plot(p,np.log(odds))\n",
    "plt.xlabel(\"probability\")\n",
    "plt.xlabel(\"log odds\")\n"
   ]
  },
  {
   "cell_type": "markdown",
   "metadata": {},
   "source": [
    "<h3>\n",
    "    <font color='B233FF'>\n",
    "        The main important fact of above graphics is that the log-odds varies between $[-\\infty:\\infty]$.\n",
    "        This fact make it the convininet to be use for a fiting with given data withod limnit.\n",
    "        The main point of logistic regression begin with the assumption of that : \n",
    "    <font>\n",
    " </h3>     \n",
    " <h1>\n",
    "    <font color='red'>\n",
    "      $$log(\\frac{p}{1-p}) = \\beta_i x_i +a \\; \\; \\; \\; \\; \\; \\; \\; \\; \\; \\; \\; \\; \\; (1) $$ \n",
    "    <font>\n",
    " </h1>            "
   ]
  },
  {
   "cell_type": "markdown",
   "metadata": {},
   "source": [
    "The both sides of equation (1)  If we raise up on exponent.\n",
    "\n",
    "$$e^{log(\\frac{p}{1-p})} = e^{\\beta_i x_i +a} \\;<=>\n",
    " \\frac{p}{1-p} = e^{\\beta_i x_i +a} \\; <=>\n",
    "p = e^{\\beta_i x_i +a}(1-p) \\; <=> $$<br> <br>\n",
    "$$p = e^{\\beta_i x_i +a} + -p.e^{\\beta_i x_i +a}  \\; <=> $$<br> <br>\n",
    "$$p(1 +e^{\\beta_i x_i +a}  ) = e^{\\beta_i x_i +a}  \\; <=> $$<br> <br>\n",
    "$$p= \\frac{e^{\\beta_i x_i +a}}{(1 +e^{\\beta_i x_i +a}  ) }  \\; = $$<br> <br>\n",
    "$$p= \\frac{ (e^{\\beta_i x_i +a})e^{-(\\beta_i x_i +a}) }{(1 +e^{\\beta_i x_i +a}  )e^{-(\\beta_i x_i +a}) }  \\; <=> $$<br> <br>\n",
    "$$p= \\frac{1}{1 +e^{-(\\beta_i x_i +a)}  }  \\; <=> $$<br> <br>\n",
    "$$p= \\frac{1}{1 +e^{-z}  }  \\;  \\;  \\; where\\;  z=\\beta_i x_i +a   => $$<br> <br>\n",
    "$$p= \\frac{1}{1 +e^{-z}}  \\;  \\; \\; \\; \\; \\; (2) $$  \n",
    "\n",
    "The logistic regression is how to find the best  $z=x_i\\theta_i +\\theta_0$ ."
   ]
  },
  {
   "cell_type": "markdown",
   "metadata": {},
   "source": [
    "\n"
   ]
  }
 ],
 "metadata": {
  "kernelspec": {
   "display_name": "Python 3",
   "language": "python",
   "name": "python3"
  },
  "language_info": {
   "codemirror_mode": {
    "name": "ipython",
    "version": 3
   },
   "file_extension": ".py",
   "mimetype": "text/x-python",
   "name": "python",
   "nbconvert_exporter": "python",
   "pygments_lexer": "ipython3",
   "version": "3.7.1"
  }
 },
 "nbformat": 4,
 "nbformat_minor": 2
}
