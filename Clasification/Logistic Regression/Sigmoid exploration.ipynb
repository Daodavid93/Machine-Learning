{
 "cells": [
  {
   "cell_type": "code",
   "execution_count": 9,
   "metadata": {},
   "outputs": [],
   "source": [
    "%matplotlib inline"
   ]
  },
  {
   "cell_type": "code",
   "execution_count": 8,
   "metadata": {},
   "outputs": [],
   "source": [
    "import numpy as np\n",
    "import matplotlib.pyplot as plt"
   ]
  },
  {
   "cell_type": "markdown",
   "metadata": {},
   "source": [
    "# Title"
   ]
  },
  {
   "cell_type": "markdown",
   "metadata": {},
   "source": [
    " $$h_{\\theta}(\\vec{x})= \\frac{1}{1+e^{-\\vec{\\theta}.\\vec{X}}}=\\frac{1}{1+e^{-\\theta^T.X}}$$\n",
    " $h_{\\theta}(X)$ is also called sigmoid function ,graphicaly look like this :"
   ]
  },
  {
   "cell_type": "code",
   "execution_count": 18,
   "metadata": {},
   "outputs": [
    {
     "ename": "ValueError",
     "evalue": "all the input array dimensions except for the concatenation axis must match exactly",
     "output_type": "error",
     "traceback": [
      "\u001b[0;31m---------------------------------------------------------------------------\u001b[0m",
      "\u001b[0;31mValueError\u001b[0m                                Traceback (most recent call last)",
      "\u001b[0;32m<ipython-input-18-805d0311b2a9>\u001b[0m in \u001b[0;36m<module>\u001b[0;34m\u001b[0m\n\u001b[1;32m      1\u001b[0m \u001b[0mA\u001b[0m \u001b[0;34m=\u001b[0m \u001b[0mnp\u001b[0m\u001b[0;34m.\u001b[0m\u001b[0mempty_like\u001b[0m\u001b[0;34m\u001b[0m\u001b[0;34m\u001b[0m\u001b[0m\n\u001b[1;32m      2\u001b[0m \u001b[0mnewrow\u001b[0m \u001b[0;34m=\u001b[0m \u001b[0;34m[\u001b[0m\u001b[0;36m2\u001b[0m\u001b[0;34m,\u001b[0m\u001b[0;36m4\u001b[0m\u001b[0;34m]\u001b[0m\u001b[0;34m\u001b[0m\u001b[0;34m\u001b[0m\u001b[0m\n\u001b[0;32m----> 3\u001b[0;31m \u001b[0mnp\u001b[0m\u001b[0;34m.\u001b[0m\u001b[0mvstack\u001b[0m\u001b[0;34m(\u001b[0m\u001b[0;34m[\u001b[0m\u001b[0mA\u001b[0m\u001b[0;34m,\u001b[0m \u001b[0mnewrow\u001b[0m\u001b[0;34m]\u001b[0m\u001b[0;34m)\u001b[0m\u001b[0;34m\u001b[0m\u001b[0;34m\u001b[0m\u001b[0m\n\u001b[0m",
      "\u001b[0;32m~/anaconda3/lib/python3.7/site-packages/numpy/core/shape_base.py\u001b[0m in \u001b[0;36mvstack\u001b[0;34m(tup)\u001b[0m\n\u001b[1;32m    281\u001b[0m     \"\"\"\n\u001b[1;32m    282\u001b[0m     \u001b[0m_warn_for_nonsequence\u001b[0m\u001b[0;34m(\u001b[0m\u001b[0mtup\u001b[0m\u001b[0;34m)\u001b[0m\u001b[0;34m\u001b[0m\u001b[0;34m\u001b[0m\u001b[0m\n\u001b[0;32m--> 283\u001b[0;31m     \u001b[0;32mreturn\u001b[0m \u001b[0m_nx\u001b[0m\u001b[0;34m.\u001b[0m\u001b[0mconcatenate\u001b[0m\u001b[0;34m(\u001b[0m\u001b[0;34m[\u001b[0m\u001b[0matleast_2d\u001b[0m\u001b[0;34m(\u001b[0m\u001b[0m_m\u001b[0m\u001b[0;34m)\u001b[0m \u001b[0;32mfor\u001b[0m \u001b[0m_m\u001b[0m \u001b[0;32min\u001b[0m \u001b[0mtup\u001b[0m\u001b[0;34m]\u001b[0m\u001b[0;34m,\u001b[0m \u001b[0;36m0\u001b[0m\u001b[0;34m)\u001b[0m\u001b[0;34m\u001b[0m\u001b[0;34m\u001b[0m\u001b[0m\n\u001b[0m\u001b[1;32m    284\u001b[0m \u001b[0;34m\u001b[0m\u001b[0m\n\u001b[1;32m    285\u001b[0m \u001b[0;34m\u001b[0m\u001b[0m\n",
      "\u001b[0;31mValueError\u001b[0m: all the input array dimensions except for the concatenation axis must match exactly"
     ]
    }
   ],
   "source": [
    "A = np.empty_like\n",
    "newrow = [2,4]\n"
   ]
  },
  {
   "cell_type": "code",
   "execution_count": 40,
   "metadata": {},
   "outputs": [],
   "source": [
    "#utility\n",
    "\n",
    "\n",
    "def cartesian(start,end,step):\n",
    "    x = y = np.linspace(start,end,step)\n",
    "    result = np.transpose([np.tile(x, len(y)), np.repeat(y, len(x))])\n",
    "            \n",
    "    return result     "
   ]
  },
  {
   "cell_type": "code",
   "execution_count": 26,
   "metadata": {},
   "outputs": [
    {
     "data": {
      "text/plain": [
       "(101, 2)"
      ]
     },
     "execution_count": 26,
     "metadata": {},
     "output_type": "execute_result"
    }
   ],
   "source": [
    "cartesian(1,10,10).shape"
   ]
  },
  {
   "cell_type": "code",
   "execution_count": 13,
   "metadata": {},
   "outputs": [],
   "source": [
    "## sigmoid \n",
    "\n",
    "\n",
    "def sigmoid(z):\n",
    "    np.exp\n",
    "\n",
    "def sigmoid(w,x,b=0,range=20):\n",
    "    \"\"\"\n",
    "    takes w -vector [w_1,w_2,...,w_n,b] b intersection\n",
    "    \n",
    "    return real number \n",
    "    \"\"\"\n",
    "    z=np.array(w)\n",
    "    result = z.dot(np.array(x))\n",
    "    return result\n",
    "\n"
   ]
  },
  {
   "cell_type": "code",
   "execution_count": 34,
   "metadata": {},
   "outputs": [
    {
     "data": {
      "text/plain": [
       "[4, 5, 6]"
      ]
     },
     "execution_count": 34,
     "metadata": {},
     "output_type": "execute_result"
    }
   ],
   "source": [
    "w = [2,3,4]\n",
    "x=[1,2,3]\n",
    "#sigmoid(w,x,2)\n",
    "[i+2 for i in w]"
   ]
  },
  {
   "cell_type": "code",
   "execution_count": 81,
   "metadata": {},
   "outputs": [],
   "source": [
    "\n",
    "x = np.linspace(-100,100,120)\n",
    "\n"
   ]
  },
  {
   "cell_type": "code",
   "execution_count": 85,
   "metadata": {},
   "outputs": [],
   "source": [
    "def sigmoid(x,a,b):\n",
    "    z = [i*a +b for i in x]\n",
    "    result = [1/(1+np.exp(-i)) for i in z ]\n",
    "    return result"
   ]
  },
  {
   "cell_type": "code",
   "execution_count": null,
   "metadata": {},
   "outputs": [],
   "source": []
  },
  {
   "cell_type": "code",
   "execution_count": null,
   "metadata": {},
   "outputs": [],
   "source": []
  },
  {
   "cell_type": "code",
   "execution_count": 87,
   "metadata": {},
   "outputs": [
    {
     "data": {
      "text/plain": [
       "[<matplotlib.lines.Line2D at 0x7f46cf3317f0>]"
      ]
     },
     "execution_count": 87,
     "metadata": {},
     "output_type": "execute_result"
    },
    {
     "data": {
      "image/png": "[encoded data removed]",
      "text/plain": [
       "<Figure size 432x288 with 1 Axes>"
      ]
     },
     "metadata": {
      "needs_background": "light"
     },
     "output_type": "display_data"
    }
   ],
   "source": [
    "plt.plot(x,sigmoid(x,2,3))"
   ]
  },
  {
   "cell_type": "code",
   "execution_count": 58,
   "metadata": {},
   "outputs": [
    {
     "data": {
      "text/plain": [
       "array([ 1.,  2.,  3.,  4.,  5.,  6.,  7.,  8.,  9., 10.])"
      ]
     },
     "execution_count": 58,
     "metadata": {},
     "output_type": "execute_result"
    }
   ],
   "source": [
    "x = np.linspace(1,10,10)\n",
    "x"
   ]
  },
  {
   "cell_type": "code",
   "execution_count": 66,
   "metadata": {},
   "outputs": [],
   "source": [
    "y= [i**2 for i in x] \n"
   ]
  },
  {
   "cell_type": "code",
   "execution_count": 99,
   "metadata": {},
   "outputs": [
    {
     "data": {
      "text/plain": [
       "Text(0.5, 1.0, 'Axis [1,1]')"
      ]
     },
     "execution_count": 99,
     "metadata": {},
     "output_type": "execute_result"
    },
    {
     "data": {
      "image/png": "[encoded data removed]",
      "text/plain": [
       "<Figure size 432x288 with 4 Axes>"
      ]
     },
     "metadata": {
      "needs_background": "light"
     },
     "output_type": "display_data"
    }
   ],
   "source": [
    "fig, axs = plt.subplots(2, 2)\n",
    "axs[0, 0].plot(x,sigmoid(x,2,3))\n",
    "axs[0, 0].set_title('Axis [0,0]')\n",
    "axs[0, 1].plot(x,sigmoid(x,2,3))\n",
    "axs[0, 1].set_title('Axis [0,1]')\n",
    "axs[1, 0].plot(x,sigmoid(x,2,3))\n",
    "axs[1, 0].set_title('Axis [1,0]')\n",
    "axs[1, 1].plot(x,sigmoid(x,2,3))\n",
    "axs[1, 1].set_title('Axis [1,1]')"
   ]
  },
  {
   "cell_type": "code",
   "execution_count": 44,
   "metadata": {},
   "outputs": [
    {
     "name": "stdout",
     "output_type": "stream",
     "text": [
      "[[  1.           1.        ]\n",
      " [ 15.14285714   1.        ]\n",
      " [ 29.28571429   1.        ]\n",
      " [ 43.42857143   1.        ]\n",
      " [ 57.57142857   1.        ]\n",
      " [ 71.71428571   1.        ]\n",
      " [ 85.85714286   1.        ]\n",
      " [100.           1.        ]\n",
      " [  1.          15.14285714]\n",
      " [ 15.14285714  15.14285714]\n",
      " [ 29.28571429  15.14285714]\n",
      " [ 43.42857143  15.14285714]\n",
      " [ 57.57142857  15.14285714]\n",
      " [ 71.71428571  15.14285714]\n",
      " [ 85.85714286  15.14285714]\n",
      " [100.          15.14285714]\n",
      " [  1.          29.28571429]\n",
      " [ 15.14285714  29.28571429]\n",
      " [ 29.28571429  29.28571429]\n",
      " [ 43.42857143  29.28571429]\n",
      " [ 57.57142857  29.28571429]\n",
      " [ 71.71428571  29.28571429]\n",
      " [ 85.85714286  29.28571429]\n",
      " [100.          29.28571429]\n",
      " [  1.          43.42857143]\n",
      " [ 15.14285714  43.42857143]\n",
      " [ 29.28571429  43.42857143]\n",
      " [ 43.42857143  43.42857143]\n",
      " [ 57.57142857  43.42857143]\n",
      " [ 71.71428571  43.42857143]\n",
      " [ 85.85714286  43.42857143]\n",
      " [100.          43.42857143]\n",
      " [  1.          57.57142857]\n",
      " [ 15.14285714  57.57142857]\n",
      " [ 29.28571429  57.57142857]\n",
      " [ 43.42857143  57.57142857]\n",
      " [ 57.57142857  57.57142857]\n",
      " [ 71.71428571  57.57142857]\n",
      " [ 85.85714286  57.57142857]\n",
      " [100.          57.57142857]\n",
      " [  1.          71.71428571]\n",
      " [ 15.14285714  71.71428571]\n",
      " [ 29.28571429  71.71428571]\n",
      " [ 43.42857143  71.71428571]\n",
      " [ 57.57142857  71.71428571]\n",
      " [ 71.71428571  71.71428571]\n",
      " [ 85.85714286  71.71428571]\n",
      " [100.          71.71428571]\n",
      " [  1.          85.85714286]\n",
      " [ 15.14285714  85.85714286]\n",
      " [ 29.28571429  85.85714286]\n",
      " [ 43.42857143  85.85714286]\n",
      " [ 57.57142857  85.85714286]\n",
      " [ 71.71428571  85.85714286]\n",
      " [ 85.85714286  85.85714286]\n",
      " [100.          85.85714286]\n",
      " [  1.         100.        ]\n",
      " [ 15.14285714 100.        ]\n",
      " [ 29.28571429 100.        ]\n",
      " [ 43.42857143 100.        ]\n",
      " [ 57.57142857 100.        ]\n",
      " [ 71.71428571 100.        ]\n",
      " [ 85.85714286 100.        ]\n",
      " [100.         100.        ]]\n",
      "64\n"
     ]
    }
   ],
   "source": [
    "num_elemt= 8\n",
    "a = cartesian(1,100,num_elemt)\n",
    "print(a)\n",
    "x = a.shape[0]\n",
    "print(x)\n",
    "# y = int(x/3)+1\n",
    "\n",
    "# print(x)\n",
    "# print(int(y))\n",
    "# fig, axs = plt.subplots(x, y)\n",
    "# for i in range(y) :\n",
    "#     for z in range(x):\n",
    "#         axs[i, z].plot(1,1)\n",
    "        \n",
    "\n",
    "    "
   ]
  },
  {
   "cell_type": "code",
   "execution_count": null,
   "metadata": {},
   "outputs": [],
   "source": [
    "import numpy as np\n",
    "X,Y = np.mgrid[-5:5.1:0.5, -5:5.1:0.5]"
   ]
  },
  {
   "cell_type": "code",
   "execution_count": null,
   "metadata": {},
   "outputs": [],
   "source": []
  }
 ],
 "metadata": {
  "kernelspec": {
   "display_name": "Python 3",
   "language": "python",
   "name": "python3"
  },
  "language_info": {
   "codemirror_mode": {
    "name": "ipython",
    "version": 3
   },
   "file_extension": ".py",
   "mimetype": "text/x-python",
   "name": "python",
   "nbconvert_exporter": "python",
   "pygments_lexer": "ipython3",
   "version": "3.7.3"
  }
 },
 "nbformat": 4,
 "nbformat_minor": 2
}
