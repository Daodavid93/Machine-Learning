{
 "cells": [
  {
   "cell_type": "code",
   "execution_count": 6,
   "metadata": {},
   "outputs": [],
   "source": [
    "%matplotlib inline"
   ]
  },
  {
   "cell_type": "code",
   "execution_count": 5,
   "metadata": {},
   "outputs": [],
   "source": [
    "import numpy as np\n",
    "import matplotlib.pyplot as plt"
   ]
  },
  {
   "cell_type": "markdown",
   "metadata": {},
   "source": [
    "# Cross entropy function and its application in Logistic regression\n",
    "author: (Zen Math Master :D)  Daodeiv Stankov "
   ]
  },
  {
   "cell_type": "markdown",
   "metadata": {},
   "source": [
    "1.let to generate our working data,wich have to be  with ...."
   ]
  },
  {
   "cell_type": "code",
   "execution_count": 16,
   "metadata": {},
   "outputs": [],
   "source": [
    "\n",
    "\n",
    "def sigmoid(z):\n",
    "    return 1/(1+np.exp(-z))\n",
    "(Zen Math Master :D) \n",
    "\n",
    "def generate_output(z):\n",
    "    if z < 0.5:\n",
    "        return 0\n",
    "    else :\n",
    "        return 1\n"
   ]
  },
  {
   "cell_type": "code",
   "execution_count": 13,
   "metadata": {},
   "outputs": [],
   "source": [
    "x = np.linspace(-3,3,10)\n",
    "y = [generate_output(i) for i in x]  \n"
   ]
  },
  {
   "cell_type": "code",
   "execution_count": 17,
   "metadata": {},
   "outputs": [
    {
     "data": {
      "text/plain": [
       "<matplotlib.collections.PathCollection at 0x7f24e6cd39e8>"
      ]
     },
     "execution_count": 17,
     "metadata": {},
     "output_type": "execute_result"
    },
    {
     "data": {
      "image/png": "[encoded data removed]",
      "text/plain": [
       "<Figure size 432x288 with 1 Axes>"
      ]
     },
     "metadata": {
      "needs_background": "light"
     },
     "output_type": "display_data"
    }
   ],
   "source": [
    "plt.scatter(x,y)"
   ]
  },
  {
   "cell_type": "markdown",
   "metadata": {},
   "source": [
    "### The cross-entropy loss function"
   ]
  },
  {
   "cell_type": "markdown",
   "metadata": {},
   "source": [
    "<h3 style='background :\t #b3d9ff' >\n",
    "    <font color=' #800080' face=\"Georgia, Arial, Garamond\" >\n",
    "    We need a loss function that expresses ,for an observation x ,how close the classifier output ($\\hat{y}=\\sigma(w.x + b)$) is to the correct function output (which is 1 ,0 ).We will call this : <br> <br>\n",
    "    $$ L(\\hat{y},y)= How\\;much\\;\\hat{y}\\;is\\;different\\;from \\;true \\; y$$ <br>\n",
    "    We do this via a loss function that prefers the correct class labels of the training data exaples to be more quickly.\n",
    "    \n",
    "    \n",
    "   </font>\n",
    "</h3>    "
   ]
  },
  {
   "cell_type": "code",
   "execution_count": null,
   "metadata": {},
   "outputs": [],
   "source": []
  }
 ],
 "metadata": {
  "kernelspec": {
   "display_name": "Python 3",
   "language": "python",
   "name": "python3"
  },
  "language_info": {
   "codemirror_mode": {
    "name": "ipython",
    "version": 3
   },
   "file_extension": ".py",
   "mimetype": "text/x-python",
   "name": "python",
   "nbconvert_exporter": "python",
   "pygments_lexer": "ipython3",
   "version": "3.7.3"
  }
 },
 "nbformat": 4,
 "nbformat_minor": 2
}
