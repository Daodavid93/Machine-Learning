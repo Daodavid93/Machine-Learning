{
 "cells": [
  {
   "cell_type": "markdown",
   "metadata": {},
   "source": [
    "<h7>\n",
    " <br> <br>\n",
    "        <font color='#263a61' >\n",
    "           Normal text\n",
    "    </font>\n",
    "</h7>    \n",
    "\n",
    "\n",
    "\n",
    " <h5>\n",
    "  <font color='#454214' > \n",
    "        <font color='#454214' >   EUQTION FORMAT : </font>\n",
    "   <br>  \n",
    "    $$ B= \\begin{bmatrix}  b_1 \\\\  b_2\\  \\\\  b_3  \\end{bmatrix}   $$ \n",
    "   <br>\n",
    "    \n",
    "\n",
    "   \n",
    " </font>\n",
    "<h5>"
   ]
  },
  {
   "cell_type": "markdown",
   "metadata": {},
   "source": [
    "<h5>\n",
    "    <br> <br> <br>\n",
    "    <font color='#053157'>\n",
    "      More special \n",
    "     </font>\n",
    "  </h5>  "
   ]
  },
  {
   "cell_type": "markdown",
   "metadata": {},
   "source": [
    "<h2>\n",
    "   <font color='#520714'>\n",
    "       Hightlite special \n",
    "    </font\n",
    "       </h2>       "
   ]
  },
  {
   "cell_type": "code",
   "execution_count": 3,
   "metadata": {},
   "outputs": [
    {
     "data": {
      "text/markdown": [
       "**bold**"
      ],
      "text/plain": [
       "<IPython.core.display.Markdown object>"
      ]
     },
     "metadata": {},
     "output_type": "display_data"
    }
   ],
   "source": [
    "from IPython.display import Markdown, display\n",
    "def printmd(string):\n",
    "    display(Markdown(string))\n",
    "printmd('**bold**')"
   ]
  }
 ],
 "metadata": {
  "kernelspec": {
   "display_name": "Python 3",
   "language": "python",
   "name": "python3"
  },
  "language_info": {
   "codemirror_mode": {
    "name": "ipython",
    "version": 3
   },
   "file_extension": ".py",
   "mimetype": "text/x-python",
   "name": "python",
   "nbconvert_exporter": "python",
   "pygments_lexer": "ipython3",
   "version": "3.7.4"
  }
 },
 "nbformat": 4,
 "nbformat_minor": 2
}
