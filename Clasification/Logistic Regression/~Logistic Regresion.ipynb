{
 "cells": [
  {
   "cell_type": "code",
   "execution_count": 1,
   "metadata": {},
   "outputs": [],
   "source": [
    "%matplotlib inline"
   ]
  },
  {
   "cell_type": "code",
   "execution_count": 2,
   "metadata": {},
   "outputs": [],
   "source": [
    "import numpy as np\n",
    "import matplotlib.pyplot as plt"
   ]
  },
  {
   "cell_type": "markdown",
   "metadata": {},
   "source": [
    "In the simple words,it is the probability of occurance of an event by fitting data to a logit function"
   ]
  },
  {
   "cell_type": "markdown",
   "metadata": {},
   "source": [
    "## HOW DOES LOGISTRIC REGRESTION WORK ?\n",
    "* In logistic regression ,a mathematical model of set of explonarity variables is used to predict the logit tranformation of dependent variable.\n",
    "Suppose that the numeriacal variables 0 and 1 are assigned to the outcomes of binary variables.Often 0 represents a negative response and 1 represents a  positive response.\n",
    "if the p is the proportion of obeservation with outcome 1 ,then (1-p) is propertion of obesavation with outcome 0.The ratio $p/(1-p)$ is called the odds and the logit is the logorim of odd or just log odds"
   ]
  },
  {
   "cell_type": "markdown",
   "metadata": {},
   "source": [
    "* Mathematicaly .the logit transofrmation is wriiten : \n",
    "    $$l=logit(p)=ln(\\frac{p}{1-p}) $$ "
   ]
  },
  {
   "cell_type": "markdown",
   "metadata": {},
   "source": [
    "* the logistic tranformation is the inverse of logit tranformation .It is written :\n",
    "$$p = logit(l)= \\frac{1}{1+e^t} $$"
   ]
  },
  {
   "cell_type": "markdown",
   "metadata": {},
   "source": [
    "# Logistic Regresion"
   ]
  },
  {
   "cell_type": "markdown",
   "metadata": {},
   "source": [
    "$$ h_{0}(x)=g(p^Tx)=\\frac{1}{1+e^{-p^Tx}}$$ where \n",
    "$$g(z)=\\frac{1}{1+e^{-z}} $$\n",
    "$$z=p_ix_i=p^T.x $$\n",
    "$$p,x\\in L^n \\; linear\\;  space\\;\\;\\  $$ <br>\n",
    "<br>\n",
    "is called logistic function or sigmoid function"
   ]
  },
  {
   "cell_type": "code",
   "execution_count": 1,
   "metadata": {},
   "outputs": [],
   "source": [
    "def sigmoid(w,b,range=10):\n",
    "    \"\"\"\n",
    "    \n",
    "    \"\"\"\n",
    "        \n",
    "    f = lambda x : 1/(1+np.exp(-x))\n",
    "    x = np.linspace(-range,range)\n",
    "    x = np.array([x,x]).T\n",
    "    z = np.array( [ np.array(w).dot(i)+b for i in x])\n",
    "    result = np.array([f(i) for i in z])\n",
    "    return z,result"
   ]
  },
  {
   "cell_type": "markdown",
   "metadata": {},
   "source": [
    " ploted here"
   ]
  },
  {
   "cell_type": "code",
   "execution_count": 6,
   "metadata": {},
   "outputs": [
    {
     "data": {
      "text/plain": [
       "Text(0.5, 1.0, 'SIgmoid')"
      ]
     },
     "execution_count": 6,
     "metadata": {},
     "output_type": "execute_result"
    },
    {
     "data": {
      "image/png": "[encoded data removed]",
      "text/plain": [
       "<Figure size 432x288 with 1 Axes>"
      ]
     },
     "metadata": {
      "needs_background": "light"
     },
     "output_type": "display_data"
    }
   ],
   "source": [
    "\n",
    "x,y = sigmoid([0.001,0.004],0.0008,range=1680)\n",
    "plt.plot(x,y)\n",
    "plt.xlabel('z')\n",
    "plt.ylabel('g(z)')\n",
    "plt.title('SIgmoid')\n"
   ]
  },
  {
   "cell_type": "markdown",
   "metadata": {},
   "source": [
    "when $z \\rightarrow \\infty $ then $ g \\rightarrow 1$ and when $z \\rightarrow \n",
    "-\\infty $ then $ g \\rightarrow 0$ \n",
    "useful property of logistic function,let take a its derivate\n",
    "$$ \\frac{dg'(z)}{dz}=\\frac{1}{(1+e^{-z})^2}.{(e^{-z})}=\\frac{1}{1+e^{-z}}(1- \\frac{1}{1+e^{-z}})=g(z).(1-g(z))$$"
   ]
  },
  {
   "cell_type": "markdown",
   "metadata": {},
   "source": [
    "Let us assume that\n",
    "$$P(y=1 | x) = h_0(x) $$ <br>\n",
    "$$P(y=0 | x) = 1 - h_0(x) $$ <br>\n",
    "Note that this can be more compactly as <br>\n",
    "$$P(y|x)=(h_0(x))^y(1-h_0(x))^{1-y}$$ <br>\n",
    "\n",
    "Assuming that the m training examples were generated independently ,we can then write down the likelihood of the parameters as :\n",
    " L(z)"
   ]
  }
 ],
 "metadata": {
  "kernelspec": {
   "display_name": "Python 3",
   "language": "python",
   "name": "python3"
  },
  "language_info": {
   "codemirror_mode": {
    "name": "ipython",
    "version": 3
   },
   "file_extension": ".py",
   "mimetype": "text/x-python",
   "name": "python",
   "nbconvert_exporter": "python",
   "pygments_lexer": "ipython3",
   "version": "3.7.1"
  }
 },
 "nbformat": 4,
 "nbformat_minor": 2
}
