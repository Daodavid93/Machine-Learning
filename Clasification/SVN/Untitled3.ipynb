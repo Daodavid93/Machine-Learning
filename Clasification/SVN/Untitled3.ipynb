{
 "cells": [
  {
   "cell_type": "code",
   "execution_count": null,
   "metadata": {},
   "outputs": [],
   "source": []
  },
  {
   "cell_type": "markdown",
   "metadata": {},
   "source": [
    "# Non-Linear Programing optimazation"
   ]
  },
  {
   "cell_type": "markdown",
   "metadata": {},
   "source": [
    "### external links\n",
    "[3] http://members.cbio.mines-paristech.fr/~jvert/teaching/2006insead/slides/3_optimality/optimality.pdf  proof of inqility constaint<br>\n",
    "[2] https://www.math.uh.edu/~rohop/fall_06/Chapter2.pdf <br>\n",
    "[1] http://mat.uab.cat/~alseda/MasterOpt/310trialtext.pdf"
   ]
  }
 ],
 "metadata": {
  "kernelspec": {
   "display_name": "Python 3",
   "language": "python",
   "name": "python3"
  },
  "language_info": {
   "codemirror_mode": {
    "name": "ipython",
    "version": 3
   },
   "file_extension": ".py",
   "mimetype": "text/x-python",
   "name": "python",
   "nbconvert_exporter": "python",
   "pygments_lexer": "ipython3",
   "version": "3.7.1"
  }
 },
 "nbformat": 4,
 "nbformat_minor": 2
}
