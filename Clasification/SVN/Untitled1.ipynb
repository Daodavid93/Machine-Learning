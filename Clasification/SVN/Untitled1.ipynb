{
 "cells": [
  {
   "cell_type": "code",
   "execution_count": 1,
   "metadata": {},
   "outputs": [],
   "source": [
    "import matplotlib.pyplot as plt\n",
    "plt.style.use('classic')\n",
    "import seaborn as sns\n",
    "import numpy as np\n",
    "import pandas as pd\n",
    "from mpl_toolkits.mplot3d import Axes3D\n",
    "import math\n",
    "from mpl_toolkits import mplot3d"
   ]
  },
  {
   "cell_type": "code",
   "execution_count": 31,
   "metadata": {},
   "outputs": [
    {
     "name": "stdout",
     "output_type": "stream",
     "text": [
      "[[-0.125  0.375  0.25 ]\n",
      " [-0.375  0.125 -0.25 ]\n",
      " [-2.875  1.625 -0.25 ]]\n"
     ]
    }
   ],
   "source": [
    "A = np.array([[3,4,-1],\n",
    "              [5,6,-1],\n",
    "              [-2,-7,1]])\n",
    "B = np.linalg.inv(A)\n",
    "print(B)\n",
    "B.dot(A)\n",
    "C = np.array([[-1,3,2],\n",
    "              [-3,1,-2],\n",
    "              [-23,13,-2]])/(8)\n",
    "C.dot(A)\n",
    "\n",
    "\n",
    "\n",
    "D = np.array([[1]\n",
    "              ,[1],[1]])\n",
    "K = C.dot(D)\n"
   ]
  },
  {
   "cell_type": "code",
   "execution_count": 35,
   "metadata": {},
   "outputs": [
    {
     "data": {
      "text/plain": [
       "-0.5"
      ]
     },
     "execution_count": 35,
     "metadata": {},
     "output_type": "execute_result"
    }
   ],
   "source": [
    "np.array([3,4,1]).dot(K) \n",
    "C = np.array([0.5,-0.5]).dot(np.array([3,4]).T)\n",
    "C"
   ]
  },
  {
   "cell_type": "code",
   "execution_count": null,
   "metadata": {},
   "outputs": [],
   "source": []
  }
 ],
 "metadata": {
  "kernelspec": {
   "display_name": "Python 3",
   "language": "python",
   "name": "python3"
  },
  "language_info": {
   "codemirror_mode": {
    "name": "ipython",
    "version": 3
   },
   "file_extension": ".py",
   "mimetype": "text/x-python",
   "name": "python",
   "nbconvert_exporter": "python",
   "pygments_lexer": "ipython3",
   "version": "3.7.3"
  }
 },
 "nbformat": 4,
 "nbformat_minor": 2
}
