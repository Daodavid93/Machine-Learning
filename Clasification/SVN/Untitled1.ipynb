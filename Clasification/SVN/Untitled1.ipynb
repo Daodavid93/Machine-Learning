{
 "cells": [
  {
   "cell_type": "code",
   "execution_count": null,
   "metadata": {},
   "outputs": [],
   "source": []
  },
  {
   "cell_type": "code",
   "execution_count": null,
   "metadata": {},
   "outputs": [],
   "source": []
  },
  {
   "cell_type": "markdown",
   "metadata": {},
   "source": [
    "# Support Vector Machine"
   ]
  },
  {
   "cell_type": "markdown",
   "metadata": {},
   "source": [
    "#### author Daodeiv David Stankov"
   ]
  },
  {
   "cell_type": "markdown",
   "metadata": {},
   "source": [
    "## Vector Space"
   ]
  },
  {
   "cell_type": "code",
   "execution_count": 3,
   "metadata": {},
   "outputs": [],
   "source": [
    "def plot_line(show=False):\n",
    "    pass\n",
    "def plot_vector(show=False):\n",
    "    pass"
   ]
  },
  {
   "cell_type": "markdown",
   "metadata": {},
   "source": [
    "### Hyperplane \n",
    "##### In geometry, a hyperplane is a subspace that has one dimension fewer than its ambient space.The hyperplane separates the space into two parts. A classifier is linear when it uses a hyperplane in multidimensional space to separate data. From geometry, the general equation for a hyperplane is :  $$1)w*x=0$$ or  $$<w|x>=0$$\n",
    "##### For example in 2D space the equation of hyperplane is the line where : <br>   $$ 2) a*x +b = y$$\n",
    "##### Rewriting the equation for the line yields the standard form for the hyperplane, which is:$$ a*x +b -y =0$$\n",
    "\n",
    "$$w = \\begin{pmatrix} -b \\\\- a \\\\ 1 \\end{pmatrix}$$ and $$x = \\begin{pmatrix} 1 \\\\ x \\\\y \\end{pmatrix}$$\n",
    "\n",
    "where w0 = -b, w1 = -a, and w2 = 1. Taking the dot product of w and x and setting that equal to\n",
    "zero then produces the equation of a line in standard form. Given that the vectors are column\n",
    "vectors, the dot product is equivalent to the matrix operation $$w^Tx=0$$"
   ]
  },
  {
   "cell_type": "markdown",
   "metadata": {},
   "source": [
    "##### The vector and matrix forms are easier to work with when using matrix algebra within numerical packages. Some notations explicitly write out the w0 = -b component of the vector, in which case the dimension index starts at 1 instead of 0.\n",
    "##### The w vector is always normal to the hyperplane Its unit vector u is $$ u=\\frac{w}{||w||}$$\n",
    "##### The vector w must be perpendicular (normal) to the hyperplane H0 because the dot product is zero by definition, when the cosine of the angle between x and w is zero. The cosine is zero when the angle is 90 degrees. For the 2D example $$ u = \\frac{w}{||w||}=\\Big(\\frac{w1}{||w1||},\\frac{w2}{||w2||}\\Big)$$"
   ]
  },
  {
   "cell_type": "markdown",
   "metadata": {},
   "source": [
    "###### This unit w vector is important in finding the distance of any point (feature) from the hyperplane by projecting that point to a normal vector of the hyperplane. For example, vector p in Figure 1 is the projection of point A onto the plane of the w vector. Hence the distance from point A to the hyperplane is the same as the length of p or ||p||. The projection of vector a onto the plane of w is p where $$p = (u*a)u $$ The dot product produces a scalar, which is the magnitude (length) of the vector such that.$$ u*a = \\sum_iu_ia_i $$"
   ]
  },
  {
   "cell_type": "markdown",
   "metadata": {},
   "source": [
    "#### Constraints of Classification\n",
    "##### Given a weight vector w, a parallel hyperplane with offset +δ to one side is $$w*x = +\\beta$$ or  $$  a*x +b -y = \\beta$$ Hence, the equal and opposite offset to the other side of the hyperplane is  $$w*x = -\\beta$$ or $$  a*x +b -y =-\\beta$$\n",
    "##### Given a feature vector xi, the assigned class must satisfy $$w*x < +\\beta$$ or  $$  a*x +b -y < \\beta$$ and for a class label of yi = 1 and   $$w*x = -\\beta$$ "
   ]
  },
  {
   "cell_type": "markdown",
   "metadata": {},
   "source": [
    "##### The SVM will calculate the optimum w for any offset. Therefore, any non-zero offset will establish a margin that the optimization can maximize. For mathematical convenience,theoreticians set the offset to δ=1 to simplify the design of the classifier. This allows the two\n",
    "classification constraints to be combined into a single constraint. That is, setting δ=1, multiplying\n",
    "both sides of equation (15) by yi, and assigning the class label value of +1 to the right yields"
   ]
  },
  {
   "cell_type": "markdown",
   "metadata": {},
   "source": [
    "### References <br>\n",
    "## http://cs229.stanford.edu/notes/cs229-notes3.pdf\n",
    "## https://www.ugpti.org/smartse/resources/downloads/support-vector-machines.pdf"
   ]
  }
 ],
 "metadata": {
  "kernelspec": {
   "display_name": "Python 3",
   "language": "python",
   "name": "python3"
  },
  "language_info": {
   "codemirror_mode": {
    "name": "ipython",
    "version": 3
   },
   "file_extension": ".py",
   "mimetype": "text/x-python",
   "name": "python",
   "nbconvert_exporter": "python",
   "pygments_lexer": "ipython3",
   "version": "3.7.1"
  }
 },
 "nbformat": 4,
 "nbformat_minor": 2
}
