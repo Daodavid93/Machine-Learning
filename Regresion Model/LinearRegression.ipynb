{
 "cells": [
  {
   "cell_type": "code",
   "execution_count": 4,
   "metadata": {},
   "outputs": [],
   "source": [
    "%matplotlib inline\n",
    "import matplotlib.pyplot as plt\n",
    "import numpy as np\n",
    "import math\n",
    "from mpl_toolkits.mplot3d import Axes3D\n",
    "from random import random"
   ]
  },
  {
   "cell_type": "markdown",
   "metadata": {},
   "source": [
    "# Linear Regression"
   ]
  },
  {
   "cell_type": "markdown",
   "metadata": {},
   "source": [
    "##### author: Daodeiv"
   ]
  },
  {
   "cell_type": "markdown",
   "metadata": {},
   "source": [
    "### Intro"
   ]
  },
  {
   "cell_type": "markdown",
   "metadata": {},
   "source": [
    "#####  LR is basic and comonly used type of predictive analysis.Also linear regression is verry old way to crating the math model of physic experiment ,because every experiment has a noice(error measurments ) with some standart deviation ,by linear regresion the noice can be remove.\n",
    "### The overall idea of regression is to examine two things \n",
    "###### 1) does a set of predictor variables do a good job in prediction an outcome (dependent) variable ?\n",
    "###### 2)Which variables in paricular are significat predictorsof outcome variable,and in what wau do they-indicated by the magnitude and sign of the beta estimates–impact the outcome variable?"
   ]
  },
  {
   "cell_type": "markdown",
   "metadata": {},
   "source": [
    "### Methods "
   ]
  },
  {
   "cell_type": "markdown",
   "metadata": {},
   "source": [
    "##### let to define  math lienear  function with some noice\n"
   ]
  },
  {
   "cell_type": "code",
   "execution_count": 164,
   "metadata": {},
   "outputs": [],
   "source": [
    "def our_function(show='False'):\n",
    "    a =4\n",
    "    c =-10\n",
    "    f = lambda x : a*x + c + np.random.uniform(0,4)\n",
    "    x_args = np.linspace(0,10)\n",
    "    y_args = [f(i) for i in x_args]\n",
    "    plt.scatter(x_args,y_args)\n",
    "    if show:\n",
    "        ##plt.show()\n",
    "        pass\n",
    "\n",
    "def plot_function(a,b,cost,show='False'):\n",
    "    f = lambda x,a,b : a*x +b\n",
    "    l = \"{}*x_i + {}\".format(a,b)\n",
    "    x_args = np.linspace(0,10)\n",
    "    our_function()\n",
    "    y_args = [f(i,a,b) for i in x_args]\n",
    "    plt.plot(x_args,y_args)\n",
    "    plt.text(0,20,\"cost value = {} a={} b={} \".format(str(cost),a,b))\n",
    "    if show:\n",
    "        plt.legend()\n",
    "        plt.show()\n",
    "    "
   ]
  },
  {
   "cell_type": "markdown",
   "metadata": {},
   "source": [
    "#### our goal is  to find the function f= a*x+b which describe  X and Y values most better way"
   ]
  },
  {
   "cell_type": "code",
   "execution_count": 84,
   "metadata": {},
   "outputs": [
    {
     "data": {
      "image/png": "[encoded data removed]",
      "text/plain": [
       "<Figure size 432x288 with 1 Axes>"
      ]
     },
     "metadata": {
      "needs_background": "light"
     },
     "output_type": "display_data"
    }
   ],
   "source": [
    "our_function()"
   ]
  },
  {
   "cell_type": "code",
   "execution_count": null,
   "metadata": {},
   "outputs": [],
   "source": []
  },
  {
   "cell_type": "markdown",
   "metadata": {},
   "source": [
    "deleted ### we can see that 4.5*x +15 is the best model,no maybe exists better model\n",
    "### but out purpose is the implement alogoritm which the mashine will have the best model\n",
    "#### if we get sum the diference between predicted value and actual value this can be give the some udestanding of which model is good\n",
    " $\\sum_i{(y_ipredict-y_iactual)^2}$ \n",
    "but this function has 2 big problem first the derivate of the fuction is constant,second for us is the import modul of $Y_ipredict-y_iactual$\n",
    "The function wich will give us the best approach is 1) $$\\sum_i{(y_ipredict-y_iactual)^2}$$  \n",
    "##### is called cost function\n",
    "##### why  the function is good ?\n",
    "##### 1) first because it give us the abosolute diference between predicted value and actual vaulu\n",
    "##### 2) the funcction is differentiable function in every point(in belowe we will se why this so importent)\n",
    "##### 3) !!! remember our purpose is to find where $\\sum_i{(y_ipredict-y_iactual)^2}$  get minimum value not what is this value"
   ]
  },
  {
   "cell_type": "markdown",
   "metadata": {},
   "source": [
    "##### in more detail written the function looks like this  \n",
    "$$\\sum_i{\\sqrt{(Y_ipredict^2-y_iactual^2)}}=\\sum_i{(a*x+b)^2-y_iactual^2)}$$ "
   ]
  },
  {
   "cell_type": "code",
   "execution_count": null,
   "metadata": {},
   "outputs": [],
   "source": []
  },
  {
   "cell_type": "markdown",
   "metadata": {},
   "source": [
    "#### lets to check for above examples for which a,b the cost function is smallest\n"
   ]
  },
  {
   "cell_type": "code",
   "execution_count": 175,
   "metadata": {},
   "outputs": [],
   "source": [
    "def cost(a,b,x_args,y_actual_args):\n",
    "    \"\"\"\n",
    "    takes a_predict,b_predict predict value for a and b\n",
    "    takse x_args,y_actual_args actual values \n",
    "    return the the value of cost function\n",
    "    \"\"\"\n",
    "    \n",
    "    f = lambda x,a,b : a*x + b\n",
    "    y_actual = np.array(y_actual_args)\n",
    "  \n",
    "    y_predict = np.array([f(i,a,b) for i in x_args])\n",
    "#     print(y_predict.shape)\n",
    "#     print(y_actual.shape)\n",
    "    cost = (((y_predict-y_actual)**2).sum())/(2*len(x_args))\n",
    "    print('for a={} and b={} the cost function give result {}'.format(a,b,cost))\n",
    "    return cost\n",
    "    \n",
    "\n",
    "    \n"
   ]
  },
  {
   "cell_type": "code",
   "execution_count": 176,
   "metadata": {},
   "outputs": [],
   "source": [
    "f = lambda x : 4*x -10 + np.random.uniform(0,4)\n",
    "x_args = np.linspace(0,10)\n",
    "y_args = [f(i) for i in x_args]\n",
    "#print(str(y_args))"
   ]
  },
  {
   "cell_type": "code",
   "execution_count": 177,
   "metadata": {},
   "outputs": [
    {
     "name": "stderr",
     "output_type": "stream",
     "text": [
      "No handles with labels found to put in legend.\n"
     ]
    },
    {
     "name": "stdout",
     "output_type": "stream",
     "text": [
      "for a=3 and b=4 the cost function give result 27.755716546228374\n"
     ]
    },
    {
     "data": {
      "image/png": "[encoded data removed]",
      "text/plain": [
       "<Figure size 432x288 with 1 Axes>"
      ]
     },
     "metadata": {
      "needs_background": "light"
     },
     "output_type": "display_data"
    }
   ],
   "source": [
    "a=3\n",
    "b=4\n",
    "value = cost(a,b,x_args,y_args)\n",
    "value=(str(value))\n",
    "plot_function(a,b,value)"
   ]
  },
  {
   "cell_type": "code",
   "execution_count": 178,
   "metadata": {},
   "outputs": [
    {
     "name": "stderr",
     "output_type": "stream",
     "text": [
      "No handles with labels found to put in legend.\n"
     ]
    },
    {
     "name": "stdout",
     "output_type": "stream",
     "text": [
      "for a=-4 and b=15 the cost function give result 426.71291315431705\n"
     ]
    },
    {
     "data": {
      "image/png": "[encoded data removed]",
      "text/plain": [
       "<Figure size 432x288 with 1 Axes>"
      ]
     },
     "metadata": {
      "needs_background": "light"
     },
     "output_type": "display_data"
    }
   ],
   "source": [
    "a=-4\n",
    "b=15\n",
    "value = cost(a,b,x_args,y_args)\n",
    "value=(str(value))\n",
    "plot_function(a,b,value)"
   ]
  },
  {
   "cell_type": "code",
   "execution_count": 179,
   "metadata": {},
   "outputs": [
    {
     "name": "stderr",
     "output_type": "stream",
     "text": [
      "No handles with labels found to put in legend.\n"
     ]
    },
    {
     "name": "stdout",
     "output_type": "stream",
     "text": [
      "for a=4 and b=-10 the cost function give result 3.124709420825368\n"
     ]
    },
    {
     "data": {
      "image/png": "[encoded data removed]",
      "text/plain": [
       "<Figure size 432x288 with 1 Axes>"
      ]
     },
     "metadata": {
      "needs_background": "light"
     },
     "output_type": "display_data"
    }
   ],
   "source": [
    "a=4\n",
    "b=-10\n",
    "value = cost(a,b,x_args,y_args)\n",
    "value=(str(value))\n",
    "plot_function(a,b,value)"
   ]
  },
  {
   "cell_type": "code",
   "execution_count": 180,
   "metadata": {},
   "outputs": [
    {
     "name": "stderr",
     "output_type": "stream",
     "text": [
      "No handles with labels found to put in legend.\n"
     ]
    },
    {
     "name": "stdout",
     "output_type": "stream",
     "text": [
      "for a=-4 and b=20 the cost function give result 352.9954991386201\n"
     ]
    },
    {
     "data": {
      "image/png": "[encoded data removed]",
      "text/plain": [
       "<Figure size 432x288 with 1 Axes>"
      ]
     },
     "metadata": {
      "needs_background": "light"
     },
     "output_type": "display_data"
    }
   ],
   "source": [
    "### from above 3 example we can see when a=4 and b=-10\n",
    "### Then the cost value is most less and the model is most good"
   ]
  },
  {
   "cell_type": "markdown",
   "metadata": {},
   "source": [
    "#### We have to create method to find the min value of cost fuction depends on a ,b\n",
    "#### this can be make with derivate because we know that when f'(x)=0 then f(x) has min value in x \n",
    "we will use gradient descent \n",
    "see <a href='https://github.com/Daodavid93/Machine-Learning-first-steps/blob/master/Regresion%20Model/gradient%20descent.ipynb'>here</a>"
   ]
  },
  {
   "cell_type": "markdown",
   "metadata": {},
   "source": []
  }
 ],
 "metadata": {
  "kernelspec": {
   "display_name": "Python 3",
   "language": "python",
   "name": "python3"
  },
  "language_info": {
   "codemirror_mode": {
    "name": "ipython",
    "version": 3
   },
   "file_extension": ".py",
   "mimetype": "text/x-python",
   "name": "python",
   "nbconvert_exporter": "python",
   "pygments_lexer": "ipython3",
   "version": "3.7.1"
  }
 },
 "nbformat": 4,
 "nbformat_minor": 2
}
