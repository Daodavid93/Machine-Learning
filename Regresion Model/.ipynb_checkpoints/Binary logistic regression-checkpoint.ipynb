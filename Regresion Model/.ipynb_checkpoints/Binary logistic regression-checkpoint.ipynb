{
 "cells": [
  {
   "cell_type": "code",
   "execution_count": 5,
   "metadata": {},
   "outputs": [],
   "source": [
    "import numpy as np\n",
    "import pandas as pd\n",
    "import matplotlib.pyplot as plt\n",
    "\n",
    "from sklearn.model_selection import train_test_split\n",
    "\n",
    "from sklearn.datasets import load_iris\n",
    "\n"
   ]
  },
  {
   "cell_type": "markdown",
   "metadata": {},
   "source": [
    "# Binary logistic regression"
   ]
  },
  {
   "cell_type": "code",
   "execution_count": 4,
   "metadata": {},
   "outputs": [],
   "source": [
    "### Preparad data (IRIS_DATA)\n",
    "iris_attribute = load_iris()['data']\n",
    "iris_label = load_iris()[\"target\"]"
   ]
  },
  {
   "cell_type": "code",
   "execution_count": 6,
   "metadata": {},
   "outputs": [],
   "source": [
    "attribute_train,attibute_test,labels_train,labels_test = \\\n",
    "train_test_split(iris_attribute,iris_label)"
   ]
  },
  {
   "cell_type": "code",
   "execution_count": 1,
   "metadata": {},
   "outputs": [],
   "source": [
    "def activity_to_colors(activity):\n",
    "    \"\"\"\n",
    "    mapping between activity and color\n",
    "    \"\"\"\n",
    "    if activity==1:\n",
    "        return 'red'\n",
    "    elif activity=='2':\n",
    "        return 'blue'    \n",
    "\n",
    "def visialise_data(tranformed_train_data,colors):\n",
    "    \"\"\"\n",
    "    3d scatter ploting with color associate label\n",
    "    \"\"\"\n",
    "    fig = plt.figure(figsize=[20,20])\n",
    "    ax = fig.add_subplot(111, projection='3d')\n",
    "    lines = ax.scatter(tranformed_train_data[:,0], tranformed_train_data[:,1], tranformed_train_data[:,2],c = colors,\\\n",
    "           alpha=0.5,edgecolors='none')\n",
    "\n",
    "    yellow_patch = mpatches.Patch(color='yellow', label='LAYING')\n",
    "    blue_patch = mpatches.Patch(color='blue', label='SITTING')\n",
    "    red_patch = mpatches.Patch(color='red', label='STANDING')\n",
    "    green_pink = mpatches.Patch(color='pink', label='WALKING')\n",
    "    purple_patch = mpatches.Patch(color='purple', label='WALKING_DOWNSTAIRS')\n",
    "    gray_patch = mpatches.Patch(color='gray', label='WALKING_UPSTAIRS')\n",
    "\n",
    "    plt.legend(handles=[yellow_patch, blue_patch,red_patch,green_pink,purple_patch,gray_patch])"
   ]
  },
  {
   "cell_type": "code",
   "execution_count": null,
   "metadata": {},
   "outputs": [],
   "source": [
    "colors = np.array([activity_to_colors(i)  for i in label_data])\n",
    "visialise_data(tranformed_train_data,colors)"
   ]
  },
  {
   "cell_type": "code",
   "execution_count": null,
   "metadata": {},
   "outputs": [],
   "source": []
  }
 ],
 "metadata": {
  "kernelspec": {
   "display_name": "Python 3",
   "language": "python",
   "name": "python3"
  },
  "language_info": {
   "codemirror_mode": {
    "name": "ipython",
    "version": 3
   },
   "file_extension": ".py",
   "mimetype": "text/x-python",
   "name": "python",
   "nbconvert_exporter": "python",
   "pygments_lexer": "ipython3",
   "version": "3.7.1"
  }
 },
 "nbformat": 4,
 "nbformat_minor": 2
}
