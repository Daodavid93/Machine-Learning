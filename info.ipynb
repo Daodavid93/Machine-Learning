{
 "cells": [
  {
   "cell_type": "markdown",
   "metadata": {},
   "source": [
    "https://github.com/mml-book/mml-book.github.io/blob/master/book/mml-book.pdf"
   ]
  },
  {
   "cell_type": "markdown",
   "metadata": {},
   "source": [
    "***The book that contains Linear algebra and many mathematicals techniche i https://github.com/mml-book/mml-book.github.io/blob/master/book/mml-book.pdf My advice to you . Read it !!!"
   ]
  },
  {
   "cell_type": "markdown",
   "metadata": {},
   "source": [
    "### Introduction\n",
    "Machine learning is about designing of alogorithms,that automaticaly extract the valuable information,The emphasis here is automaticaly.\n",
    "\n",
    "Machine learning can be concerned as general methodologies that can be applied to many datasets,while producing something that meanfull.There are three concepts that are part of core of machine learning data,model and learning.\n",
    "\n",
    "Since the machine learning is inherantly data driven\n",
    "\n",
    "For example ML is algorithms is used to automaticalyfind relevant topics that are shared across documents\n",
    "\n",
    "\n",
    "The goal is to find good model that generelise well to yet unseen data,which we may care about in the future"
   ]
  },
  {
   "cell_type": "code",
   "execution_count": null,
   "metadata": {},
   "outputs": [],
   "source": []
  },
  {
   "cell_type": "markdown",
   "metadata": {},
   "source": [
    "notes about vectors"
   ]
  },
  {
   "cell_type": "markdown",
   "metadata": {},
   "source": [
    "***Mapping and transformation of vectors can be conviently described as operations performed by matrices.Moreover, data is often represented in matrix form as well"
   ]
  },
  {
   "cell_type": "markdown",
   "metadata": {},
   "source": [
    "# Probility and Distribution"
   ]
  },
  {
   "cell_type": "markdown",
   "metadata": {},
   "source": [
    "The theory of probability aims at defining a mathematical structure to describe ranodm outcomes of experiments.For example,when tossing a single coin,we can observe a regularity in average outcome,the goal is to perform automated reasoning"
   ]
  }
 ],
 "metadata": {
  "kernelspec": {
   "display_name": "Python 3",
   "language": "python",
   "name": "python3"
  },
  "language_info": {
   "codemirror_mode": {
    "name": "ipython",
    "version": 3
   },
   "file_extension": ".py",
   "mimetype": "text/x-python",
   "name": "python",
   "nbconvert_exporter": "python",
   "pygments_lexer": "ipython3",
   "version": "3.7.1"
  }
 },
 "nbformat": 4,
 "nbformat_minor": 2
}
