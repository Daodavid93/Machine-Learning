{
 "cells": [
  {
   "cell_type": "code",
   "execution_count": 2,
   "metadata": {},
   "outputs": [],
   "source": [
    "import numpy as np\n",
    "import pandas as pd\n",
    "import matplotlib.pyplot as plt\n",
    "\n",
    "from sklearn.linear_model import LogisticRegression"
   ]
  },
  {
   "cell_type": "markdown",
   "metadata": {},
   "source": [
    "## log odds"
   ]
  },
  {
   "cell_type": "markdown",
   "metadata": {},
   "source": [
    "# Log odds is the ratio of something hapening to everything for example if my team win 3 times from 5 games ,we can say :\n",
    " * the odds = $\\frac{3}{5-3}=\\frac{3}{2}=1.5$\n",
    " \n",
    " \n",
    " The probability is something hapening to evething that could happen .mathemcaticaly is written :\n",
    " $ 3 / 5 $\n",
    " we can calculate odds as p(some hapaning)/p(some non hapening)\n",
    " eithe count calcautaliton ,with probability calcualtion give the same results\n",
    " \n",
    " ## let's see what is log of odds\n",
    " get closer to closer to zero if team is wors"
   ]
  },
  {
   "cell_type": "code",
   "execution_count": null,
   "metadata": {},
   "outputs": [],
   "source": [
    "winning :"
   ]
  },
  {
   "cell_type": "code",
   "execution_count": 9,
   "metadata": {},
   "outputs": [
    {
     "data": {
      "text/plain": [
       "<matplotlib.collections.PathCollection at 0x4e63e65cc0>"
      ]
     },
     "execution_count": 9,
     "metadata": {},
     "output_type": "execute_result"
    },
    {
     "data": {
      "image/png": "[encoded data removed]",
      "text/plain": [
       "<Figure size 432x288 with 1 Axes>"
      ]
     },
     "metadata": {
      "needs_background": "light"
     },
     "output_type": "display_data"
    }
   ],
   "source": [
    "x = [3/2,5/2,7/2] #wining\n",
    "y = [2/3,2/5,2/7] #losing invers\n",
    "\n",
    "plt.scatter(x,[0,0,0],color='red')\n",
    "plt.scatter(y,[0,0,0],color='blue')"
   ]
  },
  {
   "cell_type": "markdown",
   "metadata": {},
   "source": [
    "log(x/y) = log(x) - log(y) <br>\n",
    "log(y/x) = log(y) - log(x) <br>\n",
    "htis ,mean they are symtric"
   ]
  },
  {
   "cell_type": "markdown",
   "metadata": {},
   "source": [
    "The "
   ]
  },
  {
   "cell_type": "markdown",
   "metadata": {},
   "source": [
    " <h5>\n",
    "    <font color='green'>\n",
    "      The logit function an alternative way of expressing probabilities which  simplifies the process of updating them  with new evidence.<br>\n",
    "      The logit function plays a central role in logistic regression. Every probability can be easily\n",
    "      converted to logit function, by finding the ration-odds and taking the logarithm. <br>\n",
    "      Despite the relatively of simple conversion.The logit function can be a little esoteric.\n",
    "      Probability,log-ratio,log-odds are all the same thing, just expressed in different ways.\n",
    "      What works for one person, or equation might not work for another.\n",
    "      Other times you might be forced to adopt in a particular format,<br>\n",
    "      Essentially, the probability of probability an event happens.\n",
    "      Odds-ratio mathematically is defined as $\\frac{probability\\; of\\; success}{probability\\; of \\;failures}$  <br> <br>\n",
    "      The log-odds is the logarithm of odds-ratio .\n",
    "      Taking the logarithm of odds-ratio gives the log odds wich can be written as $$\\log(P(A)/1-P(A))$$ \n",
    "    We sometimes prefer to use log-odds instead of more basically probability measures because it can be easily updated with new data.\n",
    "   For instance, suppose we have 5% chance that a thief will come in at door on any given  night.You have a watchdog but he is not terribly reliable.     \n",
    "   </font> \n",
    " </h5>\n",
    "    \n",
    "    "
   ]
  },
  {
   "cell_type": "markdown",
   "metadata": {},
   "source": [
    " <h5>\n",
    "   <font color='blue'>\n",
    "   When a binary outcome is modeled using Logistic regression, it assumes that the logit transformation of outcome has a linear relation with independent variable.This makes the interpretation of coefficient somewhat tricky.<br>\n",
    "       Everything starts with the concept of probability. Let's say that the probability of success of some event is .8.\n",
    "       Then the probability of failure is $1-.8=.2$\n",
    "   \n",
    "   </font>\n",
    " </h5>   "
   ]
  },
  {
   "cell_type": "code",
   "execution_count": 123,
   "metadata": {},
   "outputs": [],
   "source": [
    "\n",
    "def transform_ration_odds(arg):\n",
    "    \"\"\"\n",
    "    takes arg array of numbers or number \n",
    "    the number must be between [0,1]\n",
    "    transform probability to ratio odds \n",
    "    \"\"\"\n",
    "    \n",
    "    f = lambda x : x/(1-x)\n",
    "\n",
    "    print(type(arg))\n",
    "    if not isinstance(arg,  (np.ndarray,list,int, float)):\n",
    "        raise TypeError('The arg must be a  the type of among int,ndarray, list, float')\n",
    "        \n",
    "    if isinstance(arg,(int, float)):\n",
    "        return f(arg)\n",
    "    \n",
    "    if isinstance(arg,(np.ndarray,list)):\n",
    "        result = []\n",
    "        for i in range(len(arg)):\n",
    "            x = arg[i]\n",
    "            if x <0 or x > 1:\n",
    "                raise ValueError(\"The elements of arg must be in interval [0,1) \")\n",
    "            if x==1 :\n",
    "                x = 0.989\n",
    "                print(\"ASDAS\")\n",
    "            result.append(f(x))\n",
    "        return result    \n",
    "            \n",
    "    \n",
    "    \n",
    "def transform_log_odds(arg):\n",
    "    \"\"\"\n",
    "    takes arg of type number or array of numbers \n",
    "    the number must be in interval [0,1]\n",
    "    \n",
    "    calculate the logg odds\n",
    "    \"\"\"\n",
    "    \n",
    "    g = transform_ration_odds(arg)\n",
    "    \n",
    "    f = lambda x :  np.log(x)\n",
    "    \n",
    "    if isinstance(g,(np.ndarray,list)):\n",
    "        return [f(i) for i in g]\n",
    "    else :\n",
    "        return f(i)\n",
    "    \n",
    "    \n",
    "    \n",
    "    \n",
    "    "
   ]
  },
  {
   "cell_type": "code",
   "execution_count": 128,
   "metadata": {},
   "outputs": [
    {
     "name": "stdout",
     "output_type": "stream",
     "text": [
      "<class 'numpy.ndarray'>\n"
     ]
    },
    {
     "data": {
      "image/png": "[encoded data removed]",
      "text/plain": [
       "<Figure size 432x288 with 1 Axes>"
      ]
     },
     "metadata": {
      "needs_background": "light"
     },
     "output_type": "display_data"
    },
    {
     "name": "stdout",
     "output_type": "stream",
     "text": [
      "<class 'numpy.ndarray'>\n"
     ]
    },
    {
     "name": "stderr",
     "output_type": "stream",
     "text": [
      "D:\\Anaconda3\\lib\\site-packages\\ipykernel_launcher.py:42: RuntimeWarning: divide by zero encountered in log\n"
     ]
    },
    {
     "data": {
      "image/png": "[encoded data removed]",
      "text/plain": [
       "<Figure size 432x288 with 1 Axes>"
      ]
     },
     "metadata": {
      "needs_background": "light"
     },
     "output_type": "display_data"
    }
   ],
   "source": [
    "p =  (0,0.98,30)\n",
    "plt.plot(p,transform_ration_odds(p))\n",
    "plt.xlabel('probability')\n",
    "plt.ylabel(\"ratio odds\")\n",
    "plt.show()\n",
    "plt.plot(p,transform_log_odds(p))\n",
    "plt.xlabel('probability')\n",
    "plt.ylabel(\"log odds\")\n",
    "plt.show()\n"
   ]
  },
  {
   "cell_type": "code",
   "execution_count": null,
   "metadata": {},
   "outputs": [],
   "source": []
  }
 ],
 "metadata": {
  "kernelspec": {
   "display_name": "Python 3",
   "language": "python",
   "name": "python3"
  },
  "language_info": {
   "codemirror_mode": {
    "name": "ipython",
    "version": 3
   },
   "file_extension": ".py",
   "mimetype": "text/x-python",
   "name": "python",
   "nbconvert_exporter": "python",
   "pygments_lexer": "ipython3",
   "version": "3.7.1"
  }
 },
 "nbformat": 4,
 "nbformat_minor": 2
}
