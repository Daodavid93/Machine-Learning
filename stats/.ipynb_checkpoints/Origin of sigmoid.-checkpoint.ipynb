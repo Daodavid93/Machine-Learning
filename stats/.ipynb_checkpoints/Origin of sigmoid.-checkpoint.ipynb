{
 "cells": [
  {
   "cell_type": "code",
   "execution_count": 1,
   "metadata": {},
   "outputs": [],
   "source": [
    "import numpy as np\n",
    "import pandas as pd\n",
    "import matplotlib.pyplot as plt"
   ]
  },
  {
   "cell_type": "markdown",
   "metadata": {},
   "source": [
    "# Origin of  sigmoid "
   ]
  },
  {
   "cell_type": "markdown",
   "metadata": {},
   "source": [
    "\n",
    "In this note book we will try to obrain of sigmoid function\n",
    "\n",
    "#### very importen property of LOG ODDS its variaty from $[-\\infty,+\\infty]$ wich makes it appropriattive to be fit to some linear function\n",
    "\n",
    "\n",
    "\n",
    "From log odds we have $log(\\frac{p}{1-p}) \\;  \\;  \\;  1)$  <font color='red'> The significant assumption , which will be the source, the main point of our exploration which will give us the willing result    </font> .The assumtion is $$log(\\frac{p}{1-p}) = \\beta_i x_i +a $$ log odds liner dependent of independent variables <br>\n",
    "if we  take exponent  from both sides of eq 1)  we get  : \n",
    "$$e^{log(\\frac{p}{1-p})} = e^{\\beta_i x_i +a} \\; => $$ <br> <br>\n",
    "$$ \\frac{p}{1-p} = e^{\\beta_i x_i +a} \\; => $$<br> <br>\n",
    "$$p = e^{\\beta_i x_i +a}(1-p) \\; => $$<br> <br>\n",
    "$$p = e^{\\beta_i x_i +a} + -p.e^{\\beta_i x_i +a}  \\; => $$<br> <br>\n",
    "$$p(1 +e^{\\beta_i x_i +a}  ) = e^{\\beta_i x_i +a}  \\; => $$<br> <br>\n",
    "$$p= \\frac{e^{\\beta_i x_i +a}}{(1 +e^{\\beta_i x_i +a}  ) }  \\; = $$<br> <br>\n",
    "$$p= \\frac{ (e^{\\beta_i x_i +a})e^{-(\\beta_i x_i +a}) }{(1 +e^{\\beta_i x_i +a}  )e^{-(\\beta_i x_i +a}) }  \\; = $$<br> <br>\n",
    "$$p= \\frac{1}{1 +e^{-(\\beta_i x_i +a)}  }  \\; = > $$<br> <br>\n",
    "$$p= \\frac{1}{1 +e^{-z}  }  \\;  \\;  \\; where\\;  z=\\beta_i x_i +a   = > $$<br> <br>\n",
    "$$p= \\frac{1}{1 +e^{-z}}  \\;  \\; 2) $$  \n",
    "### the equation 2) is called sigmoid \n"
   ]
  }
 ],
 "metadata": {
  "kernelspec": {
   "display_name": "Python 3",
   "language": "python",
   "name": "python3"
  },
  "language_info": {
   "codemirror_mode": {
    "name": "ipython",
    "version": 3
   },
   "file_extension": ".py",
   "mimetype": "text/x-python",
   "name": "python",
   "nbconvert_exporter": "python",
   "pygments_lexer": "ipython3",
   "version": "3.7.3"
  }
 },
 "nbformat": 4,
 "nbformat_minor": 2
}
