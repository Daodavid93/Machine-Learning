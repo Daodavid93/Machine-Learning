{
 "cells": [
  {
   "cell_type": "code",
   "execution_count": 5,
   "metadata": {},
   "outputs": [],
   "source": [
    "import numpy as np\n",
    "import pandas as pd\n",
    "import matplotlib.pyplot as plt"
   ]
  },
  {
   "cell_type": "markdown",
   "metadata": {},
   "source": [
    "## log odds"
   ]
  },
  {
   "cell_type": "markdown",
   "metadata": {},
   "source": [
    "# Log odds is the ratio of something hapening to everything for example if my team win 3 times from 5 games ,we can say :\n",
    " * the odds = $\\frac{3}{5-3}=\\frac{3}{2}=1.5$\n",
    " \n",
    " \n",
    " The probability is something hapening to evething that could happen .mathemcaticaly is written :\n",
    " $ 3 / 5 $\n",
    " we can calculate odds as p(some hapaning)/p(some non hapening)\n",
    " eithe count calcautaliton ,with probability calcualtion give the same results\n",
    " \n",
    " ## let's see what is log of odds\n",
    " get closer to closer to zero if team is wors"
   ]
  },
  {
   "cell_type": "code",
   "execution_count": null,
   "metadata": {},
   "outputs": [],
   "source": [
    "winning :"
   ]
  },
  {
   "cell_type": "code",
   "execution_count": 9,
   "metadata": {},
   "outputs": [
    {
     "data": {
      "text/plain": [
       "<matplotlib.collections.PathCollection at 0x4e63e65cc0>"
      ]
     },
     "execution_count": 9,
     "metadata": {},
     "output_type": "execute_result"
    },
    {
     "data": {
      "image/png": "[encoded data removed]",
      "text/plain": [
       "<Figure size 432x288 with 1 Axes>"
      ]
     },
     "metadata": {
      "needs_background": "light"
     },
     "output_type": "display_data"
    }
   ],
   "source": [
    "x = [3/2,5/2,7/2] #wining\n",
    "y = [2/3,2/5,2/7] #losing invers\n",
    "\n",
    "plt.scatter(x,[0,0,0],color='red')\n",
    "plt.scatter(y,[0,0,0],color='blue')"
   ]
  },
  {
   "cell_type": "markdown",
   "metadata": {},
   "source": [
    "log(x/y) = log(x) - log(y) <br>\n",
    "log(y/x) = log(y) - log(x) <br>\n",
    "htis ,mean they are symtric"
   ]
  },
  {
   "cell_type": "code",
   "execution_count": null,
   "metadata": {},
   "outputs": [],
   "source": []
  }
 ],
 "metadata": {
  "kernelspec": {
   "display_name": "Python 3",
   "language": "python",
   "name": "python3"
  },
  "language_info": {
   "codemirror_mode": {
    "name": "ipython",
    "version": 3
   },
   "file_extension": ".py",
   "mimetype": "text/x-python",
   "name": "python",
   "nbconvert_exporter": "python",
   "pygments_lexer": "ipython3",
   "version": "3.7.3"
  }
 },
 "nbformat": 4,
 "nbformat_minor": 2
}
