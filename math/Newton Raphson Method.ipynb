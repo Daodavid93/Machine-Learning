{
 "cells": [
  {
   "cell_type": "code",
   "execution_count": 1,
   "metadata": {},
   "outputs": [],
   "source": [
    "%matplotlib inline"
   ]
  },
  {
   "cell_type": "code",
   "execution_count": 18,
   "metadata": {},
   "outputs": [],
   "source": [
    "import numpy as np\n",
    "import matplotlib.pyplot as plt"
   ]
  },
  {
   "cell_type": "markdown",
   "metadata": {},
   "source": [
    "# Newton Raphson Method"
   ]
  },
  {
   "cell_type": "markdown",
   "metadata": {},
   "source": [
    "<font size=\"4\">The nuton raphon method is for solving an equations of form $f(x)=0$ We make initial guess for the root.We call the initial guess $x_0$.The sequence $x_0,x_1,x_2,..,_x_n$ in manner described below should converge to exact root.To implemnt it we need of formula for each approximation in terms of previus one.The eqation of tangent line to $f(x)$  is at the point $(x_0,f(x_0))$   <font>\n",
    "is : <font size=\"6\"> $$ \\frac{y - f(x_0)}{x-x_0} = f'(x_0) => y-f(x_0)=f'(x_0)(x-x_0)$$ \n",
    "The tangent line intersects x axis when y=0\n",
    "then $$x = x_0 - \\frac{f(x_0)}{f'(x_0)}$$ \n",
    "$$x_n = x_{n-1} - \\frac{f(x_{n-1})}{f'(x_{n-1})} $$ <font>"
   ]
  },
  {
   "cell_type": "code",
   "execution_count": 11,
   "metadata": {},
   "outputs": [
    {
     "data": {
      "text/plain": [
       "[<matplotlib.lines.Line2D at 0x621cf31160>]"
      ]
     },
     "execution_count": 11,
     "metadata": {},
     "output_type": "execute_result"
    },
    {
     "data": {
      "image/png": "[encoded data removed]",
      "text/plain": [
       "<Figure size 432x288 with 1 Axes>"
      ]
     },
     "metadata": {
      "needs_background": "light"
     },
     "output_type": "display_data"
    }
   ],
   "source": [
    "x = np.linspace(-10,10,20)\n",
    "f = lambda x : x**3 -x -1\n",
    "y = f(x)\n",
    "plt.plot(x,y)\n"
   ]
  },
  {
   "cell_type": "code",
   "execution_count": 27,
   "metadata": {},
   "outputs": [],
   "source": [
    "def perform_nuton_method(f,f_1,init_value=10,iteraion=10):\n",
    "    x_0 = init_value\n",
    "    x_args = []\n",
    "    for i in range(iteraion):\n",
    "        if x_0==0: break\n",
    "        x = x_0 - f(x_0)/f_1(x_0)\n",
    "        x_0=x\n",
    "        x_args.append(x)\n",
    "    return x_args,x   "
   ]
  },
  {
   "cell_type": "code",
   "execution_count": 28,
   "metadata": {},
   "outputs": [],
   "source": [
    "f = lambda x : x**2-3*x\n",
    "f_1 = lambda x : 2*x"
   ]
  },
  {
   "cell_type": "code",
   "execution_count": 29,
   "metadata": {},
   "outputs": [
    {
     "data": {
      "text/plain": [
       "[<matplotlib.lines.Line2D at 0xcf447ca7f0>]"
      ]
     },
     "execution_count": 29,
     "metadata": {},
     "output_type": "execute_result"
    },
    {
     "data": {
      "image/png": "[encoded data removed]",
      "text/plain": [
       "<Figure size 432x288 with 1 Axes>"
      ]
     },
     "metadata": {
      "needs_background": "light"
     },
     "output_type": "display_data"
    }
   ],
   "source": [
    "x_args,x = perform_nuton_method(f,f_1,iteraion=100)\n",
    " \n",
    "    \n",
    "plt.plot(x_args)    "
   ]
  },
  {
   "cell_type": "markdown",
   "metadata": {},
   "source": [
    "### le can see how fimction convergence to 3 that is the root ,but there is one more root 0,wich is inposible to be find with the method"
   ]
  },
  {
   "cell_type": "code",
   "execution_count": 31,
   "metadata": {},
   "outputs": [
    {
     "data": {
      "text/plain": [
       "[<matplotlib.lines.Line2D at 0xcf44882550>]"
      ]
     },
     "execution_count": 31,
     "metadata": {},
     "output_type": "execute_result"
    },
    {
     "data": {
      "image/png": "[encoded data removed]",
      "text/plain": [
       "<Figure size 432x288 with 1 Axes>"
      ]
     },
     "metadata": {
      "needs_background": "light"
     },
     "output_type": "display_data"
    }
   ],
   "source": [
    "x_args,x = perform_nuton_method(f,f_1,init_value=-5,iteraion=100)\n",
    " \n",
    "    \n",
    "plt.plot(x_args)    "
   ]
  },
  {
   "cell_type": "markdown",
   "metadata": {},
   "source": [
    "<font size=\"3\">The Nuton rafson method's can be generalise in n-d system </font> <font size=\"5\">$  F(X)=0 $</font>\n",
    "\n",
    "<font size=\"6\"> $$ \\Biggl( \\begin{matrix} f_1(\\vec{r})=0 \\\\ ...\\\\ f_n(\\vec{r}  )=0 \\end{matrix}\\Bigg)  $$</font> <br>\n",
    "<font size=\"3\">We first consider the Taylor's expasion of N-function </font> \n",
    "<font size=\"6\">$$ f_i(\\vec{r}+\\delta \\vec{r}) = \\sum_{i=1}^n \\frac{\\partial f_i(\\vec{r})}{\\partial x_j}\\delta x_j\n",
    "+ O(\\delta\\vec{r}^2)\\approx  \\sum_{i=1}^n \\frac{\\partial f_i(\\vec{r})}{\\partial x_j}\\delta x_j $$</font> "
   ]
  },
  {
   "cell_type": "markdown",
   "metadata": {},
   "source": [
    "<font size=\"3\"> the Jacobian  $ \\frac{\\partial f_i(\\vec{r})}{\\partial x_j}\\delta x_j $ or in matrix form\n",
    "    <font size=\"6\"> $$ J = \\begin{bmatrix} \\frac{\\partial f_1(\\vec{r})}{\\partial x_1} && ... && \\frac{\\partial f_1(\\vec{r})}{\\partial x_n} \\\\ ... && ... && ... \\\\   \\frac{\\partial f_n(\\vec{r})}{\\partial x_1} && ... && \\frac{\\partial f_n(\\vec{r})}{\\partial x_n}\n",
    "    \\end{bmatrix}  $$</font>"
   ]
  },
  {
   "cell_type": "markdown",
   "metadata": {},
   "source": [
    " <font size=\"6\">  The iterative procedure is :\n",
    " $x = x_0 - J^{-1}.f$ <font>"
   ]
  },
  {
   "cell_type": "code",
   "execution_count": 38,
   "metadata": {},
   "outputs": [],
   "source": [
    "f_1 = lambda x_1,x_2 : x_1 + x_2 - 10\n",
    "f_2 = lambda x_1,x_2: x_1**2 + x_2**2 - 25\n",
    "system = [f_1,f_2]\n"
   ]
  },
  {
   "cell_type": "code",
   "execution_count": null,
   "metadata": {},
   "outputs": [],
   "source": [
    "def calculate_system(sys,args):\n",
    "    \n",
    "\n",
    "def perform_method(sys):\n",
    "    "
   ]
  }
 ],
 "metadata": {
  "kernelspec": {
   "display_name": "Python 3",
   "language": "python",
   "name": "python3"
  },
  "language_info": {
   "codemirror_mode": {
    "name": "ipython",
    "version": 3
   },
   "file_extension": ".py",
   "mimetype": "text/x-python",
   "name": "python",
   "nbconvert_exporter": "python",
   "pygments_lexer": "ipython3",
   "version": "3.7.1"
  }
 },
 "nbformat": 4,
 "nbformat_minor": 2
}
