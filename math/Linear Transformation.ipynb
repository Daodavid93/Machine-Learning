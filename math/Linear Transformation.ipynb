{
 "cells": [
  {
   "cell_type": "code",
   "execution_count": 63,
   "metadata": {},
   "outputs": [],
   "source": [
    "def cartesian_product(x,y):\n",
    "    \"\"\"\n",
    "    retrun catesian product\n",
    "    \"\"\"\n",
    "    return np.transpose([np.tile(x, len(y)), np.repeat(y, len(x))])\n",
    "\n",
    "\n",
    "\n",
    "class VectorGround:\n",
    "    def __init__(self, range=[-3,10], fig_size=(20,20),**kwargs):\n",
    "        self.plt = plt\n",
    "        self.range=range\n",
    "        self.ax = self.plt.gca()\n",
    "        self.ax.set_aspect('equal')\n",
    "        plt.grid()\n",
    "        self.ax.arrow(0, 0, 1, 0, head_width=0.1, head_length=0.1, fc='blue', ec='black')\n",
    "        self.ax.arrow(0, 0, 0, 1, head_width=0.1, head_length=0.1, fc='blue', ec='black')\n",
    "\n",
    "        self.ax.text(1, -0.3, r'$\\vec{e}_1$',fontsize=16,color='red')\n",
    "        self.ax.text(-0.4, 1, r'$\\vec{e}_2$',fontsize=16,color='red')\n",
    "        self.plt.xlim(range[0],range[1])\n",
    "        self.plt.ylim(range[0],range[1])\n",
    "        self.ax.set_xlabel('X',fontsize=30)\n",
    "        \n",
    "        self.ax.set_ylabel('Y',fontsize=30)\n",
    "        self.plt.title('',fontsize=10)\n",
    "\n",
    "        self.plt.savefig('fig1.png', bbox_inches='tight')\n",
    "    \n",
    "    def add_v(self,x_0,y_0,x,y,index='1',show_cord=True,font_size=15):\n",
    "        self.ax.arrow(x_0, y_0, x, y, head_width=0.1, head_length=0.1, fc='black', ec='black')\n",
    "    \n",
    "        if show_cord:\n",
    "            #self.ax.text(x, y-0.2, r'$\\vec{r}_{%s}(%1.1f:%1.1f)$' % (index,x, y),fontsize=font_size,color='blue')\n",
    "            self.ax.text(x, y-0.2, r'$\\vec{r}_{%s}(%1.f:%1.f)$' % (index,x, y),fontsize=font_size,color='blue')\n",
    "    def plot_points(self,points):\n",
    "        for p in points:\n",
    "            self.plt.scatter(p[0],p[1])\n",
    "            \n",
    "      \n",
    "            "
   ]
  },
  {
   "cell_type": "code",
   "execution_count": 2,
   "metadata": {},
   "outputs": [
    {
     "name": "stdout",
     "output_type": "stream",
     "text": [
      "C:\\Users\\dimitar\\GIT_PROJECTS\\Machine-Learning\\Machine-Learning/daoutil\n"
     ]
    }
   ],
   "source": [
    "import sys\n",
    "import os,sys,inspect\n",
    "currentdir = os.path.dirname(os.path.abspath(inspect.getfile(inspect.currentframe())))\n",
    "parentdir = os.path.dirname(currentdir)\n",
    "parentdir =parentdir+'/'+'daoutil'\n",
    "print( parentdir)\n",
    "sys.path.insert(0,parentdir) \n",
    "\n",
    "import matplotlib.pyplot as plt\n",
    "import numpy as np\n",
    "\n",
    "#my libs\n",
    "from dplot import Dplot2D"
   ]
  },
  {
   "cell_type": "markdown",
   "metadata": {},
   "source": [
    "# Linear Tranformation.Einvalues and eingvectors"
   ]
  },
  {
   "cell_type": "markdown",
   "metadata": {},
   "source": [
    "let to have matrix $$ \\begin{bmatrix} 3 & 5 \\\\ 5 & 2  \\end{bmatrix}$$\n"
   ]
  },
  {
   "cell_type": "code",
   "execution_count": 95,
   "metadata": {},
   "outputs": [
    {
     "name": "stdout",
     "output_type": "stream",
     "text": [
      "<class 'numpy.ndarray'>\n",
      "(81, 2)\n",
      "[1 0]\n",
      "[0 1]\n"
     ]
    },
    {
     "data": {
      "image/png": "[encoded data removed]",
      "text/plain": [
       "<Figure size 432x288 with 1 Axes>"
      ]
     },
     "metadata": {
      "needs_background": "light"
     },
     "output_type": "display_data"
    }
   ],
   "source": [
    "x_args=y_args = np.linspace(0,10,9)\n",
    "points = np.meshgrid(x_args,y_args)\n",
    "result = cartesian_product(x_args,y_args)\n",
    "print(type(result))\n",
    "\n",
    "g = VectorGround(range=[-10,30])\n",
    "g.plot_points(result)\n",
    "\n",
    "\n",
    "def linear_tranformation(points,matrix):\n",
    "    sh = points.shape\n",
    "    print(sh)\n",
    "    A = np.array([0,0])\n",
    "    for i in points[:][:]:\n",
    "        A=np.vstack([A, i])\n",
    "    return A\n",
    "\n",
    "\n",
    "new points = linear_tranformation(result,[1,2])        \n",
    "result[:][0]      \n",
    "result\n",
    "\n",
    "a = np.array([[1,0],[0,1]])\n",
    "for i in a[:][:]:\n",
    "    print(a.dot(i))"
   ]
  }
 ],
 "metadata": {
  "kernelspec": {
   "display_name": "Python 3",
   "language": "python",
   "name": "python3"
  },
  "language_info": {
   "codemirror_mode": {
    "name": "ipython",
    "version": 3
   },
   "file_extension": ".py",
   "mimetype": "text/x-python",
   "name": "python",
   "nbconvert_exporter": "python",
   "pygments_lexer": "ipython3",
   "version": "3.7.1"
  }
 },
 "nbformat": 4,
 "nbformat_minor": 2
}
