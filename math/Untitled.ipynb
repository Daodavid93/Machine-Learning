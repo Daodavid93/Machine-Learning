{
 "cells": [
  {
   "cell_type": "markdown",
   "metadata": {},
   "source": [
<<<<<<< HEAD
    "# Taylor Series Approximation"
=======
    "# Tailor Series"
>>>>>>> 77f5928cf7834deb43ce19a0a0628e0f33bcaf70
   ]
  },
  {
   "cell_type": "markdown",
   "metadata": {},
   "source": [
<<<<<<< HEAD
    "### A Taylor series approximation uses a Taylor series to represent a number as a polynomial that has a very similar value to the number in a neighborhood around a specified xxx value:\n"
   ]
  },
  {
   "cell_type": "markdown",
   "metadata": {},
   "source": [
    "#### Examples:\n",
    "  let to have a function $f(x)=f(a) + \\frac{f'(a)}{1!}(x-a) + \\frac{f''(a)}{2!}(x-a)^2 +\\frac{f'''(a)}{3!}(x-a)^3 + ... $\n",
    "  \n",
    "  $f(x)=x^4$ ,<br>\n",
    "  a = 1 ,then $f(2) =  \\frac{4.x^3}{1!}(x) + \\frac{12.x^2}{2!}(x)^2 +\\frac{24.x}{3!}(x)^3$\n",
    "  "
   ]
  },
  {
   "cell_type": "code",
   "execution_count": 6,
   "metadata": {},
   "outputs": [
    {
     "data": {
      "text/plain": [
       "192.0"
      ]
     },
     "execution_count": 6,
     "metadata": {},
     "output_type": "execute_result"
    }
   ],
   "source": [
    "x=2\n",
    "4*x**3*(1) + (12*x**2/(2*1))*(x)**2+(24*x/(3*2*1))*(x)**3"
=======
    "Consider the function $f(x)$ difined by a power series in form :\n",
    "$$ f(x) = \\sum_i^{\\infty}c_n(x-a)^n$$\n",
    "$f(x)$ as expansion $$f(x)= c_0 + c_1.(x-a)^1+ c_2.(x-a)^2+ c_3.(x-a)^3+ c_4.(x-a)^4...$$\n",
    "we observed that   $f(a)=c_0$ Moreover <br>\n",
    "$\\;\\;\\;\\;\\;\\;\\;\\;\\;\\;\\;\\;\\;\\;\\;\\;\\;$ $f^{1}(a)=c_1 $ <br>\n",
    "$\\;\\;\\;\\;\\;\\;\\;\\;\\;\\;\\;\\;\\;\\;\\;\\;\\;$ $f^{2}(a)=2.c_1$ <br>\n",
    "$\\;\\;\\;\\;\\;\\;\\;\\;\\;\\;\\;\\;\\;\\;\\;\\;\\;$ $f^{3}(a)=3.2.c_1$ <br>\n",
    "$\\;\\;\\;\\;\\;\\;\\;\\;\\;\\;\\;\\;\\;\\;\\;\\;\\;$ $f^{4}(a)=4.3.2.c_4$ <br>\n",
    "$\\;\\;\\;\\;\\;\\;\\;\\;\\;\\;\\;\\;\\;\\;\\;\\;\\;$ $f^{5}(a)=5.4.3.2.c_1$ <br>\n",
    "in general :\n",
    "$$ f^{n}(a)=n!.c_n$$ or\n",
    "$$c_n = \\frac{f^{n}(a)}{n!} $$\n",
    "That is called <big>** Tailor series**</big>\n",
    "if $a=0$ the expanion $ f(x) = \\sum_i^{\\infty}c_n(x-0)^n= \\sum_i^{\\infty}c_n(x)^n$   is  called  <big>** Macloren series</big> : <br>\n",
    "$$f(x)= f^(0)+ \\frac{f^{3}(0)}{3.2.1}.x^3+\\frac{f^{3}(0)}{2.1}.x^2+ \\frac{f^{3}(0)}{3.2.1}.x^3...\\frac{f^{n}(0)}{n!}.x^n$$"
>>>>>>> 77f5928cf7834deb43ce19a0a0628e0f33bcaf70
   ]
  }
 ],
 "metadata": {
  "kernelspec": {
   "display_name": "Python 3",
   "language": "python",
   "name": "python3"
  },
  "language_info": {
   "codemirror_mode": {
    "name": "ipython",
    "version": 3
   },
   "file_extension": ".py",
   "mimetype": "text/x-python",
   "name": "python",
   "nbconvert_exporter": "python",
   "pygments_lexer": "ipython3",
<<<<<<< HEAD
   "version": "3.7.1"
=======
   "version": "3.7.3"
>>>>>>> 77f5928cf7834deb43ce19a0a0628e0f33bcaf70
  }
 },
 "nbformat": 4,
 "nbformat_minor": 2
}
