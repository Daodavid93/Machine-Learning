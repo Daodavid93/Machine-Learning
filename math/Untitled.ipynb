{
 "cells": [
  {
   "cell_type": "markdown",
   "metadata": {},
   "source": [
    "# Taylor Series Approximation"
   ]
  },
  {
   "cell_type": "markdown",
   "metadata": {},
   "source": [
    "### A Taylor series approximation uses a Taylor series to represent a number as a polynomial that has a very similar value to the number in a neighborhood around a specified xxx value:\n"
   ]
  },
  {
   "cell_type": "markdown",
   "metadata": {},
   "source": [
    "#### Examples:\n",
    "  let to have a function $f(x)=f(a) + \\frac{f'(a)}{1!}(x-a) + \\frac{f''(a)}{2!}(x-a)^2 +\\frac{f'''(a)}{3!}(x-a)^3 + ... $\n",
    "  \n",
    "  $f(x)=x^4$ ,<br>\n",
    "  a = 1 ,then $f(2) =  \\frac{4.x^3}{1!}(x) + \\frac{12.x^2}{2!}(x)^2 +\\frac{24.x}{3!}(x)^3$\n",
    "  "
   ]
  },
  {
   "cell_type": "code",
   "execution_count": 6,
   "metadata": {},
   "outputs": [
    {
     "data": {
      "text/plain": [
       "192.0"
      ]
     },
     "execution_count": 6,
     "metadata": {},
     "output_type": "execute_result"
    }
   ],
   "source": [
    "x=2\n",
    "4*x**3*(1) + (12*x**2/(2*1))*(x)**2+(24*x/(3*2*1))*(x)**3"
   ]
  }
 ],
 "metadata": {
  "kernelspec": {
   "display_name": "Python 3",
   "language": "python",
   "name": "python3"
  },
  "language_info": {
   "codemirror_mode": {
    "name": "ipython",
    "version": 3
   },
   "file_extension": ".py",
   "mimetype": "text/x-python",
   "name": "python",
   "nbconvert_exporter": "python",
   "pygments_lexer": "ipython3",
   "version": "3.7.1"
  }
 },
 "nbformat": 4,
 "nbformat_minor": 2
}
