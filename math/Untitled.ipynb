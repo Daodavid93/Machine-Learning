{
 "cells": [
  {
   "cell_type": "markdown",
   "metadata": {},
   "source": [
    "# Tailor Series"
   ]
  },
  {
   "cell_type": "markdown",
   "metadata": {},
   "source": [
    "Consider the function $f(x)$ difined by a power series in form :\n",
    "$$ f(x) = \\sum_i^{\\infty}c_n(x-a)^n$$\n",
    "$f(x)$ as expansion $$f(x)= c_0 + c_1.(x-a)^1+ c_2.(x-a)^2+ c_3.(x-a)^3+ c_4.(x-a)^4...$$\n",
    "we observed that   $f(a)=c_0$ Moreover <br>\n",
    "$\\;\\;\\;\\;\\;\\;\\;\\;\\;\\;\\;\\;\\;\\;\\;\\;\\;$ $f^{1}(a)=c_1 $ <br>\n",
    "$\\;\\;\\;\\;\\;\\;\\;\\;\\;\\;\\;\\;\\;\\;\\;\\;\\;$ $f^{2}(a)=2.c_1$ <br>\n",
    "$\\;\\;\\;\\;\\;\\;\\;\\;\\;\\;\\;\\;\\;\\;\\;\\;\\;$ $f^{3}(a)=3.2.c_1$ <br>\n",
    "$\\;\\;\\;\\;\\;\\;\\;\\;\\;\\;\\;\\;\\;\\;\\;\\;\\;$ $f^{4}(a)=4.3.2.c_4$ <br>\n",
    "$\\;\\;\\;\\;\\;\\;\\;\\;\\;\\;\\;\\;\\;\\;\\;\\;\\;$ $f^{5}(a)=5.4.3.2.c_1$ <br>\n",
    "in general :\n",
    "$$ f^{n}(a)=n!.c_n$$ or\n",
    "$$c_n = \\frac{f^{n}(a)}{n!} $$\n",
    "That is called <big>** Tailor series**</big>\n",
    "if $a=0$ the expanion $ f(x) = \\sum_i^{\\infty}c_n(x-0)^n= \\sum_i^{\\infty}c_n(x)^n$   is  called  <big>** Macloren series</big> : <br>\n",
    "$$f(x)= f^(0)+ \\frac{f^{3}(0)}{3.2.1}.x^3+\\frac{f^{3}(0)}{2.1}.x^2+ \\frac{f^{3}(0)}{3.2.1}.x^3...\\frac{f^{n}(0)}{n!}.x^n$$"
   ]
  }
 ],
 "metadata": {
  "kernelspec": {
   "display_name": "Python 3",
   "language": "python",
   "name": "python3"
  },
  "language_info": {
   "codemirror_mode": {
    "name": "ipython",
    "version": 3
   },
   "file_extension": ".py",
   "mimetype": "text/x-python",
   "name": "python",
   "nbconvert_exporter": "python",
   "pygments_lexer": "ipython3",
   "version": "3.7.3"
  }
 },
 "nbformat": 4,
 "nbformat_minor": 2
}
