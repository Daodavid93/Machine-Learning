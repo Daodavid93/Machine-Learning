{
 "cells": [
  {
   "cell_type": "code",
   "execution_count": 3,
   "metadata": {},
   "outputs": [],
   "source": [
    "#deprecated\n",
    "\n",
    "class Dplot3D:\n",
    "    \"\"\"\n",
    "    \n",
    "    \"\"\"\n",
    "    def __init__(self, _range =20, fig_size=(20,20),elev=10,azim=10,mesh_const=0.1,**kwargs):\n",
    "        self.fig_size = fig_size\n",
    "        self.fig = plt.figure()\n",
    "        self.fig = plt.figure(figsize=fig_size)\n",
    "        self.ax = self.fig.gca(projection='3d')\n",
    "       \n",
    "        #self.ax = fig.add_subplot(111, projection='3d')\n",
    "        #self.ax.set_aspect(\"equal\")\n",
    "        self.ax.set_xlabel('X',fontsize=30)\n",
    "        #self.ax.view_init(elev=elev, azim=azim)\n",
    "        self.ax.set_ylabel('Y',fontsize=30)\n",
    "        self.ax.set_zlabel('Z',fontsize=30)\n",
    "        self.range=_range\n",
    "        self.mesh = mesh_const\n",
    "        #plt.xlabel('$\\textbf{time} (s)$')\n",
    "        \n",
    "    def init_cordinates(self,xlimt=10,ylimt=10,zlimt=10):\n",
    "        \"\"\"\n",
    "        \n",
    "        \"\"\"\n",
    "        #self.ax.quiver(0, 0, 0, 0, 1, 0,arrow_length_ratio=50)\n",
    "        #self.ax.quiver(0, 0, 0, 1, 0, 0,arrow_length_ratio=50)\n",
    "        #self.ax.quiver(0, 0, 0, 0, 0,1,arrow_length_ratio=50)\n",
    "        self.ax.set_xlim([-xlimt, xlimt])\n",
    "        self.ax.set_ylim([-ylimt, ylimt])\n",
    "        self.ax.set_zlim([-zlimt, zlimt])\n",
    "       \n",
    "        \n",
    "        \n",
    "        \n",
    "    def _calculate_funct(self,func):\n",
    "        x, y = np.mgrid[-self.range:self.range:self.mesh,-self.range:self.range:self.mesh]\n",
    "        return  x,y,func(x,y)\n",
    "\n",
    "        \n",
    "    def append_funct(self,function,color='b',label=''):\n",
    "        x,y,z = self._calculate_funct(function)\n",
    "        self.ax.plot_wireframe(x, y, z,color=color,label=label,rstride=15, cstride=5)\n",
    "   \n",
    "    def append_curve(self,x_funct, y_funct, z_funct,_range=5,color='y',label='',linewidth=1.0):\n",
    "        \"\"\"\n",
    "        x= 2+k*2\n",
    "        y = 3+k*4\n",
    "        z = 5 + k*4\n",
    "        \"\"\"\n",
    "        \n",
    "        k = np.linspace(-_range,_range,100)\n",
    "        x = x_funct(k)\n",
    "        y = y_funct(k)\n",
    "        z = z_funct(k)\n",
    "        if type(z)==int:\n",
    "            z=np.ones(len(x))*z\n",
    "        self.ax.plot(x, y, z,color=color,label=label,linewidth=linewidth)    \n",
    "            \n",
    "    def append_circle_xy(self,r,z=0,color='b'):\n",
    "        theta = np.linspace(0, 2 * np.pi, 100)\n",
    "        x = r * np.sin(theta)\n",
    "        y = r * np.cos(theta)\n",
    "        z = np.ones(len(x))*z\n",
    "        self.ax.plot(x, y, z, color = color)\n",
    "       \n",
    "    def plot_plane(self,z):\n",
    "        pass\n",
    "    \n",
    "    def append_vector(self,x, y, z, dx, dy, dz):\n",
    "        self.ax.quiver(x, y, z, dx, dy, dz,color='r') #\n",
    "        \n",
    "    def show(self):\n",
    "        plt.legend()\n",
    "        plt.show()\n",
    "   \n"
   ]
  },
  {
   "cell_type": "code",
   "execution_count": 6,
   "metadata": {},
   "outputs": [],
   "source": [
    "class SHGround :\n",
    "    def __init__(self, _range =20, fig_size=(20,20),elev=10,azim=10,mesh_const=0.1,**kwargs):\n",
    "        self.fig_size = fig_size\n",
    "        self.fig = plt.figure()\n",
    "        self.fig = plt.figure(figsize=fig_size)\n",
    "        self.ax = self.fig.gca(projection='3d')\n",
    "       \n",
    "        #self.ax = fig.add_subplot(111, projection='3d')\n",
    "        #self.ax.set_aspect(\"equal\")\n",
    "        self.ax.set_xlabel('X',fontsize=30)\n",
    "        #self.ax.view_init(elev=elev, azim=azim)\n",
    "        self.ax.set_ylabel('Y',fontsize=30)\n",
    "        self.ax.set_zlabel('Z',fontsize=30)\n",
    "        self.range=_range\n",
    "        self.mesh = mesh_const\n",
    "        #plt.xlabel('$\\textbf{time} (s)$')  \n",
    "        \n",
    "    def append_points(points):\n",
    "        pass\n",
    "        "
   ]
  },
  {
   "cell_type": "code",
   "execution_count": 2,
   "metadata": {},
   "outputs": [],
   "source": [
    "%matplotlib inline"
   ]
  },
  {
   "cell_type": "code",
   "execution_count": 1,
   "metadata": {},
   "outputs": [],
   "source": [
    "import matplotlib.pyplot as plt\n",
    "plt.style.use('classic')\n",
    "import seaborn as sns\n",
    "import numpy as np\n",
    "import pandas as pd\n",
    "from mpl_toolkits.mplot3d import Axes3D\n",
    "import math\n",
    "from mpl_toolkits import mplot3d\n"
   ]
  },
  {
   "cell_type": "markdown",
   "metadata": {},
   "source": [
    "# Support hyperplane "
   ]
  },
  {
   "cell_type": "code",
   "execution_count": null,
   "metadata": {},
   "outputs": [],
   "source": []
  }
 ],
 "metadata": {
  "kernelspec": {
   "display_name": "Python 3",
   "language": "python",
   "name": "python3"
  },
  "language_info": {
   "codemirror_mode": {
    "name": "ipython",
    "version": 3
   },
   "file_extension": ".py",
   "mimetype": "text/x-python",
   "name": "python",
   "nbconvert_exporter": "python",
   "pygments_lexer": "ipython3",
   "version": "3.7.4"
  }
 },
 "nbformat": 4,
 "nbformat_minor": 2
}
