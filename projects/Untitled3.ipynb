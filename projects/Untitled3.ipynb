{
 "cells": [
  {
   "cell_type": "code",
   "execution_count": 22,
   "metadata": {},
   "outputs": [],
   "source": [
    "%matplotlib inline"
   ]
  },
  {
   "cell_type": "code",
   "execution_count": 2,
   "metadata": {},
   "outputs": [],
   "source": [
    "##Import Libraries\n",
    "import numpy as np\n",
    "import pandas as pd\n",
    "import matplotlib.pyplot as plt\n",
    "import seaborn as sns\n",
    "from mpl_toolkits.mplot3d import Axes3D\n",
    "\n",
    "from sklearn.model_selection import train_test_split\n",
    "\n",
    "from sklearn.datasets import load_iris\n",
    "from sklearn.preprocessing import StandardScaler\n",
    "from sklearn.svm import LinearSVC\n",
    "from sklearn.svm import SVC\n",
    "from sklearn.model_selection import GridSearchCV\n",
    "from sklearn.decomposition import PCA\n",
    "#import scikitplot as skplt\n",
    "import datetime"
   ]
  },
  {
   "cell_type": "markdown",
   "metadata": {},
   "source": [
    "# Human Activity Recognition with Smartphones\n",
    "## Can smarthone predict our action ? <br>\n",
    "### author David Stankov -  daodeiv"
   ]
  },
  {
   "cell_type": "markdown",
   "metadata": {},
   "source": [
    "### Abstract"
   ]
  },
  {
   "cell_type": "markdown",
   "metadata": {},
   "source": [
    "####  In the notebook we will try to show that the smartphones can predict our action by Support Vector Machine with accuracy approximately equal to 90%.Also, we will show the power of Principle Component Analysis as decrease dimension of our dataset from 563 columns to 25"
   ]
  },
  {
   "cell_type": "markdown",
   "metadata": {},
   "source": [
    "### Introduction\n",
    "#### The Human Activity Recognition database was built from the recordings of 30 study participants performing activities of daily living (ADL) while carrying a waist-mounted smartphone with embedded inertial sensors. The objective is to classify activities into one of the six activities performed.Each person performed six activities wearing a smartphone (Samsung Galaxy S II) on the waist Using its embedded accelerometer and gyroscope, we captured 3-axial linear acceleration and 3-axial angular velocity at a constant rate of 50Hz.The sensor acceleration signal, which has gravitational and body motion components, was separated using a Butterworth low-pass filter into body acceleration and gravity."
   ]
  },
  {
   "cell_type": "markdown",
   "metadata": {},
   "source": [
    "### Data Load and  Exploration"
   ]
  },
  {
   "cell_type": "code",
   "execution_count": 4,
   "metadata": {},
   "outputs": [],
   "source": [
    "train = pd.read_csv('https://disk.bg/s/UFQtiaqlTDj2SZX/download')  # train data \n",
    "test = pd.read_csv('https://disk.bg/s/VYmtGL4lzcHdcCl/download')   # test data"
   ]
  },
  {
   "cell_type": "code",
   "execution_count": 5,
   "metadata": {},
   "outputs": [
    {
     "data": {
      "text/html": [
       "<div>\n",
       "<style scoped>\n",
       "    .dataframe tbody tr th:only-of-type {\n",
       "        vertical-align: middle;\n",
       "    }\n",
       "\n",
       "    .dataframe tbody tr th {\n",
       "        vertical-align: top;\n",
       "    }\n",
       "\n",
       "    .dataframe thead th {\n",
       "        text-align: right;\n",
       "    }\n",
       "</style>\n",
       "<table border=\"1\" class=\"dataframe\">\n",
       "  <thead>\n",
       "    <tr style=\"text-align: right;\">\n",
       "      <th></th>\n",
       "      <th>tBodyAcc-mean()-X</th>\n",
       "      <th>tBodyAcc-mean()-Y</th>\n",
       "      <th>tBodyAcc-mean()-Z</th>\n",
       "      <th>tBodyAcc-std()-X</th>\n",
       "      <th>tBodyAcc-std()-Y</th>\n",
       "      <th>tBodyAcc-std()-Z</th>\n",
       "      <th>tBodyAcc-mad()-X</th>\n",
       "      <th>tBodyAcc-mad()-Y</th>\n",
       "      <th>tBodyAcc-mad()-Z</th>\n",
       "      <th>tBodyAcc-max()-X</th>\n",
       "      <th>...</th>\n",
       "      <th>fBodyBodyGyroJerkMag-kurtosis()</th>\n",
       "      <th>angle(tBodyAccMean,gravity)</th>\n",
       "      <th>angle(tBodyAccJerkMean),gravityMean)</th>\n",
       "      <th>angle(tBodyGyroMean,gravityMean)</th>\n",
       "      <th>angle(tBodyGyroJerkMean,gravityMean)</th>\n",
       "      <th>angle(X,gravityMean)</th>\n",
       "      <th>angle(Y,gravityMean)</th>\n",
       "      <th>angle(Z,gravityMean)</th>\n",
       "      <th>subject</th>\n",
       "      <th>Activity</th>\n",
       "    </tr>\n",
       "  </thead>\n",
       "  <tbody>\n",
       "    <tr>\n",
       "      <th>0</th>\n",
       "      <td>0.288585</td>\n",
       "      <td>-0.020294</td>\n",
       "      <td>-0.132905</td>\n",
       "      <td>-0.995279</td>\n",
       "      <td>-0.983111</td>\n",
       "      <td>-0.913526</td>\n",
       "      <td>-0.995112</td>\n",
       "      <td>-0.983185</td>\n",
       "      <td>-0.923527</td>\n",
       "      <td>-0.934724</td>\n",
       "      <td>...</td>\n",
       "      <td>-0.710304</td>\n",
       "      <td>-0.112754</td>\n",
       "      <td>0.030400</td>\n",
       "      <td>-0.464761</td>\n",
       "      <td>-0.018446</td>\n",
       "      <td>-0.841247</td>\n",
       "      <td>0.179941</td>\n",
       "      <td>-0.058627</td>\n",
       "      <td>1</td>\n",
       "      <td>STANDING</td>\n",
       "    </tr>\n",
       "    <tr>\n",
       "      <th>1</th>\n",
       "      <td>0.278419</td>\n",
       "      <td>-0.016411</td>\n",
       "      <td>-0.123520</td>\n",
       "      <td>-0.998245</td>\n",
       "      <td>-0.975300</td>\n",
       "      <td>-0.960322</td>\n",
       "      <td>-0.998807</td>\n",
       "      <td>-0.974914</td>\n",
       "      <td>-0.957686</td>\n",
       "      <td>-0.943068</td>\n",
       "      <td>...</td>\n",
       "      <td>-0.861499</td>\n",
       "      <td>0.053477</td>\n",
       "      <td>-0.007435</td>\n",
       "      <td>-0.732626</td>\n",
       "      <td>0.703511</td>\n",
       "      <td>-0.844788</td>\n",
       "      <td>0.180289</td>\n",
       "      <td>-0.054317</td>\n",
       "      <td>1</td>\n",
       "      <td>STANDING</td>\n",
       "    </tr>\n",
       "    <tr>\n",
       "      <th>2</th>\n",
       "      <td>0.279653</td>\n",
       "      <td>-0.019467</td>\n",
       "      <td>-0.113462</td>\n",
       "      <td>-0.995380</td>\n",
       "      <td>-0.967187</td>\n",
       "      <td>-0.978944</td>\n",
       "      <td>-0.996520</td>\n",
       "      <td>-0.963668</td>\n",
       "      <td>-0.977469</td>\n",
       "      <td>-0.938692</td>\n",
       "      <td>...</td>\n",
       "      <td>-0.760104</td>\n",
       "      <td>-0.118559</td>\n",
       "      <td>0.177899</td>\n",
       "      <td>0.100699</td>\n",
       "      <td>0.808529</td>\n",
       "      <td>-0.848933</td>\n",
       "      <td>0.180637</td>\n",
       "      <td>-0.049118</td>\n",
       "      <td>1</td>\n",
       "      <td>STANDING</td>\n",
       "    </tr>\n",
       "    <tr>\n",
       "      <th>3</th>\n",
       "      <td>0.279174</td>\n",
       "      <td>-0.026201</td>\n",
       "      <td>-0.123283</td>\n",
       "      <td>-0.996091</td>\n",
       "      <td>-0.983403</td>\n",
       "      <td>-0.990675</td>\n",
       "      <td>-0.997099</td>\n",
       "      <td>-0.982750</td>\n",
       "      <td>-0.989302</td>\n",
       "      <td>-0.938692</td>\n",
       "      <td>...</td>\n",
       "      <td>-0.482845</td>\n",
       "      <td>-0.036788</td>\n",
       "      <td>-0.012892</td>\n",
       "      <td>0.640011</td>\n",
       "      <td>-0.485366</td>\n",
       "      <td>-0.848649</td>\n",
       "      <td>0.181935</td>\n",
       "      <td>-0.047663</td>\n",
       "      <td>1</td>\n",
       "      <td>STANDING</td>\n",
       "    </tr>\n",
       "    <tr>\n",
       "      <th>4</th>\n",
       "      <td>0.276629</td>\n",
       "      <td>-0.016570</td>\n",
       "      <td>-0.115362</td>\n",
       "      <td>-0.998139</td>\n",
       "      <td>-0.980817</td>\n",
       "      <td>-0.990482</td>\n",
       "      <td>-0.998321</td>\n",
       "      <td>-0.979672</td>\n",
       "      <td>-0.990441</td>\n",
       "      <td>-0.942469</td>\n",
       "      <td>...</td>\n",
       "      <td>-0.699205</td>\n",
       "      <td>0.123320</td>\n",
       "      <td>0.122542</td>\n",
       "      <td>0.693578</td>\n",
       "      <td>-0.615971</td>\n",
       "      <td>-0.847865</td>\n",
       "      <td>0.185151</td>\n",
       "      <td>-0.043892</td>\n",
       "      <td>1</td>\n",
       "      <td>STANDING</td>\n",
       "    </tr>\n",
       "  </tbody>\n",
       "</table>\n",
       "<p>5 rows × 563 columns</p>\n",
       "</div>"
      ],
      "text/plain": [
       "   tBodyAcc-mean()-X  tBodyAcc-mean()-Y  tBodyAcc-mean()-Z  tBodyAcc-std()-X  \\\n",
       "0           0.288585          -0.020294          -0.132905         -0.995279   \n",
       "1           0.278419          -0.016411          -0.123520         -0.998245   \n",
       "2           0.279653          -0.019467          -0.113462         -0.995380   \n",
       "3           0.279174          -0.026201          -0.123283         -0.996091   \n",
       "4           0.276629          -0.016570          -0.115362         -0.998139   \n",
       "\n",
       "   tBodyAcc-std()-Y  tBodyAcc-std()-Z  tBodyAcc-mad()-X  tBodyAcc-mad()-Y  \\\n",
       "0         -0.983111         -0.913526         -0.995112         -0.983185   \n",
       "1         -0.975300         -0.960322         -0.998807         -0.974914   \n",
       "2         -0.967187         -0.978944         -0.996520         -0.963668   \n",
       "3         -0.983403         -0.990675         -0.997099         -0.982750   \n",
       "4         -0.980817         -0.990482         -0.998321         -0.979672   \n",
       "\n",
       "   tBodyAcc-mad()-Z  tBodyAcc-max()-X  ...  fBodyBodyGyroJerkMag-kurtosis()  \\\n",
       "0         -0.923527         -0.934724  ...                        -0.710304   \n",
       "1         -0.957686         -0.943068  ...                        -0.861499   \n",
       "2         -0.977469         -0.938692  ...                        -0.760104   \n",
       "3         -0.989302         -0.938692  ...                        -0.482845   \n",
       "4         -0.990441         -0.942469  ...                        -0.699205   \n",
       "\n",
       "   angle(tBodyAccMean,gravity)  angle(tBodyAccJerkMean),gravityMean)  \\\n",
       "0                    -0.112754                              0.030400   \n",
       "1                     0.053477                             -0.007435   \n",
       "2                    -0.118559                              0.177899   \n",
       "3                    -0.036788                             -0.012892   \n",
       "4                     0.123320                              0.122542   \n",
       "\n",
       "   angle(tBodyGyroMean,gravityMean)  angle(tBodyGyroJerkMean,gravityMean)  \\\n",
       "0                         -0.464761                             -0.018446   \n",
       "1                         -0.732626                              0.703511   \n",
       "2                          0.100699                              0.808529   \n",
       "3                          0.640011                             -0.485366   \n",
       "4                          0.693578                             -0.615971   \n",
       "\n",
       "   angle(X,gravityMean)  angle(Y,gravityMean)  angle(Z,gravityMean)  subject  \\\n",
       "0             -0.841247              0.179941             -0.058627        1   \n",
       "1             -0.844788              0.180289             -0.054317        1   \n",
       "2             -0.848933              0.180637             -0.049118        1   \n",
       "3             -0.848649              0.181935             -0.047663        1   \n",
       "4             -0.847865              0.185151             -0.043892        1   \n",
       "\n",
       "   Activity  \n",
       "0  STANDING  \n",
       "1  STANDING  \n",
       "2  STANDING  \n",
       "3  STANDING  \n",
       "4  STANDING  \n",
       "\n",
       "[5 rows x 563 columns]"
      ]
     },
     "execution_count": 5,
     "metadata": {},
     "output_type": "execute_result"
    }
   ],
   "source": [
    "train.head()"
   ]
  },
  {
   "cell_type": "code",
   "execution_count": 168,
   "metadata": {},
   "outputs": [
    {
     "data": {
      "text/plain": [
       "(7352, 563)"
      ]
     },
     "execution_count": 168,
     "metadata": {},
     "output_type": "execute_result"
    }
   ],
   "source": [
    "train.shape"
   ]
  },
  {
   "cell_type": "code",
   "execution_count": 122,
   "metadata": {},
   "outputs": [
    {
     "name": "stdout",
     "output_type": "stream",
     "text": [
      "train data shape  (7352, 562)\n",
      "label data shape (7352,)\n",
      "train data test shape (2947, 562)\n",
      "label_data_test shape (2947,)\n"
     ]
    }
   ],
   "source": [
    "# separating data inputs and output lables \n",
    "train_data  = train.drop('Activity' , axis=1).values\n",
    "label_data = train['Activity'].values\n",
    "\n",
    "test_data = test.drop('Activity' , axis=1).values\n",
    "test_label = test['Activity'].values\n",
    "\n",
    "\n",
    "print('train data shape ' ,train_data.shape)\n",
    "print('label data shape' ,label_data.shape)\n",
    "\n",
    "print('train data test shape' ,test_data_.shape)\n",
    "print('label_data_test shape' ,label_test_train.shape)"
   ]
  },
  {
   "cell_type": "code",
   "execution_count": 18,
   "metadata": {},
   "outputs": [
    {
     "data": {
      "text/plain": [
       "array(['LAYING', 'SITTING', 'STANDING', 'WALKING', 'WALKING_DOWNSTAIRS',\n",
       "       'WALKING_UPSTAIRS'], dtype=object)"
      ]
     },
     "execution_count": 18,
     "metadata": {},
     "output_type": "execute_result"
    }
   ],
   "source": [
    "activity = np.unique(label_data)\n",
    "activity"
   ]
  },
  {
   "cell_type": "markdown",
   "metadata": {},
   "source": [
    "### Feature Selection"
   ]
  },
  {
   "cell_type": "markdown",
   "metadata": {},
   "source": [
    "#### Since some of feature maybe depends each other  are unnecessary.Others have a small variance and they unnecessary as  well.Before  we apply dimensionality reduction over data sets,will be bettet to scalling data, The origin data  maybe is scalled enough nevertheless let's to apply standart scaller"
   ]
  },
  {
   "cell_type": "markdown",
   "metadata": {},
   "source": [
    "#### The statistical Description before Scalling"
   ]
  },
  {
   "cell_type": "code",
   "execution_count": 7,
   "metadata": {},
   "outputs": [
    {
     "data": {
      "text/html": [
       "<div>\n",
       "<style scoped>\n",
       "    .dataframe tbody tr th:only-of-type {\n",
       "        vertical-align: middle;\n",
       "    }\n",
       "\n",
       "    .dataframe tbody tr th {\n",
       "        vertical-align: top;\n",
       "    }\n",
       "\n",
       "    .dataframe thead th {\n",
       "        text-align: right;\n",
       "    }\n",
       "</style>\n",
       "<table border=\"1\" class=\"dataframe\">\n",
       "  <thead>\n",
       "    <tr style=\"text-align: right;\">\n",
       "      <th></th>\n",
       "      <th>0</th>\n",
       "      <th>1</th>\n",
       "      <th>2</th>\n",
       "      <th>3</th>\n",
       "      <th>4</th>\n",
       "      <th>5</th>\n",
       "      <th>6</th>\n",
       "      <th>7</th>\n",
       "      <th>8</th>\n",
       "      <th>9</th>\n",
       "      <th>...</th>\n",
       "      <th>552</th>\n",
       "      <th>553</th>\n",
       "      <th>554</th>\n",
       "      <th>555</th>\n",
       "      <th>556</th>\n",
       "      <th>557</th>\n",
       "      <th>558</th>\n",
       "      <th>559</th>\n",
       "      <th>560</th>\n",
       "      <th>561</th>\n",
       "    </tr>\n",
       "  </thead>\n",
       "  <tbody>\n",
       "    <tr>\n",
       "      <th>count</th>\n",
       "      <td>7352.000000</td>\n",
       "      <td>7352.000000</td>\n",
       "      <td>7352.000000</td>\n",
       "      <td>7352.000000</td>\n",
       "      <td>7352.000000</td>\n",
       "      <td>7352.000000</td>\n",
       "      <td>7352.000000</td>\n",
       "      <td>7352.000000</td>\n",
       "      <td>7352.000000</td>\n",
       "      <td>7352.000000</td>\n",
       "      <td>...</td>\n",
       "      <td>7352.000000</td>\n",
       "      <td>7352.000000</td>\n",
       "      <td>7352.000000</td>\n",
       "      <td>7352.000000</td>\n",
       "      <td>7352.000000</td>\n",
       "      <td>7352.000000</td>\n",
       "      <td>7352.000000</td>\n",
       "      <td>7352.000000</td>\n",
       "      <td>7352.000000</td>\n",
       "      <td>7352.000000</td>\n",
       "    </tr>\n",
       "    <tr>\n",
       "      <th>mean</th>\n",
       "      <td>0.274488</td>\n",
       "      <td>-0.017695</td>\n",
       "      <td>-0.109141</td>\n",
       "      <td>-0.605438</td>\n",
       "      <td>-0.510938</td>\n",
       "      <td>-0.604754</td>\n",
       "      <td>-0.630512</td>\n",
       "      <td>-0.526907</td>\n",
       "      <td>-0.606150</td>\n",
       "      <td>-0.468604</td>\n",
       "      <td>...</td>\n",
       "      <td>-0.307009</td>\n",
       "      <td>-0.625294</td>\n",
       "      <td>0.008684</td>\n",
       "      <td>0.002186</td>\n",
       "      <td>0.008726</td>\n",
       "      <td>-0.005981</td>\n",
       "      <td>-0.489547</td>\n",
       "      <td>0.058593</td>\n",
       "      <td>-0.056515</td>\n",
       "      <td>17.413085</td>\n",
       "    </tr>\n",
       "    <tr>\n",
       "      <th>std</th>\n",
       "      <td>0.070261</td>\n",
       "      <td>0.040811</td>\n",
       "      <td>0.056635</td>\n",
       "      <td>0.448734</td>\n",
       "      <td>0.502645</td>\n",
       "      <td>0.418687</td>\n",
       "      <td>0.424073</td>\n",
       "      <td>0.485942</td>\n",
       "      <td>0.414122</td>\n",
       "      <td>0.544547</td>\n",
       "      <td>...</td>\n",
       "      <td>0.321011</td>\n",
       "      <td>0.307584</td>\n",
       "      <td>0.336787</td>\n",
       "      <td>0.448306</td>\n",
       "      <td>0.608303</td>\n",
       "      <td>0.477975</td>\n",
       "      <td>0.511807</td>\n",
       "      <td>0.297480</td>\n",
       "      <td>0.279122</td>\n",
       "      <td>8.975143</td>\n",
       "    </tr>\n",
       "    <tr>\n",
       "      <th>min</th>\n",
       "      <td>-1.000000</td>\n",
       "      <td>-1.000000</td>\n",
       "      <td>-1.000000</td>\n",
       "      <td>-1.000000</td>\n",
       "      <td>-0.999873</td>\n",
       "      <td>-1.000000</td>\n",
       "      <td>-1.000000</td>\n",
       "      <td>-1.000000</td>\n",
       "      <td>-1.000000</td>\n",
       "      <td>-1.000000</td>\n",
       "      <td>...</td>\n",
       "      <td>-0.995357</td>\n",
       "      <td>-0.999765</td>\n",
       "      <td>-0.976580</td>\n",
       "      <td>-1.000000</td>\n",
       "      <td>-1.000000</td>\n",
       "      <td>-1.000000</td>\n",
       "      <td>-1.000000</td>\n",
       "      <td>-1.000000</td>\n",
       "      <td>-1.000000</td>\n",
       "      <td>1.000000</td>\n",
       "    </tr>\n",
       "    <tr>\n",
       "      <th>25%</th>\n",
       "      <td>0.262975</td>\n",
       "      <td>-0.024863</td>\n",
       "      <td>-0.120993</td>\n",
       "      <td>-0.992754</td>\n",
       "      <td>-0.978129</td>\n",
       "      <td>-0.980233</td>\n",
       "      <td>-0.993591</td>\n",
       "      <td>-0.978162</td>\n",
       "      <td>-0.980251</td>\n",
       "      <td>-0.936219</td>\n",
       "      <td>...</td>\n",
       "      <td>-0.542602</td>\n",
       "      <td>-0.845573</td>\n",
       "      <td>-0.121527</td>\n",
       "      <td>-0.289549</td>\n",
       "      <td>-0.482273</td>\n",
       "      <td>-0.376341</td>\n",
       "      <td>-0.812065</td>\n",
       "      <td>-0.017885</td>\n",
       "      <td>-0.143414</td>\n",
       "      <td>8.000000</td>\n",
       "    </tr>\n",
       "    <tr>\n",
       "      <th>50%</th>\n",
       "      <td>0.277193</td>\n",
       "      <td>-0.017219</td>\n",
       "      <td>-0.108676</td>\n",
       "      <td>-0.946196</td>\n",
       "      <td>-0.851897</td>\n",
       "      <td>-0.859365</td>\n",
       "      <td>-0.950709</td>\n",
       "      <td>-0.857328</td>\n",
       "      <td>-0.857143</td>\n",
       "      <td>-0.881637</td>\n",
       "      <td>...</td>\n",
       "      <td>-0.343685</td>\n",
       "      <td>-0.711692</td>\n",
       "      <td>0.009509</td>\n",
       "      <td>0.008943</td>\n",
       "      <td>0.008735</td>\n",
       "      <td>-0.000368</td>\n",
       "      <td>-0.709417</td>\n",
       "      <td>0.182071</td>\n",
       "      <td>0.003181</td>\n",
       "      <td>19.000000</td>\n",
       "    </tr>\n",
       "    <tr>\n",
       "      <th>75%</th>\n",
       "      <td>0.288461</td>\n",
       "      <td>-0.010783</td>\n",
       "      <td>-0.097794</td>\n",
       "      <td>-0.242813</td>\n",
       "      <td>-0.034231</td>\n",
       "      <td>-0.262415</td>\n",
       "      <td>-0.292680</td>\n",
       "      <td>-0.066701</td>\n",
       "      <td>-0.265671</td>\n",
       "      <td>-0.017129</td>\n",
       "      <td>...</td>\n",
       "      <td>-0.126979</td>\n",
       "      <td>-0.503878</td>\n",
       "      <td>0.150865</td>\n",
       "      <td>0.292861</td>\n",
       "      <td>0.506187</td>\n",
       "      <td>0.359368</td>\n",
       "      <td>-0.509079</td>\n",
       "      <td>0.248353</td>\n",
       "      <td>0.107659</td>\n",
       "      <td>26.000000</td>\n",
       "    </tr>\n",
       "    <tr>\n",
       "      <th>max</th>\n",
       "      <td>1.000000</td>\n",
       "      <td>1.000000</td>\n",
       "      <td>1.000000</td>\n",
       "      <td>1.000000</td>\n",
       "      <td>0.916238</td>\n",
       "      <td>1.000000</td>\n",
       "      <td>1.000000</td>\n",
       "      <td>0.967664</td>\n",
       "      <td>1.000000</td>\n",
       "      <td>1.000000</td>\n",
       "      <td>...</td>\n",
       "      <td>0.989538</td>\n",
       "      <td>0.956845</td>\n",
       "      <td>1.000000</td>\n",
       "      <td>1.000000</td>\n",
       "      <td>0.998702</td>\n",
       "      <td>0.996078</td>\n",
       "      <td>1.000000</td>\n",
       "      <td>0.478157</td>\n",
       "      <td>1.000000</td>\n",
       "      <td>30.000000</td>\n",
       "    </tr>\n",
       "  </tbody>\n",
       "</table>\n",
       "<p>8 rows × 562 columns</p>\n",
       "</div>"
      ],
      "text/plain": [
       "               0            1            2            3            4    \\\n",
       "count  7352.000000  7352.000000  7352.000000  7352.000000  7352.000000   \n",
       "mean      0.274488    -0.017695    -0.109141    -0.605438    -0.510938   \n",
       "std       0.070261     0.040811     0.056635     0.448734     0.502645   \n",
       "min      -1.000000    -1.000000    -1.000000    -1.000000    -0.999873   \n",
       "25%       0.262975    -0.024863    -0.120993    -0.992754    -0.978129   \n",
       "50%       0.277193    -0.017219    -0.108676    -0.946196    -0.851897   \n",
       "75%       0.288461    -0.010783    -0.097794    -0.242813    -0.034231   \n",
       "max       1.000000     1.000000     1.000000     1.000000     0.916238   \n",
       "\n",
       "               5            6            7            8            9    ...  \\\n",
       "count  7352.000000  7352.000000  7352.000000  7352.000000  7352.000000  ...   \n",
       "mean     -0.604754    -0.630512    -0.526907    -0.606150    -0.468604  ...   \n",
       "std       0.418687     0.424073     0.485942     0.414122     0.544547  ...   \n",
       "min      -1.000000    -1.000000    -1.000000    -1.000000    -1.000000  ...   \n",
       "25%      -0.980233    -0.993591    -0.978162    -0.980251    -0.936219  ...   \n",
       "50%      -0.859365    -0.950709    -0.857328    -0.857143    -0.881637  ...   \n",
       "75%      -0.262415    -0.292680    -0.066701    -0.265671    -0.017129  ...   \n",
       "max       1.000000     1.000000     0.967664     1.000000     1.000000  ...   \n",
       "\n",
       "               552          553          554          555          556  \\\n",
       "count  7352.000000  7352.000000  7352.000000  7352.000000  7352.000000   \n",
       "mean     -0.307009    -0.625294     0.008684     0.002186     0.008726   \n",
       "std       0.321011     0.307584     0.336787     0.448306     0.608303   \n",
       "min      -0.995357    -0.999765    -0.976580    -1.000000    -1.000000   \n",
       "25%      -0.542602    -0.845573    -0.121527    -0.289549    -0.482273   \n",
       "50%      -0.343685    -0.711692     0.009509     0.008943     0.008735   \n",
       "75%      -0.126979    -0.503878     0.150865     0.292861     0.506187   \n",
       "max       0.989538     0.956845     1.000000     1.000000     0.998702   \n",
       "\n",
       "               557          558          559          560          561  \n",
       "count  7352.000000  7352.000000  7352.000000  7352.000000  7352.000000  \n",
       "mean     -0.005981    -0.489547     0.058593    -0.056515    17.413085  \n",
       "std       0.477975     0.511807     0.297480     0.279122     8.975143  \n",
       "min      -1.000000    -1.000000    -1.000000    -1.000000     1.000000  \n",
       "25%      -0.376341    -0.812065    -0.017885    -0.143414     8.000000  \n",
       "50%      -0.000368    -0.709417     0.182071     0.003181    19.000000  \n",
       "75%       0.359368    -0.509079     0.248353     0.107659    26.000000  \n",
       "max       0.996078     1.000000     0.478157     1.000000    30.000000  \n",
       "\n",
       "[8 rows x 562 columns]"
      ]
     },
     "execution_count": 7,
     "metadata": {},
     "output_type": "execute_result"
    }
   ],
   "source": [
    "pd.DataFrame(train_data).describe()"
   ]
  },
  {
   "cell_type": "code",
   "execution_count": 24,
   "metadata": {},
   "outputs": [],
   "source": [
    "###applying standart scaller over test and train data\n",
    "scaler = StandardScaler()\n",
    "scaler.fit(train_data)\n",
    "train_data = a.transform(train_data)\n",
    "scaler.fit(test_data)\n",
    "test_data = a.transform(test_data)"
   ]
  },
  {
   "cell_type": "markdown",
   "metadata": {},
   "source": [
    "### The statistical Description after Scalling\n"
   ]
  },
  {
   "cell_type": "code",
   "execution_count": 25,
   "metadata": {},
   "outputs": [
    {
     "data": {
      "text/html": [
       "<div>\n",
       "<style scoped>\n",
       "    .dataframe tbody tr th:only-of-type {\n",
       "        vertical-align: middle;\n",
       "    }\n",
       "\n",
       "    .dataframe tbody tr th {\n",
       "        vertical-align: top;\n",
       "    }\n",
       "\n",
       "    .dataframe thead th {\n",
       "        text-align: right;\n",
       "    }\n",
       "</style>\n",
       "<table border=\"1\" class=\"dataframe\">\n",
       "  <thead>\n",
       "    <tr style=\"text-align: right;\">\n",
       "      <th></th>\n",
       "      <th>0</th>\n",
       "      <th>1</th>\n",
       "      <th>2</th>\n",
       "      <th>3</th>\n",
       "      <th>4</th>\n",
       "      <th>5</th>\n",
       "      <th>6</th>\n",
       "      <th>7</th>\n",
       "      <th>8</th>\n",
       "      <th>9</th>\n",
       "      <th>...</th>\n",
       "      <th>552</th>\n",
       "      <th>553</th>\n",
       "      <th>554</th>\n",
       "      <th>555</th>\n",
       "      <th>556</th>\n",
       "      <th>557</th>\n",
       "      <th>558</th>\n",
       "      <th>559</th>\n",
       "      <th>560</th>\n",
       "      <th>561</th>\n",
       "    </tr>\n",
       "  </thead>\n",
       "  <tbody>\n",
       "    <tr>\n",
       "      <th>count</th>\n",
       "      <td>7.352000e+03</td>\n",
       "      <td>7.352000e+03</td>\n",
       "      <td>7.352000e+03</td>\n",
       "      <td>7.352000e+03</td>\n",
       "      <td>7.352000e+03</td>\n",
       "      <td>7.352000e+03</td>\n",
       "      <td>7.352000e+03</td>\n",
       "      <td>7.352000e+03</td>\n",
       "      <td>7.352000e+03</td>\n",
       "      <td>7.352000e+03</td>\n",
       "      <td>...</td>\n",
       "      <td>7.352000e+03</td>\n",
       "      <td>7.352000e+03</td>\n",
       "      <td>7.352000e+03</td>\n",
       "      <td>7.352000e+03</td>\n",
       "      <td>7.352000e+03</td>\n",
       "      <td>7.352000e+03</td>\n",
       "      <td>7.352000e+03</td>\n",
       "      <td>7.352000e+03</td>\n",
       "      <td>7.352000e+03</td>\n",
       "      <td>7.352000e+03</td>\n",
       "    </tr>\n",
       "    <tr>\n",
       "      <th>mean</th>\n",
       "      <td>-3.166975e-16</td>\n",
       "      <td>3.384504e-17</td>\n",
       "      <td>9.365619e-17</td>\n",
       "      <td>-1.226198e-16</td>\n",
       "      <td>-1.977472e-16</td>\n",
       "      <td>1.596474e-16</td>\n",
       "      <td>7.520281e-18</td>\n",
       "      <td>1.987287e-16</td>\n",
       "      <td>1.078209e-16</td>\n",
       "      <td>1.359087e-17</td>\n",
       "      <td>...</td>\n",
       "      <td>-7.505558e-17</td>\n",
       "      <td>3.100077e-16</td>\n",
       "      <td>-1.525198e-18</td>\n",
       "      <td>5.899287e-18</td>\n",
       "      <td>-1.418547e-17</td>\n",
       "      <td>7.106515e-17</td>\n",
       "      <td>1.277089e-16</td>\n",
       "      <td>-1.075189e-17</td>\n",
       "      <td>-2.398788e-17</td>\n",
       "      <td>-4.450073e-15</td>\n",
       "    </tr>\n",
       "    <tr>\n",
       "      <th>std</th>\n",
       "      <td>1.000068e+00</td>\n",
       "      <td>1.000068e+00</td>\n",
       "      <td>1.000068e+00</td>\n",
       "      <td>1.000068e+00</td>\n",
       "      <td>1.000068e+00</td>\n",
       "      <td>1.000068e+00</td>\n",
       "      <td>1.000068e+00</td>\n",
       "      <td>1.000068e+00</td>\n",
       "      <td>1.000068e+00</td>\n",
       "      <td>1.000068e+00</td>\n",
       "      <td>...</td>\n",
       "      <td>1.000068e+00</td>\n",
       "      <td>1.000068e+00</td>\n",
       "      <td>1.000068e+00</td>\n",
       "      <td>1.000068e+00</td>\n",
       "      <td>1.000068e+00</td>\n",
       "      <td>1.000068e+00</td>\n",
       "      <td>1.000068e+00</td>\n",
       "      <td>1.000068e+00</td>\n",
       "      <td>1.000068e+00</td>\n",
       "      <td>1.000068e+00</td>\n",
       "    </tr>\n",
       "    <tr>\n",
       "      <th>min</th>\n",
       "      <td>-1.814049e+01</td>\n",
       "      <td>-2.407152e+01</td>\n",
       "      <td>-1.573085e+01</td>\n",
       "      <td>-8.793362e-01</td>\n",
       "      <td>-9.727918e-01</td>\n",
       "      <td>-9.440787e-01</td>\n",
       "      <td>-8.713436e-01</td>\n",
       "      <td>-9.736247e-01</td>\n",
       "      <td>-9.511122e-01</td>\n",
       "      <td>-9.759168e-01</td>\n",
       "      <td>...</td>\n",
       "      <td>-2.144460e+00</td>\n",
       "      <td>-1.217541e+00</td>\n",
       "      <td>-2.925683e+00</td>\n",
       "      <td>-2.235646e+00</td>\n",
       "      <td>-1.658375e+00</td>\n",
       "      <td>-2.079788e+00</td>\n",
       "      <td>-9.974223e-01</td>\n",
       "      <td>-3.558777e+00</td>\n",
       "      <td>-3.380417e+00</td>\n",
       "      <td>-1.828851e+00</td>\n",
       "    </tr>\n",
       "    <tr>\n",
       "      <th>25%</th>\n",
       "      <td>-1.638693e-01</td>\n",
       "      <td>-1.756427e-01</td>\n",
       "      <td>-2.092798e-01</td>\n",
       "      <td>-8.631868e-01</td>\n",
       "      <td>-9.295295e-01</td>\n",
       "      <td>-8.968638e-01</td>\n",
       "      <td>-8.562288e-01</td>\n",
       "      <td>-9.286823e-01</td>\n",
       "      <td>-9.034203e-01</td>\n",
       "      <td>-8.587814e-01</td>\n",
       "      <td>...</td>\n",
       "      <td>-7.339585e-01</td>\n",
       "      <td>-7.162086e-01</td>\n",
       "      <td>-3.866541e-01</td>\n",
       "      <td>-6.507937e-01</td>\n",
       "      <td>-8.072166e-01</td>\n",
       "      <td>-7.749059e-01</td>\n",
       "      <td>-6.301983e-01</td>\n",
       "      <td>-2.571022e-01</td>\n",
       "      <td>-3.113525e-01</td>\n",
       "      <td>-1.048866e+00</td>\n",
       "    </tr>\n",
       "    <tr>\n",
       "      <th>50%</th>\n",
       "      <td>3.850502e-02</td>\n",
       "      <td>1.167141e-02</td>\n",
       "      <td>8.206943e-03</td>\n",
       "      <td>-7.594273e-01</td>\n",
       "      <td>-6.783764e-01</td>\n",
       "      <td>-6.081593e-01</td>\n",
       "      <td>-7.551036e-01</td>\n",
       "      <td>-6.800064e-01</td>\n",
       "      <td>-6.061248e-01</td>\n",
       "      <td>-7.585419e-01</td>\n",
       "      <td>...</td>\n",
       "      <td>-1.142597e-01</td>\n",
       "      <td>-2.809130e-01</td>\n",
       "      <td>2.451015e-03</td>\n",
       "      <td>1.507318e-02</td>\n",
       "      <td>1.477537e-05</td>\n",
       "      <td>1.174412e-02</td>\n",
       "      <td>-4.296252e-01</td>\n",
       "      <td>4.151086e-01</td>\n",
       "      <td>2.138846e-01</td>\n",
       "      <td>1.768243e-01</td>\n",
       "    </tr>\n",
       "    <tr>\n",
       "      <th>75%</th>\n",
       "      <td>1.988854e-01</td>\n",
       "      <td>1.693906e-01</td>\n",
       "      <td>2.003738e-01</td>\n",
       "      <td>8.081625e-01</td>\n",
       "      <td>9.484617e-01</td>\n",
       "      <td>8.177048e-01</td>\n",
       "      <td>7.966913e-01</td>\n",
       "      <td>9.471052e-01</td>\n",
       "      <td>8.222278e-01</td>\n",
       "      <td>8.291412e-01</td>\n",
       "      <td>...</td>\n",
       "      <td>5.608611e-01</td>\n",
       "      <td>3.947685e-01</td>\n",
       "      <td>4.222002e-01</td>\n",
       "      <td>6.484291e-01</td>\n",
       "      <td>8.178415e-01</td>\n",
       "      <td>7.644196e-01</td>\n",
       "      <td>-3.816570e-02</td>\n",
       "      <td>6.379332e-01</td>\n",
       "      <td>5.882181e-01</td>\n",
       "      <td>9.568092e-01</td>\n",
       "    </tr>\n",
       "    <tr>\n",
       "      <th>max</th>\n",
       "      <td>1.032661e+01</td>\n",
       "      <td>2.493878e+01</td>\n",
       "      <td>1.958529e+01</td>\n",
       "      <td>3.577947e+00</td>\n",
       "      <td>2.839526e+00</td>\n",
       "      <td>3.833088e+00</td>\n",
       "      <td>3.845150e+00</td>\n",
       "      <td>3.075829e+00</td>\n",
       "      <td>3.878713e+00</td>\n",
       "      <td>2.697113e+00</td>\n",
       "      <td>...</td>\n",
       "      <td>4.039226e+00</td>\n",
       "      <td>5.144111e+00</td>\n",
       "      <td>2.943656e+00</td>\n",
       "      <td>2.225893e+00</td>\n",
       "      <td>1.627550e+00</td>\n",
       "      <td>2.096610e+00</td>\n",
       "      <td>2.910568e+00</td>\n",
       "      <td>1.410491e+00</td>\n",
       "      <td>3.785390e+00</td>\n",
       "      <td>1.402515e+00</td>\n",
       "    </tr>\n",
       "  </tbody>\n",
       "</table>\n",
       "<p>8 rows × 562 columns</p>\n",
       "</div>"
      ],
      "text/plain": [
       "                0             1             2             3             4    \\\n",
       "count  7.352000e+03  7.352000e+03  7.352000e+03  7.352000e+03  7.352000e+03   \n",
       "mean  -3.166975e-16  3.384504e-17  9.365619e-17 -1.226198e-16 -1.977472e-16   \n",
       "std    1.000068e+00  1.000068e+00  1.000068e+00  1.000068e+00  1.000068e+00   \n",
       "min   -1.814049e+01 -2.407152e+01 -1.573085e+01 -8.793362e-01 -9.727918e-01   \n",
       "25%   -1.638693e-01 -1.756427e-01 -2.092798e-01 -8.631868e-01 -9.295295e-01   \n",
       "50%    3.850502e-02  1.167141e-02  8.206943e-03 -7.594273e-01 -6.783764e-01   \n",
       "75%    1.988854e-01  1.693906e-01  2.003738e-01  8.081625e-01  9.484617e-01   \n",
       "max    1.032661e+01  2.493878e+01  1.958529e+01  3.577947e+00  2.839526e+00   \n",
       "\n",
       "                5             6             7             8             9    \\\n",
       "count  7.352000e+03  7.352000e+03  7.352000e+03  7.352000e+03  7.352000e+03   \n",
       "mean   1.596474e-16  7.520281e-18  1.987287e-16  1.078209e-16  1.359087e-17   \n",
       "std    1.000068e+00  1.000068e+00  1.000068e+00  1.000068e+00  1.000068e+00   \n",
       "min   -9.440787e-01 -8.713436e-01 -9.736247e-01 -9.511122e-01 -9.759168e-01   \n",
       "25%   -8.968638e-01 -8.562288e-01 -9.286823e-01 -9.034203e-01 -8.587814e-01   \n",
       "50%   -6.081593e-01 -7.551036e-01 -6.800064e-01 -6.061248e-01 -7.585419e-01   \n",
       "75%    8.177048e-01  7.966913e-01  9.471052e-01  8.222278e-01  8.291412e-01   \n",
       "max    3.833088e+00  3.845150e+00  3.075829e+00  3.878713e+00  2.697113e+00   \n",
       "\n",
       "       ...           552           553           554           555  \\\n",
       "count  ...  7.352000e+03  7.352000e+03  7.352000e+03  7.352000e+03   \n",
       "mean   ... -7.505558e-17  3.100077e-16 -1.525198e-18  5.899287e-18   \n",
       "std    ...  1.000068e+00  1.000068e+00  1.000068e+00  1.000068e+00   \n",
       "min    ... -2.144460e+00 -1.217541e+00 -2.925683e+00 -2.235646e+00   \n",
       "25%    ... -7.339585e-01 -7.162086e-01 -3.866541e-01 -6.507937e-01   \n",
       "50%    ... -1.142597e-01 -2.809130e-01  2.451015e-03  1.507318e-02   \n",
       "75%    ...  5.608611e-01  3.947685e-01  4.222002e-01  6.484291e-01   \n",
       "max    ...  4.039226e+00  5.144111e+00  2.943656e+00  2.225893e+00   \n",
       "\n",
       "                556           557           558           559           560  \\\n",
       "count  7.352000e+03  7.352000e+03  7.352000e+03  7.352000e+03  7.352000e+03   \n",
       "mean  -1.418547e-17  7.106515e-17  1.277089e-16 -1.075189e-17 -2.398788e-17   \n",
       "std    1.000068e+00  1.000068e+00  1.000068e+00  1.000068e+00  1.000068e+00   \n",
       "min   -1.658375e+00 -2.079788e+00 -9.974223e-01 -3.558777e+00 -3.380417e+00   \n",
       "25%   -8.072166e-01 -7.749059e-01 -6.301983e-01 -2.571022e-01 -3.113525e-01   \n",
       "50%    1.477537e-05  1.174412e-02 -4.296252e-01  4.151086e-01  2.138846e-01   \n",
       "75%    8.178415e-01  7.644196e-01 -3.816570e-02  6.379332e-01  5.882181e-01   \n",
       "max    1.627550e+00  2.096610e+00  2.910568e+00  1.410491e+00  3.785390e+00   \n",
       "\n",
       "                561  \n",
       "count  7.352000e+03  \n",
       "mean  -4.450073e-15  \n",
       "std    1.000068e+00  \n",
       "min   -1.828851e+00  \n",
       "25%   -1.048866e+00  \n",
       "50%    1.768243e-01  \n",
       "75%    9.568092e-01  \n",
       "max    1.402515e+00  \n",
       "\n",
       "[8 rows x 562 columns]"
      ]
     },
     "execution_count": 25,
     "metadata": {},
     "output_type": "execute_result"
    }
   ],
   "source": [
    "pd.DataFrame(train_data).describe()"
   ]
  },
  {
   "cell_type": "markdown",
   "metadata": {},
   "source": [
    "#### Principle Component Analysis (PCA)"
   ]
  },
  {
   "cell_type": "code",
   "execution_count": 29,
   "metadata": {},
   "outputs": [
    {
     "data": {
      "text/plain": [
       "PCA(copy=True, iterated_power='auto', n_components=None, random_state=None,\n",
       "  svd_solver='auto', tol=0.0, whiten=False)"
      ]
     },
     "execution_count": 29,
     "metadata": {},
     "output_type": "execute_result"
    }
   ],
   "source": [
    "pca = PCA()\n",
    "pca.fit(train_data)"
   ]
  },
  {
   "cell_type": "code",
   "execution_count": 30,
   "metadata": {},
   "outputs": [
    {
     "data": {
      "text/plain": [
       "array([2.84930325e+02, 3.69243458e+01, 1.57507387e+01, 1.40490859e+01,\n",
       "       1.05949597e+01, 9.68544219e+00, 7.69311009e+00, 6.76026306e+00,\n",
       "       5.60228319e+00, 5.41511781e+00, 4.82719085e+00, 4.49415468e+00,\n",
       "       4.31193538e+00, 3.63933007e+00, 3.55946718e+00, 3.36519066e+00,\n",
       "       3.29654827e+00, 3.22847767e+00, 3.18970865e+00, 2.95887970e+00,\n",
       "       2.80980896e+00, 2.74079369e+00, 2.71125901e+00, 2.63313858e+00,\n",
       "       2.52956399e+00, 2.37408006e+00, 2.34830341e+00, 2.28449435e+00,\n",
       "       2.19636391e+00, 2.17231340e+00, 2.05615542e+00, 1.98962107e+00,\n",
       "       1.96648920e+00, 1.89276521e+00, 1.86209602e+00, 1.84196575e+00,\n",
       "       1.80737671e+00, 1.65891109e+00, 1.61500408e+00, 1.60016979e+00,\n",
       "       1.52943070e+00, 1.49096019e+00, 1.47791107e+00, 1.45307239e+00,\n",
       "       1.40087449e+00, 1.38560980e+00, 1.35116808e+00, 1.32972514e+00,\n",
       "       1.30907024e+00, 1.27755458e+00, 1.24354645e+00, 1.20673863e+00,\n",
       "       1.16538397e+00, 1.13925345e+00, 1.12133709e+00, 1.11596533e+00,\n",
       "       1.09051547e+00, 1.07380237e+00, 1.06264460e+00, 1.04494450e+00,\n",
       "       1.02079759e+00, 9.96234268e-01, 9.89212533e-01, 9.72502826e-01,\n",
       "       9.61813981e-01, 9.55947578e-01, 9.34968551e-01, 9.15700910e-01,\n",
       "       8.93435755e-01, 8.84291396e-01, 8.63310306e-01, 8.57345054e-01,\n",
       "       8.31707604e-01, 8.21882871e-01, 8.19314014e-01, 8.11577972e-01,\n",
       "       7.80554895e-01, 7.66906990e-01, 7.57551007e-01, 7.46959556e-01,\n",
       "       7.40392115e-01, 7.31476916e-01, 7.22272954e-01, 7.01613507e-01,\n",
       "       6.93784118e-01, 6.82597706e-01, 6.70213322e-01, 6.59457053e-01,\n",
       "       6.55687295e-01, 6.38790182e-01, 6.34843562e-01, 6.16401373e-01,\n",
       "       6.13403208e-01, 6.03473145e-01, 5.84991599e-01, 5.74970370e-01,\n",
       "       5.70095679e-01, 5.65077112e-01, 5.48470049e-01, 5.41307217e-01,\n",
       "       5.26173107e-01, 5.16885466e-01, 5.12982330e-01, 5.02777172e-01,\n",
       "       4.96247946e-01, 4.89152752e-01, 4.87517767e-01, 4.79970174e-01,\n",
       "       4.65123327e-01, 4.64311108e-01, 4.55416793e-01, 4.51174339e-01,\n",
       "       4.41771273e-01, 4.33571428e-01, 4.22809662e-01, 4.21059027e-01,\n",
       "       4.05406866e-01, 4.02290003e-01, 3.97746606e-01, 3.87823582e-01,\n",
       "       3.79724984e-01, 3.72366759e-01, 3.64830621e-01, 3.57729820e-01,\n",
       "       3.51328022e-01, 3.48509374e-01, 3.45238346e-01, 3.37608579e-01,\n",
       "       3.34165450e-01, 3.25782987e-01, 3.22513771e-01, 3.16185451e-01,\n",
       "       3.12725618e-01, 3.05638294e-01, 3.02537257e-01, 2.96881340e-01,\n",
       "       2.94340273e-01, 2.87329416e-01, 2.83170373e-01, 2.81783957e-01,\n",
       "       2.74174920e-01, 2.70848124e-01, 2.66235078e-01, 2.62938578e-01,\n",
       "       2.58685402e-01, 2.58182439e-01, 2.52009285e-01, 2.48198944e-01,\n",
       "       2.45552768e-01, 2.40421143e-01, 2.36976666e-01, 2.33505150e-01,\n",
       "       2.28987853e-01, 2.28468644e-01, 2.23364360e-01, 2.16659954e-01,\n",
       "       2.15733180e-01, 2.12823875e-01, 2.06833945e-01, 2.03335822e-01,\n",
       "       1.98501316e-01, 1.95055351e-01, 1.93937294e-01, 1.87998690e-01,\n",
       "       1.86670640e-01, 1.82954976e-01, 1.75876681e-01, 1.69697010e-01,\n",
       "       1.61678366e-01, 1.53421121e-01, 1.50013067e-01, 1.45331203e-01,\n",
       "       1.42296623e-01, 1.38168584e-01, 1.35319006e-01, 1.33640924e-01,\n",
       "       1.28121709e-01, 1.26705642e-01, 1.24373094e-01, 1.20503106e-01,\n",
       "       1.16837226e-01, 1.14963103e-01, 1.11069135e-01, 1.09522701e-01,\n",
       "       1.05734684e-01, 1.01931839e-01, 1.01050628e-01, 9.81183150e-02,\n",
       "       9.48033056e-02, 9.41067811e-02, 9.18219775e-02, 8.75782724e-02,\n",
       "       8.71295639e-02, 8.33734797e-02, 8.22213333e-02, 8.05598372e-02,\n",
       "       7.76277942e-02, 7.58837832e-02, 7.38044488e-02, 6.99160290e-02,\n",
       "       6.92130345e-02, 6.73247861e-02, 6.64764910e-02, 6.45666410e-02,\n",
       "       6.25071436e-02, 6.06142669e-02, 5.90354138e-02, 5.77462780e-02,\n",
       "       5.56261646e-02, 5.53799383e-02, 5.43812821e-02, 5.34484189e-02,\n",
       "       5.21481600e-02, 5.10559555e-02, 5.05825743e-02, 5.01561087e-02,\n",
       "       4.97147781e-02, 4.92174170e-02, 4.76806436e-02, 4.60408862e-02,\n",
       "       4.59054522e-02, 4.50774483e-02, 4.45765230e-02, 4.36723032e-02,\n",
       "       4.28188083e-02, 4.21670557e-02, 4.14619138e-02, 4.03070042e-02,\n",
       "       3.98618530e-02, 3.91540129e-02, 3.86360926e-02, 3.81676961e-02,\n",
       "       3.73870851e-02, 3.65766818e-02, 3.63327911e-02, 3.50802239e-02,\n",
       "       3.46231966e-02, 3.41396914e-02, 3.34016273e-02, 3.31475215e-02,\n",
       "       3.28400108e-02, 3.23170837e-02, 3.19775351e-02, 3.14584868e-02,\n",
       "       3.06156380e-02, 2.98425055e-02, 2.97485452e-02, 2.89521887e-02,\n",
       "       2.87676304e-02, 2.79347671e-02, 2.73081735e-02, 2.68555170e-02,\n",
       "       2.62957443e-02, 2.58882937e-02, 2.53863309e-02, 2.47568921e-02,\n",
       "       2.41689090e-02, 2.38585857e-02, 2.35012400e-02, 2.27634733e-02,\n",
       "       2.27147485e-02, 2.24144131e-02, 2.17142188e-02, 2.16541614e-02,\n",
       "       2.13201651e-02, 2.10660753e-02, 2.03691341e-02, 1.99814387e-02,\n",
       "       1.95957435e-02, 1.94117676e-02, 1.87958165e-02, 1.85628175e-02,\n",
       "       1.82604043e-02, 1.79723203e-02, 1.78033505e-02, 1.73823417e-02,\n",
       "       1.70693206e-02, 1.64759941e-02, 1.63609403e-02, 1.61615197e-02,\n",
       "       1.56855386e-02, 1.55921161e-02, 1.54770349e-02, 1.50433382e-02,\n",
       "       1.47027145e-02, 1.45762985e-02, 1.43985226e-02, 1.41340154e-02,\n",
       "       1.38331626e-02, 1.36301030e-02, 1.35297161e-02, 1.34092099e-02,\n",
       "       1.29047629e-02, 1.28530519e-02, 1.26398243e-02, 1.25712320e-02,\n",
       "       1.22753512e-02, 1.20859857e-02, 1.20625261e-02, 1.17014636e-02,\n",
       "       1.15643822e-02, 1.12886643e-02, 1.10500543e-02, 1.09613654e-02,\n",
       "       1.08195609e-02, 1.06031696e-02, 1.04730015e-02, 1.03874975e-02,\n",
       "       1.02242894e-02, 1.00762752e-02, 9.89678919e-03, 9.66996893e-03,\n",
       "       9.54916673e-03, 9.19139041e-03, 9.16985951e-03, 9.01180662e-03,\n",
       "       8.89572335e-03, 8.86560776e-03, 8.67434011e-03, 8.54122112e-03,\n",
       "       8.48468628e-03, 8.30881133e-03, 8.24243984e-03, 7.99087374e-03,\n",
       "       7.97355272e-03, 7.66410292e-03, 7.50674672e-03, 7.30131739e-03,\n",
       "       7.26633629e-03, 7.04565974e-03, 6.92629923e-03, 6.84380543e-03,\n",
       "       6.66350303e-03, 6.48367888e-03, 6.37457918e-03, 6.21187367e-03,\n",
       "       6.16057687e-03, 5.92073315e-03, 5.85737341e-03, 5.74784949e-03,\n",
       "       5.51394680e-03, 5.43722900e-03, 5.35048884e-03, 5.22308193e-03,\n",
       "       5.07290997e-03, 4.90830701e-03, 4.70081160e-03, 4.59298908e-03,\n",
       "       4.57001893e-03, 4.42015099e-03, 4.29393863e-03, 4.20102235e-03,\n",
       "       4.02112023e-03, 3.87706499e-03, 3.77589297e-03, 3.67272666e-03,\n",
       "       3.65334042e-03, 3.48667816e-03, 3.34749429e-03, 3.28354990e-03,\n",
       "       3.24107032e-03, 3.04975456e-03, 2.99186139e-03, 2.98361529e-03,\n",
       "       2.83283218e-03, 2.81055613e-03, 2.64828039e-03, 2.59892301e-03,\n",
       "       2.52118460e-03, 2.45346296e-03, 2.31993172e-03, 2.30281547e-03,\n",
       "       2.24515732e-03, 2.20742354e-03, 2.15300844e-03, 2.10274287e-03,\n",
       "       2.02705203e-03, 1.96679119e-03, 1.95178048e-03, 1.84133322e-03,\n",
       "       1.76532040e-03, 1.72765995e-03, 1.66276962e-03, 1.51131526e-03,\n",
       "       1.46202658e-03, 1.44699729e-03, 1.40626798e-03, 1.28268018e-03,\n",
       "       1.24381173e-03, 1.19864819e-03, 1.15647204e-03, 1.14925642e-03,\n",
       "       1.12700102e-03, 1.09189411e-03, 1.05080120e-03, 9.20230684e-04,\n",
       "       8.87014271e-04, 8.52767771e-04, 8.21916978e-04, 7.60621333e-04,\n",
       "       7.40865460e-04, 7.32434842e-04, 6.98147375e-04, 6.59899224e-04,\n",
       "       6.32429644e-04, 6.03688628e-04, 5.68025971e-04, 5.42311715e-04,\n",
       "       5.18855379e-04, 4.96578235e-04, 4.85114859e-04, 4.58366048e-04,\n",
       "       4.39797982e-04, 4.21063478e-04, 4.05948420e-04, 3.98082328e-04,\n",
       "       3.82627633e-04, 3.78137703e-04, 3.58750831e-04, 3.46874777e-04,\n",
       "       3.35715156e-04, 3.25766114e-04, 3.16814482e-04, 3.03387133e-04,\n",
       "       2.95056372e-04, 2.73965413e-04, 2.69471352e-04, 2.60298258e-04,\n",
       "       2.38519222e-04, 2.29932418e-04, 2.15692415e-04, 2.07235058e-04,\n",
       "       2.01913018e-04, 1.99864768e-04, 1.96135346e-04, 1.73692826e-04,\n",
       "       1.67313002e-04, 1.53428832e-04, 1.48043625e-04, 1.44064893e-04,\n",
       "       1.28162493e-04, 1.15976675e-04, 1.13876340e-04, 8.14603999e-05,\n",
       "       4.02541157e-05, 2.57227869e-05, 2.30465337e-05, 1.95301375e-05,\n",
       "       1.89033987e-05, 1.52012320e-05, 1.48160291e-05, 1.27036619e-05,\n",
       "       1.20618343e-05, 1.14972608e-05, 9.75608550e-06, 9.25222720e-06,\n",
       "       6.49254573e-06, 6.39549758e-06, 5.71640855e-06, 5.17700808e-06,\n",
       "       4.06545719e-06, 3.76888863e-06, 3.37533154e-06, 3.09735158e-06,\n",
       "       2.31812419e-06, 1.35636831e-07, 8.13122241e-08, 5.75905520e-08,\n",
       "       2.08516672e-09, 6.05130012e-10, 1.56837794e-10, 1.71574972e-15,\n",
       "       1.60063423e-15, 1.46875131e-15, 1.23201800e-15, 1.03799237e-15,\n",
       "       1.00953964e-15, 9.59237972e-16, 9.45063869e-16, 9.19036662e-16,\n",
       "       8.57229169e-16, 7.77330222e-16, 6.99139777e-16, 6.52187437e-16,\n",
       "       6.40145087e-16, 6.33125615e-16, 6.00930271e-16, 5.73312507e-16,\n",
       "       4.94897701e-16, 4.87267895e-16, 4.80336932e-16, 4.56957570e-16,\n",
       "       4.52024108e-16, 4.45387959e-16, 4.29737354e-16, 4.16340689e-16,\n",
       "       3.99404216e-16, 3.84228074e-16, 3.55856020e-16, 3.44427871e-16,\n",
       "       3.36871518e-16, 3.26059066e-16, 3.03048738e-16, 2.81482981e-16,\n",
       "       2.64025862e-16, 2.41584873e-16, 2.34800455e-16, 2.33208942e-16,\n",
       "       2.21840394e-16, 2.16432342e-16, 2.06676093e-16, 1.99701894e-16,\n",
       "       1.97628238e-16, 1.93521188e-16, 1.89992366e-16, 1.86681898e-16,\n",
       "       1.82102137e-16, 1.81217716e-16, 1.72423887e-16, 1.69004639e-16,\n",
       "       1.64786840e-16, 1.61943936e-16, 1.55692922e-16, 1.50820034e-16,\n",
       "       1.46179797e-16, 1.42971783e-16, 1.41634532e-16, 1.37391757e-16,\n",
       "       1.36290097e-16, 1.31127962e-16, 1.26870557e-16, 1.17600069e-16,\n",
       "       1.08461379e-16, 1.06852655e-16, 1.01151902e-16, 9.79392481e-17,\n",
       "       8.18003914e-17, 7.69647998e-17, 5.52823339e-17, 4.05701590e-17,\n",
       "       3.18258085e-17, 1.83654911e-30, 1.83654911e-30, 1.83654911e-30,\n",
       "       1.83654911e-30, 1.83654911e-30, 1.83654911e-30, 1.83654911e-30,\n",
       "       1.83654911e-30, 1.83654911e-30, 1.83654911e-30, 1.83654911e-30,\n",
       "       1.83654911e-30, 1.83654911e-30, 1.83654911e-30, 1.83654911e-30,\n",
       "       1.83654911e-30, 1.83654911e-30, 1.83654911e-30, 1.83654911e-30,\n",
       "       1.68280037e-31, 1.64066611e-32])"
      ]
     },
     "execution_count": 30,
     "metadata": {},
     "output_type": "execute_result"
    }
   ],
   "source": [
    "explained_variance = pca.explained_variance_\n",
    "explained_variance"
   ]
  },
  {
   "cell_type": "markdown",
   "metadata": {},
   "source": [
    "### !!!! Ploting 3D dimensilay"
   ]
  },
  {
   "cell_type": "code",
   "execution_count": 63,
   "metadata": {},
   "outputs": [
    {
     "name": "stdout",
     "output_type": "stream",
     "text": [
      "min value of variance  1.64066611022484e-32\n",
      "max value of variance  284.9303245033929\n",
      "std of variance array  12.160217531518953\n",
      "count of variance array  562\n"
     ]
    }
   ],
   "source": [
    "print('min value of variance ' ,explained_variance.min())\n",
    "print('max value of variance ' ,explained_variance.max())\n",
    "print('std of variance array ' ,explained_variance.std())\n",
    "print('count of variance array ' ,explained_variance.size)"
   ]
  },
  {
   "cell_type": "markdown",
   "metadata": {},
   "source": [
    "#### Let's to investigate components to find the smallest count of component which are the most important and can describe the data,without losing the necessary info"
   ]
  },
  {
   "cell_type": "code",
   "execution_count": 57,
   "metadata": {},
   "outputs": [
    {
     "data": {
      "text/plain": [
       "Text(0.5, 1.0, 'distribution of variance of component')"
      ]
     },
     "execution_count": 57,
     "metadata": {},
     "output_type": "execute_result"
    },
    {
     "data": {
      "image/png": "[encoded data removed]",
      "text/plain": [
       "<Figure size 432x288 with 1 Axes>"
      ]
     },
     "metadata": {
      "needs_background": "light"
     },
     "output_type": "display_data"
    }
   ],
   "source": [
    "plt.hist(explained_variance,bins=40)\n",
    "plt.xlabel('variance of component')\n",
    "plt.ylabel('distribution')\n",
    "plt.title('distribution of variance of component')"
   ]
  },
  {
   "cell_type": "code",
   "execution_count": 92,
   "metadata": {},
   "outputs": [],
   "source": [
    "def description_variance(limit):\n",
    "    \"\"\"\n",
    "    limit -the limit of distribution\n",
    "    \n",
    "    \"\"\"\n",
    "    explained_variancel_less_then_10 = explained_variance[explained_variance<limit]\n",
    "    plt.hist(explained_variancel_less_then_10,bins=40)\n",
    "    plt.xlabel('variance of component')\n",
    "    plt.ylabel('distribution')\n",
    "\n",
    "    plt.title('distribution of variance of component less then '+str(limit))\n",
    "    size = explained_variancel_less_then_10.size\n",
    "    print('the count of variance of component less then '+str(limit) + ' are',size)  \n",
    "    size = explained_variance[explained_variance>limit].size \n",
    "    print('the count of variance of component more then '+str(limit) + ' are',size)  \n",
    "    plt.show()                    \n",
    "\n",
    "        \n",
    "# def plot_sublot(number,variance):\n",
    "#     fig.suptitle('Vertically stacked subplots')\n",
    "#     explained_variancel_less_then=variance[explained_variance<limit]\n",
    "#     explained_variancel_more_then=variance[explained_variance>limit]\n",
    "#     axs[0].hist(explained_variancel_less_then)\n",
    "#     axs[1].hist(explained_variancel_more_then)\n",
    "#     axs[0].xlabel('variance of component')\n",
    "#     axs[1].ylabel('distribution of variance less then '+str(limit))\n",
    "    \n",
    "    \n",
    "# def decription(interval,variance):\n",
    "#     fig, axs = plt.subplots(2)\n",
    "    \n",
    "    \n",
    "   "
   ]
  },
  {
   "cell_type": "markdown",
   "metadata": {},
   "source": [
    "#### Let's to see distributions of variance of component ,when variaces are less the 50,10,5,0.5,0.2"
   ]
  },
  {
   "cell_type": "code",
   "execution_count": 104,
   "metadata": {},
   "outputs": [
    {
     "name": "stdout",
     "output_type": "stream",
     "text": [
      "the count of variance of component less then 50 are 561\n",
      "the count of variance of component more then 50 are 1\n"
     ]
    },
    {
     "data": {
      "image/png": "[encoded data removed]",
      "text/plain": [
       "<Figure size 432x288 with 1 Axes>"
      ]
     },
     "metadata": {
      "needs_background": "light"
     },
     "output_type": "display_data"
    },
    {
     "name": "stdout",
     "output_type": "stream",
     "text": [
      "the count of variance of component less then 10 are 557\n",
      "the count of variance of component more then 10 are 5\n"
     ]
    },
    {
     "data": {
      "image/png": "[encoded data removed]",
      "text/plain": [
       "<Figure size 432x288 with 1 Axes>"
      ]
     },
     "metadata": {
      "needs_background": "light"
     },
     "output_type": "display_data"
    },
    {
     "name": "stdout",
     "output_type": "stream",
     "text": [
      "the count of variance of component less then 5 are 552\n",
      "the count of variance of component more then 5 are 10\n"
     ]
    },
    {
     "data": {
      "image/png": "[encoded data removed]",
      "text/plain": [
       "<Figure size 432x288 with 1 Axes>"
      ]
     },
     "metadata": {
      "needs_background": "light"
     },
     "output_type": "display_data"
    }
   ],
   "source": [
    "for i in [50,10,5] :\n",
    "    description_variance(i) "
   ]
  },
  {
   "cell_type": "markdown",
   "metadata": {},
   "source": [
    "#### from above graphics distribution ,maybe the significant component is the first components more then approsimatly 2.5"
   ]
  },
  {
   "cell_type": "code",
   "execution_count": 107,
   "metadata": {},
   "outputs": [
    {
     "name": "stdout",
     "output_type": "stream",
     "text": [
      "the count of variance of component less then 2.5 are 537\n",
      "the count of variance of component more then 2.5 are 25\n"
     ]
    },
    {
     "data": {
      "image/png": "[encoded data removed]",
      "text/plain": [
       "<Figure size 432x288 with 1 Axes>"
      ]
     },
     "metadata": {
      "needs_background": "light"
     },
     "output_type": "display_data"
    }
   ],
   "source": [
    "description_variance(2.5) "
   ]
  },
  {
   "cell_type": "markdown",
   "metadata": {},
   "source": [
    "### The the count components with variace more then 2.5 are 25,we will train our model only over this component.For now we reduce the number of component from 562 to 25 ,which is significant reduction "
   ]
  },
  {
   "cell_type": "markdown",
   "metadata": {},
   "source": [
    "### let to get the first 25 principle components analysis"
   ]
  },
  {
   "cell_type": "code",
   "execution_count": 115,
   "metadata": {},
   "outputs": [
    {
     "name": "stderr",
     "output_type": "stream",
     "text": [
      "/home/daodeiv/anaconda3/lib/python3.7/site-packages/sklearn/svm/base.py:196: FutureWarning: The default value of gamma will change from 'auto' to 'scale' in version 0.22 to account better for unscaled features. Set gamma explicitly to 'auto' or 'scale' to avoid this warning.\n",
      "  \"avoid this warning.\", FutureWarning)\n"
     ]
    },
    {
     "data": {
      "text/plain": [
       "SVC(C=1.0, cache_size=200, class_weight=None, coef0=0.0,\n",
       "  decision_function_shape='ovr', degree=3, gamma='auto_deprecated',\n",
       "  kernel='rbf', max_iter=-1, probability=False, random_state=None,\n",
       "  shrinking=True, tol=0.001, verbose=False)"
      ]
     },
     "execution_count": 115,
     "metadata": {},
     "output_type": "execute_result"
    }
   ],
   "source": [
    "tranformed_train_data = pca.transform(train_data)\n",
    "tranformed_data_test= pca.transform(test_data)\n",
    "\n",
    "tranformed_train_data = tranformed_data_train[:,:25]\n",
    "tranformed_data_test = tranformed_data_test[:,:25]\n",
    "\n",
    "kernel_svc = SVC(kernel=\"rbf\")\n",
    "#kernel_svc.fit(tranformed_data_train,tranformed_data_test)\n",
    "kernel_svc.fit(tranformed_data_train,label_data)"
   ]
  },
  {
   "cell_type": "code",
   "execution_count": 116,
   "metadata": {},
   "outputs": [
    {
     "name": "stdout",
     "output_type": "stream",
     "text": [
      "shape tranformed train data  (7352, 25)\n"
     ]
    }
   ],
   "source": [
    "print('shape tranformed train data ',tranformed_train_data.shape)"
   ]
  },
  {
   "cell_type": "markdown",
   "metadata": {},
   "source": [
    "### Predictive Modelling\n",
    "#### To train we will use Suppor Vector Mashime"
   ]
  },
  {
   "cell_type": "code",
   "execution_count": 120,
   "metadata": {},
   "outputs": [
    {
     "name": "stderr",
     "output_type": "stream",
     "text": [
      "/home/daodeiv/anaconda3/lib/python3.7/site-packages/sklearn/svm/base.py:931: ConvergenceWarning: Liblinear failed to converge, increase the number of iterations.\n",
      "  \"the number of iterations.\", ConvergenceWarning)\n"
     ]
    },
    {
     "data": {
      "text/plain": [
       "LinearSVC(C=1000000000.0, class_weight=None, dual=True, fit_intercept=True,\n",
       "     intercept_scaling=1, loss='squared_hinge', max_iter=1000,\n",
       "     multi_class='ovr', penalty='l2', random_state=None, tol=0.0001,\n",
       "     verbose=0)"
      ]
     },
     "execution_count": 120,
     "metadata": {},
     "output_type": "execute_result"
    }
   ],
   "source": [
    "svc = LinearSVC(C=1e9)\n",
    "svc.fit(tranformed_train_data,label_data)"
   ]
  },
  {
   "cell_type": "code",
   "execution_count": 125,
   "metadata": {},
   "outputs": [
    {
     "data": {
      "text/plain": [
       "0.8500169664065151"
      ]
     },
     "execution_count": 125,
     "metadata": {},
     "output_type": "execute_result"
    }
   ],
   "source": [
    "svc.score(tranformed_data_test,test_label)"
   ]
  },
  {
   "cell_type": "markdown",
   "metadata": {},
   "source": [
    "#### With linear SVM we achieve $0.85$ acuurancy.Let to try what will happen with  radiues base kernel\n"
   ]
  },
  {
   "cell_type": "code",
   "execution_count": 128,
   "metadata": {},
   "outputs": [
    {
     "name": "stderr",
     "output_type": "stream",
     "text": [
      "/home/daodeiv/anaconda3/lib/python3.7/site-packages/sklearn/svm/base.py:196: FutureWarning: The default value of gamma will change from 'auto' to 'scale' in version 0.22 to account better for unscaled features. Set gamma explicitly to 'auto' or 'scale' to avoid this warning.\n",
      "  \"avoid this warning.\", FutureWarning)\n"
     ]
    },
    {
     "data": {
      "text/plain": [
       "SVC(C=1.0, cache_size=200, class_weight=None, coef0=0.0,\n",
       "  decision_function_shape='ovr', degree=3, gamma='auto_deprecated',\n",
       "  kernel='rbf', max_iter=-1, probability=False, random_state=None,\n",
       "  shrinking=True, tol=0.001, verbose=False)"
      ]
     },
     "execution_count": 128,
     "metadata": {},
     "output_type": "execute_result"
    }
   ],
   "source": [
    "kernel_svc = SVC(kernel=\"rbf\")\n",
    "kernel_svc.fit(tranformed_train_data,label_data)"
   ]
  },
  {
   "cell_type": "code",
   "execution_count": 129,
   "metadata": {},
   "outputs": [
    {
     "data": {
      "text/plain": [
       "0.7750254496097726"
      ]
     },
     "execution_count": 129,
     "metadata": {},
     "output_type": "execute_result"
    }
   ],
   "source": [
    "kernel_svc.score(tranformed_data_test,test_label)"
   ]
  },
  {
   "cell_type": "markdown",
   "metadata": {},
   "source": [
    "#### With radius base kernel SVM we achieve $0.77$ acuurancy.Which is more bad then linear,but we didn't use tuning of hyper parrameters.In next section we will try to improve our model by tunnint hyperparameters"
   ]
  },
  {
   "cell_type": "markdown",
   "metadata": {},
   "source": [
    "### Tuning HyperParameter (SVM)"
   ]
  },
  {
   "cell_type": "code",
   "execution_count": 198,
   "metadata": {},
   "outputs": [
    {
     "name": "stderr",
     "output_type": "stream",
     "text": [
      "/home/daodeiv/anaconda3/lib/python3.7/site-packages/sklearn/model_selection/_split.py:2053: FutureWarning: You should specify a value for 'cv' instead of relying on the default value. The default value will change from 3 to 5 in version 0.22.\n",
      "  warnings.warn(CV_WARNING, FutureWarning)\n"
     ]
    },
    {
     "data": {
      "text/plain": [
       "GridSearchCV(cv='warn', error_score='raise-deprecating',\n",
       "       estimator=SVC(C=1.0, cache_size=200, class_weight=None, coef0=0.0,\n",
       "  decision_function_shape='ovr', degree=3, gamma='auto_deprecated',\n",
       "  kernel='rbf', max_iter=-1, probability=False, random_state=None,\n",
       "  shrinking=True, tol=0.001, verbose=False),\n",
       "       fit_params=None, iid='warn', n_jobs=None,\n",
       "       param_grid={'C': [100, 1000], 'kernel': ['linear', 'rbf'], 'gamma': [0.0001, 1e-05]},\n",
       "       pre_dispatch='2*n_jobs', refit=True, return_train_score='warn',\n",
       "       scoring=None, verbose=0)"
      ]
     },
     "execution_count": 198,
     "metadata": {},
     "output_type": "execute_result"
    }
   ],
   "source": [
    "param_grid = {'C':[100,1000],'kernel':['linear','rbf'],'gamma':[0.0001,0.00001]} ##  'kernel':['linear','rbf'] 'gamma':[1,0.1,0.001,0.0001]\n",
    "grid = GridSearchCV(SVC(kernel=\"rbf\"),param_grid)\n",
    "grid.fit(tranformed_train_data,label_data)\n"
   ]
  },
  {
   "cell_type": "code",
   "execution_count": 169,
   "metadata": {},
   "outputs": [
    {
     "data": {
      "text/plain": [
       "{'C': 100, 'gamma': 0.0001, 'kernel': 'rbf'}"
      ]
     },
     "execution_count": 169,
     "metadata": {},
     "output_type": "execute_result"
    }
   ],
   "source": [
    "grid.best_params_"
   ]
  },
  {
   "cell_type": "code",
   "execution_count": 207,
   "metadata": {},
   "outputs": [
    {
     "data": {
      "text/plain": [
       "0.8883610451306413"
      ]
     },
     "execution_count": 207,
     "metadata": {},
     "output_type": "execute_result"
    }
   ],
   "source": [
    "kernel_svc = SVC(kernel=\"rbf\",C=100,gamma=0.0001)\n",
    "kernel_svc.fit(tranformed_train_data,label_data)\n",
    "kernel_svc.score(tranformed_data_test,test_label)"
   ]
  },
  {
   "cell_type": "code",
   "execution_count": 181,
   "metadata": {},
   "outputs": [
    {
     "data": {
      "text/plain": [
       "0.8883610451306413"
      ]
     },
     "execution_count": 181,
     "metadata": {},
     "output_type": "execute_result"
    }
   ],
   "source": []
  },
  {
   "cell_type": "code",
   "execution_count": 162,
   "metadata": {},
   "outputs": [
    {
     "name": "stderr",
     "output_type": "stream",
     "text": [
      "/home/daodeiv/anaconda3/lib/python3.7/site-packages/sklearn/svm/base.py:196: FutureWarning: The default value of gamma will change from 'auto' to 'scale' in version 0.22 to account better for unscaled features. Set gamma explicitly to 'auto' or 'scale' to avoid this warning.\n",
      "  \"avoid this warning.\", FutureWarning)\n"
     ]
    },
    {
     "data": {
      "text/plain": [
       "SVC(C=1000000000.0, cache_size=200, class_weight=None, coef0=0.0,\n",
       "  decision_function_shape='ovr', degree=3, gamma='auto_deprecated',\n",
       "  kernel='rbf', max_iter=-1, probability=False, random_state=None,\n",
       "  shrinking=True, tol=0.001, verbose=False)"
      ]
     },
     "execution_count": 162,
     "metadata": {},
     "output_type": "execute_result"
    }
   ],
   "source": [
    "kernel_svc = SVC(kernel=\"rbf\",C=1e9)\n",
    "kernel_svc.fit(tranformed_train_data,label_data)"
   ]
  }
 ],
 "metadata": {
  "kernelspec": {
   "display_name": "Python 3",
   "language": "python",
   "name": "python3"
  },
  "language_info": {
   "codemirror_mode": {
    "name": "ipython",
    "version": 3
   },
   "file_extension": ".py",
   "mimetype": "text/x-python",
   "name": "python",
   "nbconvert_exporter": "python",
   "pygments_lexer": "ipython3",
   "version": "3.7.3"
  }
 },
 "nbformat": 4,
 "nbformat_minor": 2
}
